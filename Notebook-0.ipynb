{
    "metadata": {
        "kernelspec": {
            "name": "SQL",
            "display_name": "SQL",
            "language": "sql"
        },
        "language_info": {
            "name": "sql",
            "version": ""
        },
        "extensions": {
            "azuredatastudio": {
                "version": 1,
                "views": []
            }
        }
    },
    "nbformat_minor": 2,
    "nbformat": 4,
    "cells": [
        {
            "cell_type": "markdown",
            "source": [
                "# SQL Part 4 Studio\n",
                "\n",
                "For this studio, you will be working in small groups and using the BooksDB.  One group member should screen share while fellow group members code along in their own notebooks.  Each group member will submit a link to their studio notebook.\n",
                "\n",
                "You are back at the bookstore helping employees with their inventory of books.   Four employees need your help with finding books to create in-store displays.  Read their requests and decide if you want to use a correlated subquery, nested subquery, UNION operator, EXCEPT operator, or INTERSECT operator.  You may not use any joins or add multiple statements to the WHERE clause unless explicitly asked."
            ],
            "metadata": {
                "azdata_cell_guid": "3ea3f8a2-b444-4354-be8b-eebc139b3c13"
            },
            "attachments": {}
        },
        {
            "cell_type": "markdown",
            "source": [
                "## QUESTION 1:  Willow\n",
                "\n",
                "Willow wants a list of book titles that have multiple authors attributed to them.  Write a query to return her desired results."
            ],
            "metadata": {
                "azdata_cell_guid": "5c8b1c77-0878-4dc6-8e79-7f64e5e1df0d"
            },
            "attachments": {}
        },
        {
            "cell_type": "code",
            "source": [
                "-- Code here:\r\n",
                "-- select * from BooksDB.dbo.books where authors\r\n",
                "\r\n",
                "-- SELECT book_id,authors,value  \r\n",
                "-- FROM BooksDB.dbo.books  \r\n",
                "--     CROSS APPLY STRING_SPLIT(authors, ',') order by book_id\r\n",
                "\r\n",
                "-- SELECT count(authors) as author_count,book_id   \r\n",
                "-- FROM BooksDB.dbo.books  \r\n",
                "--     CROSS APPLY STRING_SPLIT(authors, ',') GROUP by book_id order by book_id\r\n",
                "\r\n",
                "-- select multiple_authors_count.author_count,books.book_id, books.title FROM BooksDB.dbo.books as books, ( \r\n",
                "--     SELECT count(authors) as author_count,book_id   \r\n",
                "-- FROM BooksDB.dbo.books  \r\n",
                "--     CROSS APPLY STRING_SPLIT(authors, ',') GROUP by book_id having count(authors)>1)\r\n",
                "--     as multiple_authors_count  where books.book_id=multiple_authors_count.book_id ORDER by book_id\r\n",
                "\r\n",
                "SELECT book_id ,title \r\n",
                "FROM BooksDB.dbo.books  \r\n",
                "    where book_id in(SELECT BooksDB.dbo.books.book_id \r\n",
                "FROM BooksDB.dbo.books  \r\n",
                "    CROSS APPLY STRING_SPLIT(BooksDB.dbo.books.authors, ',') GROUP by book_id having count(BooksDB.dbo.books.authors)>1)order by book_id\r\n",
                "    --Ans:2079 rows\r\n",
                "    \r\n",
                "    --we can achieve the same thing with below query as well\r\n",
                "--     select multiple_authors_count.author_count,books.book_id, books.title FROM BooksDB.dbo.books as books, ( \r\n",
                "--     SELECT count(authors) as author_count,book_id   \r\n",
                "-- FROM BooksDB.dbo.books  \r\n",
                "--     CROSS APPLY STRING_SPLIT(authors, ',') GROUP by book_id having count(authors)>1)\r\n",
                "--     as multiple_authors_count  where books.book_id=multiple_authors_count.book_id ORDER by book_id\r\n",
                "\r\n",
                ""
            ],
            "metadata": {
                "azdata_cell_guid": "46c76d2f-acbc-4fd2-9c2a-367044fda616",
                "tags": [],
                "language": "sql"
            },
            "outputs": [
                {
                    "output_type": "display_data",
                    "data": {
                        "text/html": "(2079 rows affected)"
                    },
                    "metadata": {}
                },
                {
                    "output_type": "display_data",
                    "data": {
                        "text/html": "Total execution time: 00:00:00.222"
                    },
                    "metadata": {}
                },
                {
                    "output_type": "execute_result",
                    "execution_count": 50,
                    "data": {
                        "application/vnd.dataresource+json": {
                            "schema": {
                                "fields": [
                                    {
                                        "name": "book_id"
                                    },
                                    {
                                        "name": "title"
                                    }
                                ]
                            },
                            "data": [
                                {
                                    "book_id": "1",
                                    "title": "Harry Potter and the Half-Blood Prince (Harry Potter, #6)"
                                },
                                {
                                    "book_id": "2",
                                    "title": "Harry Potter and the Order of the Phoenix (Harry Potter, #5)"
                                },
                                {
                                    "book_id": "3",
                                    "title": "Harry Potter and the Sorcerer's Stone (Harry Potter, #1)"
                                },
                                {
                                    "book_id": "5",
                                    "title": "Harry Potter and the Prisoner of Azkaban (Harry Potter, #3)"
                                },
                                {
                                    "book_id": "6",
                                    "title": "Harry Potter and the Goblet of Fire (Harry Potter, #4)"
                                },
                                {
                                    "book_id": "8",
                                    "title": "Harry Potter Boxed Set, Books 1-5 (Harry Potter, #1-5)"
                                },
                                {
                                    "book_id": "36",
                                    "title": "The Lord of the Rings: Weapons and Warfare"
                                },
                                {
                                    "book_id": "93",
                                    "title": "Heidi"
                                },
                                {
                                    "book_id": "98",
                                    "title": "What to Expect the First Year (What to Expect)"
                                },
                                {
                                    "book_id": "264",
                                    "title": "The Portrait of a Lady"
                                },
                                {
                                    "book_id": "275",
                                    "title": "The Lover"
                                },
                                {
                                    "book_id": "291",
                                    "title": "The Broken Wings"
                                },
                                {
                                    "book_id": "304",
                                    "title": "Daniel Deronda"
                                },
                                {
                                    "book_id": "320",
                                    "title": "One Hundred Years of Solitude"
                                },
                                {
                                    "book_id": "343",
                                    "title": "Perfume: The Story of a Murderer"
                                },
                                {
                                    "book_id": "378",
                                    "title": "The Phantom Tollbooth"
                                },
                                {
                                    "book_id": "428",
                                    "title": "Play It as It Lays"
                                },
                                {
                                    "book_id": "431",
                                    "title": "The New York Trilogy"
                                },
                                {
                                    "book_id": "656",
                                    "title": "War and Peace"
                                },
                                {
                                    "book_id": "662",
                                    "title": "Atlas Shrugged"
                                },
                                {
                                    "book_id": "665",
                                    "title": "The Virtue of Selfishness: A New Concept of Egoism"
                                },
                                {
                                    "book_id": "668",
                                    "title": "We the Living"
                                },
                                {
                                    "book_id": "706",
                                    "title": "America (The Book): A Citizen's Guide to Democracy Inaction"
                                },
                                {
                                    "book_id": "760",
                                    "title": "Memories of My Melancholy Whores"
                                },
                                {
                                    "book_id": "865",
                                    "title": "The Alchemist"
                                },
                                {
                                    "book_id": "870",
                                    "title": "Fullmetal Alchemist, Vol. 1 (Fullmetal Alchemist, #1)"
                                },
                                {
                                    "book_id": "952",
                                    "title": "The Five Love Languages of Children"
                                },
                                {
                                    "book_id": "998",
                                    "title": "The Millionaire Next Door: The Surprising Secrets of Americas Wealthy"
                                },
                                {
                                    "book_id": "1032",
                                    "title": "Trump: The Art of the Deal"
                                },
                                {
                                    "book_id": "1191",
                                    "title": "Giada's Family Dinners"
                                },
                                {
                                    "book_id": "1202",
                                    "title": "Freakonomics: A Rogue Economist Explores the Hidden Side of Everything (Freakonomics, #1)"
                                },
                                {
                                    "book_id": "1232",
                                    "title": "The Shadow of the Wind (The Cemetery of Forgotten Books,  #1)"
                                },
                                {
                                    "book_id": "1303",
                                    "title": "The 48 Laws of Power"
                                },
                                {
                                    "book_id": "1307",
                                    "title": "Fire Sea (The Death Gate Cycle, #3)"
                                },
                                {
                                    "book_id": "1319",
                                    "title": "The War of Art: Break Through the Blocks & Win Your Inner Creative Battles"
                                },
                                {
                                    "book_id": "1362",
                                    "title": "The Histories"
                                },
                                {
                                    "book_id": "1371",
                                    "title": "The Iliad"
                                },
                                {
                                    "book_id": "1375",
                                    "title": "The Iliad/The Odyssey"
                                },
                                {
                                    "book_id": "1381",
                                    "title": "The Odyssey"
                                },
                                {
                                    "book_id": "1420",
                                    "title": "Hamlet"
                                },
                                {
                                    "book_id": "1427",
                                    "title": "The Zahir"
                                },
                                {
                                    "book_id": "1428",
                                    "title": "By the River Piedra I Sat Down and Wept"
                                },
                                {
                                    "book_id": "1430",
                                    "title": "Eleven Minutes"
                                },
                                {
                                    "book_id": "1431",
                                    "title": "Veronika Decides to Die"
                                },
                                {
                                    "book_id": "1519",
                                    "title": "The Oresteia  (Ορέστεια, #1-3)"
                                },
                                {
                                    "book_id": "1524",
                                    "title": "Agamemnon (Oresteia, #1)"
                                },
                                {
                                    "book_id": "1540",
                                    "title": "The Oedipus Cycle: Oedipus Rex/Oedipus at Colonus/Antigone (The Theban Plays, #1–3)"
                                },
                                {
                                    "book_id": "1554",
                                    "title": "Oedipus Rex  (The Theban Plays, #1)"
                                },
                                {
                                    "book_id": "1591",
                                    "title": "Lysistrata"
                                },
                                {
                                    "book_id": "1617",
                                    "title": "Night (The Night Trilogy #1)"
                                },
                                {
                                    "book_id": "1622",
                                    "title": "A Midsummer Night's Dream"
                                },
                                {
                                    "book_id": "1635",
                                    "title": "Execution: The Discipline of Getting Things Done"
                                },
                                {
                                    "book_id": "1715",
                                    "title": "Metamorphoses"
                                },
                                {
                                    "book_id": "1875",
                                    "title": "The History of Sexuality, Volume 1: An Introduction"
                                },
                                {
                                    "book_id": "1953",
                                    "title": "A Tale of Two Cities"
                                },
                                {
                                    "book_id": "1990",
                                    "title": "Martin Chuzzlewit"
                                },
                                {
                                    "book_id": "2094",
                                    "title": "A Briefer History of Time"
                                },
                                {
                                    "book_id": "2122",
                                    "title": "The Fountainhead"
                                },
                                {
                                    "book_id": "2156",
                                    "title": "Persuasion"
                                },
                                {
                                    "book_id": "2175",
                                    "title": "Madame Bovary"
                                },
                                {
                                    "book_id": "2183",
                                    "title": "Sentimental Education"
                                },
                                {
                                    "book_id": "2199",
                                    "title": "Team of Rivals: The Political Genius of Abraham Lincoln"
                                },
                                {
                                    "book_id": "2265",
                                    "title": "It's Not About the Bike: My Journey Back to Life"
                                },
                                {
                                    "book_id": "2493",
                                    "title": "The Time Machine"
                                },
                                {
                                    "book_id": "2517",
                                    "title": "My Name is Red"
                                },
                                {
                                    "book_id": "2526",
                                    "title": "Blindness"
                                },
                                {
                                    "book_id": "2528",
                                    "title": "All the Names"
                                },
                                {
                                    "book_id": "2530",
                                    "title": "Baltasar and Blimunda"
                                },
                                {
                                    "book_id": "2696",
                                    "title": "The Canterbury Tales"
                                },
                                {
                                    "book_id": "2932",
                                    "title": "Robinson Crusoe"
                                },
                                {
                                    "book_id": "2956",
                                    "title": "The Adventures of Huckleberry Finn"
                                },
                                {
                                    "book_id": "3008",
                                    "title": "A Little Princess"
                                },
                                {
                                    "book_id": "3049",
                                    "title": "Sir Gawain and the Green Knight "
                                },
                                {
                                    "book_id": "3061",
                                    "title": "The Natural Way to Draw"
                                },
                                {
                                    "book_id": "3300",
                                    "title": "Inés of My Soul"
                                },
                                {
                                    "book_id": "3304",
                                    "title": "City of the Beasts (Eagle and Jaguar, #1)"
                                },
                                {
                                    "book_id": "3465",
                                    "title": "Three Weeks With My Brother"
                                },
                                {
                                    "book_id": "3586",
                                    "title": "The Complete Sherlock Holmes, Vol 2"
                                },
                                {
                                    "book_id": "3690",
                                    "title": "The Power and the Glory"
                                },
                                {
                                    "book_id": "3698",
                                    "title": "The Quiet American"
                                },
                                {
                                    "book_id": "3836",
                                    "title": "Don Quixote"
                                },
                                {
                                    "book_id": "3869",
                                    "title": "A Brief History of Time"
                                },
                                {
                                    "book_id": "3885",
                                    "title": "The Taste of Home Cookbook"
                                },
                                {
                                    "book_id": "3888",
                                    "title": "The America's Test Kitchen Family Cookbook"
                                },
                                {
                                    "book_id": "3895",
                                    "title": "The Barefoot Contessa Cookbook"
                                },
                                {
                                    "book_id": "4004",
                                    "title": "The Pilgrimage"
                                },
                                {
                                    "book_id": "4006",
                                    "title": "The Valkyries"
                                },
                                {
                                    "book_id": "4008",
                                    "title": "The Devil and Miss Prym (On the Seventh Day, #3)"
                                },
                                {
                                    "book_id": "4076",
                                    "title": "In Search of Excellence: Lessons from America's Best-Run Companies"
                                },
                                {
                                    "book_id": "4099",
                                    "title": "The Pragmatic Programmer: From Journeyman to Master"
                                },
                                {
                                    "book_id": "4122",
                                    "title": "Built to Last: Successful Habits of Visionary Companies"
                                },
                                {
                                    "book_id": "4477",
                                    "title": "Complications: A Surgeon's Notes on an Imperfect Science"
                                },
                                {
                                    "book_id": "4662",
                                    "title": "The Short Stories"
                                },
                                {
                                    "book_id": "4796",
                                    "title": "The Winter of Our Discontent"
                                },
                                {
                                    "book_id": "4806",
                                    "title": "Longitude: The True Story of a Lone Genius Who Solved the Greatest Scientific Problem of His Time"
                                },
                                {
                                    "book_id": "4835",
                                    "title": "Haroun and the Sea of Stories (Khalifa Brothers, #1)"
                                },
                                {
                                    "book_id": "4887",
                                    "title": "The Drama of the Gifted Child: The Search for the True Self"
                                },
                                {
                                    "book_id": "4894",
                                    "title": "Who Moved My Cheese?"
                                },
                                {
                                    "book_id": "4898",
                                    "title": "Blue Ocean Strategy: How To Create Uncontested Market Space And Make The Competition Irrelevant"
                                },
                                {
                                    "book_id": "4929",
                                    "title": "Kafka on the Shore"
                                },
                                {
                                    "book_id": "4934",
                                    "title": "The Brothers Karamazov"
                                },
                                {
                                    "book_id": "4978",
                                    "title": "Wolves of the Calla (The Dark Tower, #5)"
                                },
                                {
                                    "book_id": "4983",
                                    "title": "Kurt Vonnegut's Cat's Cradle (Modern Critical Interpretations)"
                                },
                                {
                                    "book_id": "5084",
                                    "title": "My Life in France"
                                },
                                {
                                    "book_id": "5093",
                                    "title": "Song of Susannah (The Dark Tower, #6)"
                                },
                                {
                                    "book_id": "5096",
                                    "title": "Wizard and Glass (The Dark Tower, #4)"
                                },
                                {
                                    "book_id": "5205",
                                    "title": "A Map of the World"
                                },
                                {
                                    "book_id": "5289",
                                    "title": "Complete Works of Oscar Wilde"
                                },
                                {
                                    "book_id": "5297",
                                    "title": "The Picture of Dorian Gray"
                                },
                                {
                                    "book_id": "5338",
                                    "title": "A Christmas Carol and Other Christmas Writings"
                                },
                                {
                                    "book_id": "5413",
                                    "title": "'Salem's Lot"
                                },
                                {
                                    "book_id": "5470",
                                    "title": "1984"
                                },
                                {
                                    "book_id": "5472",
                                    "title": "Animal Farm / 1984"
                                },
                                {
                                    "book_id": "5479",
                                    "title": "Brave New World / Brave New World Revisited"
                                },
                                {
                                    "book_id": "5508",
                                    "title": "Anne Frank: Beyond the Diary - A Photographic Remembrance"
                                },
                                {
                                    "book_id": "5509",
                                    "title": "Anne Frank Remembered: The Story of the Woman Who Helped to Hide the Frank Family"
                                },
                                {
                                    "book_id": "5559",
                                    "title": "Jack: Straight from the Gut"
                                },
                                {
                                    "book_id": "5571",
                                    "title": "Cradle to Cradle: Remaking the Way We Make Things"
                                },
                                {
                                    "book_id": "5659",
                                    "title": "The Wind in the Willows"
                                },
                                {
                                    "book_id": "5693",
                                    "title": "Selected Stories"
                                },
                                {
                                    "book_id": "5695",
                                    "title": "Demons"
                                },
                                {
                                    "book_id": "5697",
                                    "title": "The Complete Short Novels"
                                },
                                {
                                    "book_id": "5787",
                                    "title": "The Aleph and Other Stories "
                                },
                                {
                                    "book_id": "5797",
                                    "title": "Vanity Fair"
                                },
                                {
                                    "book_id": "5805",
                                    "title": "V for Vendetta"
                                },
                                {
                                    "book_id": "5890",
                                    "title": "The Woman in White"
                                },
                                {
                                    "book_id": "5932",
                                    "title": "Twenty Love Poems and a Song of Despair"
                                },
                                {
                                    "book_id": "5936",
                                    "title": "The Poetry of Pablo Neruda"
                                },
                                {
                                    "book_id": "5954",
                                    "title": "Narcissus and Goldmund"
                                },
                                {
                                    "book_id": "6138",
                                    "title": "The Moonstone"
                                },
                                {
                                    "book_id": "6174",
                                    "title": "Survival in Auschwitz"
                                },
                                {
                                    "book_id": "6185",
                                    "title": "Wuthering Heights"
                                },
                                {
                                    "book_id": "6295",
                                    "title": "Howl and Other Poems"
                                },
                                {
                                    "book_id": "6310",
                                    "title": "Charlie and the Chocolate Factory (Charlie Bucket, #1)"
                                },
                                {
                                    "book_id": "6319",
                                    "title": "The BFG"
                                },
                                {
                                    "book_id": "6327",
                                    "title": "The Witches"
                                },
                                {
                                    "book_id": "6328",
                                    "title": "Revolting Rhymes"
                                },
                                {
                                    "book_id": "6425",
                                    "title": "Hard Eight (Stephanie Plum, #8)"
                                },
                                {
                                    "book_id": "6551",
                                    "title": "Herzog"
                                },
                                {
                                    "book_id": "6656",
                                    "title": "The Divine Comedy"
                                },
                                {
                                    "book_id": "6667",
                                    "title": "Boy: Tales of Childhood"
                                },
                                {
                                    "book_id": "6670",
                                    "title": "The Magic Finger (Young Puffin Developing Reader)"
                                },
                                {
                                    "book_id": "6678",
                                    "title": "Going Solo"
                                },
                                {
                                    "book_id": "6687",
                                    "title": "Charlie and the Great Glass Elevator (Charlie Bucket, #2)"
                                },
                                {
                                    "book_id": "6689",
                                    "title": "James and the Giant Peach"
                                },
                                {
                                    "book_id": "6690",
                                    "title": "Danny the Champion of the World"
                                },
                                {
                                    "book_id": "6693",
                                    "title": "Fantastic Mr. Fox"
                                },
                                {
                                    "book_id": "6694",
                                    "title": "The Giraffe and the Pelly and Me"
                                },
                                {
                                    "book_id": "6900",
                                    "title": "Tuesdays with Morrie"
                                },
                                {
                                    "book_id": "6952",
                                    "title": "Like Water for Chocolate"
                                },
                                {
                                    "book_id": "6969",
                                    "title": "Emma"
                                },
                                {
                                    "book_id": "7082",
                                    "title": "Do Androids Dream of Electric Sheep?"
                                },
                                {
                                    "book_id": "7126",
                                    "title": "The Count of Monte Cristo"
                                },
                                {
                                    "book_id": "7144",
                                    "title": "Crime and Punishment"
                                },
                                {
                                    "book_id": "7184",
                                    "title": "Twenty Years After (The D'Artagnan Romances, #2)"
                                },
                                {
                                    "book_id": "7186",
                                    "title": "La Dame aux Camélias"
                                },
                                {
                                    "book_id": "7194",
                                    "title": "The Club Dumas"
                                },
                                {
                                    "book_id": "7252",
                                    "title": "How to Make Love Like a Porn Star: A Cautionary Tale"
                                },
                                {
                                    "book_id": "7329",
                                    "title": "Unfinished Tales of Númenor and Middle-Earth"
                                },
                                {
                                    "book_id": "7332",
                                    "title": "The Silmarillion (Middle-Earth Universe)"
                                },
                                {
                                    "book_id": "7389",
                                    "title": "Runaways, Vol. 1: Pride and Joy (Runaways, #1)"
                                },
                                {
                                    "book_id": "7437",
                                    "title": "Naked Lunch"
                                },
                                {
                                    "book_id": "7510",
                                    "title": "The Beach House"
                                },
                                {
                                    "book_id": "7588",
                                    "title": "A Portrait of the Artist as a Young Man"
                                },
                                {
                                    "book_id": "7604",
                                    "title": "Lolita"
                                },
                                {
                                    "book_id": "7628",
                                    "title": "The Good Soldier"
                                },
                                {
                                    "book_id": "7663",
                                    "title": "A Case of Need"
                                },
                                {
                                    "book_id": "7707",
                                    "title": "Pygmalion & My Fair Lady"
                                },
                                {
                                    "book_id": "7723",
                                    "title": "The Metamorphosis and Other Stories"
                                },
                                {
                                    "book_id": "7728",
                                    "title": "Antigone (The Theban Plays, #3)"
                                },
                                {
                                    "book_id": "7733",
                                    "title": "Gulliver's Travels"
                                },
                                {
                                    "book_id": "7745",
                                    "title": "Fear and Loathing in Las Vegas"
                                },
                                {
                                    "book_id": "7780",
                                    "title": "The Secret Art of Dr. Seuss"
                                },
                                {
                                    "book_id": "7788",
                                    "title": "The Cat in the Hat and Other Dr. Seuss Favorites"
                                },
                                {
                                    "book_id": "7797",
                                    "title": "Ten Apples Up On Top!"
                                },
                                {
                                    "book_id": "7882",
                                    "title": "On the Banks of Plum Creek  (Little House, #4)"
                                },
                                {
                                    "book_id": "7909",
                                    "title": "Betsy-Tacy (Betsy-Tacy, #1)"
                                },
                                {
                                    "book_id": "7981",
                                    "title": "The Long Patrol (Redwall, #10)"
                                },
                                {
                                    "book_id": "7983",
                                    "title": "Salamandastron (Redwall, #5)"
                                },
                                {
                                    "book_id": "7993",
                                    "title": "Mariel of Redwall (Redwall, #4)"
                                },
                                {
                                    "book_id": "8073",
                                    "title": "Cloudy With a Chance of Meatballs"
                                },
                                {
                                    "book_id": "8172",
                                    "title": "Superman: Birthright"
                                },
                                {
                                    "book_id": "8248",
                                    "title": "By the Shores of Silver Lake  (Little House, #5)"
                                },
                                {
                                    "book_id": "8252",
                                    "title": "Farmer Boy (Little House, #3)"
                                },
                                {
                                    "book_id": "8253",
                                    "title": "Little Town on the Prairie  (Little House, #7)"
                                },
                                {
                                    "book_id": "8282",
                                    "title": "The Long Winter (Little House, #6)"
                                },
                                {
                                    "book_id": "8296",
                                    "title": "The First Four Years  (Little House, #9)"
                                },
                                {
                                    "book_id": "8337",
                                    "title": "Little House in the Big Woods (Little House, #1)"
                                },
                                {
                                    "book_id": "8515",
                                    "title": "The Man Who Listens to Horses"
                                },
                                {
                                    "book_id": "8676",
                                    "title": "Unlimited Power : The New Science Of Personal Achievement"
                                },
                                {
                                    "book_id": "8696",
                                    "title": "Last Chance to See"
                                },
                                {
                                    "book_id": "8745",
                                    "title": "Desert Flower"
                                },
                                {
                                    "book_id": "8909",
                                    "title": "The War of the Worlds"
                                },
                                {
                                    "book_id": "8921",
                                    "title": "The Hound of the Baskervilles"
                                },
                                {
                                    "book_id": "8964",
                                    "title": "Jesus Freaks: Stories of Those Who Stood for Jesus, the Ultimate Jesus Freaks (Jesus Freaks, #1)"
                                },
                                {
                                    "book_id": "9014",
                                    "title": "The Long Walk"
                                },
                                {
                                    "book_id": "9328",
                                    "title": "The House of the Spirits"
                                },
                                {
                                    "book_id": "9454",
                                    "title": "Phenomenology of Spirit"
                                },
                                {
                                    "book_id": "9516",
                                    "title": "Persepolis: The Story of a Childhood (Persepolis, #1)"
                                },
                                {
                                    "book_id": "9517",
                                    "title": "Persepolis 2: The Story of a Return (Persepolis, #2)"
                                },
                                {
                                    "book_id": "9526",
                                    "title": "Embroideries"
                                },
                                {
                                    "book_id": "9531",
                                    "title": "Peter and the Shadow Thieves (Peter and the Starcatchers, #2)"
                                },
                                {
                                    "book_id": "9555",
                                    "title": "The Elephant Vanishes"
                                },
                                {
                                    "book_id": "9557",
                                    "title": "Sputnik Sweetheart"
                                },
                                {
                                    "book_id": "9646",
                                    "title": "Homage to Catalonia"
                                },
                                {
                                    "book_id": "9712",
                                    "title": "Love in the Time of Cholera"
                                },
                                {
                                    "book_id": "9717",
                                    "title": "The Unbearable Lightness of Being"
                                },
                                {
                                    "book_id": "9762",
                                    "title": "Loving What Is: Four Questions That Can Change Your Life"
                                },
                                {
                                    "book_id": "9804",
                                    "title": "The Baron in the Trees"
                                },
                                {
                                    "book_id": "9809",
                                    "title": "Invisible Cities"
                                },
                                {
                                    "book_id": "9833",
                                    "title": "Blind Willow, Sleeping Woman"
                                },
                                {
                                    "book_id": "9838",
                                    "title": "The Bookseller of Kabul"
                                },
                                {
                                    "book_id": "9854",
                                    "title": "The End of Poverty"
                                },
                                {
                                    "book_id": "9998",
                                    "title": "The Woman in the Dunes"
                                },
                                {
                                    "book_id": "10033",
                                    "title": "Being and Nothingness"
                                },
                                {
                                    "book_id": "10037",
                                    "title": "No Exit and Three Other Plays"
                                },
                                {
                                    "book_id": "10058",
                                    "title": "Flags of Our Fathers"
                                },
                                {
                                    "book_id": "10065",
                                    "title": "Wayside School Is Falling Down (Wayside School #2)"
                                },
                                {
                                    "book_id": "10210",
                                    "title": "Jane Eyre"
                                },
                                {
                                    "book_id": "10374",
                                    "title": "Hard-Boiled Wonderland and the End of the World"
                                },
                                {
                                    "book_id": "10412",
                                    "title": "He's Just Not That Into You: The No-Excuses Truth to Understanding Guys"
                                },
                                {
                                    "book_id": "10444",
                                    "title": "Ballet Shoes (Shoes, #1)"
                                },
                                {
                                    "book_id": "10461",
                                    "title": "Desolation Angels"
                                },
                                {
                                    "book_id": "10505",
                                    "title": "History of Beauty"
                                },
                                {
                                    "book_id": "10507",
                                    "title": "Baudolino"
                                },
                                {
                                    "book_id": "10534",
                                    "title": "The Art of War"
                                },
                                {
                                    "book_id": "10577",
                                    "title": "Roadwork"
                                },
                                {
                                    "book_id": "10585",
                                    "title": "Insomnia"
                                },
                                {
                                    "book_id": "10596",
                                    "title": "The Regulators"
                                },
                                {
                                    "book_id": "10605",
                                    "title": "Thinner"
                                },
                                {
                                    "book_id": "10607",
                                    "title": "Black House (The Talisman, #2)"
                                },
                                {
                                    "book_id": "10617",
                                    "title": "The Bachman Books"
                                },
                                {
                                    "book_id": "10625",
                                    "title": "Dolores Claiborne"
                                },
                                {
                                    "book_id": "10628",
                                    "title": "Night Shift"
                                },
                                {
                                    "book_id": "10629",
                                    "title": "Christine"
                                },
                                {
                                    "book_id": "10959",
                                    "title": "Sophie's World"
                                },
                                {
                                    "book_id": "11012",
                                    "title": "Dubliners"
                                },
                                {
                                    "book_id": "11031",
                                    "title": "The Flanders Panel"
                                },
                                {
                                    "book_id": "11127",
                                    "title": "The Chronicles of Narnia (Chronicles of Narnia, #1-7)"
                                },
                                {
                                    "book_id": "11229",
                                    "title": "The Sea, the Sea"
                                },
                                {
                                    "book_id": "11275",
                                    "title": "The Wind-Up Bird Chronicle"
                                },
                                {
                                    "book_id": "11297",
                                    "title": "Norwegian Wood"
                                },
                                {
                                    "book_id": "11298",
                                    "title": "A Wild Sheep Chase (The Rat, #3)"
                                },
                                {
                                    "book_id": "11299",
                                    "title": "After the Quake"
                                },
                                {
                                    "book_id": "11339",
                                    "title": "100 Love Sonnets"
                                },
                                {
                                    "book_id": "11366",
                                    "title": "The Guns of August"
                                },
                                {
                                    "book_id": "11413",
                                    "title": "Captivating: Unveiling the Mystery of a Woman's Soul"
                                },
                                {
                                    "book_id": "11430",
                                    "title": "Return (Redemption, #3)"
                                },
                                {
                                    "book_id": "11432",
                                    "title": "Reunion (Redemption, #5)"
                                },
                                {
                                    "book_id": "11433",
                                    "title": "Redemption (Redemption, #1)"
                                },
                                {
                                    "book_id": "11436",
                                    "title": "Rejoice (Redemption, #4)"
                                },
                                {
                                    "book_id": "11570",
                                    "title": "Dreamcatcher"
                                },
                                {
                                    "book_id": "11574",
                                    "title": "The Body"
                                },
                                {
                                    "book_id": "11580",
                                    "title": "Creepshow"
                                },
                                {
                                    "book_id": "11605",
                                    "title": "Riding the Bullet"
                                },
                                {
                                    "book_id": "11607",
                                    "title": "The Running Man"
                                },
                                {
                                    "book_id": "11623",
                                    "title": "The Unabridged Journals of Sylvia Plath"
                                },
                                {
                                    "book_id": "11691",
                                    "title": "Snow"
                                },
                                {
                                    "book_id": "11824",
                                    "title": "The Whipping Boy"
                                },
                                {
                                    "book_id": "11908",
                                    "title": "The Adventures of Augie March"
                                },
                                {
                                    "book_id": "11987",
                                    "title": "The Myth of Sisyphus and Other Essays"
                                },
                                {
                                    "book_id": "11989",
                                    "title": "The Plague"
                                },
                                {
                                    "book_id": "11991",
                                    "title": "The Fall"
                                },
                                {
                                    "book_id": "12067",
                                    "title": "Good Omens: The Nice and Accurate Prophecies of Agnes Nutter, Witch"
                                },
                                {
                                    "book_id": "12073",
                                    "title": "Philosophical Investigations"
                                },
                                {
                                    "book_id": "12296",
                                    "title": "The Scarlet Letter"
                                },
                                {
                                    "book_id": "12321",
                                    "title": "Beyond Good and Evil"
                                },
                                {
                                    "book_id": "12358",
                                    "title": "The Partly Cloudy Patriot"
                                },
                                {
                                    "book_id": "12395",
                                    "title": "Journey to the End of the Night"
                                },
                                {
                                    "book_id": "12505",
                                    "title": "The Idiot"
                                },
                                {
                                    "book_id": "12617",
                                    "title": "Manufacturing Consent: The Political Economy of the Mass Media"
                                },
                                {
                                    "book_id": "12651",
                                    "title": "The Social Contract"
                                },
                                {
                                    "book_id": "12749",
                                    "title": "Swann's Way (In Search of Lost Time, #1)"
                                },
                                {
                                    "book_id": "12857",
                                    "title": "The Gambler"
                                },
                                {
                                    "book_id": "12873",
                                    "title": "Rebecca"
                                },
                                {
                                    "book_id": "12914",
                                    "title": "The Aeneid"
                                },
                                {
                                    "book_id": "12957",
                                    "title": "Much Ado About Nothing"
                                },
                                {
                                    "book_id": "13006",
                                    "title": "Julius Caesar"
                                },
                                {
                                    "book_id": "13020",
                                    "title": "King Henry IV, Part 1 (Wars of the Roses, #2)"
                                },
                                {
                                    "book_id": "13023",
                                    "title": "Alice in Wonderland"
                                },
                                {
                                    "book_id": "13130",
                                    "title": "Judge & Jury"
                                },
                                {
                                    "book_id": "13131",
                                    "title": "The 6th Target (Women's Murder Club, #6)"
                                },
                                {
                                    "book_id": "13132",
                                    "title": "3rd Degree (Women's Murder Club, #3)"
                                },
                                {
                                    "book_id": "13133",
                                    "title": "The Quickie"
                                },
                                {
                                    "book_id": "13134",
                                    "title": "You've Been Warned"
                                },
                                {
                                    "book_id": "13136",
                                    "title": "2nd Chance (Women's Murder Club, #2)"
                                },
                                {
                                    "book_id": "13147",
                                    "title": "Honeymoon (Honeymoon, #1)"
                                },
                                {
                                    "book_id": "13157",
                                    "title": "The Jester"
                                },
                                {
                                    "book_id": "13270",
                                    "title": "Poetics"
                                },
                                {
                                    "book_id": "13501",
                                    "title": "The Hedge Knight (The Hedge Knight Graphic Novels, #1)"
                                },
                                {
                                    "book_id": "13521",
                                    "title": "Son of a Witch (The Wicked Years, #2)"
                                },
                                {
                                    "book_id": "13570",
                                    "title": "Tsubasa: RESERVoir CHRoNiCLE, Vol. 01"
                                },
                                {
                                    "book_id": "13614",
                                    "title": "Death Note, Vol. 8: Target (Death Note, #8)"
                                },
                                {
                                    "book_id": "13615",
                                    "title": "Death Note, Vol. 1: Boredom (Death Note, #1)"
                                },
                                {
                                    "book_id": "13616",
                                    "title": "Death Note, Vol. 4: Love (Death Note, #4)"
                                },
                                {
                                    "book_id": "13617",
                                    "title": "Death Note, Vol. 5: Whiteout (Death Note, #5)"
                                },
                                {
                                    "book_id": "13618",
                                    "title": "Death Note, Vol. 3: Hard Run (Death Note, #3)"
                                },
                                {
                                    "book_id": "13619",
                                    "title": "Death Note, Vol. 2: Confluence (Death Note, #2)"
                                },
                                {
                                    "book_id": "13620",
                                    "title": "Death Note, Vol. 6: Give-and-Take (Death Note, #6)"
                                },
                                {
                                    "book_id": "13621",
                                    "title": "Death Note, Vol. 7: Zero (Death Note, #7)"
                                },
                                {
                                    "book_id": "13815",
                                    "title": "Servant of the Empire (The Empire Trilogy, #2)"
                                },
                                {
                                    "book_id": "13821",
                                    "title": "Lord of Light"
                                },
                                {
                                    "book_id": "14028",
                                    "title": "Snow Country"
                                },
                                {
                                    "book_id": "14082",
                                    "title": "Malgudi Days"
                                },
                                {
                                    "book_id": "14118",
                                    "title": "Beauty and the Beast (Disney)"
                                },
                                {
                                    "book_id": "14142",
                                    "title": "The Art of Loving"
                                },
                                {
                                    "book_id": "14403",
                                    "title": "The Story of Ruby Bridges"
                                },
                                {
                                    "book_id": "14469",
                                    "title": "Selected Stories"
                                },
                                {
                                    "book_id": "14480",
                                    "title": "Calling Doctor Amelia Bedelia"
                                },
                                {
                                    "book_id": "14481",
                                    "title": "Come Back, Amelia Bedelia"
                                },
                                {
                                    "book_id": "14498",
                                    "title": "Neil Gaiman's Neverwhere"
                                },
                                {
                                    "book_id": "14572",
                                    "title": "Peace Is Every Step: The Path of Mindfulness in Everyday Life"
                                },
                                {
                                    "book_id": "14595",
                                    "title": "Please Kill Me: The Uncensored Oral History of Punk"
                                },
                                {
                                    "book_id": "14662",
                                    "title": "The Red and the Black"
                                },
                                {
                                    "book_id": "14680",
                                    "title": "The Charterhouse of Parma"
                                },
                                {
                                    "book_id": "14706",
                                    "title": "Faust: First Part"
                                },
                                {
                                    "book_id": "14935",
                                    "title": "Sense and Sensibility"
                                },
                                {
                                    "book_id": "14942",
                                    "title": "Mrs. Dalloway"
                                },
                                {
                                    "book_id": "15014",
                                    "title": "Crucial Conversations: Tools for Talking When Stakes Are High"
                                },
                                {
                                    "book_id": "15161",
                                    "title": "The Ladies of Grace Adieu and Other Stories"
                                },
                                {
                                    "book_id": "15638",
                                    "title": "Cyrano de Bergerac"
                                },
                                {
                                    "book_id": "15645",
                                    "title": "Inferno (The Divine Comedy #1)"
                                },
                                {
                                    "book_id": "15719",
                                    "title": "Marvel 1602"
                                },
                                {
                                    "book_id": "15779",
                                    "title": "Sideways Stories from Wayside School (Wayside School #1)"
                                },
                                {
                                    "book_id": "15852",
                                    "title": "Relativity: The Special and the General Theory"
                                },
                                {
                                    "book_id": "15881",
                                    "title": "Harry Potter and the Chamber of Secrets (Harry Potter, #2)"
                                },
                                {
                                    "book_id": "15997",
                                    "title": "Paradise Lost"
                                },
                                {
                                    "book_id": "16076",
                                    "title": "The Awakening and Selected Stories"
                                },
                                {
                                    "book_id": "16312",
                                    "title": "One, Two, Buckle My Shoe (Hercule Poirot, #22)"
                                },
                                {
                                    "book_id": "16343",
                                    "title": "The Mysterious Affair at Styles (Hercule Poirot, #1)"
                                },
                                {
                                    "book_id": "16527",
                                    "title": "Daughter of Fortune"
                                },
                                {
                                    "book_id": "16532",
                                    "title": "Of Love and Shadows"
                                },
                                {
                                    "book_id": "16619",
                                    "title": "Democracy in America "
                                },
                                {
                                    "book_id": "16631",
                                    "title": "Steppenwolf"
                                },
                                {
                                    "book_id": "16634",
                                    "title": "The Glass Bead Game"
                                },
                                {
                                    "book_id": "16640",
                                    "title": "The Sorrows of Young Werther"
                                },
                                {
                                    "book_id": "16696",
                                    "title": "The Final Solution"
                                },
                                {
                                    "book_id": "16707",
                                    "title": "Wonder Boys"
                                },
                                {
                                    "book_id": "16791",
                                    "title": "Death: The High Cost of Living Collected"
                                },
                                {
                                    "book_id": "16982",
                                    "title": "Marvels"
                                },
                                {
                                    "book_id": "16992",
                                    "title": "Kingdom Come"
                                },
                                {
                                    "book_id": "17125",
                                    "title": "One Day in the Life of Ivan Denisovich"
                                },
                                {
                                    "book_id": "17136",
                                    "title": "The Time Machine/The Invisible Man"
                                },
                                {
                                    "book_id": "17245",
                                    "title": "Dracula"
                                },
                                {
                                    "book_id": "17250",
                                    "title": "The Crucible"
                                },
                                {
                                    "book_id": "17349",
                                    "title": "The Demon-Haunted World: Science as a Candle in the Dark"
                                },
                                {
                                    "book_id": "17461",
                                    "title": "Misty of Chincoteague (Misty, #1)"
                                },
                                {
                                    "book_id": "17689",
                                    "title": "Franz Kafka's The Castle (Dramatization)"
                                },
                                {
                                    "book_id": "17690",
                                    "title": "The Trial"
                                },
                                {
                                    "book_id": "17717",
                                    "title": "Labyrinths:  Selected Stories and Other Writings"
                                },
                                {
                                    "book_id": "17728",
                                    "title": "The House of Mirth"
                                },
                                {
                                    "book_id": "17799",
                                    "title": "South of the Border, West of the Sun"
                                },
                                {
                                    "book_id": "17801",
                                    "title": "Underground: The Tokyo Gas Attack and the Japanese Psyche"
                                },
                                {
                                    "book_id": "17803",
                                    "title": "After Dark"
                                },
                                {
                                    "book_id": "17810",
                                    "title": "In the Miso Soup"
                                },
                                {
                                    "book_id": "17841",
                                    "title": "Foucault's Pendulum"
                                },
                                {
                                    "book_id": "17876",
                                    "title": "Notes from Underground, White Nights, The Dream of a Ridiculous Man, and Selections from The House of the Dead"
                                },
                                {
                                    "book_id": "17877",
                                    "title": "The House of the Dead"
                                },
                                {
                                    "book_id": "17961",
                                    "title": "Collected Fictions"
                                },
                                {
                                    "book_id": "18005",
                                    "title": "How I Became a Pirate"
                                },
                                {
                                    "book_id": "18135",
                                    "title": "Romeo and Juliet"
                                },
                                {
                                    "book_id": "18254",
                                    "title": "Oliver Twist"
                                },
                                {
                                    "book_id": "18266",
                                    "title": "Gargantua and Pantagruel"
                                },
                                {
                                    "book_id": "18288",
                                    "title": "Critique of Pure Reason"
                                },
                                {
                                    "book_id": "18304",
                                    "title": "The Anti-Christ"
                                },
                                {
                                    "book_id": "18386",
                                    "title": "The Death of Ivan Ilych"
                                },
                                {
                                    "book_id": "18414",
                                    "title": "Utopia"
                                },
                                {
                                    "book_id": "18419",
                                    "title": "The Kissing Hand"
                                },
                                {
                                    "book_id": "18420",
                                    "title": "Hands Of Light"
                                },
                                {
                                    "book_id": "18422",
                                    "title": "Gifted Hands: The Ben Carson Story"
                                },
                                {
                                    "book_id": "18423",
                                    "title": "The Left Hand of Darkness"
                                },
                                {
                                    "book_id": "18431",
                                    "title": "The Rule of Four"
                                },
                                {
                                    "book_id": "18490",
                                    "title": "Frankenstein"
                                },
                                {
                                    "book_id": "18545",
                                    "title": "Rosencrantz and Guildenstern Are Dead"
                                },
                                {
                                    "book_id": "18750",
                                    "title": "Beauty's Punishment (Sleeping Beauty, #2)"
                                },
                                {
                                    "book_id": "18884",
                                    "title": "Polgara the Sorceress (Malloreon)"
                                },
                                {
                                    "book_id": "18889",
                                    "title": "Lady of Avalon (Avalon, #3)"
                                },
                                {
                                    "book_id": "18892",
                                    "title": "The Forest House (Avalon, #2)"
                                },
                                {
                                    "book_id": "19049",
                                    "title": "What the Bleep Do We Know!?: Discovering the Endless Possibilities for Altering Your Everyday Reality"
                                },
                                {
                                    "book_id": "19068",
                                    "title": "The Nicomachean Ethics"
                                },
                                {
                                    "book_id": "19089",
                                    "title": "Middlemarch"
                                },
                                {
                                    "book_id": "19106",
                                    "title": "The Nose"
                                },
                                {
                                    "book_id": "19117",
                                    "title": "Fathers and Sons"
                                },
                                {
                                    "book_id": "19164",
                                    "title": "Purgatorio (The Divine Comedy, #2)"
                                },
                                {
                                    "book_id": "19302",
                                    "title": "Pippi Longstocking"
                                },
                                {
                                    "book_id": "19307",
                                    "title": "Pippi in the South Seas"
                                },
                                {
                                    "book_id": "19312",
                                    "title": "The Brothers Lionheart"
                                },
                                {
                                    "book_id": "19314",
                                    "title": "Ronia, the Robber's Daughter"
                                },
                                {
                                    "book_id": "19351",
                                    "title": "The Epic of Gilgamesh"
                                },
                                {
                                    "book_id": "19400",
                                    "title": "The Decline and Fall of the Roman Empire"
                                },
                                {
                                    "book_id": "19552",
                                    "title": "Essentials of Classic Italian Cooking"
                                },
                                {
                                    "book_id": "19688",
                                    "title": "Breaking Point (Tom Clancy's Net Force, #4)"
                                },
                                {
                                    "book_id": "20249",
                                    "title": "Hunters of Dune (Dune Chronicles #7)"
                                },
                                {
                                    "book_id": "20252",
                                    "title": "House Corrino (Prelude to Dune #3)"
                                },
                                {
                                    "book_id": "20253",
                                    "title": "House Harkonnen (Prelude to Dune #2)"
                                },
                                {
                                    "book_id": "20413",
                                    "title": "A Child's Garden of Verses"
                                },
                                {
                                    "book_id": "20563",
                                    "title": "Adam Bede"
                                },
                                {
                                    "book_id": "20564",
                                    "title": "The Mill on the Floss"
                                },
                                {
                                    "book_id": "21025",
                                    "title": "The Gift of Therapy: An Open Letter to a New Generation of Therapists and Their Patients"
                                },
                                {
                                    "book_id": "21323",
                                    "title": "Cold Fire / Hideaway / The Key to Midnight"
                                },
                                {
                                    "book_id": "21324",
                                    "title": "Fables, Vol. 8: Wolves"
                                },
                                {
                                    "book_id": "21325",
                                    "title": "Fables, Vol. 4: March of the Wooden Soldiers"
                                },
                                {
                                    "book_id": "21326",
                                    "title": "Fables, Vol. 1: Legends in Exile"
                                },
                                {
                                    "book_id": "21327",
                                    "title": "Fables, Vol. 7: Arabian Nights [and Days] (Fables, #7)"
                                },
                                {
                                    "book_id": "21328",
                                    "title": "Fables, Vol. 6: Homelands"
                                },
                                {
                                    "book_id": "21329",
                                    "title": "Fables, Vol. 3: Storybook Love"
                                },
                                {
                                    "book_id": "21330",
                                    "title": "Fables, Vol. 5: The Mean Seasons"
                                },
                                {
                                    "book_id": "21337",
                                    "title": "Prodigal Son (Dean Koontz's Frankenstein, #1)"
                                },
                                {
                                    "book_id": "21340",
                                    "title": "City of Night (Dean Koontz's Frankenstein, #2)"
                                },
                                {
                                    "book_id": "21348",
                                    "title": "Aesop's Fables"
                                },
                                {
                                    "book_id": "21362",
                                    "title": "Seize the Night (Moonlight Bay, #2)"
                                },
                                {
                                    "book_id": "21436",
                                    "title": "Cat and Mouse (Alex Cross, #4)"
                                },
                                {
                                    "book_id": "21445",
                                    "title": "The 5th Horseman (Women's Murder Club, #5)"
                                },
                                {
                                    "book_id": "21745",
                                    "title": "Without Fail (Jack Reacher, #6)"
                                },
                                {
                                    "book_id": "21996",
                                    "title": "The Devil in the White City: Murder, Magic, and Madness at the Fair That Changed America"
                                },
                                {
                                    "book_id": "22034",
                                    "title": "The Godfather"
                                },
                                {
                                    "book_id": "22323",
                                    "title": "Burning Chrome (Sprawl, #0)"
                                },
                                {
                                    "book_id": "22358",
                                    "title": "We3"
                                },
                                {
                                    "book_id": "22369",
                                    "title": "All-Star Superman, Vol. 1"
                                },
                                {
                                    "book_id": "22374",
                                    "title": "Batman: Arkham Asylum - A Serious House on Serious Earth"
                                },
                                {
                                    "book_id": "22416",
                                    "title": "Transmetropolitan, Vol. 1: Back on the Street (Transmetropolitan, #1)"
                                },
                                {
                                    "book_id": "22417",
                                    "title": "Transmetropolitan, Vol. 2: Lust for Life (Transmetropolitan, #2)"
                                },
                                {
                                    "book_id": "22418",
                                    "title": "Transmetropolitan, Vol. 3: Year of the Bastard (Transmetropolitan, #3)"
                                },
                                {
                                    "book_id": "22420",
                                    "title": "Transmetropolitan, Vol. 5: Lonely City (Transmetropolitan, #5)"
                                },
                                {
                                    "book_id": "22421",
                                    "title": "Transmetropolitan, Vol. 4: The New Scum (Transmetropolitan, #4)"
                                },
                                {
                                    "book_id": "22469",
                                    "title": "Wolverine: Origin"
                                },
                                {
                                    "book_id": "22590",
                                    "title": "Ubik"
                                },
                                {
                                    "book_id": "22632",
                                    "title": "The Trial and Death of Socrates"
                                },
                                {
                                    "book_id": "22904",
                                    "title": "The Complete Stories"
                                },
                                {
                                    "book_id": "22911",
                                    "title": "Amerika"
                                },
                                {
                                    "book_id": "22917",
                                    "title": "The Complete Grimm's Fairy Tales"
                                },
                                {
                                    "book_id": "22995",
                                    "title": "La casa de Bernarda Alba"
                                },
                                {
                                    "book_id": "23454",
                                    "title": "Dragons of Winter Night (Dragonlance: Chronicles, #2)"
                                },
                                {
                                    "book_id": "23522",
                                    "title": "Mythology: Timeless Tales of Gods and Heroes"
                                },
                                {
                                    "book_id": "23529",
                                    "title": "From Hell"
                                },
                                {
                                    "book_id": "23753",
                                    "title": "The Absolute Sandman, Volume One"
                                },
                                {
                                    "book_id": "23754",
                                    "title": "Preludes & Nocturnes (The Sandman #1)"
                                },
                                {
                                    "book_id": "23772",
                                    "title": "Green Eggs and Ham"
                                },
                                {
                                    "book_id": "23878",
                                    "title": "Chronicle of a Death Foretold"
                                },
                                {
                                    "book_id": "23884",
                                    "title": "The General in His Labyrinth"
                                },
                                {
                                    "book_id": "23885",
                                    "title": "No One Writes to the Colonel and Other Stories"
                                },
                                {
                                    "book_id": "23887",
                                    "title": "The Autumn of the Patriarch"
                                },
                                {
                                    "book_id": "23940",
                                    "title": "Junky"
                                },
                                {
                                    "book_id": "23955",
                                    "title": "Trainspotting"
                                },
                                {
                                    "book_id": "24019",
                                    "title": "The New Best Recipe"
                                },
                                {
                                    "book_id": "24096",
                                    "title": "Leonardo's Notebooks"
                                },
                                {
                                    "book_id": "24128",
                                    "title": "The Merchant of Venice"
                                },
                                {
                                    "book_id": "24178",
                                    "title": "Charlotte's Web"
                                },
                                {
                                    "book_id": "24213",
                                    "title": "Alice's Adventures in Wonderland & Through the Looking-Glass"
                                },
                                {
                                    "book_id": "24215",
                                    "title": "Alice's Adventures in Wonderland: A Pop-Up Adaptation"
                                },
                                {
                                    "book_id": "24280",
                                    "title": "Les Misérables"
                                },
                                {
                                    "book_id": "24335",
                                    "title": "The Trumpet of the Swan"
                                },
                                {
                                    "book_id": "24384",
                                    "title": "The Cricket in Times Square"
                                },
                                {
                                    "book_id": "24583",
                                    "title": "The Adventures of Tom Sawyer"
                                },
                                {
                                    "book_id": "24724",
                                    "title": "Drop City"
                                },
                                {
                                    "book_id": "24796",
                                    "title": "Zorro"
                                },
                                {
                                    "book_id": "24929",
                                    "title": "Lost"
                                },
                                {
                                    "book_id": "24937",
                                    "title": "Wicked: The Grimmerie"
                                },
                                {
                                    "book_id": "24938",
                                    "title": "Wicked - Piano/Vocal Arrangement"
                                },
                                {
                                    "book_id": "24965",
                                    "title": "Fear and Trembling"
                                },
                                {
                                    "book_id": "25051",
                                    "title": "Mrs. Piggle-Wiggle (Mrs. Piggle Wiggle, #1)"
                                },
                                {
                                    "book_id": "25052",
                                    "title": "Mrs. Piggle-Wiggle's Magic (Mrs. Piggle Wiggle, #2)"
                                },
                                {
                                    "book_id": "25053",
                                    "title": "Hello, Mrs. Piggle-Wiggle (Mrs. Piggle Wiggle, #4)"
                                },
                                {
                                    "book_id": "25099",
                                    "title": "The Doll's House (The Sandman #2)"
                                },
                                {
                                    "book_id": "25100",
                                    "title": "Dream Country (The Sandman #3)"
                                },
                                {
                                    "book_id": "25101",
                                    "title": "Season of Mists (The Sandman #4)"
                                },
                                {
                                    "book_id": "25102",
                                    "title": "A Game of You (The Sandman #5)"
                                },
                                {
                                    "book_id": "25103",
                                    "title": "Worlds' End (The Sandman #8)"
                                },
                                {
                                    "book_id": "25104",
                                    "title": "The Wake (The Sandman #10)"
                                },
                                {
                                    "book_id": "25105",
                                    "title": "Brief Lives (The Sandman #7)"
                                },
                                {
                                    "book_id": "25106",
                                    "title": "Fables and Reflections (The Sandman #6)"
                                },
                                {
                                    "book_id": "25190",
                                    "title": "Beauty's Release (Sleeping Beauty, #3)"
                                },
                                {
                                    "book_id": "25200",
                                    "title": "Silence"
                                },
                                {
                                    "book_id": "25365",
                                    "title": "Out"
                                },
                                {
                                    "book_id": "25373",
                                    "title": "Nick & Norah's Infinite Playlist"
                                },
                                {
                                    "book_id": "25378",
                                    "title": "The Dirt: Confessions of the World's Most Notorious Rock Band"
                                },
                                {
                                    "book_id": "25403",
                                    "title": "The Orange Girl"
                                },
                                {
                                    "book_id": "25460",
                                    "title": "Animal, Vegetable, Miracle: A Year of Food Life"
                                },
                                {
                                    "book_id": "25790",
                                    "title": "The Lord of the Rings Sketchbook"
                                },
                                {
                                    "book_id": "25955",
                                    "title": "The Medium is the Massage"
                                },
                                {
                                    "book_id": "26085",
                                    "title": "Identity Crisis"
                                },
                                {
                                    "book_id": "26097",
                                    "title": "Slowness"
                                },
                                {
                                    "book_id": "26101",
                                    "title": "Laughable Loves"
                                },
                                {
                                    "book_id": "26581",
                                    "title": "Sleeping Beauty Box Set"
                                },
                                {
                                    "book_id": "26582",
                                    "title": "The Claiming of Sleeping Beauty (Sleeping Beauty, #1)"
                                },
                                {
                                    "book_id": "26599",
                                    "title": "Selected Poems"
                                },
                                {
                                    "book_id": "27037",
                                    "title": "Confessions"
                                },
                                {
                                    "book_id": "27297",
                                    "title": "The Analects"
                                },
                                {
                                    "book_id": "27333",
                                    "title": "Silent Spring"
                                },
                                {
                                    "book_id": "27523",
                                    "title": "Left Behind (Left Behind, #1)"
                                },
                                {
                                    "book_id": "27525",
                                    "title": "Armageddon: The Cosmic Battle of the Ages (Left Behind, #11)"
                                },
                                {
                                    "book_id": "27526",
                                    "title": "Desecration (Left Behind, #9)"
                                },
                                {
                                    "book_id": "27528",
                                    "title": "Nicolae (Left Behind, #3)"
                                },
                                {
                                    "book_id": "27530",
                                    "title": "The Remnant (Left Behind, #10)"
                                },
                                {
                                    "book_id": "27712",
                                    "title": "The Neverending Story"
                                },
                                {
                                    "book_id": "27822",
                                    "title": "Eugene Onegin"
                                },
                                {
                                    "book_id": "28194",
                                    "title": "Inkheart (Inkworld, #1)"
                                },
                                {
                                    "book_id": "28195",
                                    "title": "Inkspell (Inkworld, #2)"
                                },
                                {
                                    "book_id": "28212",
                                    "title": "And the Band Played On: Politics, People, and the AIDS Epidemic"
                                },
                                {
                                    "book_id": "28381",
                                    "title": "Dead Souls"
                                },
                                {
                                    "book_id": "28407",
                                    "title": "Germinal (Les Rougon-Macquart, #13)"
                                },
                                {
                                    "book_id": "28481",
                                    "title": "Dragon Wing (The Death Gate Cycle, #1)"
                                },
                                {
                                    "book_id": "28482",
                                    "title": "The Hand of Chaos (The Death Gate Cycle, #5)"
                                },
                                {
                                    "book_id": "28483",
                                    "title": "The Seventh Gate (The Death Gate Cycle, #7)"
                                },
                                {
                                    "book_id": "28484",
                                    "title": "Into the Labyrinth (The Death Gate Cycle, #6)"
                                },
                                {
                                    "book_id": "28485",
                                    "title": "Elven Star (The Death Gate Cycle, #2)"
                                },
                                {
                                    "book_id": "28507",
                                    "title": "Serpent Mage (The Death Gate Cycle, #4)"
                                },
                                {
                                    "book_id": "28635",
                                    "title": "Identity"
                                },
                                {
                                    "book_id": "28700",
                                    "title": "Falling Man"
                                },
                                {
                                    "book_id": "28862",
                                    "title": "The Prince"
                                },
                                {
                                    "book_id": "29022",
                                    "title": "The Twelve Caesars"
                                },
                                {
                                    "book_id": "29034",
                                    "title": "Twelve Angry Men"
                                },
                                {
                                    "book_id": "29187",
                                    "title": "Time of the Twins (Dragonlance: Legends, #1)"
                                },
                                {
                                    "book_id": "29254",
                                    "title": "Be Here Now"
                                },
                                {
                                    "book_id": "29641",
                                    "title": "The End of the Affair"
                                },
                                {
                                    "book_id": "30065",
                                    "title": "The Walking Dead, Vol. 05: The Best Defense"
                                },
                                {
                                    "book_id": "30068",
                                    "title": "The Book of the Dead (Pendergast, #7; Diogenes, #3)"
                                },
                                {
                                    "book_id": "30069",
                                    "title": "The Walking Dead, Vol. 03: Safety Behind Bars"
                                },
                                {
                                    "book_id": "30071",
                                    "title": "The Walking Dead, Book One (The Walking Dead #1-12)"
                                },
                                {
                                    "book_id": "30183",
                                    "title": "Marked (House of Night, #1)"
                                },
                                {
                                    "book_id": "30289",
                                    "title": "The Republic"
                                },
                                {
                                    "book_id": "30292",
                                    "title": "Five Dialogues: Euthyphro, Apology, Crito, Meno, Phaedo"
                                },
                                {
                                    "book_id": "30474",
                                    "title": "The Communist Manifesto"
                                },
                                {
                                    "book_id": "30593",
                                    "title": "Pnin"
                                },
                                {
                                    "book_id": "30597",
                                    "title": "The Hunchback of Notre-Dame"
                                },
                                {
                                    "book_id": "30658",
                                    "title": "Meditations on First Philosophy"
                                },
                                {
                                    "book_id": "30659",
                                    "title": "Meditations"
                                },
                                {
                                    "book_id": "30672",
                                    "title": "Darkness at Noon"
                                },
                                {
                                    "book_id": "31157",
                                    "title": "The Rising: Antichrist is Born  (Before They Were Left Behind, #1)"
                                },
                                {
                                    "book_id": "31168",
                                    "title": "Shirley"
                                },
                                {
                                    "book_id": "31173",
                                    "title": "Villette"
                                },
                                {
                                    "book_id": "31242",
                                    "title": "Bleak House"
                                },
                                {
                                    "book_id": "31250",
                                    "title": "Little Dorrit"
                                },
                                {
                                    "book_id": "31334",
                                    "title": "Belinda"
                                },
                                {
                                    "book_id": "31426",
                                    "title": "The Collected Poems"
                                },
                                {
                                    "book_id": "31456",
                                    "title": "The Twits"
                                },
                                {
                                    "book_id": "31463",
                                    "title": "Far from the Madding Crowd"
                                },
                                {
                                    "book_id": "31491",
                                    "title": "The Rainbow"
                                },
                                {
                                    "book_id": "31548",
                                    "title": "Of Human Bondage"
                                },
                                {
                                    "book_id": "31555",
                                    "title": "Phantoms in the Brain: Probing the Mysteries of the Human Mind"
                                },
                                {
                                    "book_id": "31741",
                                    "title": "Innocent Erendira and Other Stories"
                                },
                                {
                                    "book_id": "31819",
                                    "title": "Harry Potter and Philosophy: If Aristotle Ran Hogwarts"
                                },
                                {
                                    "book_id": "31862",
                                    "title": "Discourse on Method and Meditations on First Philosophy"
                                },
                                {
                                    "book_id": "31975",
                                    "title": "Astonishing X-Men, Volume 2: Dangerous"
                                },
                                {
                                    "book_id": "31979",
                                    "title": "Astonishing X-Men, Volume 1: Gifted"
                                },
                                {
                                    "book_id": "32067",
                                    "title": "Lady Chatterley's Lover"
                                },
                                {
                                    "book_id": "32071",
                                    "title": "Sons and Lovers"
                                },
                                {
                                    "book_id": "32261",
                                    "title": "Tess of the D'Urbervilles"
                                },
                                {
                                    "book_id": "32426",
                                    "title": "Icebound"
                                },
                                {
                                    "book_id": "32428",
                                    "title": "Shadow Fires"
                                },
                                {
                                    "book_id": "32433",
                                    "title": "The Key to Midnight"
                                },
                                {
                                    "book_id": "32438",
                                    "title": "Shattered"
                                },
                                {
                                    "book_id": "32443",
                                    "title": "The Eyes of Darkness"
                                },
                                {
                                    "book_id": "32446",
                                    "title": "The Door to December"
                                },
                                {
                                    "book_id": "32453",
                                    "title": "The Servants of Twilight"
                                },
                                {
                                    "book_id": "32525",
                                    "title": "Art Through the Ages "
                                },
                                {
                                    "book_id": "32552",
                                    "title": "Essential Tales and Poems"
                                },
                                {
                                    "book_id": "32559",
                                    "title": "The Fall of the House of Usher and Other Tales "
                                },
                                {
                                    "book_id": "32585",
                                    "title": "Hunger"
                                },
                                {
                                    "book_id": "32650",
                                    "title": "The Return of the Native  "
                                },
                                {
                                    "book_id": "32767",
                                    "title": "At the Mountains of Madness"
                                },
                                {
                                    "book_id": "32812",
                                    "title": "Paradiso (The Divine Comedy, #3)"
                                },
                                {
                                    "book_id": "32831",
                                    "title": "The Mysterious Island (Extraordinary Voyages, #12)"
                                },
                                {
                                    "book_id": "32929",
                                    "title": "Goodnight Moon"
                                },
                                {
                                    "book_id": "32979",
                                    "title": "The Secret of the Old Clock (Nancy Drew, #1)"
                                },
                                {
                                    "book_id": "33335",
                                    "title": "The Hidden Messages in Water"
                                },
                                {
                                    "book_id": "33449",
                                    "title": "The 22 Immutable Laws of Marketing: Violate Them at Your Own Risk"
                                },
                                {
                                    "book_id": "33455",
                                    "title": "Island of the Sequined Love Nun"
                                },
                                {
                                    "book_id": "33507",
                                    "title": "Twenty Thousand Leagues Under the Sea"
                                },
                                {
                                    "book_id": "33514",
                                    "title": "The Elements of Style"
                                },
                                {
                                    "book_id": "33609",
                                    "title": "Katherine"
                                },
                                {
                                    "book_id": "33668",
                                    "title": "4th of July (Women's Murder Club, #4)"
                                },
                                {
                                    "book_id": "33723",
                                    "title": "Girls' Night In"
                                },
                                {
                                    "book_id": "34080",
                                    "title": "The Waste Land"
                                },
                                {
                                    "book_id": "34084",
                                    "title": "The Waste Lands (The Dark Tower, #3)"
                                },
                                {
                                    "book_id": "34262",
                                    "title": "Peter and the Starcatchers (Peter and the Starcatchers, #1)"
                                },
                                {
                                    "book_id": "34268",
                                    "title": "Peter Pan"
                                },
                                {
                                    "book_id": "34503",
                                    "title": "The Last Hero (Discworld, #27; Rincewind #7)"
                                },
                                {
                                    "book_id": "34508",
                                    "title": "Interesting Times: The Play"
                                },
                                {
                                    "book_id": "34871",
                                    "title": "The Complete Clive Barker's The Great And Secret Show"
                                },
                                {
                                    "book_id": "34941",
                                    "title": "Star Wars - Episode I: The Phantom Menace"
                                },
                                {
                                    "book_id": "35332",
                                    "title": "Remember (Redemption, #2)"
                                },
                                {
                                    "book_id": "35476",
                                    "title": "Black Elk Speaks: Being the Life Story of a Holy Man of the Oglala Sioux"
                                },
                                {
                                    "book_id": "35488",
                                    "title": "Cash"
                                },
                                {
                                    "book_id": "35519",
                                    "title": "The Power of Myth"
                                },
                                {
                                    "book_id": "36071",
                                    "title": "First Things First"
                                },
                                {
                                    "book_id": "36315",
                                    "title": "The Best of H.P. Lovecraft: Bloodcurdling Tales of Horror and the Macabre"
                                },
                                {
                                    "book_id": "36638",
                                    "title": "The Wolves of Willoughby Chase (The Wolves Chronicles, #1)"
                                },
                                {
                                    "book_id": "37034",
                                    "title": "The Woman in Black"
                                },
                                {
                                    "book_id": "37186",
                                    "title": "The Miraculous Journey of Edward Tulane"
                                },
                                {
                                    "book_id": "37190",
                                    "title": "The Tale of Despereaux"
                                },
                                {
                                    "book_id": "37442",
                                    "title": "Wicked: The Life and Times of the Wicked Witch of the West (The Wicked Years, #1)"
                                },
                                {
                                    "book_id": "37526",
                                    "title": "Henry V"
                                },
                                {
                                    "book_id": "37793",
                                    "title": "A Doll's House"
                                },
                                {
                                    "book_id": "37847",
                                    "title": "The Long Hard Road Out of Hell"
                                },
                                {
                                    "book_id": "38210",
                                    "title": "The Art of Happiness"
                                },
                                {
                                    "book_id": "38709",
                                    "title": "Holes (Holes, #1)"
                                },
                                {
                                    "book_id": "38723",
                                    "title": "The Feminine Mystique"
                                },
                                {
                                    "book_id": "38787",
                                    "title": "Pedro Páramo"
                                },
                                {
                                    "book_id": "39028",
                                    "title": "The Wheel of Darkness (Pendergast, #8)"
                                },
                                {
                                    "book_id": "39030",
                                    "title": "Reliquary (Pendergast, #2)"
                                },
                                {
                                    "book_id": "39031",
                                    "title": "The Cabinet of Curiosities (Pendergast, #3)"
                                },
                                {
                                    "book_id": "39032",
                                    "title": "Mount Dragon"
                                },
                                {
                                    "book_id": "39033",
                                    "title": "Still Life With Crows (Pendergast, #4)"
                                },
                                {
                                    "book_id": "39792",
                                    "title": "The Man Who Smiled (Kurt Wallander, #4)"
                                },
                                {
                                    "book_id": "39795",
                                    "title": "The Dogs of Riga (Kurt Wallander, #2)"
                                },
                                {
                                    "book_id": "39796",
                                    "title": "Sidetracked (Kurt Wallander, #5)"
                                },
                                {
                                    "book_id": "39798",
                                    "title": "Firewall (Wallander, #8)"
                                },
                                {
                                    "book_id": "39799",
                                    "title": "One Step Behind  (Kurt Wallander, #7)"
                                },
                                {
                                    "book_id": "39801",
                                    "title": "The White Lioness (Kurt Wallander, #3)"
                                },
                                {
                                    "book_id": "39988",
                                    "title": "Matilda"
                                },
                                {
                                    "book_id": "40289",
                                    "title": "The Abyss"
                                },
                                {
                                    "book_id": "40313",
                                    "title": "Full Tilt (Full #2)"
                                },
                                {
                                    "book_id": "40320",
                                    "title": "Full House (Full #1)"
                                },
                                {
                                    "book_id": "40395",
                                    "title": "A Princess of Mars (Barsoom, #1)"
                                },
                                {
                                    "book_id": "40483",
                                    "title": "Story of O (Story of O #1)"
                                },
                                {
                                    "book_id": "41681",
                                    "title": "The Jungle"
                                },
                                {
                                    "book_id": "41684",
                                    "title": "The Jungle Books"
                                },
                                {
                                    "book_id": "41899",
                                    "title": "Fantastic Beasts and Where to Find Them"
                                },
                                {
                                    "book_id": "42038",
                                    "title": "Shakespeare's Sonnets"
                                },
                                {
                                    "book_id": "42058",
                                    "title": "Richard III"
                                },
                                {
                                    "book_id": "42369",
                                    "title": "The Hundred Dresses"
                                },
                                {
                                    "book_id": "42512",
                                    "title": "We Were Soldiers Once... and Young: Ia Drang - The Battle that Changed the War in Vietnam"
                                },
                                {
                                    "book_id": "42547",
                                    "title": "The Autobiography of Martin Luther King, Jr."
                                },
                                {
                                    "book_id": "42641",
                                    "title": "Resurrection"
                                },
                                {
                                    "book_id": "43081",
                                    "title": "Marching Powder: A True Story of Friendship, Cocaine, and South America's Strangest Jail"
                                },
                                {
                                    "book_id": "43739",
                                    "title": "Iron Man: Extremis"
                                },
                                {
                                    "book_id": "43780",
                                    "title": "Vampire Chronicles: Interview with the Vampire, The Vampire Lestat, The Queen of the Damned (Anne Rice)"
                                },
                                {
                                    "book_id": "43799",
                                    "title": "Exit to Eden"
                                },
                                {
                                    "book_id": "43808",
                                    "title": "Anne Rice's The Vampire Lestat: A Graphic Novel"
                                },
                                {
                                    "book_id": "43818",
                                    "title": "Anne Rice's The Tale of the Body Thief (A Graphic Novel)"
                                },
                                {
                                    "book_id": "43915",
                                    "title": "Magician: Apprentice  (Raymond E. Feist's Magician: Apprentice #1)"
                                },
                                {
                                    "book_id": "43944",
                                    "title": "Suite Française"
                                },
                                {
                                    "book_id": "43945",
                                    "title": "Portnoy's Complaint"
                                },
                                {
                                    "book_id": "44186",
                                    "title": "The Monster at the End of this Book"
                                },
                                {
                                    "book_id": "44399",
                                    "title": "Too Busy Not to Pray: Slowing Down to Be With God"
                                },
                                {
                                    "book_id": "44559",
                                    "title": "Life is Elsewhere"
                                },
                                {
                                    "book_id": "45032",
                                    "title": "Mansfield Park"
                                },
                                {
                                    "book_id": "45169",
                                    "title": "Step on a Crack (Michael Bennett, #1)"
                                },
                                {
                                    "book_id": "45195",
                                    "title": "A Passage to India"
                                },
                                {
                                    "book_id": "45220",
                                    "title": "I Never Promised You a Rose Garden"
                                },
                                {
                                    "book_id": "45685",
                                    "title": "The Canterville Ghost"
                                },
                                {
                                    "book_id": "45967",
                                    "title": "The Blind Owl"
                                },
                                {
                                    "book_id": "45974",
                                    "title": "The Book of Disquiet"
                                },
                                {
                                    "book_id": "46199",
                                    "title": "Letters to a Young Poet"
                                },
                                {
                                    "book_id": "46201",
                                    "title": "The Selected Poetry of Rainer Maria Rilke"
                                },
                                {
                                    "book_id": "46227",
                                    "title": "Ask the Dust (Arturo Bandini, #3)"
                                },
                                {
                                    "book_id": "46306",
                                    "title": "The Complete Fairy Tales"
                                },
                                {
                                    "book_id": "46677",
                                    "title": "Alexander and the Terrible, Horrible, No Good, Very Bad Day"
                                },
                                {
                                    "book_id": "46799",
                                    "title": "Go Ask Alice"
                                },
                                {
                                    "book_id": "46906",
                                    "title": "Fruits Basket, Vol. 15"
                                },
                                {
                                    "book_id": "46908",
                                    "title": "Fruits Basket, Vol. 14"
                                },
                                {
                                    "book_id": "46913",
                                    "title": "FRUiTS"
                                },
                                {
                                    "book_id": "46945",
                                    "title": "Requiem for a Dream"
                                },
                                {
                                    "book_id": "47304",
                                    "title": "The Freedom Writers Diary"
                                },
                                {
                                    "book_id": "47667",
                                    "title": "Seeing"
                                },
                                {
                                    "book_id": "47697",
                                    "title": "The Sandman: King of Dreams"
                                },
                                {
                                    "book_id": "47701",
                                    "title": "InterWorld (InterWorld, #1)"
                                },
                                {
                                    "book_id": "47720",
                                    "title": "The Sandman: Endless Nights"
                                },
                                {
                                    "book_id": "47730",
                                    "title": "The Complete Poems"
                                },
                                {
                                    "book_id": "47780",
                                    "title": "Hunting and Gathering"
                                },
                                {
                                    "book_id": "48132",
                                    "title": "My Family and Other Animals (Corfu Trilogy, #1)"
                                },
                                {
                                    "book_id": "48304",
                                    "title": "Vegan Cupcakes Take Over the World: 75 Dairy-Free Recipes for Cupcakes that Rule"
                                },
                                {
                                    "book_id": "48318",
                                    "title": "The Solitaire Mystery: A Novel About Family and Destiny"
                                },
                                {
                                    "book_id": "48697",
                                    "title": "Art in Theory 1900 - 2000: An Anthology of Changing Ideas"
                                },
                                {
                                    "book_id": "48757",
                                    "title": "The Tao of Pooh"
                                },
                                {
                                    "book_id": "48855",
                                    "title": "The Diary of a Young Girl"
                                },
                                {
                                    "book_id": "48862",
                                    "title": "Brighton Rock"
                                },
                                {
                                    "book_id": "49436",
                                    "title": "Three Cups of Tea: One Man's Mission to Promote Peace ... One School at a Time"
                                },
                                {
                                    "book_id": "49455",
                                    "title": "Notes from Underground"
                                },
                                {
                                    "book_id": "49540",
                                    "title": "Les Liaisons dangereuses"
                                },
                                {
                                    "book_id": "49552",
                                    "title": "The Stranger"
                                },
                                {
                                    "book_id": "50001",
                                    "title": "The Complete Guide to Middle-Earth"
                                },
                                {
                                    "book_id": "50039",
                                    "title": "I'm with the Band: Confessions of a Groupie"
                                },
                                {
                                    "book_id": "50140",
                                    "title": "Big Sur"
                                },
                                {
                                    "book_id": "50144",
                                    "title": "Kitchen"
                                },
                                {
                                    "book_id": "50275",
                                    "title": "Last Exit to Brooklyn"
                                },
                                {
                                    "book_id": "50398",
                                    "title": "Northanger Abbey"
                                },
                                {
                                    "book_id": "50930",
                                    "title": "The Mark (Left Behind, #8)"
                                },
                                {
                                    "book_id": "50937",
                                    "title": "First, Break All the Rules: What the World's Greatest Managers Do Differently"
                                },
                                {
                                    "book_id": "51078",
                                    "title": "Batman: Knightfall, Vol. 1: Broken Bat"
                                },
                                {
                                    "book_id": "51496",
                                    "title": "The Strange Case of Dr. Jekyll and Mr. Hyde"
                                },
                                {
                                    "book_id": "51497",
                                    "title": "The Strange Case of Dr. Jekyll and Mr. Hyde and Other Tales of Terror"
                                },
                                {
                                    "book_id": "51715",
                                    "title": "Mythologies"
                                },
                                {
                                    "book_id": "51799",
                                    "title": "The Decameron"
                                },
                                {
                                    "book_id": "51893",
                                    "title": "Thus Spoke Zarathustra"
                                },
                                {
                                    "book_id": "51985",
                                    "title": "Existentialism Is a Humanism"
                                },
                                {
                                    "book_id": "52036",
                                    "title": "Siddhartha"
                                },
                                {
                                    "book_id": "52309",
                                    "title": "The Autobiography of Benjamin Franklin"
                                },
                                {
                                    "book_id": "52357",
                                    "title": "Beowulf"
                                },
                                {
                                    "book_id": "52367",
                                    "title": "Batman: The Dark Knight Strikes Again (The Dark Knight Saga, #2)"
                                },
                                {
                                    "book_id": "52415",
                                    "title": "The Fifth Woman (Kurt Wallander, #6)"
                                },
                                {
                                    "book_id": "52588",
                                    "title": "Cunt: A Declaration of Independence"
                                },
                                {
                                    "book_id": "52783",
                                    "title": "Henderson the Rain King"
                                },
                                {
                                    "book_id": "52823",
                                    "title": "Tartuffe"
                                },
                                {
                                    "book_id": "53022",
                                    "title": "The Collected Poems of W.B. Yeats"
                                },
                                {
                                    "book_id": "53061",
                                    "title": "Death in Venice"
                                },
                                {
                                    "book_id": "53064",
                                    "title": "Death in Venice and Other Tales"
                                },
                                {
                                    "book_id": "53413",
                                    "title": "Hopscotch"
                                },
                                {
                                    "book_id": "53639",
                                    "title": "Zorba the Greek"
                                },
                                {
                                    "book_id": "53835",
                                    "title": "The Age of Innocence"
                                },
                                {
                                    "book_id": "53969",
                                    "title": "The Feast of the Goat"
                                },
                                {
                                    "book_id": "54120",
                                    "title": "The Double"
                                },
                                {
                                    "book_id": "54479",
                                    "title": "Around the World in Eighty Days"
                                },
                                {
                                    "book_id": "54499",
                                    "title": "The Man in the Iron Mask (The D'Artagnan Romances, #3.3)"
                                },
                                {
                                    "book_id": "54620",
                                    "title": "Mary Barton"
                                },
                                {
                                    "book_id": "55095",
                                    "title": "Live from New York: An Uncensored History of Saturday Night Live"
                                },
                                {
                                    "book_id": "56452",
                                    "title": "Now, Discover Your Strengths"
                                },
                                {
                                    "book_id": "56594",
                                    "title": "A Severe Mercy: A Story of Faith, Tragedy and Triumph"
                                },
                                {
                                    "book_id": "56759",
                                    "title": "The Mayor of Casterbridge"
                                },
                                {
                                    "book_id": "56913",
                                    "title": "Barefoot in Paris"
                                },
                                {
                                    "book_id": "57854",
                                    "title": "Tao Te Ching"
                                },
                                {
                                    "book_id": "57891",
                                    "title": "Battle Royale"
                                },
                                {
                                    "book_id": "57913",
                                    "title": "The Illuminatus! Trilogy"
                                },
                                {
                                    "book_id": "58027",
                                    "title": "Alias Grace"
                                },
                                {
                                    "book_id": "58033",
                                    "title": "Four Great Tragedies: Hamlet / Othello / King Lear / Macbeth"
                                },
                                {
                                    "book_id": "58314",
                                    "title": "The Elementary Particles"
                                },
                                {
                                    "book_id": "58696",
                                    "title": "David Copperfield"
                                },
                                {
                                    "book_id": "58728",
                                    "title": "Anne Frank's Tales from the Secret Annex"
                                },
                                {
                                    "book_id": "58922",
                                    "title": "The Runaway Bunny"
                                },
                                {
                                    "book_id": "59091",
                                    "title": "Tobacco Road (Brown Thrasher Books)"
                                },
                                {
                                    "book_id": "59142",
                                    "title": "Eugénie Grandet"
                                },
                                {
                                    "book_id": "59151",
                                    "title": "Chess Story"
                                },
                                {
                                    "book_id": "59219",
                                    "title": "The Talisman (The Talisman, #1)"
                                },
                                {
                                    "book_id": "59780",
                                    "title": "Cosmicomics"
                                },
                                {
                                    "book_id": "59952",
                                    "title": "300"
                                },
                                {
                                    "book_id": "59960",
                                    "title": "Batman: The Dark Knight Returns (The Dark Knight Saga, #1)"
                                },
                                {
                                    "book_id": "59980",
                                    "title": "Batman: Year One"
                                },
                                {
                                    "book_id": "60080",
                                    "title": "Groundwork of the Metaphysics of Morals"
                                },
                                {
                                    "book_id": "60792",
                                    "title": "The Accidental Tourist"
                                },
                                {
                                    "book_id": "61329",
                                    "title": "Crossing the Chasm: Marketing and Selling High-Tech Products to Mainstream Customers"
                                },
                                {
                                    "book_id": "61505",
                                    "title": "A Little History of the World"
                                },
                                {
                                    "book_id": "61549",
                                    "title": "Mr. Popper's Penguins"
                                },
                                {
                                    "book_id": "61663",
                                    "title": "Pale Blue Dot: A Vision of the Human Future in Space"
                                },
                                {
                                    "book_id": "61665",
                                    "title": "Billions & Billions: Thoughts on Life and Death at the Brink of the Millennium"
                                },
                                {
                                    "book_id": "61834",
                                    "title": "A Night to Remember"
                                },
                                {
                                    "book_id": "61975",
                                    "title": "Dragonflight (Dragonriders of Pern, #1)"
                                },
                                {
                                    "book_id": "62032",
                                    "title": "The 13½ Lives of Captain Bluebear (Zamonia, #1)"
                                },
                                {
                                    "book_id": "62103",
                                    "title": "The Complete Phantom of the Opera"
                                },
                                {
                                    "book_id": "62111",
                                    "title": "The Swiss Family Robinson  "
                                },
                                {
                                    "book_id": "62446",
                                    "title": "The Prince and the Pauper"
                                },
                                {
                                    "book_id": "63033",
                                    "title": "The Savage Detectives"
                                },
                                {
                                    "book_id": "64949",
                                    "title": "The Voice of the Night"
                                },
                                {
                                    "book_id": "64960",
                                    "title": "The Face of Fear"
                                },
                                {
                                    "book_id": "65110",
                                    "title": "The Penultimate Peril (A Series of Unfortunate Events, #12)"
                                },
                                {
                                    "book_id": "65111",
                                    "title": "The Grim Grotto (A Series of Unfortunate Events, #11)"
                                },
                                {
                                    "book_id": "65112",
                                    "title": "The End (A Series of Unfortunate Events, #13)"
                                },
                                {
                                    "book_id": "65113",
                                    "title": "A Series of Unfortunate Events Box: The Complete Wreck (Books 1-13)"
                                },
                                {
                                    "book_id": "65118",
                                    "title": "The Hostile Hospital (A Series of Unfortunate Events, #8)"
                                },
                                {
                                    "book_id": "65119",
                                    "title": "The Miserable Mill (A Series of Unfortunate Events, #4)"
                                },
                                {
                                    "book_id": "65217",
                                    "title": "The Five Chinese Brothers"
                                },
                                {
                                    "book_id": "65336",
                                    "title": "Selected Poems"
                                },
                                {
                                    "book_id": "65633",
                                    "title": "The Chronicles of Narnia - The Lion, the Witch, and the Wardrobe Official Illustrated Movie Companion"
                                },
                                {
                                    "book_id": "65641",
                                    "title": "The Silver Chair (Chronicles of Narnia, #4)"
                                },
                                {
                                    "book_id": "66370",
                                    "title": "Rage"
                                },
                                {
                                    "book_id": "66933",
                                    "title": "The Wretched of the Earth"
                                },
                                {
                                    "book_id": "67035",
                                    "title": "Relic (Pendergast, #1)"
                                },
                                {
                                    "book_id": "67657",
                                    "title": "The Lady & Sons Savannah Country Cookbook"
                                },
                                {
                                    "book_id": "67863",
                                    "title": "Animal-Speak: The Spiritual & Magical Powers of Creatures Great & Small"
                                },
                                {
                                    "book_id": "68378",
                                    "title": "Dragons of Spring Dawning (Dragonlance: Chronicles, #3)"
                                },
                                {
                                    "book_id": "68380",
                                    "title": "Dragonlance Chronicles (Dragonlance #1-3)"
                                },
                                {
                                    "book_id": "68591",
                                    "title": "Brida"
                                },
                                {
                                    "book_id": "68984",
                                    "title": "The Power of Your Subconscious Mind"
                                },
                                {
                                    "book_id": "68985",
                                    "title": "The Power of Full Engagement: Managing Energy, Not Time, Is the Key to High Performance and Personal Renewal"
                                },
                                {
                                    "book_id": "69242",
                                    "title": "Made to Stick: Why Some Ideas Survive and Others Die"
                                },
                                {
                                    "book_id": "70561",
                                    "title": "The Gulag Archipelago 1918-1956"
                                },
                                {
                                    "book_id": "71252",
                                    "title": "The Kindly Ones (The Sandman #9)"
                                },
                                {
                                    "book_id": "71292",
                                    "title": "Asterix the Gaul (Asterix, #1)"
                                },
                                {
                                    "book_id": "71728",
                                    "title": "Jonathan Livingston Seagull"
                                },
                                {
                                    "book_id": "72657",
                                    "title": "Pedagogy of the Oppressed"
                                },
                                {
                                    "book_id": "73945",
                                    "title": "Apology"
                                },
                                {
                                    "book_id": "73960",
                                    "title": "Lorna Doone"
                                },
                                {
                                    "book_id": "74034",
                                    "title": "Amusing Ourselves to Death: Public Discourse in the Age of Show Business"
                                },
                                {
                                    "book_id": "74256",
                                    "title": "Le Petit Nicolas (Le petit Nicolas, #1)"
                                },
                                {
                                    "book_id": "74532",
                                    "title": "George's Marvellous Medicine"
                                },
                                {
                                    "book_id": "74928",
                                    "title": "Hellsing, Vol. 01 (Hellsing, #1)"
                                },
                                {
                                    "book_id": "76104",
                                    "title": "The Exploits of Sherlock Holmes"
                                },
                                {
                                    "book_id": "76171",
                                    "title": "We"
                                },
                                {
                                    "book_id": "76237",
                                    "title": "The Further Adventures of Sherlock Holmes: After Sir Arthur Conan Doyle (Classic Crime)"
                                },
                                {
                                    "book_id": "76527",
                                    "title": "The Life and Opinions of Tristram Shandy, Gentleman"
                                },
                                {
                                    "book_id": "77298",
                                    "title": "Aunt Julia and the Scriptwriter"
                                },
                                {
                                    "book_id": "77727",
                                    "title": "Calvin and Hobbes"
                                },
                                {
                                    "book_id": "77767",
                                    "title": "Little House on the Prairie (Little House, #2)"
                                },
                                {
                                    "book_id": "77770",
                                    "title": "These Happy Golden Years (Little House, #8)"
                                },
                                {
                                    "book_id": "78411",
                                    "title": "The Bad Beginning (A Series of Unfortunate Events, #1)"
                                },
                                {
                                    "book_id": "78418",
                                    "title": "The Reptile Room (A Series of Unfortunate Events, #2)"
                                },
                                {
                                    "book_id": "78728",
                                    "title": "Ignorance"
                                },
                                {
                                    "book_id": "79421",
                                    "title": "The Heavenly Man: The Remarkable True Story of Chinese Christian Brother Yun"
                                },
                                {
                                    "book_id": "79422",
                                    "title": "Y: The Last Man, Vol. 8: Kimono Dragons (Y: The Last Man, #8)"
                                },
                                {
                                    "book_id": "79426",
                                    "title": "Y: The Last Man, Vol. 7: Paper Dolls (Y: The Last Man, #7)"
                                },
                                {
                                    "book_id": "79649",
                                    "title": "The Seagull"
                                },
                                {
                                    "book_id": "79705",
                                    "title": "Apollyon (Left Behind, #5)"
                                },
                                {
                                    "book_id": "80369",
                                    "title": "Discipline and Punish: The Birth of the Prison"
                                },
                                {
                                    "book_id": "80449",
                                    "title": "On the Genealogy of Morals"
                                },
                                {
                                    "book_id": "80890",
                                    "title": "Buddenbrooks: The Decline of a Family"
                                },
                                {
                                    "book_id": "81779",
                                    "title": "The Symposium"
                                },
                                {
                                    "book_id": "81922",
                                    "title": "Rich Dad's Cashflow Quadrant: Rich Dad's Guide to Financial Freedom"
                                },
                                {
                                    "book_id": "82397",
                                    "title": "Richard II"
                                },
                                {
                                    "book_id": "82991",
                                    "title": "Silence of the Grave (Inspector Erlendur #4)"
                                },
                                {
                                    "book_id": "83346",
                                    "title": "Through the Looking-Glass, and What Alice Found There"
                                },
                                {
                                    "book_id": "83369",
                                    "title": "The Mysterious Benedict Society (The Mysterious Benedict Society, #1)"
                                },
                                {
                                    "book_id": "84525",
                                    "title": "What Got You Here Won't Get You There: How Successful People Become Even More Successful"
                                },
                                {
                                    "book_id": "84552",
                                    "title": "Priestess of Avalon (Avalon, #4)"
                                },
                                {
                                    "book_id": "85679",
                                    "title": "Mother Courage and Her Children"
                                },
                                {
                                    "book_id": "85733",
                                    "title": "Beach Road"
                                },
                                {
                                    "book_id": "85957",
                                    "title": "Assassins (Left Behind, #6)"
                                },
                                {
                                    "book_id": "85958",
                                    "title": "The Indwelling (Left Behind, #7)"
                                },
                                {
                                    "book_id": "85987",
                                    "title": "Portrait in Sepia"
                                },
                                {
                                    "book_id": "86424",
                                    "title": "Lifeguard"
                                },
                                {
                                    "book_id": "87346",
                                    "title": "The Cherry Orchard"
                                },
                                {
                                    "book_id": "87424",
                                    "title": "Tintin in the Land of the Soviets (Tintin #1)"
                                },
                                {
                                    "book_id": "87425",
                                    "title": "Tintin in Tibet (Tintin, #20)"
                                },
                                {
                                    "book_id": "88077",
                                    "title": "The Magic Mountain"
                                },
                                {
                                    "book_id": "88442",
                                    "title": "Austerlitz"
                                },
                                {
                                    "book_id": "89160",
                                    "title": "Judgment in Death (In Death, #11)"
                                },
                                {
                                    "book_id": "89375",
                                    "title": "90 Minutes in Heaven: A True Story of Death and Life"
                                },
                                {
                                    "book_id": "89717",
                                    "title": "The Haunting of Hill House"
                                },
                                {
                                    "book_id": "89724",
                                    "title": "We Have Always Lived in the Castle"
                                },
                                {
                                    "book_id": "89755",
                                    "title": "Tangerine"
                                },
                                {
                                    "book_id": "90072",
                                    "title": "Dr. Seuss's Green Eggs and Ham: For Soprano, Boy Soprano, and Orchestra"
                                },
                                {
                                    "book_id": "90192",
                                    "title": "The House of the Seven Gables"
                                },
                                {
                                    "book_id": "91247",
                                    "title": "Ramona and Her Father (Ramona, #4)"
                                },
                                {
                                    "book_id": "91248",
                                    "title": "Ramona the Brave (Ramona, #3)"
                                },
                                {
                                    "book_id": "91571",
                                    "title": "Measure for Measure"
                                },
                                {
                                    "book_id": "91582",
                                    "title": "Lady Susan"
                                },
                                {
                                    "book_id": "91714",
                                    "title": "Civil War: A Marvel Comics Event"
                                },
                                {
                                    "book_id": "91760",
                                    "title": "The Diary of Frida Kahlo: An Intimate Self-Portrait"
                                },
                                {
                                    "book_id": "91953",
                                    "title": "Leviathan"
                                },
                                {
                                    "book_id": "92057",
                                    "title": "The Autobiography of Malcolm X"
                                },
                                {
                                    "book_id": "92308",
                                    "title": "The Importance of Being Earnest and Other Plays"
                                },
                                {
                                    "book_id": "92780",
                                    "title": "Cold Comfort Farm"
                                },
                                {
                                    "book_id": "93101",
                                    "title": "The Arabian Nights"
                                },
                                {
                                    "book_id": "93263",
                                    "title": "The Legend of Sleepy Hollow (Graphic Novel)"
                                },
                                {
                                    "book_id": "93276",
                                    "title": "King Arthur and His Knights: Selected Tales"
                                },
                                {
                                    "book_id": "93371",
                                    "title": "Akira, Vol. 1"
                                },
                                {
                                    "book_id": "93768",
                                    "title": "War of the Twins (Dragonlance: Legends, #2)"
                                },
                                {
                                    "book_id": "94486",
                                    "title": "The Invention of Morel"
                                },
                                {
                                    "book_id": "94510",
                                    "title": "100 Bullets, Vol. 1: First Shot, Last Call"
                                },
                                {
                                    "book_id": "94578",
                                    "title": "The Gay Science"
                                },
                                {
                                    "book_id": "95395",
                                    "title": "Preacher, Volume 4: Ancient History"
                                },
                                {
                                    "book_id": "95406",
                                    "title": "Preacher, Volume 2: Until the End of the World"
                                },
                                {
                                    "book_id": "95431",
                                    "title": "Preacher, Volume 1: Gone to Texas"
                                },
                                {
                                    "book_id": "95617",
                                    "title": "A Voice in the Wind (Mark of the Lion, #1)"
                                },
                                {
                                    "book_id": "95819",
                                    "title": "The Poetry of Robert Frost (Collected Poems, Complete & Unabridged)"
                                },
                                {
                                    "book_id": "96123",
                                    "title": "All the President's Men"
                                },
                                {
                                    "book_id": "96358",
                                    "title": "Batman: The Killing Joke"
                                },
                                {
                                    "book_id": "96593",
                                    "title": "The Success Principles: How to Get from Where You Are to Where You Want to Be"
                                },
                                {
                                    "book_id": "96647",
                                    "title": "Scar Tissue"
                                },
                                {
                                    "book_id": "97390",
                                    "title": "Горе от ума"
                                },
                                {
                                    "book_id": "99107",
                                    "title": "Winnie-the-Pooh (Winnie-the-Pooh, #1)"
                                },
                                {
                                    "book_id": "99110",
                                    "title": "The Complete Tales and Poems of Winnie-the-Pooh (Winnie-the-Pooh, #1-4)"
                                },
                                {
                                    "book_id": "99111",
                                    "title": "The World of Winnie-the-Pooh (Winnie-the-Pooh, #1-2)"
                                },
                                {
                                    "book_id": "99218",
                                    "title": "The Machine Crusade (Legends of Dune, #2)"
                                },
                                {
                                    "book_id": "99219",
                                    "title": "The Butlerian Jihad (Legends of Dune, #1)"
                                },
                                {
                                    "book_id": "99245",
                                    "title": "Nightfall"
                                },
                                {
                                    "book_id": "99296",
                                    "title": "Diary of a Worm"
                                },
                                {
                                    "book_id": "99298",
                                    "title": "The Harry Potter Collection 1-4 (Harry Potter, #1-4)"
                                },
                                {
                                    "book_id": "99329",
                                    "title": "The History of Tom Jones, a Foundling"
                                },
                                {
                                    "book_id": "99944",
                                    "title": "The Bhagavad Gita"
                                },
                                {
                                    "book_id": "99955",
                                    "title": "Common Sense, The Rights of Man and Other Essential Writings"
                                },
                                {
                                    "book_id": "100322",
                                    "title": "Assata: An Autobiography"
                                },
                                {
                                    "book_id": "100365",
                                    "title": "The Mote in God's Eye"
                                },
                                {
                                    "book_id": "101299",
                                    "title": "The Reader"
                                },
                                {
                                    "book_id": "102030",
                                    "title": "Musashi"
                                },
                                {
                                    "book_id": "102324",
                                    "title": "Swamp Thing, Vol. 1: Saga of the Swamp Thing"
                                },
                                {
                                    "book_id": "102458",
                                    "title": "Hellboy, Vol. 1: Seed of Destruction (Hellboy, #1)"
                                },
                                {
                                    "book_id": "102733",
                                    "title": "One Past Midnight: The Langoliers"
                                },
                                {
                                    "book_id": "102857",
                                    "title": "Born in Death (In Death, #23)"
                                },
                                {
                                    "book_id": "102953",
                                    "title": "Preacher, Volume 3: Proud Americans"
                                },
                                {
                                    "book_id": "102954",
                                    "title": "Preacher, Volume 7: Salvation"
                                },
                                {
                                    "book_id": "102955",
                                    "title": "Preacher, Volume 8: All Hell's a-Coming"
                                },
                                {
                                    "book_id": "102956",
                                    "title": "Preacher, Volume 5: Dixie Fried"
                                },
                                {
                                    "book_id": "102957",
                                    "title": "Preacher, Volume 6: War in the Sun"
                                },
                                {
                                    "book_id": "102958",
                                    "title": "Preacher, Volume 9: Alamo"
                                },
                                {
                                    "book_id": "103111",
                                    "title": "X-Men: The Dark Phoenix Saga"
                                },
                                {
                                    "book_id": "103342",
                                    "title": "Stolen Lives: Twenty Years in a Desert Jail"
                                },
                                {
                                    "book_id": "104159",
                                    "title": "Twilight Watch (Watch #3)"
                                },
                                {
                                    "book_id": "104160",
                                    "title": "Day Watch (Watch #2)"
                                },
                                {
                                    "book_id": "104189",
                                    "title": "Same Kind of Different as Me"
                                },
                                {
                                    "book_id": "104734",
                                    "title": "The Vagina Monologues"
                                },
                                {
                                    "book_id": "104837",
                                    "title": "Antony and Cleopatra"
                                },
                                {
                                    "book_id": "105189",
                                    "title": "The Story of a Shipwrecked Sailor"
                                },
                                {
                                    "book_id": "105703",
                                    "title": "Pride of Baghdad"
                                },
                                {
                                    "book_id": "105920",
                                    "title": "Ultimate Spider-Man, Volume 1: Power and Responsibility"
                                },
                                {
                                    "book_id": "105973",
                                    "title": "House of M"
                                },
                                {
                                    "book_id": "105992",
                                    "title": "Helter Skelter: The True Story of the Manson Murders"
                                },
                                {
                                    "book_id": "105999",
                                    "title": "Dear Mr. Henshaw (Leigh Botts, #1)"
                                },
                                {
                                    "book_id": "106069",
                                    "title": "Batman: The Long Halloween"
                                },
                                {
                                    "book_id": "106076",
                                    "title": "Batman: Dark Victory"
                                },
                                {
                                    "book_id": "106124",
                                    "title": "The Dragonslayer (Bone, #4)"
                                },
                                {
                                    "book_id": "106134",
                                    "title": "Out from Boneville (Bone, #1)"
                                },
                                {
                                    "book_id": "106835",
                                    "title": "The Intelligent Investor (Collins Business Essentials)"
                                },
                                {
                                    "book_id": "106859",
                                    "title": "Superman for All Seasons"
                                },
                                {
                                    "book_id": "107007",
                                    "title": "The League of Extraordinary Gentlemen, Vol. 2"
                                },
                                {
                                    "book_id": "107017",
                                    "title": "Batman: Hush, Vol. 1"
                                },
                                {
                                    "book_id": "107021",
                                    "title": "Batman: Hush, Vol. 2"
                                },
                                {
                                    "book_id": "107029",
                                    "title": "The Batman Chronicles, Vol. 1"
                                },
                                {
                                    "book_id": "107032",
                                    "title": "Batman: A Death in the Family"
                                },
                                {
                                    "book_id": "107172",
                                    "title": "DC: The New Frontier, Volume 1"
                                },
                                {
                                    "book_id": "109499",
                                    "title": "Lies Women Believe: And the Truth that Sets Them Free"
                                },
                                {
                                    "book_id": "110331",
                                    "title": "The Federalist Papers"
                                },
                                {
                                    "book_id": "110692",
                                    "title": "The Redemption of Althalus"
                                },
                                {
                                    "book_id": "110871",
                                    "title": "Thérèse Raquin"
                                },
                                {
                                    "book_id": "111450",
                                    "title": "Quidditch Through the Ages"
                                },
                                {
                                    "book_id": "112204",
                                    "title": "The Complete Poems of Emily Dickinson"
                                },
                                {
                                    "book_id": "112517",
                                    "title": "Rama Revealed (Rama, #4)"
                                },
                                {
                                    "book_id": "112518",
                                    "title": "The Garden of Rama (Rama, #3)"
                                },
                                {
                                    "book_id": "112520",
                                    "title": "Rama II (Rama, #2)"
                                },
                                {
                                    "book_id": "112879",
                                    "title": "Once Upon a Crime (The Sisters Grimm, #4)"
                                },
                                {
                                    "book_id": "113205",
                                    "title": "Heart of a Dog"
                                },
                                {
                                    "book_id": "113441",
                                    "title": "The Day of the Locust"
                                },
                                {
                                    "book_id": "113576",
                                    "title": "The Smartest Guys in the Room: The Amazing Rise and Scandalous Fall of Enron"
                                },
                                {
                                    "book_id": "113934",
                                    "title": "The Goal: A Process of Ongoing Improvement"
                                },
                                {
                                    "book_id": "114345",
                                    "title": "The Little House Collection (Little House, #1-9)"
                                },
                                {
                                    "book_id": "116020",
                                    "title": "Walden & Civil Disobedience"
                                },
                                {
                                    "book_id": "116295",
                                    "title": "Guards! Guards!: The Play"
                                },
                                {
                                    "book_id": "116356",
                                    "title": "Footfall"
                                },
                                {
                                    "book_id": "117251",
                                    "title": "Hamlet: Screenplay, Introduction And Film Diary"
                                },
                                {
                                    "book_id": "117833",
                                    "title": "The Master and Margarita"
                                },
                                {
                                    "book_id": "119073",
                                    "title": "The Name of the Rose"
                                },
                                {
                                    "book_id": "119091",
                                    "title": "Taltos (Lives of the Mayfair Witches, #3)"
                                },
                                {
                                    "book_id": "119239",
                                    "title": "Selected Poems"
                                },
                                {
                                    "book_id": "119247",
                                    "title": "The Great Brain (Great Brain #1)"
                                },
                                {
                                    "book_id": "120230",
                                    "title": "Barefoot Contessa at Home: Everyday Recipes You'll Make Over and Over Again"
                                },
                                {
                                    "book_id": "120231",
                                    "title": "Barefoot Contessa Family Style: Easy Ideas and Recipes That Make Everyone Feel Like Family"
                                },
                                {
                                    "book_id": "120253",
                                    "title": "Good Faeries/Bad Faeries"
                                },
                                {
                                    "book_id": "121581",
                                    "title": "The Past Through Tomorrow (Future History, #1-21)"
                                },
                                {
                                    "book_id": "122125",
                                    "title": "How Do Dinosaurs Say Good Night?"
                                },
                                {
                                    "book_id": "122756",
                                    "title": "My Brother Sam Is Dead"
                                },
                                {
                                    "book_id": "122967",
                                    "title": "The Ugly Duckling"
                                },
                                {
                                    "book_id": "123170",
                                    "title": "Big Red (Big Red, #1)"
                                },
                                {
                                    "book_id": "123632",
                                    "title": "Man and His Symbols"
                                },
                                {
                                    "book_id": "124272",
                                    "title": "The Wings of the Dove"
                                },
                                {
                                    "book_id": "124509",
                                    "title": "Smilla's Sense of Snow"
                                },
                                {
                                    "book_id": "124524",
                                    "title": "Joni: An Unforgettable Story"
                                },
                                {
                                    "book_id": "125507",
                                    "title": "The True Story of the 3 Little Pigs"
                                },
                                {
                                    "book_id": "126066",
                                    "title": "The Sacred Romance Drawing Closer To The Heart Of God"
                                },
                                {
                                    "book_id": "128066",
                                    "title": "The Pianist: The Extraordinary Story of One Man's Survival in Warsaw, 1939–45"
                                },
                                {
                                    "book_id": "128711",
                                    "title": "The Yacoubian Building"
                                },
                                {
                                    "book_id": "129650",
                                    "title": "Mastering the Art of French Cooking"
                                },
                                {
                                    "book_id": "129798",
                                    "title": "The King in Yellow and Other Horror Stories"
                                },
                                {
                                    "book_id": "130440",
                                    "title": "Doctor Zhivago"
                                },
                                {
                                    "book_id": "131123",
                                    "title": "The Austere Academy (A Series of Unfortunate Events, #5)"
                                },
                                {
                                    "book_id": "132152",
                                    "title": "Streams in the Desert"
                                },
                                {
                                    "book_id": "132391",
                                    "title": "The Little Mermaid"
                                },
                                {
                                    "book_id": "132626",
                                    "title": "On the Genealogy of Morals/Ecce Homo"
                                },
                                {
                                    "book_id": "133017",
                                    "title": "Hellblazer: Original Sins"
                                },
                                {
                                    "book_id": "133765",
                                    "title": "Those Left Behind (Serenity, #1)"
                                },
                                {
                                    "book_id": "133767",
                                    "title": "Glorious Appearing: The End of Days (Left Behind, #12)"
                                },
                                {
                                    "book_id": "133954",
                                    "title": "Washington Square"
                                },
                                {
                                    "book_id": "134360",
                                    "title": "Diane Arbus: Monograph"
                                },
                                {
                                    "book_id": "136251",
                                    "title": "Harry Potter and the Deathly Hallows (Harry Potter, #7)"
                                },
                                {
                                    "book_id": "136636",
                                    "title": "Thunderhead"
                                },
                                {
                                    "book_id": "136637",
                                    "title": "Brimstone (Pendergast, #5; Diogenes, #1)"
                                },
                                {
                                    "book_id": "136638",
                                    "title": "Dance of Death (Pendergast, #6; Diogenes, #2)"
                                },
                                {
                                    "book_id": "136642",
                                    "title": "The Ice Limit (Ice Limit #1)"
                                },
                                {
                                    "book_id": "137894",
                                    "title": "Batman: No Man's Land, Vol. 1"
                                },
                                {
                                    "book_id": "138269",
                                    "title": "Catch Me If You Can: The True Story of a Real Fake"
                                },
                                {
                                    "book_id": "138395",
                                    "title": "The Walking Dead, Vol. 06: This Sorrowful Life"
                                },
                                {
                                    "book_id": "138396",
                                    "title": "The Walking Dead, Vol. 02: Miles Behind Us"
                                },
                                {
                                    "book_id": "138397",
                                    "title": "The Walking Dead, Vol. 04: The Heart's Desire"
                                },
                                {
                                    "book_id": "138398",
                                    "title": "The Walking Dead, Vol. 01: Days Gone Bye"
                                },
                                {
                                    "book_id": "138399",
                                    "title": "The Walking Dead, Book Two (The Walking Dead #13-24)"
                                },
                                {
                                    "book_id": "138959",
                                    "title": "Stuart Little"
                                },
                                {
                                    "book_id": "139004",
                                    "title": "Essays and Poems"
                                },
                                {
                                    "book_id": "140131",
                                    "title": "The Three Little Pigs (Disney Classic)"
                                },
                                {
                                    "book_id": "140225",
                                    "title": "The Voyage of the Dawn Treader (Chronicles of Narnia, #3)"
                                },
                                {
                                    "book_id": "140345",
                                    "title": "Absent In The Spring"
                                },
                                {
                                    "book_id": "141077",
                                    "title": "The Kreutzer Sonata"
                                },
                                {
                                    "book_id": "141935",
                                    "title": "Curious George Visits the Library"
                                },
                                {
                                    "book_id": "142108",
                                    "title": "Rich Dad's Guide to Investing: What the Rich Invest in That the Poor and Middle Class Do Not!"
                                },
                                {
                                    "book_id": "142395",
                                    "title": "Samarkand"
                                },
                                {
                                    "book_id": "143534",
                                    "title": "The Gift of the Magi"
                                },
                                {
                                    "book_id": "144974",
                                    "title": "The Velveteen Rabbit"
                                },
                                {
                                    "book_id": "147732",
                                    "title": "Miss Nelson Is Missing! (Miss Nelson, #1)"
                                },
                                {
                                    "book_id": "148337",
                                    "title": "Where Eagles Dare "
                                },
                                {
                                    "book_id": "149196",
                                    "title": "Eva Luna"
                                },
                                {
                                    "book_id": "149267",
                                    "title": "The Stand"
                                },
                                {
                                    "book_id": "149847",
                                    "title": "Mort: The Play"
                                },
                                {
                                    "book_id": "150037",
                                    "title": "The Vile Village (A Series of Unfortunate Events, #7)"
                                },
                                {
                                    "book_id": "150739",
                                    "title": "Dealing with Dragons (Enchanted Forest Chronicles, #1)"
                                },
                                {
                                    "book_id": "152380",
                                    "title": "Mary Poppins (Mary Poppins, #1)"
                                },
                                {
                                    "book_id": "153136",
                                    "title": "The Cake Bible"
                                },
                                {
                                    "book_id": "153747",
                                    "title": "Moby-Dick or, The Whale"
                                },
                                {
                                    "book_id": "154795",
                                    "title": "The Death of Superman"
                                },
                                {
                                    "book_id": "154798",
                                    "title": "Superman: Red Son"
                                },
                                {
                                    "book_id": "155106",
                                    "title": "Amelia Bedelia and the Surprise Shower"
                                },
                                {
                                    "book_id": "155712",
                                    "title": "Mrs. Mike (Mrs. Mike, #1)"
                                },
                                {
                                    "book_id": "156529",
                                    "title": "Y: The Last Man, Vol. 6: Girl on Girl (Y: The Last Man, #6)"
                                },
                                {
                                    "book_id": "156530",
                                    "title": "Y: The Last Man, Vol. 3: One Small Step (Y: The Last Man, #3)"
                                },
                                {
                                    "book_id": "156532",
                                    "title": "Y: The Last Man, Vol. 9: Motherland (Y: The Last Man, #9)"
                                },
                                {
                                    "book_id": "156533",
                                    "title": "Y: The Last Man, Vol. 5: Ring of Truth (Y: The Last Man, #5)"
                                },
                                {
                                    "book_id": "156534",
                                    "title": "Y: The Last Man, Vol. 1: Unmanned"
                                },
                                {
                                    "book_id": "156538",
                                    "title": "North and South"
                                },
                                {
                                    "book_id": "157993",
                                    "title": "The Little Prince"
                                },
                                {
                                    "book_id": "158516",
                                    "title": "The Twelve Chairs"
                                },
                                {
                                    "book_id": "158944",
                                    "title": "The Fannie Farmer Cookbook: Anniversary"
                                },
                                {
                                    "book_id": "158988",
                                    "title": "Fables, Vol. 9: Sons of Empire"
                                },
                                {
                                    "book_id": "159418",
                                    "title": "Discourse on Method"
                                },
                                {
                                    "book_id": "159964",
                                    "title": "The Dhammapada"
                                },
                                {
                                    "book_id": "160149",
                                    "title": "The Call of Cthulhu and Other Weird Stories"
                                },
                                {
                                    "book_id": "160629",
                                    "title": "A Bear Called Paddington (Paddington, #1)"
                                },
                                {
                                    "book_id": "160848",
                                    "title": "Wanted"
                                },
                                {
                                    "book_id": "161275",
                                    "title": "Superman: Whatever Happened to the Man of Tomorrow?"
                                },
                                {
                                    "book_id": "161415",
                                    "title": "See You at the Top"
                                },
                                {
                                    "book_id": "161656",
                                    "title": "The Tail of Emily Windsnap (Emily Windsnap, #1)"
                                },
                                {
                                    "book_id": "162332",
                                    "title": "The Sailor Who Fell from Grace with the Sea"
                                },
                                {
                                    "book_id": "164542",
                                    "title": "My Friend Flicka (Flicka, #1)"
                                },
                                {
                                    "book_id": "165053",
                                    "title": "Graffiti World: Street Art from Five Continents"
                                },
                                {
                                    "book_id": "166580",
                                    "title": "The Sandman: The Dream Hunters"
                                },
                                {
                                    "book_id": "166997",
                                    "title": "Stoner"
                                },
                                {
                                    "book_id": "167010",
                                    "title": "Fables, Vol. 2: Animal Farm"
                                },
                                {
                                    "book_id": "169848",
                                    "title": "A Christmas Carol, The Chimes and The Cricket on the Hearth"
                                },
                                {
                                    "book_id": "169871",
                                    "title": "Talking to Dragons (Enchanted Forest Chronicles, #4)"
                                },
                                {
                                    "book_id": "169875",
                                    "title": "Searching for Dragons (Enchanted Forest Chronicles, #2)"
                                },
                                {
                                    "book_id": "169879",
                                    "title": "Calling on Dragons (Enchanted Forest Chronicles, #3)"
                                },
                                {
                                    "book_id": "172327",
                                    "title": "The Ersatz Elevator (A Series of Unfortunate Events, #6)"
                                },
                                {
                                    "book_id": "172732",
                                    "title": "The Motorcycle Diaries: Notes on a Latin American Journey"
                                },
                                {
                                    "book_id": "173526",
                                    "title": "The Ragamuffin Gospel: Good News for the Bedraggled, Beat-Up, and Burnt Out"
                                },
                                {
                                    "book_id": "174703",
                                    "title": "What to Expect When You're Expecting"
                                },
                                {
                                    "book_id": "174879",
                                    "title": "On Becoming a Person: A Therapist's View of Psychotherapy"
                                },
                                {
                                    "book_id": "175078",
                                    "title": "The Seven Storey Mountain"
                                },
                                {
                                    "book_id": "176326",
                                    "title": "The Problem Child (The Sisters Grimm, #3)"
                                },
                                {
                                    "book_id": "176327",
                                    "title": "The Fairy-Tale Detectives (The Sisters Grimm, #1)"
                                },
                                {
                                    "book_id": "176892",
                                    "title": "The Elvenbane (Halfblood Chronicles, #1)"
                                },
                                {
                                    "book_id": "178788",
                                    "title": "The China Study: The Most Comprehensive Study of Nutrition Ever Conducted And the Startling Implications for Diet, Weight Loss, And Long-term Health"
                                },
                                {
                                    "book_id": "179142",
                                    "title": "All My Sons"
                                },
                                {
                                    "book_id": "179565",
                                    "title": "The Marvelous Land of Oz (Oz, #2)"
                                },
                                {
                                    "book_id": "180116",
                                    "title": "Awaken the Giant Within: How to Take Immediate Control of Your Mental, Emotional, Physical and Financial Destiny!"
                                },
                                {
                                    "book_id": "180617",
                                    "title": "Pinocchio"
                                },
                                {
                                    "book_id": "181077",
                                    "title": "Sadako and the Thousand Paper Cranes"
                                },
                                {
                                    "book_id": "181400",
                                    "title": "The Tale of Three Trees"
                                },
                                {
                                    "book_id": "181601",
                                    "title": "If You Give a Pig a Party"
                                },
                                {
                                    "book_id": "181886",
                                    "title": "Ancestors of Avalon (Avalon, #5)"
                                },
                                {
                                    "book_id": "184040",
                                    "title": "Y: The Last Man, Vol. 4: Safeword (Y: The Last Man, #4)"
                                },
                                {
                                    "book_id": "184419",
                                    "title": "The Man Who Was Thursday: A Nightmare"
                                },
                                {
                                    "book_id": "184644",
                                    "title": "Baking: From My Home to Yours"
                                },
                                {
                                    "book_id": "187633",
                                    "title": "Art and Fear: Observations on the Perils (and Rewards) of Artmaking"
                                },
                                {
                                    "book_id": "189182",
                                    "title": "The Story About Ping"
                                },
                                {
                                    "book_id": "189802",
                                    "title": "Belgarath the Sorcerer"
                                },
                                {
                                    "book_id": "191170",
                                    "title": "Giggle, Giggle, Quack"
                                },
                                {
                                    "book_id": "192510",
                                    "title": "درخت زیبای من"
                                },
                                {
                                    "book_id": "193755",
                                    "title": "The Diving Bell and the Butterfly"
                                },
                                {
                                    "book_id": "194479",
                                    "title": "Crisis on Infinite Earths"
                                },
                                {
                                    "book_id": "194755",
                                    "title": "Esio Trot"
                                },
                                {
                                    "book_id": "196613",
                                    "title": "Skinny Bitch"
                                },
                                {
                                    "book_id": "196970",
                                    "title": "The Night Before Christmas"
                                },
                                {
                                    "book_id": "198511",
                                    "title": "Dear Theo"
                                },
                                {
                                    "book_id": "200963",
                                    "title": "Meet Samantha: An American Girl (American Girls: Samantha, #1)"
                                },
                                {
                                    "book_id": "201126",
                                    "title": "We're Going on a Bear Hunt"
                                },
                                {
                                    "book_id": "201138",
                                    "title": "The Berenstain Bears and Too Much TV"
                                },
                                {
                                    "book_id": "201145",
                                    "title": "A Kiss for Little Bear (An I Can Read Book) by Minarik, Else Holmelund [1984]"
                                },
                                {
                                    "book_id": "201146",
                                    "title": "Little Bear"
                                },
                                {
                                    "book_id": "201175",
                                    "title": "Rapture in Death (In Death, #4)"
                                },
                                {
                                    "book_id": "203220",
                                    "title": "Les Fleurs du Mal"
                                },
                                {
                                    "book_id": "203805",
                                    "title": "Vincent Van Gogh: The Complete Paintings"
                                },
                                {
                                    "book_id": "204041",
                                    "title": "Naruto, Vol. 11: Impassioned Efforts (Naruto, #11)"
                                },
                                {
                                    "book_id": "204042",
                                    "title": "Naruto, Vol. 01: The Tests of the Ninja (Naruto, #1)"
                                },
                                {
                                    "book_id": "205218",
                                    "title": "Ethics"
                                },
                                {
                                    "book_id": "205476",
                                    "title": "Our Town"
                                },
                                {
                                    "book_id": "206309",
                                    "title": "Fish: A Proven Way to Boost Morale and Improve Results"
                                },
                                {
                                    "book_id": "206731",
                                    "title": "The Tibetan Book of Living and Dying"
                                },
                                {
                                    "book_id": "207781",
                                    "title": "The Art Spirit: Notes, Articles, Fragments of Letters and Talks to Students, Bearing on the Concept and Technique of Picture Making, the Study of Art (Icon Editions)"
                                },
                                {
                                    "book_id": "208036",
                                    "title": "Metaphysics"
                                },
                                {
                                    "book_id": "209631",
                                    "title": "Cinderella"
                                },
                                {
                                    "book_id": "209966",
                                    "title": "Planetary, Volume 1: All Over the World and Other Stories"
                                },
                                {
                                    "book_id": "210834",
                                    "title": "Kim"
                                },
                                {
                                    "book_id": "212525",
                                    "title": "Ethan Frome and Other Short Fiction"
                                },
                                {
                                    "book_id": "213975",
                                    "title": "Witness in Death (In Death, #10)"
                                },
                                {
                                    "book_id": "217376",
                                    "title": "The Wallflower, Vol. 1 (The Wallflower, #1)"
                                },
                                {
                                    "book_id": "218467",
                                    "title": "Lucifer's Hammer"
                                },
                                {
                                    "book_id": "218659",
                                    "title": "Everything That Rises Must Converge: Stories"
                                },
                                {
                                    "book_id": "219499",
                                    "title": "The Strange Case of Dr. Jekyll and Mr. Hyde and Other Stories "
                                },
                                {
                                    "book_id": "224410",
                                    "title": "Dracula (Marvel Illustrated)"
                                },
                                {
                                    "book_id": "225038",
                                    "title": "Half Magic (Tales of Magic, #1)"
                                },
                                {
                                    "book_id": "226378",
                                    "title": "A Hero of Our Time"
                                },
                                {
                                    "book_id": "227570",
                                    "title": "Lady Cottington's Pressed Fairy Book"
                                },
                                {
                                    "book_id": "228063",
                                    "title": "xxxHolic, Vol. 1 (xxxHOLiC, #1)"
                                },
                                {
                                    "book_id": "228220",
                                    "title": "The House of Thunder"
                                },
                                {
                                    "book_id": "228221",
                                    "title": "The Mask"
                                },
                                {
                                    "book_id": "228258",
                                    "title": "Tribulation Force (Left Behind, #2)"
                                },
                                {
                                    "book_id": "228261",
                                    "title": "Soul Harvest: The World Takes Sides (Left Behind, #4)"
                                },
                                {
                                    "book_id": "228333",
                                    "title": "The Nanny Diaries (Nanny, #1)"
                                },
                                {
                                    "book_id": "228630",
                                    "title": "Black Boy"
                                },
                                {
                                    "book_id": "228696",
                                    "title": "Owl Moon"
                                },
                                {
                                    "book_id": "229145",
                                    "title": "Cardcaptor Sakura, Vol. 1 (Cardcaptor Sakura, #1)"
                                },
                                {
                                    "book_id": "229149",
                                    "title": "Cardcaptor Sakura: Master of the Clow, Vol. 1 (Cardcaptor Sakura, #7)"
                                },
                                {
                                    "book_id": "232109",
                                    "title": "The Mouse and the Motorcycle (Ralph S. Mouse, #1)"
                                },
                                {
                                    "book_id": "232958",
                                    "title": "I Love You Through and Through"
                                },
                                {
                                    "book_id": "233389",
                                    "title": "The Lives of the Artists"
                                },
                                {
                                    "book_id": "233637",
                                    "title": "The Hidden Staircase (Nancy Drew #2)"
                                },
                                {
                                    "book_id": "236093",
                                    "title": "The Wonderful Wizard of Oz (Oz, #1)"
                                },
                                {
                                    "book_id": "240130",
                                    "title": "The Paper Bag Princess"
                                },
                                {
                                    "book_id": "240976",
                                    "title": "The Book of Laughter and Forgetting"
                                },
                                {
                                    "book_id": "244383",
                                    "title": "Ask and It Is Given: Learning to Manifest Your Desires"
                                },
                                {
                                    "book_id": "245700",
                                    "title": "The Art of Amy Brown"
                                },
                                {
                                    "book_id": "246468",
                                    "title": "The Jordan Rules"
                                },
                                {
                                    "book_id": "248484",
                                    "title": "Book of a Thousand Days"
                                },
                                {
                                    "book_id": "248871",
                                    "title": "Berserk, Vol. 1 (Berserk, #1)"
                                },
                                {
                                    "book_id": "253058",
                                    "title": "Temple of the Winds (Sword of Truth, #4)"
                                },
                                {
                                    "book_id": "253264",
                                    "title": "Inherit the Wind"
                                },
                                {
                                    "book_id": "254308",
                                    "title": "Oblomov"
                                },
                                {
                                    "book_id": "6690979",
                                    "title": "Black Butler, Vol. 1 (Black Butler, #1)"
                                },
                                {
                                    "book_id": "6694937",
                                    "title": "Game Change: Obama and the Clintons, McCain and Palin, and the Race of a Lifetime"
                                },
                                {
                                    "book_id": "6713071",
                                    "title": "Last Words"
                                },
                                {
                                    "book_id": "6723348",
                                    "title": "The Fall (The Strain Trilogy, #2)"
                                },
                                {
                                    "book_id": "6732019",
                                    "title": "Rework"
                                },
                                {
                                    "book_id": "6735082",
                                    "title": "Bakuman, Band 1: Traum und Realität"
                                },
                                {
                                    "book_id": "6781956",
                                    "title": "Savor the Moment (Bride Quartet, #3)"
                                },
                                {
                                    "book_id": "6801652",
                                    "title": "Vampire Knight, Vol. 9"
                                },
                                {
                                    "book_id": "6818019",
                                    "title": "I Am Nujood, Age 10 and Divorced"
                                },
                                {
                                    "book_id": "6839093",
                                    "title": "Chew, Vol. 1: Taster's Choice"
                                },
                                {
                                    "book_id": "6867952",
                                    "title": "Black Butler, Vol. 2 (Black Butler, #2)"
                                },
                                {
                                    "book_id": "6871646",
                                    "title": "Pete the Cat: I Love My White Shoes"
                                },
                                {
                                    "book_id": "6892870",
                                    "title": "The Girl Who Kicked the Hornet's Nest (Millennium, #3)"
                                },
                                {
                                    "book_id": "6907672",
                                    "title": "The Talisman (Volume 1): The Road of Trials"
                                },
                                {
                                    "book_id": "6911529",
                                    "title": "Batwoman: Elegy"
                                },
                                {
                                    "book_id": "6917952",
                                    "title": "Burned (House of Night, #7)"
                                },
                                {
                                    "book_id": "6922622",
                                    "title": "Going Rogue: An American Life"
                                },
                                {
                                    "book_id": "6945530",
                                    "title": "The Night Eternal (The Strain Trilogy, #3)"
                                },
                                {
                                    "book_id": "6952423",
                                    "title": "I Am Ozzy"
                                },
                                {
                                    "book_id": "6954438",
                                    "title": "Sweet Tooth, Volume 1: Out of the Deep Woods"
                                },
                                {
                                    "book_id": "6987558",
                                    "title": "Don't Blink"
                                },
                                {
                                    "book_id": "7005479",
                                    "title": "Island Beneath the Sea"
                                },
                                {
                                    "book_id": "7006562",
                                    "title": "Stephen King's N."
                                },
                                {
                                    "book_id": "7011879",
                                    "title": "Of Course I Love You...! Till I Find Someone Better..."
                                },
                                {
                                    "book_id": "7025086",
                                    "title": "Ender's Game, Volume 2: Command School"
                                },
                                {
                                    "book_id": "7058405",
                                    "title": "The Ice Princess (Patrik Hedström, #1)"
                                },
                                {
                                    "book_id": "7090785",
                                    "title": "Dawn of the Dreadfuls (Pride and Prejudice and Zombies, #0.5)"
                                },
                                {
                                    "book_id": "7091713",
                                    "title": "Kiss of Death (The Morganville Vampires, #8)"
                                },
                                {
                                    "book_id": "7099273",
                                    "title": "The Other Wes Moore: One Name, Two Fates"
                                },
                                {
                                    "book_id": "7122034",
                                    "title": "Fever Dream (Pendergast, #10)"
                                },
                                {
                                    "book_id": "7128341",
                                    "title": "The Prince of Mist (Niebla, #1)"
                                },
                                {
                                    "book_id": "7134201",
                                    "title": "The Postcard Killers"
                                },
                                {
                                    "book_id": "7134202",
                                    "title": "Private (Private, #1)"
                                },
                                {
                                    "book_id": "7144426",
                                    "title": "The Bourne Objective (Jason Bourne, #8)"
                                },
                                {
                                    "book_id": "7156505",
                                    "title": "The 9th Judgment  (Women's Murder Club, #9)"
                                },
                                {
                                    "book_id": "7202841",
                                    "title": "Locke & Key, Vol. 3: Crown of Shadows"
                                },
                                {
                                    "book_id": "7268995",
                                    "title": "A Sick Day for Amos McGee"
                                },
                                {
                                    "book_id": "7274337",
                                    "title": "The Invisible Bridge"
                                },
                                {
                                    "book_id": "7355137",
                                    "title": "Darke (Septimus Heap, #6)"
                                },
                                {
                                    "book_id": "7469664",
                                    "title": "The Walking Dead, Vol. 12: Life Among Them"
                                },
                                {
                                    "book_id": "7505716",
                                    "title": "Alice's Adventures in Wonderland & Other Stories"
                                },
                                {
                                    "book_id": "7557548",
                                    "title": "Men at Arms: The Play"
                                },
                                {
                                    "book_id": "7619292",
                                    "title": "Twilight: The Graphic Novel, Vol. 1 (Twilight: The Graphic Novel, #1)"
                                },
                                {
                                    "book_id": "7619398",
                                    "title": "American Vampire, Vol. 1"
                                },
                                {
                                    "book_id": "7640261",
                                    "title": "Sex at Dawn: The Prehistoric Origins of Modern Sexuality"
                                },
                                {
                                    "book_id": "7640705",
                                    "title": "The Ring of Solomon (Bartimaeus, #0.5)"
                                },
                                {
                                    "book_id": "7646805",
                                    "title": "The Gift (Witch & Wizard, #2)"
                                },
                                {
                                    "book_id": "7657484",
                                    "title": "Superman: Earth One, Volume 1"
                                },
                                {
                                    "book_id": "7717482",
                                    "title": "1Q84 BOOK 3 (1Q84, #3)"
                                },
                                {
                                    "book_id": "7723797",
                                    "title": "Business Model Generation"
                                },
                                {
                                    "book_id": "7726143",
                                    "title": "Origins (The Vampire Diaries: Stefan's Diaries, #1)"
                                },
                                {
                                    "book_id": "7736086",
                                    "title": "The Lightning Thief: The Graphic Novel (Percy Jackson and the Olympians, #1)"
                                },
                                {
                                    "book_id": "7741325",
                                    "title": "Dash & Lily's Book of Dares (Dash & Lily, #1)"
                                },
                                {
                                    "book_id": "7743175",
                                    "title": "A Memory of Light (Wheel of Time, #14)"
                                },
                                {
                                    "book_id": "7746259",
                                    "title": "The Stand: Soul Survivors"
                                },
                                {
                                    "book_id": "7783191",
                                    "title": "The Invisible Gorilla: And Other Ways Our Intuitions Deceive Us"
                                },
                                {
                                    "book_id": "7800188",
                                    "title": "Virals (Virals, #1)"
                                },
                                {
                                    "book_id": "7822895",
                                    "title": "The Millennium Trilogy (Millennium Trilogy, #1-3)"
                                },
                                {
                                    "book_id": "7824997",
                                    "title": "Theodore Boone: Kid Lawyer (Theodore Boone, #1)"
                                },
                                {
                                    "book_id": "7826116",
                                    "title": "Behemoth (Leviathan, #2)"
                                },
                                {
                                    "book_id": "7842288",
                                    "title": "Beautiful Darkness (Caster Chronicles, #2)"
                                },
                                {
                                    "book_id": "7857195",
                                    "title": "Squirrel Seeks Chipmunk: A Modest Bestiary"
                                },
                                {
                                    "book_id": "7870457",
                                    "title": "Chew, Vol. 2: International Flavor"
                                },
                                {
                                    "book_id": "7894870",
                                    "title": "Bone: Tall Tales"
                                },
                                {
                                    "book_id": "7905977",
                                    "title": "The Adventures of Ook and Gluk, Kung-Fu Cavemen from the Future"
                                },
                                {
                                    "book_id": "7926569",
                                    "title": "Now You See Her"
                                },
                                {
                                    "book_id": "7930335",
                                    "title": "Beautiful Redemption (Caster Chronicles, #4)"
                                },
                                {
                                    "book_id": "7933292",
                                    "title": "Heaven is for Real: A Little Boy's Astounding Story of His Trip to Heaven and Back"
                                },
                                {
                                    "book_id": "7933615",
                                    "title": "Hidden (House of Night, #10)"
                                },
                                {
                                    "book_id": "7933617",
                                    "title": "Destined (House of Night, #9)"
                                },
                                {
                                    "book_id": "7997069",
                                    "title": "Dead or Alive (Jack Ryan Universe, #13)"
                                },
                                {
                                    "book_id": "8044557",
                                    "title": "All My Friends Are Dead"
                                },
                                {
                                    "book_id": "8046680",
                                    "title": "The Girl Who Was on Fire: Your Favorite Authors on Suzanne Collins' Hunger Games Trilogy"
                                },
                                {
                                    "book_id": "8100288",
                                    "title": "The Boy Who Came Back from Heaven: A Remarkable Account of Miracles, Angels, and Life beyond This World"
                                },
                                {
                                    "book_id": "8110748",
                                    "title": "キスよりも早く1 [Kisu Yorimo Hayaku 1] (Faster than a Kiss #1)"
                                },
                                {
                                    "book_id": "8163722",
                                    "title": "Earth (The Book): A Visitor's Guide to the Human Race"
                                },
                                {
                                    "book_id": "8230409",
                                    "title": "Kamisama Kiss, Vol. 1"
                                },
                                {
                                    "book_id": "8239301",
                                    "title": "الطنطورية"
                                },
                                {
                                    "book_id": "8253920",
                                    "title": "Towers of Midnight (Wheel of Time, #13)"
                                },
                                {
                                    "book_id": "8257435",
                                    "title": "Hector and the Search for Happiness"
                                },
                                {
                                    "book_id": "8286216",
                                    "title": "Gideon's Sword (Gideon Crew, #1)"
                                },
                                {
                                    "book_id": "8315872",
                                    "title": "Treachery in Death (In Death, #32)"
                                },
                                {
                                    "book_id": "8320534",
                                    "title": "Raymond E. Feist's Magician Master"
                                },
                                {
                                    "book_id": "8346300",
                                    "title": "Harry Potter: A Pop-Up Book: Based on the Film Phenomenon"
                                },
                                {
                                    "book_id": "8437913",
                                    "title": "Tick Tock (Michael Bennett, #4)"
                                },
                                {
                                    "book_id": "8456124",
                                    "title": "Bloodlust (The Vampire Diaries: Stefan's Diaries, #2)"
                                },
                                {
                                    "book_id": "8477057",
                                    "title": "Daytripper"
                                },
                                {
                                    "book_id": "8520362",
                                    "title": "The Grand Design"
                                },
                                {
                                    "book_id": "8574333",
                                    "title": "Please Look After Mom"
                                },
                                {
                                    "book_id": "8621462",
                                    "title": "A Monster Calls"
                                },
                                {
                                    "book_id": "8643220",
                                    "title": "Vampire Academy: The Graphic Novel (Vampire Academy: The Graphic Novel, #1)"
                                },
                                {
                                    "book_id": "8652190",
                                    "title": "Awakened (House of Night, #8)"
                                },
                                {
                                    "book_id": "8686068",
                                    "title": "The Devotion of Suspect X"
                                },
                                {
                                    "book_id": "8724779",
                                    "title": "Marked / Betrayed / Chosen / Untamed / Hunted (House of Night #1-5)"
                                },
                                {
                                    "book_id": "8755555",
                                    "title": "The Troubled Man (Kurt Wallander, #10)"
                                },
                                {
                                    "book_id": "8765461",
                                    "title": "Choosing to SEE"
                                },
                                {
                                    "book_id": "8835379",
                                    "title": "Ruby Red (Precious Stone Trilogy, #1)"
                                },
                                {
                                    "book_id": "8835897",
                                    "title": "Defiance (Strange Angels, #4)"
                                },
                                {
                                    "book_id": "9018370",
                                    "title": "The Walking Dead, Vol. 13: Too Far Gone"
                                },
                                {
                                    "book_id": "9151181",
                                    "title": "Onward: How Starbucks Fought for Its Life without Losing Its Soul"
                                },
                                {
                                    "book_id": "9349915",
                                    "title": "Red Riding Hood"
                                },
                                {
                                    "book_id": "9366879",
                                    "title": "Bone: Quest for the Spark, Vol. 1"
                                },
                                {
                                    "book_id": "9436746",
                                    "title": "10th Anniversary (Women's Murder Club, #10)"
                                },
                                {
                                    "book_id": "9440324",
                                    "title": "The Midnight Palace (Niebla, #2)"
                                },
                                {
                                    "book_id": "9443405",
                                    "title": "The Pale King"
                                },
                                {
                                    "book_id": "9465845",
                                    "title": "Vespers Rising (The 39 Clues, #11)"
                                },
                                {
                                    "book_id": "9476510",
                                    "title": "Those Guys Have All the Fun: Inside the World of ESPN"
                                },
                                {
                                    "book_id": "9489502",
                                    "title": "Cold Vengeance (Pendergast, #11)"
                                },
                                {
                                    "book_id": "9496240",
                                    "title": "The Hangman's Daughter (The Hangman's Daughter, #1)"
                                },
                                {
                                    "book_id": "9572203",
                                    "title": "The Snowman (Harry Hole, #7)"
                                },
                                {
                                    "book_id": "9583508",
                                    "title": "Smokin' Seventeen (Stephanie Plum, #17)"
                                },
                                {
                                    "book_id": "9591398",
                                    "title": "The Girl Who Circumnavigated Fairyland in a Ship of Her Own Making (Fairyland, #1)"
                                },
                                {
                                    "book_id": "9606002",
                                    "title": "The Preacher (Patrik Hedström, #2)"
                                },
                                {
                                    "book_id": "9666241",
                                    "title": "النبطي"
                                },
                                {
                                    "book_id": "9670094",
                                    "title": "Through My Eyes"
                                },
                                {
                                    "book_id": "9674335",
                                    "title": "Locke & Key, Vol. 4: Keys to the Kingdom"
                                },
                                {
                                    "book_id": "9677870",
                                    "title": "Press Here"
                                },
                                {
                                    "book_id": "9682816",
                                    "title": "Kill Me If You Can"
                                },
                                {
                                    "book_id": "9739365",
                                    "title": "SEAL Team Six: Memoirs of an Elite Navy SEAL Sniper"
                                },
                                {
                                    "book_id": "9798177",
                                    "title": "Middle School: The Worst Years of My Life (Midde School, #1)"
                                },
                                {
                                    "book_id": "9835731",
                                    "title": "The Hypnotist (Joona Linna, #1)"
                                },
                                {
                                    "book_id": "9850443",
                                    "title": "The Sisters Brothers"
                                },
                                {
                                    "book_id": "9876989",
                                    "title": "Blue Exorcist, Vol. 1  (Blue Exorcist, #1)"
                                },
                                {
                                    "book_id": "9902804",
                                    "title": "Lies That Chelsea Handler Told Me"
                                },
                                {
                                    "book_id": "9918083",
                                    "title": "Goliath (Leviathan, #3)"
                                },
                                {
                                    "book_id": "10256723",
                                    "title": "Ghost in the Wires: My Adventures as the World's Most Wanted Hacker"
                                },
                                {
                                    "book_id": "10305231",
                                    "title": "The Next Always (Inn BoonsBoro, #1)"
                                },
                                {
                                    "book_id": "10314376",
                                    "title": "The Prague Cemetery"
                                },
                                {
                                    "book_id": "10324808",
                                    "title": "Dragon's Oath (House of Night Novellas, #1)"
                                },
                                {
                                    "book_id": "10357575",
                                    "title": "1Q84"
                                },
                                {
                                    "book_id": "10399742",
                                    "title": "Private London (Private #4)"
                                },
                                {
                                    "book_id": "10402992",
                                    "title": "New York to Dallas (In Death, #33)"
                                },
                                {
                                    "book_id": "10431447",
                                    "title": "Wildwood (Wildwood Chronicles, #1)"
                                },
                                {
                                    "book_id": "10450750",
                                    "title": "Avatar: The Last Airbender: The Lost Adventures"
                                },
                                {
                                    "book_id": "10508526",
                                    "title": "The Chronicles of Harris Burdick: 14 Amazing Authors Tell the Tales"
                                },
                                {
                                    "book_id": "10518110",
                                    "title": "The Bite Before Christmas (Argeneau, #15.5; Night Huntress, #6.5)"
                                },
                                {
                                    "book_id": "10587120",
                                    "title": "Killing Lincoln: The Shocking Assassination that Changed America Forever"
                                },
                                {
                                    "book_id": "10594929",
                                    "title": "Out of Oz (The Wicked Years, #4)"
                                },
                                {
                                    "book_id": "10604115",
                                    "title": "Happy Accidents: A Memoir"
                                },
                                {
                                    "book_id": "10661081",
                                    "title": "Vampire Academy: The Ultimate Guide (Vampire Academy)"
                                },
                                {
                                    "book_id": "10677213",
                                    "title": "Van Gogh: The Life"
                                },
                                {
                                    "book_id": "10710392",
                                    "title": "Chopsticks"
                                },
                                {
                                    "book_id": "10757833",
                                    "title": "Beautiful Chaos (Caster Chronicles, #3)"
                                },
                                {
                                    "book_id": "10776592",
                                    "title": "The Boy in the Suitcase (Nina Borg, #1)"
                                },
                                {
                                    "book_id": "10778410",
                                    "title": "The Fire (Witch & Wizard, #3)"
                                },
                                {
                                    "book_id": "10790276",
                                    "title": "Courageous"
                                },
                                {
                                    "book_id": "10798418",
                                    "title": "Why We Broke Up"
                                },
                                {
                                    "book_id": "10808006",
                                    "title": "Private #1 Suspect (Private, #2)"
                                },
                                {
                                    "book_id": "10822174",
                                    "title": "The Walking Dead, Vol. 14: No Way Out"
                                },
                                {
                                    "book_id": "10822858",
                                    "title": "The Keeper of Lost Causes (Department Q, #1)"
                                },
                                {
                                    "book_id": "10830444",
                                    "title": "Guilty Wives"
                                },
                                {
                                    "book_id": "10836813",
                                    "title": "The Time in Between"
                                },
                                {
                                    "book_id": "10844125",
                                    "title": "The Christmas Wedding"
                                },
                                {
                                    "book_id": "10868182",
                                    "title": "The Hidden Child (Patrik Hedström, #5)"
                                },
                                {
                                    "book_id": "10869746",
                                    "title": "Rise of the Governor (The Walking Dead #1)"
                                },
                                {
                                    "book_id": "10889279",
                                    "title": "Batman: The Black Mirror"
                                },
                                {
                                    "book_id": "10931321",
                                    "title": "Against All Enemies (Max Moore, #1)"
                                },
                                {
                                    "book_id": "10959277",
                                    "title": "The Future of Us"
                                },
                                {
                                    "book_id": "11104933",
                                    "title": "Willpower: Rediscovering the Greatest Human Strength"
                                },
                                {
                                    "book_id": "11166889",
                                    "title": "The Funhouse"
                                },
                                {
                                    "book_id": "11192642",
                                    "title": "Go the Fuck to Sleep"
                                },
                                {
                                    "book_id": "11256979",
                                    "title": "The Magic of Reality: How We Know What's Really True"
                                },
                                {
                                    "book_id": "11266880",
                                    "title": "It Chooses You"
                                },
                                {
                                    "book_id": "11281852",
                                    "title": "Kisses from Katie: A Story of Relentless Love and Redemption"
                                },
                                {
                                    "book_id": "11331421",
                                    "title": "The Art of Hearing Heartbeats"
                                },
                                {
                                    "book_id": "11337189",
                                    "title": "A Universe from Nothing: Why There Is Something Rather Than Nothing"
                                },
                                {
                                    "book_id": "11343348",
                                    "title": "Private Games (Private #3)"
                                },
                                {
                                    "book_id": "11389341",
                                    "title": "The Meaning of Marriage: Facing the Complexities of Commitment with the Wisdom of God"
                                },
                                {
                                    "book_id": "11401915",
                                    "title": "The Ripper (The Vampire Diaries: Stefan's Diaries, #4)"
                                },
                                {
                                    "book_id": "11450360",
                                    "title": "Twilight: The Graphic Novel, Vol. 2  (Twilight: The Graphic Novel, #2)"
                                },
                                {
                                    "book_id": "11551045",
                                    "title": "Lenobia's Vow (House of Night Novellas, #2)"
                                },
                                {
                                    "book_id": "11568316",
                                    "title": "Dream Dark (Caster Chronicles, #2.5)"
                                },
                                {
                                    "book_id": "11594337",
                                    "title": "The One and Only Ivan"
                                },
                                {
                                    "book_id": "11607446",
                                    "title": "The Wishing Spell (The Land of Stories, #1)"
                                },
                                {
                                    "book_id": "11660590",
                                    "title": "Micro"
                                },
                                {
                                    "book_id": "11777020",
                                    "title": "Headhunters"
                                },
                                {
                                    "book_id": "11784281",
                                    "title": "Take This Regret (Take This Regret, #1)"
                                },
                                {
                                    "book_id": "11872242",
                                    "title": "11th Hour (Women's Murder Club, #11)"
                                },
                                {
                                    "book_id": "11887020",
                                    "title": "American Sniper: The Autobiography of the Most Lethal Sniper in U.S. Military History"
                                },
                                {
                                    "book_id": "11995136",
                                    "title": "محال"
                                },
                                {
                                    "book_id": "12065943",
                                    "title": "Extra Yarn (E. B. White Read-Aloud Award. Picture Books)"
                                },
                                {
                                    "book_id": "12099007",
                                    "title": "The Last Boyfriend (Inn BoonsBoro, #2)"
                                },
                                {
                                    "book_id": "12158480",
                                    "title": "Why Nations Fail: The Origins of Power, Prosperity, and Poverty"
                                },
                                {
                                    "book_id": "12204857",
                                    "title": "Ghost Boy"
                                },
                                {
                                    "book_id": "12254379",
                                    "title": "1Q84 #1-2 (1Q84, #1-2)"
                                },
                                {
                                    "book_id": "12283261",
                                    "title": "Between the Lines (Between the Lines, #1)"
                                },
                                {
                                    "book_id": "12326644",
                                    "title": "The Kingmaker's Daughter (The Plantagenet and Tudor Novels, #4)"
                                },
                                {
                                    "book_id": "12341557",
                                    "title": "The Wind Through the Keyhole (The Dark Tower, #4.5)"
                                },
                                {
                                    "book_id": "12360050",
                                    "title": "The Dark Monk (The Hangman's Daughter, #2)"
                                },
                                {
                                    "book_id": "12413836",
                                    "title": "Avatar: The Last Airbender (The Promise, #1)"
                                },
                                {
                                    "book_id": "12475019",
                                    "title": "Some Assembly Required: A Journal of My Son's First Son"
                                },
                                {
                                    "book_id": "12675109",
                                    "title": "Great by Choice: Uncertainty, Chaos, and Luck--Why Some Thrive Despite Them All"
                                },
                                {
                                    "book_id": "12687461",
                                    "title": "Locked On (Jack Ryan Universe, #14)"
                                },
                                {
                                    "book_id": "12791521",
                                    "title": "Batman: Earth One, Volume 1"
                                },
                                {
                                    "book_id": "12902549",
                                    "title": "An Invisible Thread: The True Story of an 11-Year-Old Panhandler, a Busy Sales Executive, and an Unlikely Meeting with Destiny"
                                },
                                {
                                    "book_id": "12954620",
                                    "title": "Falling Kingdoms (Falling Kingdoms, #1)"
                                },
                                {
                                    "book_id": "12959086",
                                    "title": "The Demigod Diaries"
                                },
                                {
                                    "book_id": "12962439",
                                    "title": "A Game of Thrones: The Graphic Novel, Vol. 1"
                                },
                                {
                                    "book_id": "13037558",
                                    "title": "I, Michael Bennett (Michael Bennett, #5)"
                                },
                                {
                                    "book_id": "13096848",
                                    "title": "Avatar: The Last Airbender (The Promise, #2)"
                                },
                                {
                                    "book_id": "13105527",
                                    "title": "I Wrote This For You"
                                },
                                {
                                    "book_id": "13129925",
                                    "title": "Horrorstör"
                                },
                                {
                                    "book_id": "13138635",
                                    "title": "These Broken Stars (Starbound, #1)"
                                },
                                {
                                    "book_id": "13147230",
                                    "title": "The Long Earth (The Long Earth, #1)"
                                },
                                {
                                    "book_id": "13151129",
                                    "title": "Earth Unaware (The First Formic War, #1)"
                                },
                                {
                                    "book_id": "13152287",
                                    "title": "Bringing Up Bébé: One American Mother Discovers the Wisdom of French Parenting"
                                },
                                {
                                    "book_id": "13154150",
                                    "title": "Attack on Titan, Vol. 1 (Attack on Titan, #1)"
                                },
                                {
                                    "book_id": "13193855",
                                    "title": "It Starts with Food: Discover the Whole30 and Change Your Life in Unexpected Ways"
                                },
                                {
                                    "book_id": "13202092",
                                    "title": "Eat and Run: My Unlikely Journey to Ultramarathon Greatness"
                                },
                                {
                                    "book_id": "13223349",
                                    "title": "Batman, Volume 1: The Court of Owls"
                                },
                                {
                                    "book_id": "13226173",
                                    "title": "The Infernal Devices: Clockwork Angel (The Infernal Devices: Manga, #1)"
                                },
                                {
                                    "book_id": "13227319",
                                    "title": "Wonder Woman, Volume 1: Blood"
                                },
                                {
                                    "book_id": "13230263",
                                    "title": "Mrs. Kennedy and Me: An Intimate Memoir"
                                },
                                {
                                    "book_id": "13256064",
                                    "title": "Phantom (Harry Hole, #9)"
                                },
                                {
                                    "book_id": "13353667",
                                    "title": "Zoo"
                                },
                                {
                                    "book_id": "13359067",
                                    "title": "A Wanted Man (Jack Reacher, #17)"
                                },
                                {
                                    "book_id": "13406425",
                                    "title": "Burn for Burn (Burn for Burn, #1)"
                                },
                                {
                                    "book_id": "13414599",
                                    "title": "Happier at Home: Kiss More, Jump More, Abandon a Project, Read Samuel Johnson, and My Other Experiments in the Practice of Everyday Life"
                                },
                                {
                                    "book_id": "13425570",
                                    "title": "How Will You Measure Your Life?"
                                },
                                {
                                    "book_id": "13436373",
                                    "title": "Drama"
                                },
                                {
                                    "book_id": "13477819",
                                    "title": "Who Could That Be at This Hour? (All the Wrong Questions, #1)"
                                },
                                {
                                    "book_id": "13486632",
                                    "title": "The Hundred-Year-Old Man Who Climbed Out of the Window and Disappeared"
                                },
                                {
                                    "book_id": "13490570",
                                    "title": "Locke & Key, Vol. 5: Clockworks"
                                },
                                {
                                    "book_id": "13505130",
                                    "title": "The Absent One (Department Q, #2)"
                                },
                                {
                                    "book_id": "13507011",
                                    "title": "Low Pressure"
                                },
                                {
                                    "book_id": "13513205",
                                    "title": "A Wrinkle in Time: The Graphic Novel"
                                },
                                {
                                    "book_id": "13521399",
                                    "title": "Confessions of a Murder Suspect (Confessions, #1)"
                                },
                                {
                                    "book_id": "13538641",
                                    "title": "Killing Kennedy: The End of Camelot"
                                },
                                {
                                    "book_id": "13554713",
                                    "title": "Fairy Tales from the Brothers Grimm: A New English Version"
                                },
                                {
                                    "book_id": "13568619",
                                    "title": "The Shadowhunter's Codex"
                                },
                                {
                                    "book_id": "13580846",
                                    "title": "My Life with the Walter Boys (My Life with the Walter Boys #1)"
                                },
                                {
                                    "book_id": "13586707",
                                    "title": "My Brilliant Friend (The Neapolitan Novels #1)"
                                },
                                {
                                    "book_id": "13614836",
                                    "title": "Tempting the Best Man (Gamble Brothers, #1)"
                                },
                                {
                                    "book_id": "13637412",
                                    "title": "ساق البامبو"
                                },
                                {
                                    "book_id": "13638125",
                                    "title": "Vicious (Villains, #1)"
                                },
                                {
                                    "book_id": "13722526",
                                    "title": "The Nightmare (Joona Linna, #2)"
                                },
                                {
                                    "book_id": "14744381",
                                    "title": "The Walking Dead, Compendium 2"
                                },
                                {
                                    "book_id": "14781219",
                                    "title": "Private Berlin (Private #5)"
                                },
                                {
                                    "book_id": "14781501",
                                    "title": "NYPD Red (NYPD Red, #1)"
                                },
                                {
                                    "book_id": "14889780",
                                    "title": "Two Graves (Pendergast, #12)"
                                },
                                {
                                    "book_id": "15704307",
                                    "title": "Saga, Vol. 1 (Saga, #1)"
                                },
                                {
                                    "book_id": "15734464",
                                    "title": "12th of Never (Women's Murder Club, #12)"
                                },
                                {
                                    "book_id": "15752115",
                                    "title": "Batman, Volume 2: The City of Owls"
                                },
                                {
                                    "book_id": "15776904",
                                    "title": "The Beggar King (The Hangman's Daughter, #3)"
                                },
                                {
                                    "book_id": "15791403",
                                    "title": "Mistress"
                                },
                                {
                                    "book_id": "15797938",
                                    "title": "The Dinner"
                                },
                                {
                                    "book_id": "15799936",
                                    "title": "How to Tell If Your Cat Is Plotting to Kill You"
                                },
                                {
                                    "book_id": "15808816",
                                    "title": "A Higher Call: An Incredible True Story of Combat and Chivalry in the War-Torn Skies of World War II"
                                },
                                {
                                    "book_id": "15814872",
                                    "title": "No Easy Day: The Firsthand Account of the Mission That Killed Osama Bin Laden"
                                },
                                {
                                    "book_id": "15818164",
                                    "title": "The Blood Gospel (The Order of the Sanguines, #1)"
                                },
                                {
                                    "book_id": "15823426",
                                    "title": "The Secret Race: Inside the Hidden World of the Tour de France: Doping, Cover-ups, and Winning at All Costs"
                                },
                                {
                                    "book_id": "15823480",
                                    "title": "Anna Karenina"
                                },
                                {
                                    "book_id": "15827066",
                                    "title": "Beyond Belief: My Secret Life Inside Scientology and My Harrowing Escape"
                                },
                                {
                                    "book_id": "15944406",
                                    "title": "Doll Bones"
                                },
                                {
                                    "book_id": "15985392",
                                    "title": "Threat Vector (Jack Ryan Universe, #15)"
                                },
                                {
                                    "book_id": "16000044",
                                    "title": "Rebel Spring (Falling Kingdoms, #2)"
                                },
                                {
                                    "book_id": "16002136",
                                    "title": "Hawkeye, Volume 1: My Life as a Weapon"
                                },
                                {
                                    "book_id": "16031679",
                                    "title": "Tempting the Player (Gamble Brothers, #2)"
                                },
                                {
                                    "book_id": "16052012",
                                    "title": "Flora and Ulysses: The Illuminated Adventures"
                                },
                                {
                                    "book_id": "16054811",
                                    "title": "Manuscript Found in Accra"
                                },
                                {
                                    "book_id": "16071764",
                                    "title": "Lean In: Women, Work, and the Will to Lead"
                                },
                                {
                                    "book_id": "16074758",
                                    "title": "Dangerous Girls"
                                },
                                {
                                    "book_id": "16081961",
                                    "title": "الأسود يليق بك"
                                },
                                {
                                    "book_id": "16096873",
                                    "title": "Revealed (House of Night, #11)"
                                },
                                {
                                    "book_id": "16101018",
                                    "title": "The Day the Crayons Quit"
                                },
                                {
                                    "book_id": "16113737",
                                    "title": "The Reason I Jump: The Inner Voice of a Thirteen-Year-Old Boy with Autism"
                                },
                                {
                                    "book_id": "16122034",
                                    "title": "Frigid (Frigid, #1)"
                                },
                                {
                                    "book_id": "16131072",
                                    "title": "Second Honeymoon (Honeymoon, #2)"
                                },
                                {
                                    "book_id": "16136599",
                                    "title": "Redeemed (House of Night, #12)"
                                },
                                {
                                    "book_id": "16148398",
                                    "title": "Saga #1"
                                },
                                {
                                    "book_id": "16160797",
                                    "title": "The Cuckoo's Calling (Cormoran Strike, #1)"
                                },
                                {
                                    "book_id": "16164271",
                                    "title": "Locke & Key, Vol. 6: Alpha & Omega"
                                },
                                {
                                    "book_id": "16169737",
                                    "title": "The Heist (Fox and O'Hare, #1)"
                                },
                                {
                                    "book_id": "16171259",
                                    "title": "The Sound of Things Falling"
                                },
                                {
                                    "book_id": "16248114",
                                    "title": "Maya's Notebook"
                                },
                                {
                                    "book_id": "16256798",
                                    "title": "The One Thing: The Surprisingly Simple Truth Behind Extraordinary Results"
                                },
                                {
                                    "book_id": "16277248",
                                    "title": "Avatar: The Last Airbender (The Search, #1)"
                                },
                                {
                                    "book_id": "16303287",
                                    "title": "The Bane Chronicles"
                                },
                                {
                                    "book_id": "17131869",
                                    "title": "Saga, Vol. 2 (Saga, #2)"
                                },
                                {
                                    "book_id": "17159011",
                                    "title": "White Fire (Pendergast, #13)"
                                },
                                {
                                    "book_id": "17167572",
                                    "title": "The Long War (The Long Earth, #2)"
                                },
                                {
                                    "book_id": "17200687",
                                    "title": "Rule (Marked Men, #1)"
                                },
                                {
                                    "book_id": "17255186",
                                    "title": "The Phoenix Project: A Novel About IT, DevOps, and Helping Your Business Win"
                                },
                                {
                                    "book_id": "17277800",
                                    "title": "Hawkeye, Volume 2: Little Hits"
                                },
                                {
                                    "book_id": "17286958",
                                    "title": "Killing Jesus: A History"
                                },
                                {
                                    "book_id": "17287028",
                                    "title": "My Story"
                                },
                                {
                                    "book_id": "17314430",
                                    "title": "Wait for You (Wait for You, #1)"
                                },
                                {
                                    "book_id": "17331349",
                                    "title": "Think Like a Freak"
                                },
                                {
                                    "book_id": "17333279",
                                    "title": "Gone (Michael Bennett, #6)"
                                },
                                {
                                    "book_id": "17333302",
                                    "title": "Grain Brain: The Surprising Truth about Wheat, Carbs,  and Sugar--Your Brain's Silent Killers"
                                },
                                {
                                    "book_id": "17334079",
                                    "title": "What Really Happened in Peru (The Bane Chronicles, #1)"
                                },
                                {
                                    "book_id": "17342700",
                                    "title": "Gathering Darkness (Falling Kingdoms, #3)"
                                },
                                {
                                    "book_id": "17345242",
                                    "title": "The World of Ice & Fire: The Untold History of Westeros and the Game of Thrones"
                                },
                                {
                                    "book_id": "17346698",
                                    "title": "March: Book One (March, #1)"
                                },
                                {
                                    "book_id": "17349203",
                                    "title": "Fortunately, the Milk"
                                },
                                {
                                    "book_id": "17455541",
                                    "title": "Happy, Happy, Happy"
                                },
                                {
                                    "book_id": "17465515",
                                    "title": "The Story of a New Name (The Neapolitan Novels #2)"
                                },
                                {
                                    "book_id": "17524166",
                                    "title": "نادي السيارات"
                                },
                                {
                                    "book_id": "17558817",
                                    "title": "Be with Me (Wait for You, #2)"
                                },
                                {
                                    "book_id": "17570105",
                                    "title": "The Survivor (Mitch Rapp, #14)"
                                },
                                {
                                    "book_id": "17671913",
                                    "title": "Batman, Volume 3: Death of the Family"
                                },
                                {
                                    "book_id": "17673271",
                                    "title": "Si-cology 1: Tales and Wisdom from Duck Dynasty’s Favorite Uncle"
                                },
                                {
                                    "book_id": "17675031",
                                    "title": "This Star Won't Go Out: The Life and Words of Esther Grace Earl"
                                },
                                {
                                    "book_id": "17704903",
                                    "title": "Empty Mansions: The Mysterious Life of Huguette Clark and the Spending of a Great American Fortune"
                                },
                                {
                                    "book_id": "17707603",
                                    "title": "George Washington's Secret Six: The Spy Ring That Saved the American Revolution"
                                },
                                {
                                    "book_id": "17722973",
                                    "title": "The Enchantress Returns (The Land of Stories, #2)"
                                },
                                {
                                    "book_id": "17798233",
                                    "title": "Rome (Marked Men, #3)"
                                },
                                {
                                    "book_id": "17851885",
                                    "title": "I Am Malala: The Story of the Girl Who Stood Up for Education and Was Shot by the Taliban"
                                },
                                {
                                    "book_id": "17860217",
                                    "title": "Trust in Me (Wait for You, #1.5)"
                                },
                                {
                                    "book_id": "17860739",
                                    "title": "S."
                                },
                                {
                                    "book_id": "17899392",
                                    "title": "First Love"
                                },
                                {
                                    "book_id": "17903381",
                                    "title": "Diary ng Panget"
                                },
                                {
                                    "book_id": "18039755",
                                    "title": "حوجن [Ḥawjan]"
                                },
                                {
                                    "book_id": "18039963",
                                    "title": "A House in the Sky"
                                },
                                {
                                    "book_id": "18045473",
                                    "title": "Last Train to Istanbul"
                                },
                                {
                                    "book_id": "18050143",
                                    "title": "Zero to One: Notes on Startups, or How to Build the Future"
                                },
                                {
                                    "book_id": "18077903",
                                    "title": "Creativity, Inc.: Overcoming the Unseen Forces That Stand in the Way of True Inspiration"
                                },
                                {
                                    "book_id": "18090150",
                                    "title": "Ripper"
                                },
                                {
                                    "book_id": "18129852",
                                    "title": "Rival (Fall Away, #2)"
                                },
                                {
                                    "book_id": "18142329",
                                    "title": "Police (Harry Hole, #10)"
                                },
                                {
                                    "book_id": "18143968",
                                    "title": "I've Got You Under My Skin (Under Suspicion, #1)"
                                },
                                {
                                    "book_id": "18170134",
                                    "title": "NYPD Red 2 (NYPD Red, #2)"
                                },
                                {
                                    "book_id": "18209454",
                                    "title": "The Thousand-Dollar Tan Line (Veronica Mars, #1)"
                                },
                                {
                                    "book_id": "18214414",
                                    "title": "The Silkworm (Cormoran Strike, #2)"
                                },
                                {
                                    "book_id": "18282915",
                                    "title": "The Chase (Fox and O'Hare, #2)"
                                },
                                {
                                    "book_id": "18310944",
                                    "title": "The Sandman: Overture"
                                },
                                {
                                    "book_id": "18337259",
                                    "title": "A Game of Thrones: Comic Book, Issue 1"
                                },
                                {
                                    "book_id": "18342283",
                                    "title": "Command Authority (Jack Ryan Universe, #16)"
                                },
                                {
                                    "book_id": "18373214",
                                    "title": "Cockroaches (Harry Hole, #2)"
                                },
                                {
                                    "book_id": "18453095",
                                    "title": "Unlucky 13 (Women’s Murder Club, #13)"
                                },
                                {
                                    "book_id": "18460392",
                                    "title": "All the Bright Places"
                                },
                                {
                                    "book_id": "18465566",
                                    "title": "This One Summer"
                                },
                                {
                                    "book_id": "18630542",
                                    "title": "Seconds"
                                },
                                {
                                    "book_id": "18635622",
                                    "title": "A Knight of the Seven Kingdoms (The Tales of Dunk and Egg, #1-3)"
                                },
                                {
                                    "book_id": "18656055",
                                    "title": "Invisible"
                                },
                                {
                                    "book_id": "18667307",
                                    "title": "Tokyo Ghoul, tome 1 (Tokyo Ghoul, #1)"
                                },
                                {
                                    "book_id": "18687079",
                                    "title": "Avatar: The Last Airbender (The Rift, #1)"
                                },
                                {
                                    "book_id": "18692431",
                                    "title": "Everything, Everything"
                                },
                                {
                                    "book_id": "18736925",
                                    "title": "Capital in the Twenty-First Century"
                                },
                                {
                                    "book_id": "18774964",
                                    "title": "A Man Called Ove"
                                },
                                {
                                    "book_id": "19101283",
                                    "title": "The Son"
                                },
                                {
                                    "book_id": "19138879",
                                    "title": "Attack on Titan: No Regrets, Volume 01"
                                },
                                {
                                    "book_id": "19156898",
                                    "title": "The Fourteenth Goldfish"
                                },
                                {
                                    "book_id": "19288239",
                                    "title": "Colorless Tsukuru Tazaki and His Years of Pilgrimage"
                                },
                                {
                                    "book_id": "19351490",
                                    "title": "Grimm's Fairy Tales"
                                },
                                {
                                    "book_id": "19358975",
                                    "title": "Saga, Vol. 3 (Saga, #3)"
                                },
                                {
                                    "book_id": "19501672",
                                    "title": "Stay with Me (Wait for You, #3)"
                                },
                                {
                                    "book_id": "19536001",
                                    "title": "Sex Criminals, Vol. 1: One Weird Trick"
                                },
                                {
                                    "book_id": "19747756",
                                    "title": "House"
                                },
                                {
                                    "book_id": "20168816",
                                    "title": "Rogues"
                                },
                                {
                                    "book_id": "20170296",
                                    "title": "Neil Patrick Harris: Choose Your Own Autobiography"
                                },
                                {
                                    "book_id": "20257122",
                                    "title": "Finding Me: A Decade of Darkness, a Life Reclaimed - A Memoir of the Cleveland Kidnappings"
                                },
                                {
                                    "book_id": "20299683",
                                    "title": "Rat Queens, Vol. 1: Sass & Sorcery"
                                },
                                {
                                    "book_id": "20309175",
                                    "title": "My True Love Gave to Me: Twelve Holiday Stories"
                                },
                                {
                                    "book_id": "20318201",
                                    "title": "Burn (Michael Bennett, #7)"
                                },
                                {
                                    "book_id": "20510241",
                                    "title": "The Calling (Endgame, #1)"
                                },
                                {
                                    "book_id": "20518872",
                                    "title": "The Three-Body Problem (Remembrance of Earth’s Past, #1)"
                                },
                                {
                                    "book_id": "20575446",
                                    "title": "In Real Life"
                                },
                                {
                                    "book_id": "20578940",
                                    "title": "The Iron Trial (Magisterium, #1)"
                                },
                                {
                                    "book_id": "20588698",
                                    "title": "Not That Kind of Girl: A Young Woman Tells You What She's \"Learned\""
                                },
                                {
                                    "book_id": "20701984",
                                    "title": "El Deafo"
                                },
                                {
                                    "book_id": "20706320",
                                    "title": "A Grimm Warning (The Land of Stories, #3)"
                                },
                                {
                                    "book_id": "20764879",
                                    "title": "A Gathering of Shadows (Shades of Magic, #2)"
                                },
                                {
                                    "book_id": "20803962",
                                    "title": "Until You (Fall Away, #1.5)"
                                },
                                {
                                    "book_id": "20829994",
                                    "title": "Percy Jackson's Greek Gods (A Percy Jackson and the Olympians Guide)"
                                },
                                {
                                    "book_id": "20886354",
                                    "title": "Skin Deep (Legion, #2)"
                                },
                                {
                                    "book_id": "20898019",
                                    "title": "Ms. Marvel, Vol. 1: No Normal"
                                },
                                {
                                    "book_id": "20912424",
                                    "title": "The War that Saved My Life (The War That Saved My Life #1)"
                                },
                                {
                                    "book_id": "20980959",
                                    "title": "Blue Labyrinth (Pendergast, #14)"
                                },
                                {
                                    "book_id": "21094993",
                                    "title": "The Girl Who Saved the King of Sweden"
                                },
                                {
                                    "book_id": "21412202",
                                    "title": "As You Wish: Inconceivable Tales from the Making of The Princess Bride"
                                },
                                {
                                    "book_id": "21433251",
                                    "title": "Manga Classics: Les Misérables"
                                },
                                {
                                    "book_id": "21437200",
                                    "title": "Mr. Kiss and Tell (Veronica Mars, #2)"
                                },
                                {
                                    "book_id": "21530229",
                                    "title": "The Job (Fox and O'Hare, #3)"
                                },
                                {
                                    "book_id": "21535271",
                                    "title": "The Slow Regard of Silent Things (The Kingkiller Chronicle #2.5)"
                                },
                                {
                                    "book_id": "21535784",
                                    "title": "The Cinderella Murder (Under Suspicion, #2)"
                                },
                                {
                                    "book_id": "21981841",
                                    "title": "Corrupt (Devil's Night, #1)"
                                },
                                {
                                    "book_id": "22055262",
                                    "title": "A Darker Shade of Magic (Shades of Magic, #1)"
                                },
                                {
                                    "book_id": "22296542",
                                    "title": "Addicted to You (Addicted, #1)"
                                },
                                {
                                    "book_id": "22318578",
                                    "title": "The Life-Changing Magic of Tidying Up: The Japanese Art of Decluttering and Organizing"
                                },
                                {
                                    "book_id": "22381892",
                                    "title": "Killing Patton: The Strange Death of World War II's Most Audacious General"
                                },
                                {
                                    "book_id": "22428828",
                                    "title": "Welcome to Shadowhunter Academy (Tales from the Shadowhunter Academy, #1)"
                                },
                                {
                                    "book_id": "22510983",
                                    "title": "Girl Online (Girl Online, #1)"
                                },
                                {
                                    "book_id": "22554204",
                                    "title": "Lumberjanes, Vol. 1: Beware the Kitten Holy"
                                },
                                {
                                    "book_id": "22674493",
                                    "title": "NYPD Red 3 (NYPD Red, #3)"
                                },
                                {
                                    "book_id": "22840421",
                                    "title": "My Lady Jane (The Lady Janies, #1)"
                                },
                                {
                                    "book_id": "22875451",
                                    "title": "The Royal We"
                                },
                                {
                                    "book_id": "22915460",
                                    "title": "The Glassblower"
                                },
                                {
                                    "book_id": "23012475",
                                    "title": "The Knockoff"
                                },
                                {
                                    "book_id": "23013953",
                                    "title": "Gut: The Inside Story of Our Body’s Most Underrated Organ"
                                },
                                {
                                    "book_id": "23017947",
                                    "title": "Ms. Marvel, Vol. 2: Generation Why"
                                },
                                {
                                    "book_id": "23093359",
                                    "title": "The Wicked + The Divine, Vol. 1: The Faust Act"
                                },
                                {
                                    "book_id": "23093367",
                                    "title": "Saga, Vol. 4 (Saga, #4)"
                                },
                                {
                                    "book_id": "23128304",
                                    "title": "The Strange Library"
                                },
                                {
                                    "book_id": "23129410",
                                    "title": "Welcome to Night Vale"
                                },
                                {
                                    "book_id": "23156040",
                                    "title": "Those Who Leave and Those Who Stay (The Neapolitan Novels #3)"
                                },
                                {
                                    "book_id": "23158207",
                                    "title": "How Google Works"
                                },
                                {
                                    "book_id": "23168817",
                                    "title": "The Dark Forest (Remembrance of Earth’s Past, #2)"
                                },
                                {
                                    "book_id": "23278537",
                                    "title": "The Little Paris Bookshop"
                                },
                                {
                                    "book_id": "23301545",
                                    "title": "The Sleeper and the Spindle"
                                },
                                {
                                    "book_id": "23346918",
                                    "title": "14th Deadly Sin (Women’s Murder Club, #14)"
                                },
                                {
                                    "book_id": "23395680",
                                    "title": "Illuminae (The Illuminae Files, #1)"
                                },
                                {
                                    "book_id": "23399022",
                                    "title": "Hope: A Memoir of Survival in Cleveland"
                                },
                                {
                                    "book_id": "23453112",
                                    "title": "Modern Romance"
                                },
                                {
                                    "book_id": "23602504",
                                    "title": "Blood on Snow (Blood on Snow, #1)"
                                },
                                {
                                    "book_id": "23604559",
                                    "title": "My Grandmother Asked Me to Tell You She's Sorry"
                                },
                                {
                                    "book_id": "23705512",
                                    "title": "You're Never Weird on the Internet (Almost)"
                                },
                                {
                                    "book_id": "23717678",
                                    "title": "The Murder House"
                                },
                                {
                                    "book_id": "23731881",
                                    "title": "Very Good Lives: The Fringe Benefits of Failure and the Importance of Imagination"
                                },
                                {
                                    "book_id": "24378015",
                                    "title": "Never Never (Never Never, #1)"
                                },
                                {
                                    "book_id": "24396884",
                                    "title": "Alert (Michael Bennett, #8)"
                                },
                                {
                                    "book_id": "24422492",
                                    "title": "Never Never: Part Two (Never Never, #2)"
                                },
                                {
                                    "book_id": "25074850",
                                    "title": "The Girl in the Spider's Web (Millennium, #4)"
                                },
                                {
                                    "book_id": "25152052",
                                    "title": "The Japanese Lover"
                                },
                                {
                                    "book_id": "25242224",
                                    "title": "The Story of the Lost Child (The Neapolitan Novels, #4)"
                                },
                                {
                                    "book_id": "25387202",
                                    "title": "The Force Awakens (Star Wars)"
                                },
                                {
                                    "book_id": "25422234",
                                    "title": "Notorious RBG: The Life and Times of Ruth Bader Ginsburg"
                                },
                                {
                                    "book_id": "25451555",
                                    "title": "Saga, Vol. 5 (Saga, #5)"
                                },
                                {
                                    "book_id": "25454883",
                                    "title": "Never Never: Part Three (Never Never, #3)"
                                },
                                {
                                    "book_id": "25489025",
                                    "title": "The Vegetarian"
                                },
                                {
                                    "book_id": "25573977",
                                    "title": "The Readers of Broken Wheel Recommend"
                                },
                                {
                                    "book_id": "25613617",
                                    "title": "15th Affair (Women's Murder Club #15)"
                                },
                                {
                                    "book_id": "25614598",
                                    "title": "Crimson Shore (Pendergast, #15)"
                                },
                                {
                                    "book_id": "25624089",
                                    "title": "Killing Reagan: The Violent Assault That Changed a Presidency"
                                },
                                {
                                    "book_id": "25735012",
                                    "title": "Career of Evil (Cormoran Strike, #3)"
                                },
                                {
                                    "book_id": "25772000",
                                    "title": "Cocky Bastard"
                                },
                                {
                                    "book_id": "25817162",
                                    "title": "America's First Daughter"
                                },
                                {
                                    "book_id": "25893709",
                                    "title": "My Name Is Lucy Barton"
                                },
                                {
                                    "book_id": "25899336",
                                    "title": "When Breath Becomes Air"
                                },
                                {
                                    "book_id": "26072609",
                                    "title": "The Rainbow Comes and Goes: A Mother and Son On Life, Love, and Loss"
                                },
                                {
                                    "book_id": "26200563",
                                    "title": "Hamilton: The Revolution"
                                },
                                {
                                    "book_id": "26827675",
                                    "title": "Troublemaker: Surviving Hollywood and Scientology"
                                },
                                {
                                    "book_id": "27401883",
                                    "title": "When I'm Gone"
                                },
                                {
                                    "book_id": "27406704",
                                    "title": "Britt-Marie Was Here"
                                },
                                {
                                    "book_id": "27423283",
                                    "title": "The Moonlit Garden"
                                },
                                {
                                    "book_id": "28077464",
                                    "title": "Night School"
                                },
                                {
                                    "book_id": "28204534",
                                    "title": "Paper Girls, Vol. 1 (Paper Girls, #1)"
                                },
                                {
                                    "book_id": "28477789",
                                    "title": "Stuck-Up Suit"
                                },
                                {
                                    "book_id": "28678119",
                                    "title": "Paper Princess (The Royals, #1)"
                                },
                                {
                                    "book_id": "28802599",
                                    "title": "The Light of the Fireflies"
                                },
                                {
                                    "book_id": "28862528",
                                    "title": "Saga, Vol. 6 (Saga, #6)"
                                },
                                {
                                    "book_id": "29056083",
                                    "title": "Harry Potter and the Cursed Child - Parts One and Two (Harry Potter, #8)"
                                },
                                {
                                    "book_id": "29236299",
                                    "title": "Gemina (The Illuminae Files, #2)"
                                },
                                {
                                    "book_id": "31538614",
                                    "title": "Short Stories from Hogwarts of Power, Politics and Pesky Poltergeists (Pottermore Presents, #2)"
                                },
                                {
                                    "book_id": "31538635",
                                    "title": "Short Stories from Hogwarts of Heroism, Hardship and Dangerous Hobbies (Pottermore Presents, #1)"
                                },
                                {
                                    "book_id": "256598",
                                    "title": "Curse of the Bane (The Last Apprentice / Wardstone Chronicles, #2)"
                                },
                                {
                                    "book_id": "259836",
                                    "title": "Dragons of Autumn Twilight  (Dragonlance: Chronicles, #1)"
                                },
                                {
                                    "book_id": "260025",
                                    "title": "Test of the Twins (Dragonlance: Legends, #3)"
                                },
                                {
                                    "book_id": "260791",
                                    "title": "The Pursuit of Holiness"
                                },
                                {
                                    "book_id": "261243",
                                    "title": "History of the Peloponnesian War"
                                },
                                {
                                    "book_id": "262731",
                                    "title": "The Definitive Book of Body Language"
                                },
                                {
                                    "book_id": "263145",
                                    "title": "Vampire Knight, Vol. 1 (Vampire Knight, #1)"
                                },
                                {
                                    "book_id": "263173",
                                    "title": "Vampire Knight, Vol. 2 (Vampire Knight, #2)"
                                },
                                {
                                    "book_id": "264158",
                                    "title": "The Raven"
                                },
                                {
                                    "book_id": "265205",
                                    "title": "Life Application Study Bible: NIV"
                                },
                                {
                                    "book_id": "265650",
                                    "title": "Shakespeare's Romeo and Juliet"
                                },
                                {
                                    "book_id": "268598",
                                    "title": "Loyalty in Death (In Death, #9)"
                                },
                                {
                                    "book_id": "268955",
                                    "title": "Mummies in the Morning (Magic Tree House, #3)"
                                },
                                {
                                    "book_id": "269322",
                                    "title": "The Raven and other poems"
                                },
                                {
                                    "book_id": "271199",
                                    "title": "Fruits Basket, Vol. 1"
                                },
                                {
                                    "book_id": "272895",
                                    "title": "The Black Stallion (The Black Stallion, #1)"
                                },
                                {
                                    "book_id": "275245",
                                    "title": "Pygmalion and Three Other Plays"
                                },
                                {
                                    "book_id": "276287",
                                    "title": "M.C. Escher: The Graphic Work"
                                },
                                {
                                    "book_id": "276289",
                                    "title": "The Magic Mirror of M.C. Escher"
                                },
                                {
                                    "book_id": "277190",
                                    "title": "The Wrath of Mulgarath (The Spiderwick Chronicles, #5)"
                                },
                                {
                                    "book_id": "277191",
                                    "title": "The Ironwood Tree (The Spiderwick Chronicles, #4)"
                                },
                                {
                                    "book_id": "279692",
                                    "title": "Miss Nelson Is Back (Miss Nelson, #2)"
                                },
                                {
                                    "book_id": "280277",
                                    "title": "Lucinda's Secret (The Spiderwick Chronicles, #3)"
                                },
                                {
                                    "book_id": "280366",
                                    "title": "Jar City (Inspector Erlendur, #3)"
                                },
                                {
                                    "book_id": "281235",
                                    "title": "Bunnicula (Bunnicula, #1)"
                                },
                                {
                                    "book_id": "282282",
                                    "title": "Skip Beat!, Vol. 01"
                                },
                                {
                                    "book_id": "282356",
                                    "title": "Hana-Kimi, Vol. 1 (Hana-Kimi, #1)"
                                },
                                {
                                    "book_id": "282425",
                                    "title": "Boys Over Flowers: Hana Yori Dango, Vol. 1 (Boys Over Flowers, #1)"
                                },
                                {
                                    "book_id": "284440",
                                    "title": "Skulduggery Pleasant (Skulduggery Pleasant, #1)"
                                },
                                {
                                    "book_id": "284698",
                                    "title": "Tokyo Mew Mew, Vol. 1 (Tokyo Mew Mew, #1)"
                                },
                                {
                                    "book_id": "285212",
                                    "title": "On the Prowl (Alpha & Omega, #0.5)"
                                },
                                {
                                    "book_id": "286957",
                                    "title": "The Yellow Wall-Paper"
                                },
                                {
                                    "book_id": "287380",
                                    "title": "Kare Kano: His and Her Circumstances, Vol. 1"
                                },
                                {
                                    "book_id": "287655",
                                    "title": "The Second Assistant: A Tale from the Bottom of the Hollywood Ladder"
                                },
                                {
                                    "book_id": "290882",
                                    "title": "The Upanishads: Translations from the Sanskrit"
                                },
                                {
                                    "book_id": "292275",
                                    "title": "Hedda Gabler"
                                },
                                {
                                    "book_id": "293595",
                                    "title": "Chicka Chicka Boom Boom"
                                },
                                {
                                    "book_id": "294613",
                                    "title": "Little Bear's Friend"
                                },
                                {
                                    "book_id": "294951",
                                    "title": "Fiddler on the Roof"
                                },
                                {
                                    "book_id": "294963",
                                    "title": "Rurouni Kenshin, Vol. 1: Meiji Swordsman Romantic Story (Rurouni Kenshin, #1)"
                                },
                                {
                                    "book_id": "295169",
                                    "title": "The Wind Singer (Wind on Fire, #1)"
                                },
                                {
                                    "book_id": "295305",
                                    "title": "Wolf Brother (Chronicles of Ancient Darkness, #1)"
                                },
                                {
                                    "book_id": "295834",
                                    "title": "The Unusual Suspects (The Sisters Grimm, #2)"
                                },
                                {
                                    "book_id": "297249",
                                    "title": "The Boxcar Children (The Boxcar Children, #1)"
                                },
                                {
                                    "book_id": "297627",
                                    "title": "The League of Extraordinary Gentlemen, Vol. 1"
                                },
                                {
                                    "book_id": "297792",
                                    "title": "The Slippery Slope (A Series of Unfortunate Events, #10)"
                                },
                                {
                                    "book_id": "298230",
                                    "title": "Agnes Grey"
                                },
                                {
                                    "book_id": "298275",
                                    "title": "Nausea"
                                },
                                {
                                    "book_id": "298567",
                                    "title": "Revenge of the Witch (The Last Apprentice / Wardstone Chronicles, #1)"
                                },
                                {
                                    "book_id": "298568",
                                    "title": "Night of the Soul Stealer (The Last Apprentice / Wardstone Chronicles, #3)"
                                },
                                {
                                    "book_id": "299384",
                                    "title": "Sleeping Beauty: a Little Golden Book (Disney Princess)"
                                },
                                {
                                    "book_id": "301736",
                                    "title": "Guess How Much I Love You"
                                },
                                {
                                    "book_id": "303098",
                                    "title": "Riptide"
                                },
                                {
                                    "book_id": "304079",
                                    "title": "The Essential Rumi"
                                },
                                {
                                    "book_id": "310259",
                                    "title": "Love You Forever"
                                },
                                {
                                    "book_id": "310612",
                                    "title": "A Confederacy of Dunces"
                                },
                                {
                                    "book_id": "313605",
                                    "title": "Getting to Yes: Negotiating an Agreement Without Giving In"
                                },
                                {
                                    "book_id": "313998",
                                    "title": "Johnny Mnemonic"
                                },
                                {
                                    "book_id": "315578",
                                    "title": "Auschwitz: A Doctor's Eyewitness Account"
                                },
                                {
                                    "book_id": "315882",
                                    "title": "Henry's Freedom Box: A True Story from the Underground Railroad"
                                },
                                {
                                    "book_id": "317504",
                                    "title": "Mistress of the Empire (The Empire Trilogy, #3)"
                                },
                                {
                                    "book_id": "318742",
                                    "title": "The Souls of Black Folk"
                                },
                                {
                                    "book_id": "320700",
                                    "title": "Shadows over Innsmouth"
                                },
                                {
                                    "book_id": "321552",
                                    "title": "The Agony and the Ecstasy"
                                },
                                {
                                    "book_id": "323355",
                                    "title": "The Book of Mormon: Another Testament of Jesus Christ"
                                },
                                {
                                    "book_id": "324277",
                                    "title": "The Carnivorous Carnival (A Series of Unfortunate Events, #9)"
                                },
                                {
                                    "book_id": "324737",
                                    "title": "Fresh Wind, Fresh Fire: What Happens When God's Spirit Invades the Heart of His People"
                                },
                                {
                                    "book_id": "325085",
                                    "title": "Nicholas Nickleby"
                                },
                                {
                                    "book_id": "325416",
                                    "title": "The Voyages of Doctor Dolittle (Doctor Dolittle, #2)"
                                },
                                {
                                    "book_id": "325421",
                                    "title": "The Story of Doctor Dolittle (Doctor Dolittle, #1)"
                                },
                                {
                                    "book_id": "326272",
                                    "title": "عقاید یک دلقک"
                                },
                                {
                                    "book_id": "327194",
                                    "title": "Three Little Kittens"
                                },
                                {
                                    "book_id": "327847",
                                    "title": "The Joy of Cooking"
                                },
                                {
                                    "book_id": "328802",
                                    "title": "Totto-chan: The Little Girl at the Window"
                                },
                                {
                                    "book_id": "331256",
                                    "title": "Roadside Picnic"
                                },
                                {
                                    "book_id": "331319",
                                    "title": "An American Tragedy"
                                },
                                {
                                    "book_id": "332631",
                                    "title": "Y: The Last Man, Vol. 2: Cycles (Y: The Last Man, #2)"
                                },
                                {
                                    "book_id": "333538",
                                    "title": "The Castle"
                                },
                                {
                                    "book_id": "333867",
                                    "title": "The Stars My Destination"
                                },
                                {
                                    "book_id": "337113",
                                    "title": "The Tenant of Wildfell Hall"
                                },
                                {
                                    "book_id": "337116",
                                    "title": "The Difference Engine "
                                },
                                {
                                    "book_id": "341281",
                                    "title": "The Woodlanders"
                                },
                                {
                                    "book_id": "342445",
                                    "title": "The Dark Tower: The Gunslinger Born"
                                },
                                {
                                    "book_id": "342637",
                                    "title": "Dali: The Paintings"
                                },
                                {
                                    "book_id": "342994",
                                    "title": "The Little Match Girl"
                                },
                                {
                                    "book_id": "343614",
                                    "title": "The Law of Attraction: The Basics of the Teachings of Abraham"
                                },
                                {
                                    "book_id": "348489",
                                    "title": "Snowflake Bentley"
                                },
                                {
                                    "book_id": "348564",
                                    "title": "Flat Stanley (Flat Stanley, #1)"
                                },
                                {
                                    "book_id": "348573",
                                    "title": "The Borrowers (The Borrowers, #1)"
                                },
                                {
                                    "book_id": "349473",
                                    "title": "Blaze"
                                },
                                {
                                    "book_id": "349929",
                                    "title": "Passing"
                                },
                                {
                                    "book_id": "351064",
                                    "title": "The Monkey's Paw (Oxford Bookworms)"
                                },
                                {
                                    "book_id": "355697",
                                    "title": "All Quiet on the Western Front"
                                },
                                {
                                    "book_id": "355916",
                                    "title": "Physik (Septimus Heap, #3)"
                                },
                                {
                                    "book_id": "355917",
                                    "title": "Flyte (Septimus Heap, #2)"
                                },
                                {
                                    "book_id": "356321",
                                    "title": "The Story of Babar"
                                },
                                {
                                    "book_id": "356373",
                                    "title": "Experiencing God: Knowing and Doing the Will of God, Workbook"
                                },
                                {
                                    "book_id": "357636",
                                    "title": "Civilization and Its Discontents"
                                },
                                {
                                    "book_id": "357664",
                                    "title": "Because of Winn-Dixie"
                                },
                                {
                                    "book_id": "359375",
                                    "title": "Night Watch (Watch #1)"
                                },
                                {
                                    "book_id": "361081",
                                    "title": "Pacific Vortex! (Dirk Pitt, #1)"
                                },
                                {
                                    "book_id": "363973",
                                    "title": "The Little Old Lady Who Was Not Afraid of Anything"
                                },
                                {
                                    "book_id": "364550",
                                    "title": "Two Treatises of Government"
                                },
                                {
                                    "book_id": "364826",
                                    "title": "سینوهه"
                                },
                                {
                                    "book_id": "373915",
                                    "title": "20th Century Ghosts"
                                },
                                {
                                    "book_id": "373925",
                                    "title": "Sweeney Todd: The Demon Barber of Fleet Street"
                                },
                                {
                                    "book_id": "374233",
                                    "title": "If on a Winter's Night a Traveler"
                                },
                                {
                                    "book_id": "381440",
                                    "title": "The Society of the Spectacle"
                                },
                                {
                                    "book_id": "383206",
                                    "title": "Wives and Daughters"
                                },
                                {
                                    "book_id": "384457",
                                    "title": "Agnes and the Hitman"
                                },
                                {
                                    "book_id": "386286",
                                    "title": "Julie of the Wolves (Julie of the Wolves, #1)"
                                },
                                {
                                    "book_id": "388018",
                                    "title": "The Clocks (Hercule Poirot, #34)"
                                },
                                {
                                    "book_id": "394683",
                                    "title": "A Bargain for Frances"
                                },
                                {
                                    "book_id": "395182",
                                    "title": "Lucky Jim"
                                },
                                {
                                    "book_id": "395233",
                                    "title": "The Letters of Vincent van Gogh"
                                },
                                {
                                    "book_id": "398323",
                                    "title": "Out Stealing Horses"
                                },
                                {
                                    "book_id": "401876",
                                    "title": "The House of God"
                                },
                                {
                                    "book_id": "402017",
                                    "title": "The Cake Mix Doctor"
                                },
                                {
                                    "book_id": "402128",
                                    "title": "Old Possum's Book of Practical Cats"
                                },
                                {
                                    "book_id": "406373",
                                    "title": "Faust"
                                },
                                {
                                    "book_id": "407429",
                                    "title": "The Stinky Cheese Man and Other Fairly Stupid Tales"
                                },
                                {
                                    "book_id": "408615",
                                    "title": "Left to Tell: Discovering God Amidst the Rwandan Holocaust"
                                },
                                {
                                    "book_id": "414895",
                                    "title": "Planet of the Apes"
                                },
                                {
                                    "book_id": "417780",
                                    "title": "Why Mosquitoes Buzz in People's Ears"
                                },
                                {
                                    "book_id": "423156",
                                    "title": "King of the Wind: The Story of the Godolphin Arabian"
                                },
                                {
                                    "book_id": "426504",
                                    "title": "Ficciones"
                                },
                                {
                                    "book_id": "426625",
                                    "title": "Fancy Nancy"
                                },
                                {
                                    "book_id": "427920",
                                    "title": "Chicken Soup for the Teenage Soul: 101 Stories of Life, Love and Learning (Chicken Soup for the Soul)"
                                },
                                {
                                    "book_id": "429024",
                                    "title": "The Old Curiosity Shop"
                                },
                                {
                                    "book_id": "433567",
                                    "title": "Flatland: A Romance of Many Dimensions"
                                },
                                {
                                    "book_id": "436806",
                                    "title": "Story of the Eye"
                                },
                                {
                                    "book_id": "438492",
                                    "title": "The Wide Window (A Series of Unfortunate Events, #3)"
                                },
                                {
                                    "book_id": "439173",
                                    "title": "Frindle"
                                },
                                {
                                    "book_id": "439363",
                                    "title": "Love★Com, Vol. 1"
                                },
                                {
                                    "book_id": "440960",
                                    "title": "Batman and Son"
                                },
                                {
                                    "book_id": "444304",
                                    "title": "The Field Guide (The Spiderwick Chronicles, #1)"
                                },
                                {
                                    "book_id": "444347",
                                    "title": "Chasing Vermeer (Chasing Vermeer, #1)"
                                },
                                {
                                    "book_id": "444381",
                                    "title": "The Princess and the Goblin  (Princess Irene and Curdie, #1)"
                                },
                                {
                                    "book_id": "448836",
                                    "title": "Second Treatise of Government"
                                },
                                {
                                    "book_id": "454236",
                                    "title": "Miracle in the Andes"
                                },
                                {
                                    "book_id": "457264",
                                    "title": "The Second Sex"
                                },
                                {
                                    "book_id": "462684",
                                    "title": "The Story of Tracy Beaker"
                                },
                                {
                                    "book_id": "464260",
                                    "title": "The Fire Next Time"
                                },
                                {
                                    "book_id": "465226",
                                    "title": "The Redbreast (Harry Hole, #3)"
                                },
                                {
                                    "book_id": "467032",
                                    "title": "The Bad Seed"
                                },
                                {
                                    "book_id": "472025",
                                    "title": "Why I Am Not a Christian and Other Essays on Religion and Related Subjects"
                                },
                                {
                                    "book_id": "472331",
                                    "title": "Watchmen"
                                },
                                {
                                    "book_id": "480204",
                                    "title": "The Phantom of the Opera"
                                },
                                {
                                    "book_id": "481743",
                                    "title": "The Wave"
                                },
                                {
                                    "book_id": "485894",
                                    "title": "The Metamorphosis"
                                },
                                {
                                    "book_id": "487666",
                                    "title": "Beyond Band of Brothers: The War Memoirs of Major Dick Winters"
                                },
                                {
                                    "book_id": "491735",
                                    "title": "The Dirty Girls Social Club (Dirty Girls, #1)"
                                },
                                {
                                    "book_id": "497164",
                                    "title": "Camera Lucida: Reflections on Photography"
                                },
                                {
                                    "book_id": "502295",
                                    "title": "Gonzo: The Life of Hunter S. Thompson"
                                },
                                {
                                    "book_id": "503248",
                                    "title": "My Lobotomy"
                                },
                                {
                                    "book_id": "505304",
                                    "title": "The Poky Little Puppy (A Little Golden Book)"
                                },
                                {
                                    "book_id": "511240",
                                    "title": "Yotsuba&!, Vol. 01 (Yotsuba&! #1)"
                                },
                                {
                                    "book_id": "511527",
                                    "title": "Double Act"
                                },
                                {
                                    "book_id": "511614",
                                    "title": "The 101 Dalmatians (The Hundred and One Dalmatians, #1)"
                                },
                                {
                                    "book_id": "511684",
                                    "title": "The Illustrated Mum"
                                },
                                {
                                    "book_id": "517344",
                                    "title": "Clementine (Clementine, #1)"
                                },
                                {
                                    "book_id": "519048",
                                    "title": "The Seeing Stone (The Spiderwick Chronicles, #2)"
                                },
                                {
                                    "book_id": "522525",
                                    "title": "Mistakes Were Made (But Not by Me): Why We Justify Foolish Beliefs, Bad Decisions, and Hurtful Acts"
                                },
                                {
                                    "book_id": "522534",
                                    "title": "Geisha, a Life"
                                },
                                {
                                    "book_id": "525488",
                                    "title": "Boundaries: When to Say Yes, How to Say No to Take Control of Your Life"
                                },
                                {
                                    "book_id": "531197",
                                    "title": "Lyra's Oxford (His Dark Materials, #3.5)"
                                },
                                {
                                    "book_id": "533465",
                                    "title": "Balzac and the Little Chinese Seamstress"
                                },
                                {
                                    "book_id": "533675",
                                    "title": "Pinocchio"
                                },
                                {
                                    "book_id": "534289",
                                    "title": "The I Ching or Book of Changes"
                                },
                                {
                                    "book_id": "534415",
                                    "title": "Dragons of Summer Flame (Dragonlance: The Second Generation, #2)"
                                },
                                {
                                    "book_id": "538845",
                                    "title": "Quo Vadis"
                                },
                                {
                                    "book_id": "543086",
                                    "title": "Tom's Midnight Garden"
                                },
                                {
                                    "book_id": "550844",
                                    "title": "Cycle of the Werewolf"
                                },
                                {
                                    "book_id": "551876",
                                    "title": "Tikki Tikki Tembo"
                                },
                                {
                                    "book_id": "552894",
                                    "title": "7th Heaven (Women's Murder Club, #7)"
                                },
                                {
                                    "book_id": "555500",
                                    "title": "Peter and the Secret of Rundoon (Peter and the Starcatchers, #3)"
                                },
                                {
                                    "book_id": "561909",
                                    "title": "The Hiding Place: The Triumphant True Story of Corrie Ten Boom"
                                },
                                {
                                    "book_id": "563887",
                                    "title": "The Littles"
                                },
                                {
                                    "book_id": "568454",
                                    "title": "D.Gray-man, Volume 01"
                                },
                                {
                                    "book_id": "568476",
                                    "title": "Henry Huggins (Henry Huggins, #1)"
                                },
                                {
                                    "book_id": "568592",
                                    "title": "Fushigi Yûgi: The Mysterious Play, Vol. 1: Priestess"
                                },
                                {
                                    "book_id": "569346",
                                    "title": "Full Moon o Sagashite, Vol. 1"
                                },
                                {
                                    "book_id": "576570",
                                    "title": "The Princess and the Pea"
                                },
                                {
                                    "book_id": "577542",
                                    "title": "Rikki-Tikki-Tavi"
                                },
                                {
                                    "book_id": "579696",
                                    "title": "Our Dumb Century: The Onion Presents 100 Years of Headlines from America's Finest News Source"
                                },
                                {
                                    "book_id": "584637",
                                    "title": "Utilitarianism"
                                },
                                {
                                    "book_id": "587638",
                                    "title": "Gentlemen of the Road"
                                },
                                {
                                    "book_id": "589979",
                                    "title": "Daughter of the Empire (The Empire Trilogy, #1)"
                                },
                                {
                                    "book_id": "594361",
                                    "title": "The Lion King: A little Golden Book"
                                },
                                {
                                    "book_id": "597790",
                                    "title": "The Children of Húrin"
                                },
                                {
                                    "book_id": "598117",
                                    "title": "Sounder"
                                },
                                {
                                    "book_id": "598159",
                                    "title": "Panda Bear, Panda Bear, What Do You See?"
                                },
                                {
                                    "book_id": "598160",
                                    "title": "Polar Bear, Polar Bear, What Do You Hear?"
                                },
                                {
                                    "book_id": "599090",
                                    "title": "A New Hope  (Star Wars: Novelizations #4)"
                                },
                                {
                                    "book_id": "604635",
                                    "title": "Naïve. Super"
                                },
                                {
                                    "book_id": "606818",
                                    "title": "Holy Blood, Holy Grail"
                                },
                                {
                                    "book_id": "608474",
                                    "title": "The Sign of Four"
                                },
                                {
                                    "book_id": "608601",
                                    "title": "Ox-Cart Man (Picture Puffin)"
                                },
                                {
                                    "book_id": "609035",
                                    "title": "Foxe's Book of Martyrs"
                                },
                                {
                                    "book_id": "609870",
                                    "title": "The Vow: The Kim & Krickitt Carpenter Story"
                                },
                                {
                                    "book_id": "611298",
                                    "title": "I Am America (And So Can You!)"
                                },
                                {
                                    "book_id": "612188",
                                    "title": "Memories, Dreams, Reflections"
                                },
                                {
                                    "book_id": "616318",
                                    "title": "Justice, Volume 1"
                                },
                                {
                                    "book_id": "625094",
                                    "title": "The Leopard"
                                },
                                {
                                    "book_id": "630621",
                                    "title": "The Incredible Hulk: Planet Hulk"
                                },
                                {
                                    "book_id": "634407",
                                    "title": "Knots and Crosses (Inspector Rebus, #1)"
                                },
                                {
                                    "book_id": "634583",
                                    "title": "Wings of Fire: An Autobiography"
                                },
                                {
                                    "book_id": "646056",
                                    "title": "The Little Mermaid"
                                },
                                {
                                    "book_id": "646195",
                                    "title": "Babe: The Gallant Pig"
                                },
                                {
                                    "book_id": "653559",
                                    "title": "Sherlock Holmes and the Case of the Hound of the Baskervilles (Illustrated Classic Editions)"
                                },
                                {
                                    "book_id": "659469",
                                    "title": "The Hobbit: Graphic Novel"
                                },
                                {
                                    "book_id": "667985",
                                    "title": "Chobits, Vol. 1"
                                },
                                {
                                    "book_id": "668710",
                                    "title": "Magic and Other Misdemeanors (The Sisters Grimm, #5)"
                                },
                                {
                                    "book_id": "669780",
                                    "title": "Season of Migration to the North"
                                },
                                {
                                    "book_id": "672875",
                                    "title": "Le Morte d'Arthur: King Arthur and the Legends of the Round Table"
                                },
                                {
                                    "book_id": "673252",
                                    "title": "Anne McCaffrey's Dragonflight #1"
                                },
                                {
                                    "book_id": "676555",
                                    "title": "The Beatles Anthology"
                                },
                                {
                                    "book_id": "676924",
                                    "title": "Betrayed (House of Night, #2)"
                                },
                                {
                                    "book_id": "682761",
                                    "title": "The Nazi Officer's Wife: How One Jewish Woman Survived the Holocaust"
                                },
                                {
                                    "book_id": "682920",
                                    "title": "The Little Mouse, the Red Ripe Strawberry, and the Big Hungry Bear"
                                },
                                {
                                    "book_id": "691520",
                                    "title": "No One Here Gets Out Alive"
                                },
                                {
                                    "book_id": "693208",
                                    "title": "The Absolutely True Diary of a Part-Time Indian"
                                },
                                {
                                    "book_id": "711901",
                                    "title": "Lone Survivor: The Eyewitness Account of Operation Redwing and the Lost Heroes of SEAL Team 10"
                                },
                                {
                                    "book_id": "716696",
                                    "title": "رباعيات خيام"
                                },
                                {
                                    "book_id": "716944",
                                    "title": "Owl Babies"
                                },
                                {
                                    "book_id": "721012",
                                    "title": "The Legend of Sleepy Hollow and Other Stories"
                                },
                                {
                                    "book_id": "722864",
                                    "title": "Inside the Human Body (The Magic School Bus, #3)"
                                },
                                {
                                    "book_id": "724371",
                                    "title": "The Lady of Shalott"
                                },
                                {
                                    "book_id": "731804",
                                    "title": "Pinkalicious"
                                },
                                {
                                    "book_id": "732562",
                                    "title": "The Rime of the Ancient Mariner"
                                },
                                {
                                    "book_id": "736131",
                                    "title": "The Valley of Fear"
                                },
                                {
                                    "book_id": "739840",
                                    "title": "Bambi"
                                },
                                {
                                    "book_id": "744615",
                                    "title": "Scott Pilgrim, Volume 4: Scott Pilgrim Gets It Together"
                                },
                                {
                                    "book_id": "752900",
                                    "title": "Medea"
                                },
                                {
                                    "book_id": "759611",
                                    "title": "Brown Bear, Brown Bear, What Do You See?"
                                },
                                {
                                    "book_id": "760025",
                                    "title": "Positioning: The Battle for Your Mind: How to Be Seen and Heard in the Overcrowded Marketplace"
                                },
                                {
                                    "book_id": "760168",
                                    "title": "Just Me in the Tub (Mercer Mayer's Little Critter)"
                                },
                                {
                                    "book_id": "760941",
                                    "title": "When Rabbit Howls"
                                },
                                {
                                    "book_id": "761575",
                                    "title": "House Atreides (Prelude to Dune #1)"
                                },
                                {
                                    "book_id": "762064",
                                    "title": "Betrayal in Death (In Death, #12)"
                                },
                                {
                                    "book_id": "762134",
                                    "title": "Palace Walk (The Cairo Trilogy #1)"
                                },
                                {
                                    "book_id": "762462",
                                    "title": "One Up On Wall Street: How To Use What You Already Know To Make Money In The Market"
                                },
                                {
                                    "book_id": "763362",
                                    "title": "The One Minute Manager"
                                },
                                {
                                    "book_id": "763429",
                                    "title": "The Walking Dead, Book Three (The Walking Dead #25-36)"
                                },
                                {
                                    "book_id": "764063",
                                    "title": "Wonderful Tonight"
                                },
                                {
                                    "book_id": "764903",
                                    "title": "Cheaper by the Dozen"
                                },
                                {
                                    "book_id": "765148",
                                    "title": "Giraffes Can't Dance"
                                },
                                {
                                    "book_id": "765193",
                                    "title": "Amazing Grace"
                                },
                                {
                                    "book_id": "765281",
                                    "title": "Lady and the Tramp"
                                },
                                {
                                    "book_id": "765427",
                                    "title": "The Faerie Queene "
                                },
                                {
                                    "book_id": "766020",
                                    "title": "The Rainbow Fish"
                                },
                                {
                                    "book_id": "766955",
                                    "title": "Click, Clack, Moo: Cows That Type"
                                },
                                {
                                    "book_id": "767680",
                                    "title": "If You Give a Mouse a Cookie"
                                },
                                {
                                    "book_id": "769016",
                                    "title": "How to Talk So Kids Will Listen & Listen So Kids Will Talk"
                                },
                                {
                                    "book_id": "769712",
                                    "title": "Palestine"
                                },
                                {
                                    "book_id": "770038",
                                    "title": "Is Your Mama a Llama?"
                                },
                                {
                                    "book_id": "771332",
                                    "title": "With the Old Breed: At Peleliu and Okinawa"
                                },
                                {
                                    "book_id": "772852",
                                    "title": "The Cross and the Switchblade"
                                },
                                {
                                    "book_id": "773480",
                                    "title": "Inside, Outside, Upside Down (Berenstain Bears Bright and Early Board Book)"
                                },
                                {
                                    "book_id": "773951",
                                    "title": "The Story of Ferdinand"
                                },
                                {
                                    "book_id": "774001",
                                    "title": "Amelia Bedelia  (Amelia Bedelia #1)"
                                },
                                {
                                    "book_id": "776407",
                                    "title": "The House at Pooh Corner (Winnie-the-Pooh, #2)"
                                },
                                {
                                    "book_id": "780581",
                                    "title": "Bel-Ami"
                                },
                                {
                                    "book_id": "781182",
                                    "title": "Barbarians at the Gate: The Fall of RJR Nabisco"
                                },
                                {
                                    "book_id": "781498",
                                    "title": "The Day Jimmy's Boa Ate the Wash"
                                },
                                {
                                    "book_id": "781787",
                                    "title": "Out of Africa"
                                },
                                {
                                    "book_id": "782580",
                                    "title": "The Complete Poetry and Prose"
                                },
                                {
                                    "book_id": "782854",
                                    "title": "Eloise "
                                },
                                {
                                    "book_id": "784222",
                                    "title": "Vampire Knight, Vol. 3 (Vampire Knight, #3)"
                                },
                                {
                                    "book_id": "789559",
                                    "title": "The Three Billy Goats Gruff"
                                },
                                {
                                    "book_id": "792938",
                                    "title": "Having Our Say: The Delany Sisters' First 100 Years"
                                },
                                {
                                    "book_id": "801178",
                                    "title": "Chicken Soup for the Soul"
                                },
                                {
                                    "book_id": "808853",
                                    "title": "The Complete Adventures of Curious George"
                                },
                                {
                                    "book_id": "815234",
                                    "title": "The Napping House"
                                },
                                {
                                    "book_id": "815716",
                                    "title": "The 21 Irrefutable Laws of Leadership: Follow Them and People Will Follow You"
                                },
                                {
                                    "book_id": "816870",
                                    "title": "Johnny Tremain"
                                },
                                {
                                    "book_id": "818811",
                                    "title": "Escape"
                                },
                                {
                                    "book_id": "819667",
                                    "title": "Snowmen at Night"
                                },
                                {
                                    "book_id": "820273",
                                    "title": "Sheep in a Jeep"
                                },
                                {
                                    "book_id": "821000",
                                    "title": "Now We Are Six (Winnie-the-Pooh, #4)"
                                },
                                {
                                    "book_id": "821003",
                                    "title": "When We Were Very Young (Winnie-the-Pooh, #3)"
                                },
                                {
                                    "book_id": "824062",
                                    "title": "God's Smuggler"
                                },
                                {
                                    "book_id": "824204",
                                    "title": "The Little Engine That Could"
                                },
                                {
                                    "book_id": "824318",
                                    "title": "The New Bedside, Bathtub and Armchair Companion to Agatha Christie"
                                },
                                {
                                    "book_id": "824734",
                                    "title": "Dinosaurs Before Dark (Magic Tree House, #1)"
                                },
                                {
                                    "book_id": "824763",
                                    "title": "Reborn! Vol. 01: Reborn Arrives! (Reborn!, #1)"
                                },
                                {
                                    "book_id": "825576",
                                    "title": "The Saggy Baggy Elephant (A Little Golden Book)"
                                },
                                {
                                    "book_id": "826582",
                                    "title": "If You Take a Mouse to School"
                                },
                                {
                                    "book_id": "826583",
                                    "title": "If You Take a Mouse to the Movies"
                                },
                                {
                                    "book_id": "826584",
                                    "title": "If You Give a Moose a Muffin"
                                },
                                {
                                    "book_id": "826585",
                                    "title": "If You Give a Pig a Pancake "
                                },
                                {
                                    "book_id": "827685",
                                    "title": "Up from Slavery"
                                },
                                {
                                    "book_id": "829313",
                                    "title": "Miles: The Autobiography"
                                },
                                {
                                    "book_id": "831829",
                                    "title": "30 Days of Night, Vol. 1"
                                },
                                {
                                    "book_id": "833550",
                                    "title": "Each Peach Pear Plum"
                                },
                                {
                                    "book_id": "835495",
                                    "title": "Time for Bed"
                                },
                                {
                                    "book_id": "836606",
                                    "title": "Fruits Basket, Vol. 2"
                                },
                                {
                                    "book_id": "836607",
                                    "title": "Fruits Basket, Vol. 3"
                                },
                                {
                                    "book_id": "836611",
                                    "title": "Fruits Basket, Vol. 4"
                                },
                                {
                                    "book_id": "844051",
                                    "title": "Mutiny on the Bounty (The Bounty Trilogy, #1)"
                                },
                                {
                                    "book_id": "846066",
                                    "title": "The Berenstain Bears Forget Their Manners"
                                },
                                {
                                    "book_id": "849380",
                                    "title": "The Seven Principles for Making Marriage Work: A Practical Guide from the Country's Foremost Relationship Expert"
                                },
                                {
                                    "book_id": "851393",
                                    "title": "The Imitation of Christ"
                                },
                                {
                                    "book_id": "852460",
                                    "title": "Fix-It and Forget-It Cookbook: Feasting with Your Slow Cooker"
                                },
                                {
                                    "book_id": "854252",
                                    "title": "Little House on Rocky Ridge (Little House: The Rocky Ridge Years, #1)"
                                },
                                {
                                    "book_id": "857418",
                                    "title": "The Carrot Seed"
                                },
                                {
                                    "book_id": "857448",
                                    "title": "Harry the Dirty Dog"
                                },
                                {
                                    "book_id": "857501",
                                    "title": "Hand, Hand, Fingers, Thumb"
                                },
                                {
                                    "book_id": "866222",
                                    "title": "Winning"
                                },
                                {
                                    "book_id": "867247",
                                    "title": "A Book of Five Rings: The Classic Guide to Strategy"
                                },
                                {
                                    "book_id": "867248",
                                    "title": "Bear Snores On"
                                },
                                {
                                    "book_id": "867650",
                                    "title": "The Little Red Hen (Little Golden Book)"
                                },
                                {
                                    "book_id": "877752",
                                    "title": "Fruits Basket, Vol. 7"
                                },
                                {
                                    "book_id": "887201",
                                    "title": "Faeries"
                                },
                                {
                                    "book_id": "892295",
                                    "title": "The Annotated Sherlock Holmes: The Four Novels and the Fifty-Six Short Stories Complete (2 Volume Set)"
                                },
                                {
                                    "book_id": "895886",
                                    "title": "Lassie Come-Home"
                                },
                                {
                                    "book_id": "899492",
                                    "title": "The Tell-Tale Heart"
                                },
                                {
                                    "book_id": "899608",
                                    "title": "A Fish Out of Water"
                                },
                                {
                                    "book_id": "899962",
                                    "title": "Curious George Goes to the Hospital"
                                },
                                {
                                    "book_id": "900065",
                                    "title": "The Berenstain Bears and the Messy Room"
                                },
                                {
                                    "book_id": "900070",
                                    "title": "The Berenstain Bears Go to School"
                                },
                                {
                                    "book_id": "905382",
                                    "title": "Anne Frank : The Biography"
                                },
                                {
                                    "book_id": "906541",
                                    "title": "Bedtime for Frances"
                                },
                                {
                                    "book_id": "911579",
                                    "title": "Bread and Jam for Frances"
                                },
                                {
                                    "book_id": "914211",
                                    "title": "Influencer: The Power to Change Anything"
                                },
                                {
                                    "book_id": "920143",
                                    "title": "Little Red Riding Hood"
                                },
                                {
                                    "book_id": "925367",
                                    "title": "The Climb: Tragic Ambitions on Everest"
                                },
                                {
                                    "book_id": "926908",
                                    "title": "Gnomes"
                                },
                                {
                                    "book_id": "929782",
                                    "title": "Martin Eden"
                                },
                                {
                                    "book_id": "930612",
                                    "title": "Judy Moody (Judy Moody, # 1)"
                                },
                                {
                                    "book_id": "934700",
                                    "title": "In a People House"
                                },
                                {
                                    "book_id": "935308",
                                    "title": "Faceless Killers (Kurt Wallander, #1)"
                                },
                                {
                                    "book_id": "948526",
                                    "title": "The Knight at Dawn (Magic Tree House, #2)"
                                },
                                {
                                    "book_id": "953260",
                                    "title": "Disney after Dark (Kingdom Keepers, #1)"
                                },
                                {
                                    "book_id": "954303",
                                    "title": "Kitchen Princess, Vol. 01 (Kitchen Princess, #1)"
                                },
                                {
                                    "book_id": "958277",
                                    "title": "Junie B. Jones and the  Stupid Smelly Bus (Junie B. Jones, #1)"
                                },
                                {
                                    "book_id": "974122",
                                    "title": "Secrets of the Vine: Breaking Through to Abundance"
                                },
                                {
                                    "book_id": "981161",
                                    "title": "Red Phoenix (Red Phoenix #1)"
                                },
                                {
                                    "book_id": "981463",
                                    "title": "The Relatives Came"
                                },
                                {
                                    "book_id": "988170",
                                    "title": "Tawny Scrawny Lion"
                                },
                                {
                                    "book_id": "989313",
                                    "title": "Heart of Darkness and Selected Short Fiction"
                                },
                                {
                                    "book_id": "991197",
                                    "title": "The Complete Persepolis"
                                },
                                {
                                    "book_id": "1009996",
                                    "title": "Artisan Bread in Five Minutes a Day: The Discovery That Revolutionizes Home Baking"
                                },
                                {
                                    "book_id": "1013383",
                                    "title": "The Gruffalo"
                                },
                                {
                                    "book_id": "1022866",
                                    "title": "Run Baby Run"
                                },
                                {
                                    "book_id": "1031461",
                                    "title": "Stone Soup"
                                },
                                {
                                    "book_id": "1034605",
                                    "title": "The Country Mouse and the City Mouse; The Fox and the Crow; The Dog and His Bone"
                                },
                                {
                                    "book_id": "1059680",
                                    "title": "Veganomicon: The Ultimate Vegan Cookbook"
                                },
                                {
                                    "book_id": "1070527",
                                    "title": "Avatar Volume 1: The Last Airbender (Avatar #1)"
                                },
                                {
                                    "book_id": "1081560",
                                    "title": "The History of the Hobbit, Part One: Mr. Baggins"
                                },
                                {
                                    "book_id": "1085771",
                                    "title": "The Walking Dead, Vol. 07: The Calm Before"
                                },
                                {
                                    "book_id": "1099301",
                                    "title": "The Name of This Book Is Secret (Secret, #1)"
                                },
                                {
                                    "book_id": "1107001",
                                    "title": "The Silver Palate Cookbook"
                                },
                                {
                                    "book_id": "1129315",
                                    "title": "The Berenstain Bears' Trouble at School"
                                },
                                {
                                    "book_id": "1145862",
                                    "title": "Stand Tall, Molly Lou Melon"
                                },
                                {
                                    "book_id": "1166599",
                                    "title": "The Gathering Storm (Wheel of Time, #12)"
                                },
                                {
                                    "book_id": "1173576",
                                    "title": "What Every Body is Saying: An Ex-FBI Agent's Guide to Speed-Reading People"
                                },
                                {
                                    "book_id": "1175893",
                                    "title": "Tunnels (Tunnels, #1)"
                                },
                                {
                                    "book_id": "1215290",
                                    "title": "Rudolph the Red-Nosed Reindeer"
                                },
                                {
                                    "book_id": "1220507",
                                    "title": "شيكاجو"
                                },
                                {
                                    "book_id": "1237398",
                                    "title": "One Piece, Volume 01: Romance Dawn (One Piece, #1)"
                                },
                                {
                                    "book_id": "1249630",
                                    "title": "Os Maias"
                                },
                                {
                                    "book_id": "1270615",
                                    "title": "Buffy the Vampire Slayer: The Long Way Home (Season 8, #1)"
                                },
                                {
                                    "book_id": "1298171",
                                    "title": "Finding Nemo"
                                },
                                {
                                    "book_id": "1325218",
                                    "title": "Scary Stories to Tell in the Dark (Scary Stories, #1)"
                                },
                                {
                                    "book_id": "1326258",
                                    "title": "Chosen (House of Night, #3)"
                                },
                                {
                                    "book_id": "1335019",
                                    "title": "Necronomicon: The Best Weird Tales"
                                },
                                {
                                    "book_id": "1335184",
                                    "title": "Peter Pan (A Little Golden Book)"
                                },
                                {
                                    "book_id": "1337448",
                                    "title": "Wir Kinder vom Bahnhof Zoo"
                                },
                                {
                                    "book_id": "1375896",
                                    "title": "Queste (Septimus Heap, #4)"
                                },
                                {
                                    "book_id": "1395209",
                                    "title": "Attack of the Fiend (The Last Apprentice / Wardstone Chronicles, #4)"
                                },
                                {
                                    "book_id": "1406197",
                                    "title": "A Lick of Frost (Merry Gentry, #6)"
                                },
                                {
                                    "book_id": "1422926",
                                    "title": "Frosty the Snow Man"
                                },
                                {
                                    "book_id": "1429082",
                                    "title": "美少女戦士セーラームーン新装版 1 [Bishōjo Senshi Sailor Moon Shinsōban 1]"
                                },
                                {
                                    "book_id": "1493253",
                                    "title": "Hunter x Hunter, Vol. 01 (Hunter x Hunter, #1)"
                                },
                                {
                                    "book_id": "1528410",
                                    "title": "Night Train to Lisbon"
                                },
                                {
                                    "book_id": "1563413",
                                    "title": "The Three Little Pigs"
                                },
                                {
                                    "book_id": "1566053",
                                    "title": "The Portable Atheist: Essential Readings for the Nonbeliever"
                                },
                                {
                                    "book_id": "1603923",
                                    "title": "Beauty and the Beast"
                                },
                                {
                                    "book_id": "1717890",
                                    "title": "Pandora Hearts 1巻"
                                },
                                {
                                    "book_id": "1728744",
                                    "title": "Sleeping Beauty (Disney Princess, 5)"
                                },
                                {
                                    "book_id": "1753714",
                                    "title": "Gakuen Alice, Vol. 01 (Gakuen Alice, #1)"
                                },
                                {
                                    "book_id": "1809175",
                                    "title": "The Magic Thief (Magic Thief, #1)"
                                },
                                {
                                    "book_id": "1821187",
                                    "title": "Train Dreams"
                                },
                                {
                                    "book_id": "1848444",
                                    "title": "A Scandal in Bohemia (The Adventures of Sherlock Holmes, #1)"
                                },
                                {
                                    "book_id": "1898916",
                                    "title": "Vampire Knight, Vol. 4 (Vampire Knight, #4)"
                                },
                                {
                                    "book_id": "1967070",
                                    "title": "Coraline (Illustrated/Graphic Novel Edition)"
                                },
                                {
                                    "book_id": "1970449",
                                    "title": "Slash"
                                },
                                {
                                    "book_id": "1991039",
                                    "title": "Flaggermusmannen (Harry Hole, #1)"
                                },
                                {
                                    "book_id": "2029176",
                                    "title": "Sail"
                                },
                                {
                                    "book_id": "2029177",
                                    "title": "Sundays at Tiffany's"
                                },
                                {
                                    "book_id": "2073686",
                                    "title": "Tales From the Hood (The Sisters Grimm, #6)"
                                },
                                {
                                    "book_id": "2108198",
                                    "title": "Odd and the Frost Giants"
                                },
                                {
                                    "book_id": "2118114",
                                    "title": "Sway: The Irresistible Pull of Irrational Behavior"
                                },
                                {
                                    "book_id": "2147714",
                                    "title": "Fables, Vol. 10: The Good Prince"
                                },
                                {
                                    "book_id": "2159225",
                                    "title": "The Mysterious Benedict Society and the Perilous Journey (The Mysterious Benedict Society, #2)"
                                },
                                {
                                    "book_id": "2176873",
                                    "title": "Martha Stewart's Cookies: The Very Best Treats to Bake and to Share"
                                },
                                {
                                    "book_id": "2182780",
                                    "title": "Batman: The Man Who Laughs"
                                },
                                {
                                    "book_id": "2187270",
                                    "title": "Waiter Rant: Thanks for the Tip-Confessions of a Cynical Waiter"
                                },
                                {
                                    "book_id": "2195464",
                                    "title": "What I Talk About When I Talk About Running"
                                },
                                {
                                    "book_id": "2197227",
                                    "title": "Cemetery Dance (Pendergast, #9)"
                                },
                                {
                                    "book_id": "2198274",
                                    "title": "The Monster of Florence"
                                },
                                {
                                    "book_id": "2202230",
                                    "title": "Y: The Last Man, Vol. 10: Whys and Wherefores (Y: The Last Man, #10)"
                                },
                                {
                                    "book_id": "2213661",
                                    "title": "The Graveyard Book"
                                },
                                {
                                    "book_id": "2235597",
                                    "title": "The Dangerous Days of Daniel X (Daniel X, #1)"
                                },
                                {
                                    "book_id": "2249196",
                                    "title": "All-Star Superman, Vol. 2"
                                },
                                {
                                    "book_id": "2318271",
                                    "title": "The Last Lecture"
                                },
                                {
                                    "book_id": "2324124",
                                    "title": "Hello, Cupcake"
                                },
                                {
                                    "book_id": "2364284",
                                    "title": "أولاد حارتنا"
                                },
                                {
                                    "book_id": "2429135",
                                    "title": "The Girl with the Dragon Tattoo (Millennium, #1)"
                                },
                                {
                                    "book_id": "2454986",
                                    "title": "Fairy Tail, Vol. 1 (Fairy Tail, #1)"
                                },
                                {
                                    "book_id": "2474084",
                                    "title": "The Work of Art in the Age of Its Technological Reproducibility, and Other Writings on Media"
                                },
                                {
                                    "book_id": "2501453",
                                    "title": "عابر سرير"
                                },
                                {
                                    "book_id": "2501455",
                                    "title": "فوضى الحواس"
                                },
                                {
                                    "book_id": "2501458",
                                    "title": "ذاكرة الجسد"
                                },
                                {
                                    "book_id": "2505836",
                                    "title": "Money, and the Law of Attraction: Learning to Attract Wealth, Health, and Happiness"
                                },
                                {
                                    "book_id": "2508854",
                                    "title": "تاكسي: حواديت المشاوير"
                                },
                                {
                                    "book_id": "2527900",
                                    "title": "Nudge: Improving Decisions About Health, Wealth, and Happiness"
                                },
                                {
                                    "book_id": "2659997",
                                    "title": "Stolen Innocence: My Story of Growing Up in a Polygamous Sect, Becoming a Teenage Bride, and Breaking Free of Warren Jeffs"
                                },
                                {
                                    "book_id": "2693801",
                                    "title": "History of Art"
                                },
                                {
                                    "book_id": "2728527",
                                    "title": "The Guernsey Literary and Potato Peel Pie Society"
                                },
                                {
                                    "book_id": "2795053",
                                    "title": "The Umbrella Academy, Vol. 1: The Apocalypse Suite"
                                },
                                {
                                    "book_id": "2804776",
                                    "title": "One Fifth Avenue"
                                },
                                {
                                    "book_id": "2815949",
                                    "title": "Barefoot Contessa Back to Basics"
                                },
                                {
                                    "book_id": "2865944",
                                    "title": "If You Give a Cat a Cupcake"
                                },
                                {
                                    "book_id": "2866718",
                                    "title": "Untamed (House of Night, #4)"
                                },
                                {
                                    "book_id": "2918374",
                                    "title": "The Red Badge of Courage and Selected Short Fiction  "
                                },
                                {
                                    "book_id": "2967752",
                                    "title": "The Elegance of the Hedgehog"
                                },
                                {
                                    "book_id": "3018539",
                                    "title": "Death With Interruptions"
                                },
                                {
                                    "book_id": "3052106",
                                    "title": "The Picture of Dorian Gray: A Graphic Novel"
                                },
                                {
                                    "book_id": "3090465",
                                    "title": "The Twilight Saga (Twilight, #1-4)"
                                },
                                {
                                    "book_id": "3124249",
                                    "title": "A Lion Among Men (The Wicked Years, #3)"
                                },
                                {
                                    "book_id": "3130430",
                                    "title": "Harry, a History: The True Story of a Boy Wizard, His Fans, and Life Inside the Harry Potter Phenomenon"
                                },
                                {
                                    "book_id": "3134981",
                                    "title": "The Joker"
                                },
                                {
                                    "book_id": "3173558",
                                    "title": "Maximum Ride, Vol. 1 (Maximum Ride: The Manga, #1)"
                                },
                                {
                                    "book_id": "3181564",
                                    "title": "The Housekeeper and the Professor"
                                },
                                {
                                    "book_id": "3188186",
                                    "title": "Run for Your Life (Michael Bennett, #2)"
                                },
                                {
                                    "book_id": "3206011",
                                    "title": "Crazy Love: Overwhelmed by a Relentless God"
                                },
                                {
                                    "book_id": "3213286",
                                    "title": "Let It Snow: Three Holiday Romances"
                                },
                                {
                                    "book_id": "3217221",
                                    "title": "Locke & Key, Vol. 1: Welcome to Lovecraft"
                                },
                                {
                                    "book_id": "3243517",
                                    "title": "رأيت رام الله"
                                },
                                {
                                    "book_id": "3257136",
                                    "title": "Dewey: The Small-Town Library Cat Who Touched the World"
                                },
                                {
                                    "book_id": "3344411",
                                    "title": "Every Man Dies Alone"
                                },
                                {
                                    "book_id": "3359940",
                                    "title": "If You're Reading This, It's Too Late (Secret, #2)"
                                },
                                {
                                    "book_id": "3392089",
                                    "title": "The Winter Sea (Slains, #1)"
                                },
                                {
                                    "book_id": "3438000",
                                    "title": "ثلاثية غرناطة"
                                },
                                {
                                    "book_id": "3522419",
                                    "title": "Nemesis (Harry Hole, #4)"
                                },
                                {
                                    "book_id": "3690427",
                                    "title": "Among the Mad (Maisie Dobbs, #6)"
                                },
                                {
                                    "book_id": "3710603",
                                    "title": "Y: The Last Man - The Deluxe Edition Book One"
                                },
                                {
                                    "book_id": "3918010",
                                    "title": "Kick-Ass (Kick-Ass, #1)"
                                },
                                {
                                    "book_id": "4110198",
                                    "title": "The 8th Confession (Women's Murder Club, #8)"
                                },
                                {
                                    "book_id": "4134071",
                                    "title": "Hunted (House of Night, #5)"
                                },
                                {
                                    "book_id": "4224060",
                                    "title": "The Element: How Finding Your Passion Changes Everything"
                                },
                                {
                                    "book_id": "4488657",
                                    "title": "رباعيات صلاح جاهين"
                                },
                                {
                                    "book_id": "4499669",
                                    "title": "The Love Dare"
                                },
                                {
                                    "book_id": "4673605",
                                    "title": "Dean Koontz's Frankenstein, Volume 1: Prodigal Son"
                                },
                                {
                                    "book_id": "4714126",
                                    "title": "The Walking Dead, Vol. 09: Here We Remain"
                                },
                                {
                                    "book_id": "4769651",
                                    "title": "The Everafter War (The Sisters Grimm, #7)"
                                },
                                {
                                    "book_id": "4808763",
                                    "title": "The Last Question"
                                },
                                {
                                    "book_id": "4912857",
                                    "title": "The Angel's Game (The Cemetery of Forgotten Books, #2)"
                                },
                                {
                                    "book_id": "4961959",
                                    "title": "The Dresden Files:  Storm Front, Volume 1-  The Gathering Storm"
                                },
                                {
                                    "book_id": "5031805",
                                    "title": "ESV Study Bible"
                                },
                                {
                                    "book_id": "5060378",
                                    "title": "The Girl Who Played with Fire (Millennium, #2)"
                                },
                                {
                                    "book_id": "5199185",
                                    "title": "Fahrenheit 451: The Authorized Adaptation"
                                },
                                {
                                    "book_id": "5295735",
                                    "title": "الحرافيش"
                                },
                                {
                                    "book_id": "5551522",
                                    "title": "Swimsuit"
                                },
                                {
                                    "book_id": "5558786",
                                    "title": "Metro 2033 (METRO, #1)"
                                },
                                {
                                    "book_id": "5599692",
                                    "title": "Batman: Whatever Happened to the Caped Crusader?"
                                },
                                {
                                    "book_id": "5607622",
                                    "title": "قمر على سمرقند"
                                },
                                {
                                    "book_id": "5771014",
                                    "title": "The Talent Code: Unlocking the Secret of Skill in Sports, Art, Music, Math, and Just About Everything Else"
                                },
                                {
                                    "book_id": "5899779",
                                    "title": "Pride and Prejudice and Zombies (Pride and Prejudice and Zombies, #1)"
                                },
                                {
                                    "book_id": "6006518",
                                    "title": "Strange Angels (Strange Angels, #1)"
                                },
                                {
                                    "book_id": "6065215",
                                    "title": "The Strain (The Strain Trilogy, #1)"
                                },
                                {
                                    "book_id": "6120349",
                                    "title": "Locke & Key, Vol. 2: Head Games"
                                },
                                {
                                    "book_id": "6164358",
                                    "title": "The Mysterious Benedict Society and the Prisoner's Dilemma (The Mysterious Benedict Society, #3)"
                                },
                                {
                                    "book_id": "6167746",
                                    "title": "Marked / Betrayed / Chosen / Untamed (House of Night, #1-4)"
                                },
                                {
                                    "book_id": "6218007",
                                    "title": "Kimi ni Todoke: From Me to You, Vol. 1"
                                },
                                {
                                    "book_id": "6236809",
                                    "title": "Black Bird, Vol. 01 (Black Bird, #1)"
                                },
                                {
                                    "book_id": "6255949",
                                    "title": "All You Need Is Kill"
                                },
                                {
                                    "book_id": "6260997",
                                    "title": "Half the Sky: Turning Oppression into Opportunity for Women Worldwide"
                                },
                                {
                                    "book_id": "6262365",
                                    "title": "Tempted (House of Night, #6)"
                                },
                                {
                                    "book_id": "6264710",
                                    "title": "Tempt Me at Twilight (The Hathaways, #3)"
                                },
                                {
                                    "book_id": "6266907",
                                    "title": "Alex Cross's Trial (Alex Cross, #15)"
                                },
                                {
                                    "book_id": "6282753",
                                    "title": "The Museum of Innocence"
                                },
                                {
                                    "book_id": "6294553",
                                    "title": "Deep Kiss of Winter (Includes: Immortals After Dark, #8; Alien Huntress, #3.5)"
                                },
                                {
                                    "book_id": "6303733",
                                    "title": "That Old Cape Magic"
                                },
                                {
                                    "book_id": "6304335",
                                    "title": "Beautiful Creatures (Caster Chronicles, #1)"
                                },
                                {
                                    "book_id": "6324090",
                                    "title": "Alice's Adventures in Wonderland"
                                },
                                {
                                    "book_id": "6344097",
                                    "title": "The Stand: Captain Trips"
                                },
                                {
                                    "book_id": "6345760",
                                    "title": "The Magician's Elephant"
                                },
                                {
                                    "book_id": "6356190",
                                    "title": "The Little Sisters of Eluria (The Dark Tower, #0.5)"
                                },
                                {
                                    "book_id": "6371117",
                                    "title": "Betrayals (Strange Angels, #2)"
                                },
                                {
                                    "book_id": "6375845",
                                    "title": "Batman: Hush"
                                },
                                {
                                    "book_id": "6387565",
                                    "title": "Witch & Wizard (Witch & Wizard, #1)"
                                },
                                {
                                    "book_id": "6390031",
                                    "title": "The Improbable Adventures of Sherlock Holmes"
                                },
                                {
                                    "book_id": "6393082",
                                    "title": "Ender's Game, Volume 1: Battle School (Ender's Saga)"
                                },
                                {
                                    "book_id": "6402364",
                                    "title": "SuperFreakonomics: Global Cooling, Patriotic Prostitutes And Why Suicide Bombers Should Buy Life Insurance"
                                },
                                {
                                    "book_id": "6419887",
                                    "title": "The Boy Who Harnessed the Wind: Creating Currents of Electricity and Hope"
                                },
                                {
                                    "book_id": "6441654",
                                    "title": "Twilight and Philosophy: Vampires, Vegetarians, and the Pursuit of Immortality"
                                },
                                {
                                    "book_id": "6443349",
                                    "title": "Percy Jackson and the Olympians Boxed Set (Percy Jackson and the Olympians, #1-5)"
                                },
                                {
                                    "book_id": "6443834",
                                    "title": "1Q84 BOOK 1 (1Q84, #1)"
                                },
                                {
                                    "book_id": "6452760",
                                    "title": "Stones Into Schools: Promoting Peace With Books, Not Bombs, in Afghanistan and Pakistan"
                                },
                                {
                                    "book_id": "6455256",
                                    "title": "Worst Case (Michael Bennett, #3)"
                                },
                                {
                                    "book_id": "6464094",
                                    "title": "This Book Is Not Good for You (Secret, #3)"
                                },
                                {
                                    "book_id": "6471550",
                                    "title": "The Unwritten, Vol. 1: Tommy Taylor and the Bogus Identity"
                                },
                                {
                                    "book_id": "6480781",
                                    "title": "Open"
                                },
                                {
                                    "book_id": "6486483",
                                    "title": "Emotional Intelligence 2.0"
                                },
                                {
                                    "book_id": "6488483",
                                    "title": "The Walking Dead, Vol. 11: Fear the Hunters"
                                },
                                {
                                    "book_id": "6493321",
                                    "title": "Logicomix: An epic search for truth"
                                },
                                {
                                    "book_id": "6496815",
                                    "title": "NurtureShock: New Thinking About Children"
                                },
                                {
                                    "book_id": "6497645",
                                    "title": "The Paris Vendetta (Cotton Malone, #5)"
                                },
                                {
                                    "book_id": "6514074",
                                    "title": "The Monuments Men: Allied Heroes, Nazi Thieves, and the Greatest Treasure Hunt in History"
                                },
                                {
                                    "book_id": "6515834",
                                    "title": "Forgotten God: Reversing Our Tragic Neglect of the Holy Spirit"
                                },
                                {
                                    "book_id": "6562380",
                                    "title": "When the Game Was Ours"
                                },
                                {
                                    "book_id": "6567017",
                                    "title": "Will Grayson, Will Grayson"
                                },
                                {
                                    "book_id": "6570502",
                                    "title": "Switch: How to Change Things When Change Is Hard"
                                },
                                {
                                    "book_id": "6578507",
                                    "title": "The Postmistress"
                                },
                                {
                                    "book_id": "6596542",
                                    "title": "The Man from Beijing"
                                },
                                {
                                    "book_id": "6600807",
                                    "title": "Jealousy (Strange Angels, #3)"
                                },
                                {
                                    "book_id": "6606855",
                                    "title": "Deadman Wonderland, Volume 1 (Deadman Wonderland, #1)"
                                },
                                {
                                    "book_id": "6609490",
                                    "title": "Night World: The Ultimate Fan Guide"
                                },
                                {
                                    "book_id": "6609549",
                                    "title": "By the Time You Read This, I'll Be Dead"
                                },
                                {
                                    "book_id": "6612005",
                                    "title": "Alice in the Country of Hearts, Vol. 01 (Alice in the Country of Hearts, #1)"
                                },
                                {
                                    "book_id": "6613956",
                                    "title": "The Solitude of Prime Numbers"
                                },
                                {
                                    "book_id": "6617185",
                                    "title": "Soccernomics: Why England Loses, Why Germany and Brazil Win, and Why the U.S., Japan, Australia, Turkey--and Even Iraq--Are Destined to Become the Kings of the World's Most Popular Sport"
                                },
                                {
                                    "book_id": "6617928",
                                    "title": "Saving CeeCee Honeycutt"
                                },
                                {
                                    "book_id": "6621287",
                                    "title": "com نسيان"
                                },
                                {
                                    "book_id": "6642715",
                                    "title": "The Forty Rules of Love"
                                },
                                {
                                    "book_id": "6647312",
                                    "title": "Nothing"
                                },
                                {
                                    "book_id": "6654104",
                                    "title": "Percy Jackson & the Olympians:  The Ultimate Guide"
                                },
                                {
                                    "book_id": "6662883",
                                    "title": "Oz: The Wonderful Wizard of Oz"
                                },
                                {
                                    "book_id": "6672183",
                                    "title": "Batman & Robin: Batman Reborn"
                                }
                            ]
                        },
                        "text/html": "<table><tr><th>book_id</th><th>title</th></tr><tr><td>1</td><td>Harry Potter and the Half-Blood Prince (Harry Potter, #6)</td></tr><tr><td>2</td><td>Harry Potter and the Order of the Phoenix (Harry Potter, #5)</td></tr><tr><td>3</td><td>Harry Potter and the Sorcerer&#39;s Stone (Harry Potter, #1)</td></tr><tr><td>5</td><td>Harry Potter and the Prisoner of Azkaban (Harry Potter, #3)</td></tr><tr><td>6</td><td>Harry Potter and the Goblet of Fire (Harry Potter, #4)</td></tr><tr><td>8</td><td>Harry Potter Boxed Set, Books 1-5 (Harry Potter, #1-5)</td></tr><tr><td>36</td><td>The Lord of the Rings: Weapons and Warfare</td></tr><tr><td>93</td><td>Heidi</td></tr><tr><td>98</td><td>What to Expect the First Year (What to Expect)</td></tr><tr><td>264</td><td>The Portrait of a Lady</td></tr><tr><td>275</td><td>The Lover</td></tr><tr><td>291</td><td>The Broken Wings</td></tr><tr><td>304</td><td>Daniel Deronda</td></tr><tr><td>320</td><td>One Hundred Years of Solitude</td></tr><tr><td>343</td><td>Perfume: The Story of a Murderer</td></tr><tr><td>378</td><td>The Phantom Tollbooth</td></tr><tr><td>428</td><td>Play It as It Lays</td></tr><tr><td>431</td><td>The New York Trilogy</td></tr><tr><td>656</td><td>War and Peace</td></tr><tr><td>662</td><td>Atlas Shrugged</td></tr><tr><td>665</td><td>The Virtue of Selfishness: A New Concept of Egoism</td></tr><tr><td>668</td><td>We the Living</td></tr><tr><td>706</td><td>America (The Book): A Citizen&#39;s Guide to Democracy Inaction</td></tr><tr><td>760</td><td>Memories of My Melancholy Whores</td></tr><tr><td>865</td><td>The Alchemist</td></tr><tr><td>870</td><td>Fullmetal Alchemist, Vol. 1 (Fullmetal Alchemist, #1)</td></tr><tr><td>952</td><td>The Five Love Languages of Children</td></tr><tr><td>998</td><td>The Millionaire Next Door: The Surprising Secrets of Americas Wealthy</td></tr><tr><td>1032</td><td>Trump: The Art of the Deal</td></tr><tr><td>1191</td><td>Giada&#39;s Family Dinners</td></tr><tr><td>1202</td><td>Freakonomics: A Rogue Economist Explores the Hidden Side of Everything (Freakonomics, #1)</td></tr><tr><td>1232</td><td>The Shadow of the Wind (The Cemetery of Forgotten Books,  #1)</td></tr><tr><td>1303</td><td>The 48 Laws of Power</td></tr><tr><td>1307</td><td>Fire Sea (The Death Gate Cycle, #3)</td></tr><tr><td>1319</td><td>The War of Art: Break Through the Blocks &amp; Win Your Inner Creative Battles</td></tr><tr><td>1362</td><td>The Histories</td></tr><tr><td>1371</td><td>The Iliad</td></tr><tr><td>1375</td><td>The Iliad/The Odyssey</td></tr><tr><td>1381</td><td>The Odyssey</td></tr><tr><td>1420</td><td>Hamlet</td></tr><tr><td>1427</td><td>The Zahir</td></tr><tr><td>1428</td><td>By the River Piedra I Sat Down and Wept</td></tr><tr><td>1430</td><td>Eleven Minutes</td></tr><tr><td>1431</td><td>Veronika Decides to Die</td></tr><tr><td>1519</td><td>The Oresteia  (Ορέστεια, #1-3)</td></tr><tr><td>1524</td><td>Agamemnon (Oresteia, #1)</td></tr><tr><td>1540</td><td>The Oedipus Cycle: Oedipus Rex/Oedipus at Colonus/Antigone (The Theban Plays, #1–3)</td></tr><tr><td>1554</td><td>Oedipus Rex  (The Theban Plays, #1)</td></tr><tr><td>1591</td><td>Lysistrata</td></tr><tr><td>1617</td><td>Night (The Night Trilogy #1)</td></tr><tr><td>1622</td><td>A Midsummer Night&#39;s Dream</td></tr><tr><td>1635</td><td>Execution: The Discipline of Getting Things Done</td></tr><tr><td>1715</td><td>Metamorphoses</td></tr><tr><td>1875</td><td>The History of Sexuality, Volume 1: An Introduction</td></tr><tr><td>1953</td><td>A Tale of Two Cities</td></tr><tr><td>1990</td><td>Martin Chuzzlewit</td></tr><tr><td>2094</td><td>A Briefer History of Time</td></tr><tr><td>2122</td><td>The Fountainhead</td></tr><tr><td>2156</td><td>Persuasion</td></tr><tr><td>2175</td><td>Madame Bovary</td></tr><tr><td>2183</td><td>Sentimental Education</td></tr><tr><td>2199</td><td>Team of Rivals: The Political Genius of Abraham Lincoln</td></tr><tr><td>2265</td><td>It&#39;s Not About the Bike: My Journey Back to Life</td></tr><tr><td>2493</td><td>The Time Machine</td></tr><tr><td>2517</td><td>My Name is Red</td></tr><tr><td>2526</td><td>Blindness</td></tr><tr><td>2528</td><td>All the Names</td></tr><tr><td>2530</td><td>Baltasar and Blimunda</td></tr><tr><td>2696</td><td>The Canterbury Tales</td></tr><tr><td>2932</td><td>Robinson Crusoe</td></tr><tr><td>2956</td><td>The Adventures of Huckleberry Finn</td></tr><tr><td>3008</td><td>A Little Princess</td></tr><tr><td>3049</td><td>Sir Gawain and the Green Knight </td></tr><tr><td>3061</td><td>The Natural Way to Draw</td></tr><tr><td>3300</td><td>Inés of My Soul</td></tr><tr><td>3304</td><td>City of the Beasts (Eagle and Jaguar, #1)</td></tr><tr><td>3465</td><td>Three Weeks With My Brother</td></tr><tr><td>3586</td><td>The Complete Sherlock Holmes, Vol 2</td></tr><tr><td>3690</td><td>The Power and the Glory</td></tr><tr><td>3698</td><td>The Quiet American</td></tr><tr><td>3836</td><td>Don Quixote</td></tr><tr><td>3869</td><td>A Brief History of Time</td></tr><tr><td>3885</td><td>The Taste of Home Cookbook</td></tr><tr><td>3888</td><td>The America&#39;s Test Kitchen Family Cookbook</td></tr><tr><td>3895</td><td>The Barefoot Contessa Cookbook</td></tr><tr><td>4004</td><td>The Pilgrimage</td></tr><tr><td>4006</td><td>The Valkyries</td></tr><tr><td>4008</td><td>The Devil and Miss Prym (On the Seventh Day, #3)</td></tr><tr><td>4076</td><td>In Search of Excellence: Lessons from America&#39;s Best-Run Companies</td></tr><tr><td>4099</td><td>The Pragmatic Programmer: From Journeyman to Master</td></tr><tr><td>4122</td><td>Built to Last: Successful Habits of Visionary Companies</td></tr><tr><td>4477</td><td>Complications: A Surgeon&#39;s Notes on an Imperfect Science</td></tr><tr><td>4662</td><td>The Short Stories</td></tr><tr><td>4796</td><td>The Winter of Our Discontent</td></tr><tr><td>4806</td><td>Longitude: The True Story of a Lone Genius Who Solved the Greatest Scientific Problem of His Time</td></tr><tr><td>4835</td><td>Haroun and the Sea of Stories (Khalifa Brothers, #1)</td></tr><tr><td>4887</td><td>The Drama of the Gifted Child: The Search for the True Self</td></tr><tr><td>4894</td><td>Who Moved My Cheese?</td></tr><tr><td>4898</td><td>Blue Ocean Strategy: How To Create Uncontested Market Space And Make The Competition Irrelevant</td></tr><tr><td>4929</td><td>Kafka on the Shore</td></tr><tr><td>4934</td><td>The Brothers Karamazov</td></tr><tr><td>4978</td><td>Wolves of the Calla (The Dark Tower, #5)</td></tr><tr><td>4983</td><td>Kurt Vonnegut&#39;s Cat&#39;s Cradle (Modern Critical Interpretations)</td></tr><tr><td>5084</td><td>My Life in France</td></tr><tr><td>5093</td><td>Song of Susannah (The Dark Tower, #6)</td></tr><tr><td>5096</td><td>Wizard and Glass (The Dark Tower, #4)</td></tr><tr><td>5205</td><td>A Map of the World</td></tr><tr><td>5289</td><td>Complete Works of Oscar Wilde</td></tr><tr><td>5297</td><td>The Picture of Dorian Gray</td></tr><tr><td>5338</td><td>A Christmas Carol and Other Christmas Writings</td></tr><tr><td>5413</td><td>&#39;Salem&#39;s Lot</td></tr><tr><td>5470</td><td>1984</td></tr><tr><td>5472</td><td>Animal Farm / 1984</td></tr><tr><td>5479</td><td>Brave New World / Brave New World Revisited</td></tr><tr><td>5508</td><td>Anne Frank: Beyond the Diary - A Photographic Remembrance</td></tr><tr><td>5509</td><td>Anne Frank Remembered: The Story of the Woman Who Helped to Hide the Frank Family</td></tr><tr><td>5559</td><td>Jack: Straight from the Gut</td></tr><tr><td>5571</td><td>Cradle to Cradle: Remaking the Way We Make Things</td></tr><tr><td>5659</td><td>The Wind in the Willows</td></tr><tr><td>5693</td><td>Selected Stories</td></tr><tr><td>5695</td><td>Demons</td></tr><tr><td>5697</td><td>The Complete Short Novels</td></tr><tr><td>5787</td><td>The Aleph and Other Stories </td></tr><tr><td>5797</td><td>Vanity Fair</td></tr><tr><td>5805</td><td>V for Vendetta</td></tr><tr><td>5890</td><td>The Woman in White</td></tr><tr><td>5932</td><td>Twenty Love Poems and a Song of Despair</td></tr><tr><td>5936</td><td>The Poetry of Pablo Neruda</td></tr><tr><td>5954</td><td>Narcissus and Goldmund</td></tr><tr><td>6138</td><td>The Moonstone</td></tr><tr><td>6174</td><td>Survival in Auschwitz</td></tr><tr><td>6185</td><td>Wuthering Heights</td></tr><tr><td>6295</td><td>Howl and Other Poems</td></tr><tr><td>6310</td><td>Charlie and the Chocolate Factory (Charlie Bucket, #1)</td></tr><tr><td>6319</td><td>The BFG</td></tr><tr><td>6327</td><td>The Witches</td></tr><tr><td>6328</td><td>Revolting Rhymes</td></tr><tr><td>6425</td><td>Hard Eight (Stephanie Plum, #8)</td></tr><tr><td>6551</td><td>Herzog</td></tr><tr><td>6656</td><td>The Divine Comedy</td></tr><tr><td>6667</td><td>Boy: Tales of Childhood</td></tr><tr><td>6670</td><td>The Magic Finger (Young Puffin Developing Reader)</td></tr><tr><td>6678</td><td>Going Solo</td></tr><tr><td>6687</td><td>Charlie and the Great Glass Elevator (Charlie Bucket, #2)</td></tr><tr><td>6689</td><td>James and the Giant Peach</td></tr><tr><td>6690</td><td>Danny the Champion of the World</td></tr><tr><td>6693</td><td>Fantastic Mr. Fox</td></tr><tr><td>6694</td><td>The Giraffe and the Pelly and Me</td></tr><tr><td>6900</td><td>Tuesdays with Morrie</td></tr><tr><td>6952</td><td>Like Water for Chocolate</td></tr><tr><td>6969</td><td>Emma</td></tr><tr><td>7082</td><td>Do Androids Dream of Electric Sheep?</td></tr><tr><td>7126</td><td>The Count of Monte Cristo</td></tr><tr><td>7144</td><td>Crime and Punishment</td></tr><tr><td>7184</td><td>Twenty Years After (The D&#39;Artagnan Romances, #2)</td></tr><tr><td>7186</td><td>La Dame aux Camélias</td></tr><tr><td>7194</td><td>The Club Dumas</td></tr><tr><td>7252</td><td>How to Make Love Like a Porn Star: A Cautionary Tale</td></tr><tr><td>7329</td><td>Unfinished Tales of Númenor and Middle-Earth</td></tr><tr><td>7332</td><td>The Silmarillion (Middle-Earth Universe)</td></tr><tr><td>7389</td><td>Runaways, Vol. 1: Pride and Joy (Runaways, #1)</td></tr><tr><td>7437</td><td>Naked Lunch</td></tr><tr><td>7510</td><td>The Beach House</td></tr><tr><td>7588</td><td>A Portrait of the Artist as a Young Man</td></tr><tr><td>7604</td><td>Lolita</td></tr><tr><td>7628</td><td>The Good Soldier</td></tr><tr><td>7663</td><td>A Case of Need</td></tr><tr><td>7707</td><td>Pygmalion &amp; My Fair Lady</td></tr><tr><td>7723</td><td>The Metamorphosis and Other Stories</td></tr><tr><td>7728</td><td>Antigone (The Theban Plays, #3)</td></tr><tr><td>7733</td><td>Gulliver&#39;s Travels</td></tr><tr><td>7745</td><td>Fear and Loathing in Las Vegas</td></tr><tr><td>7780</td><td>The Secret Art of Dr. Seuss</td></tr><tr><td>7788</td><td>The Cat in the Hat and Other Dr. Seuss Favorites</td></tr><tr><td>7797</td><td>Ten Apples Up On Top!</td></tr><tr><td>7882</td><td>On the Banks of Plum Creek  (Little House, #4)</td></tr><tr><td>7909</td><td>Betsy-Tacy (Betsy-Tacy, #1)</td></tr><tr><td>7981</td><td>The Long Patrol (Redwall, #10)</td></tr><tr><td>7983</td><td>Salamandastron (Redwall, #5)</td></tr><tr><td>7993</td><td>Mariel of Redwall (Redwall, #4)</td></tr><tr><td>8073</td><td>Cloudy With a Chance of Meatballs</td></tr><tr><td>8172</td><td>Superman: Birthright</td></tr><tr><td>8248</td><td>By the Shores of Silver Lake  (Little House, #5)</td></tr><tr><td>8252</td><td>Farmer Boy (Little House, #3)</td></tr><tr><td>8253</td><td>Little Town on the Prairie  (Little House, #7)</td></tr><tr><td>8282</td><td>The Long Winter (Little House, #6)</td></tr><tr><td>8296</td><td>The First Four Years  (Little House, #9)</td></tr><tr><td>8337</td><td>Little House in the Big Woods (Little House, #1)</td></tr><tr><td>8515</td><td>The Man Who Listens to Horses</td></tr><tr><td>8676</td><td>Unlimited Power : The New Science Of Personal Achievement</td></tr><tr><td>8696</td><td>Last Chance to See</td></tr><tr><td>8745</td><td>Desert Flower</td></tr><tr><td>8909</td><td>The War of the Worlds</td></tr><tr><td>8921</td><td>The Hound of the Baskervilles</td></tr><tr><td>8964</td><td>Jesus Freaks: Stories of Those Who Stood for Jesus, the Ultimate Jesus Freaks (Jesus Freaks, #1)</td></tr><tr><td>9014</td><td>The Long Walk</td></tr><tr><td>9328</td><td>The House of the Spirits</td></tr><tr><td>9454</td><td>Phenomenology of Spirit</td></tr><tr><td>9516</td><td>Persepolis: The Story of a Childhood (Persepolis, #1)</td></tr><tr><td>9517</td><td>Persepolis 2: The Story of a Return (Persepolis, #2)</td></tr><tr><td>9526</td><td>Embroideries</td></tr><tr><td>9531</td><td>Peter and the Shadow Thieves (Peter and the Starcatchers, #2)</td></tr><tr><td>9555</td><td>The Elephant Vanishes</td></tr><tr><td>9557</td><td>Sputnik Sweetheart</td></tr><tr><td>9646</td><td>Homage to Catalonia</td></tr><tr><td>9712</td><td>Love in the Time of Cholera</td></tr><tr><td>9717</td><td>The Unbearable Lightness of Being</td></tr><tr><td>9762</td><td>Loving What Is: Four Questions That Can Change Your Life</td></tr><tr><td>9804</td><td>The Baron in the Trees</td></tr><tr><td>9809</td><td>Invisible Cities</td></tr><tr><td>9833</td><td>Blind Willow, Sleeping Woman</td></tr><tr><td>9838</td><td>The Bookseller of Kabul</td></tr><tr><td>9854</td><td>The End of Poverty</td></tr><tr><td>9998</td><td>The Woman in the Dunes</td></tr><tr><td>10033</td><td>Being and Nothingness</td></tr><tr><td>10037</td><td>No Exit and Three Other Plays</td></tr><tr><td>10058</td><td>Flags of Our Fathers</td></tr><tr><td>10065</td><td>Wayside School Is Falling Down (Wayside School #2)</td></tr><tr><td>10210</td><td>Jane Eyre</td></tr><tr><td>10374</td><td>Hard-Boiled Wonderland and the End of the World</td></tr><tr><td>10412</td><td>He&#39;s Just Not That Into You: The No-Excuses Truth to Understanding Guys</td></tr><tr><td>10444</td><td>Ballet Shoes (Shoes, #1)</td></tr><tr><td>10461</td><td>Desolation Angels</td></tr><tr><td>10505</td><td>History of Beauty</td></tr><tr><td>10507</td><td>Baudolino</td></tr><tr><td>10534</td><td>The Art of War</td></tr><tr><td>10577</td><td>Roadwork</td></tr><tr><td>10585</td><td>Insomnia</td></tr><tr><td>10596</td><td>The Regulators</td></tr><tr><td>10605</td><td>Thinner</td></tr><tr><td>10607</td><td>Black House (The Talisman, #2)</td></tr><tr><td>10617</td><td>The Bachman Books</td></tr><tr><td>10625</td><td>Dolores Claiborne</td></tr><tr><td>10628</td><td>Night Shift</td></tr><tr><td>10629</td><td>Christine</td></tr><tr><td>10959</td><td>Sophie&#39;s World</td></tr><tr><td>11012</td><td>Dubliners</td></tr><tr><td>11031</td><td>The Flanders Panel</td></tr><tr><td>11127</td><td>The Chronicles of Narnia (Chronicles of Narnia, #1-7)</td></tr><tr><td>11229</td><td>The Sea, the Sea</td></tr><tr><td>11275</td><td>The Wind-Up Bird Chronicle</td></tr><tr><td>11297</td><td>Norwegian Wood</td></tr><tr><td>11298</td><td>A Wild Sheep Chase (The Rat, #3)</td></tr><tr><td>11299</td><td>After the Quake</td></tr><tr><td>11339</td><td>100 Love Sonnets</td></tr><tr><td>11366</td><td>The Guns of August</td></tr><tr><td>11413</td><td>Captivating: Unveiling the Mystery of a Woman&#39;s Soul</td></tr><tr><td>11430</td><td>Return (Redemption, #3)</td></tr><tr><td>11432</td><td>Reunion (Redemption, #5)</td></tr><tr><td>11433</td><td>Redemption (Redemption, #1)</td></tr><tr><td>11436</td><td>Rejoice (Redemption, #4)</td></tr><tr><td>11570</td><td>Dreamcatcher</td></tr><tr><td>11574</td><td>The Body</td></tr><tr><td>11580</td><td>Creepshow</td></tr><tr><td>11605</td><td>Riding the Bullet</td></tr><tr><td>11607</td><td>The Running Man</td></tr><tr><td>11623</td><td>The Unabridged Journals of Sylvia Plath</td></tr><tr><td>11691</td><td>Snow</td></tr><tr><td>11824</td><td>The Whipping Boy</td></tr><tr><td>11908</td><td>The Adventures of Augie March</td></tr><tr><td>11987</td><td>The Myth of Sisyphus and Other Essays</td></tr><tr><td>11989</td><td>The Plague</td></tr><tr><td>11991</td><td>The Fall</td></tr><tr><td>12067</td><td>Good Omens: The Nice and Accurate Prophecies of Agnes Nutter, Witch</td></tr><tr><td>12073</td><td>Philosophical Investigations</td></tr><tr><td>12296</td><td>The Scarlet Letter</td></tr><tr><td>12321</td><td>Beyond Good and Evil</td></tr><tr><td>12358</td><td>The Partly Cloudy Patriot</td></tr><tr><td>12395</td><td>Journey to the End of the Night</td></tr><tr><td>12505</td><td>The Idiot</td></tr><tr><td>12617</td><td>Manufacturing Consent: The Political Economy of the Mass Media</td></tr><tr><td>12651</td><td>The Social Contract</td></tr><tr><td>12749</td><td>Swann&#39;s Way (In Search of Lost Time, #1)</td></tr><tr><td>12857</td><td>The Gambler</td></tr><tr><td>12873</td><td>Rebecca</td></tr><tr><td>12914</td><td>The Aeneid</td></tr><tr><td>12957</td><td>Much Ado About Nothing</td></tr><tr><td>13006</td><td>Julius Caesar</td></tr><tr><td>13020</td><td>King Henry IV, Part 1 (Wars of the Roses, #2)</td></tr><tr><td>13023</td><td>Alice in Wonderland</td></tr><tr><td>13130</td><td>Judge &amp; Jury</td></tr><tr><td>13131</td><td>The 6th Target (Women&#39;s Murder Club, #6)</td></tr><tr><td>13132</td><td>3rd Degree (Women&#39;s Murder Club, #3)</td></tr><tr><td>13133</td><td>The Quickie</td></tr><tr><td>13134</td><td>You&#39;ve Been Warned</td></tr><tr><td>13136</td><td>2nd Chance (Women&#39;s Murder Club, #2)</td></tr><tr><td>13147</td><td>Honeymoon (Honeymoon, #1)</td></tr><tr><td>13157</td><td>The Jester</td></tr><tr><td>13270</td><td>Poetics</td></tr><tr><td>13501</td><td>The Hedge Knight (The Hedge Knight Graphic Novels, #1)</td></tr><tr><td>13521</td><td>Son of a Witch (The Wicked Years, #2)</td></tr><tr><td>13570</td><td>Tsubasa: RESERVoir CHRoNiCLE, Vol. 01</td></tr><tr><td>13614</td><td>Death Note, Vol. 8: Target (Death Note, #8)</td></tr><tr><td>13615</td><td>Death Note, Vol. 1: Boredom (Death Note, #1)</td></tr><tr><td>13616</td><td>Death Note, Vol. 4: Love (Death Note, #4)</td></tr><tr><td>13617</td><td>Death Note, Vol. 5: Whiteout (Death Note, #5)</td></tr><tr><td>13618</td><td>Death Note, Vol. 3: Hard Run (Death Note, #3)</td></tr><tr><td>13619</td><td>Death Note, Vol. 2: Confluence (Death Note, #2)</td></tr><tr><td>13620</td><td>Death Note, Vol. 6: Give-and-Take (Death Note, #6)</td></tr><tr><td>13621</td><td>Death Note, Vol. 7: Zero (Death Note, #7)</td></tr><tr><td>13815</td><td>Servant of the Empire (The Empire Trilogy, #2)</td></tr><tr><td>13821</td><td>Lord of Light</td></tr><tr><td>14028</td><td>Snow Country</td></tr><tr><td>14082</td><td>Malgudi Days</td></tr><tr><td>14118</td><td>Beauty and the Beast (Disney)</td></tr><tr><td>14142</td><td>The Art of Loving</td></tr><tr><td>14403</td><td>The Story of Ruby Bridges</td></tr><tr><td>14469</td><td>Selected Stories</td></tr><tr><td>14480</td><td>Calling Doctor Amelia Bedelia</td></tr><tr><td>14481</td><td>Come Back, Amelia Bedelia</td></tr><tr><td>14498</td><td>Neil Gaiman&#39;s Neverwhere</td></tr><tr><td>14572</td><td>Peace Is Every Step: The Path of Mindfulness in Everyday Life</td></tr><tr><td>14595</td><td>Please Kill Me: The Uncensored Oral History of Punk</td></tr><tr><td>14662</td><td>The Red and the Black</td></tr><tr><td>14680</td><td>The Charterhouse of Parma</td></tr><tr><td>14706</td><td>Faust: First Part</td></tr><tr><td>14935</td><td>Sense and Sensibility</td></tr><tr><td>14942</td><td>Mrs. Dalloway</td></tr><tr><td>15014</td><td>Crucial Conversations: Tools for Talking When Stakes Are High</td></tr><tr><td>15161</td><td>The Ladies of Grace Adieu and Other Stories</td></tr><tr><td>15638</td><td>Cyrano de Bergerac</td></tr><tr><td>15645</td><td>Inferno (The Divine Comedy #1)</td></tr><tr><td>15719</td><td>Marvel 1602</td></tr><tr><td>15779</td><td>Sideways Stories from Wayside School (Wayside School #1)</td></tr><tr><td>15852</td><td>Relativity: The Special and the General Theory</td></tr><tr><td>15881</td><td>Harry Potter and the Chamber of Secrets (Harry Potter, #2)</td></tr><tr><td>15997</td><td>Paradise Lost</td></tr><tr><td>16076</td><td>The Awakening and Selected Stories</td></tr><tr><td>16312</td><td>One, Two, Buckle My Shoe (Hercule Poirot, #22)</td></tr><tr><td>16343</td><td>The Mysterious Affair at Styles (Hercule Poirot, #1)</td></tr><tr><td>16527</td><td>Daughter of Fortune</td></tr><tr><td>16532</td><td>Of Love and Shadows</td></tr><tr><td>16619</td><td>Democracy in America </td></tr><tr><td>16631</td><td>Steppenwolf</td></tr><tr><td>16634</td><td>The Glass Bead Game</td></tr><tr><td>16640</td><td>The Sorrows of Young Werther</td></tr><tr><td>16696</td><td>The Final Solution</td></tr><tr><td>16707</td><td>Wonder Boys</td></tr><tr><td>16791</td><td>Death: The High Cost of Living Collected</td></tr><tr><td>16982</td><td>Marvels</td></tr><tr><td>16992</td><td>Kingdom Come</td></tr><tr><td>17125</td><td>One Day in the Life of Ivan Denisovich</td></tr><tr><td>17136</td><td>The Time Machine/The Invisible Man</td></tr><tr><td>17245</td><td>Dracula</td></tr><tr><td>17250</td><td>The Crucible</td></tr><tr><td>17349</td><td>The Demon-Haunted World: Science as a Candle in the Dark</td></tr><tr><td>17461</td><td>Misty of Chincoteague (Misty, #1)</td></tr><tr><td>17689</td><td>Franz Kafka&#39;s The Castle (Dramatization)</td></tr><tr><td>17690</td><td>The Trial</td></tr><tr><td>17717</td><td>Labyrinths:  Selected Stories and Other Writings</td></tr><tr><td>17728</td><td>The House of Mirth</td></tr><tr><td>17799</td><td>South of the Border, West of the Sun</td></tr><tr><td>17801</td><td>Underground: The Tokyo Gas Attack and the Japanese Psyche</td></tr><tr><td>17803</td><td>After Dark</td></tr><tr><td>17810</td><td>In the Miso Soup</td></tr><tr><td>17841</td><td>Foucault&#39;s Pendulum</td></tr><tr><td>17876</td><td>Notes from Underground, White Nights, The Dream of a Ridiculous Man, and Selections from The House of the Dead</td></tr><tr><td>17877</td><td>The House of the Dead</td></tr><tr><td>17961</td><td>Collected Fictions</td></tr><tr><td>18005</td><td>How I Became a Pirate</td></tr><tr><td>18135</td><td>Romeo and Juliet</td></tr><tr><td>18254</td><td>Oliver Twist</td></tr><tr><td>18266</td><td>Gargantua and Pantagruel</td></tr><tr><td>18288</td><td>Critique of Pure Reason</td></tr><tr><td>18304</td><td>The Anti-Christ</td></tr><tr><td>18386</td><td>The Death of Ivan Ilych</td></tr><tr><td>18414</td><td>Utopia</td></tr><tr><td>18419</td><td>The Kissing Hand</td></tr><tr><td>18420</td><td>Hands Of Light</td></tr><tr><td>18422</td><td>Gifted Hands: The Ben Carson Story</td></tr><tr><td>18423</td><td>The Left Hand of Darkness</td></tr><tr><td>18431</td><td>The Rule of Four</td></tr><tr><td>18490</td><td>Frankenstein</td></tr><tr><td>18545</td><td>Rosencrantz and Guildenstern Are Dead</td></tr><tr><td>18750</td><td>Beauty&#39;s Punishment (Sleeping Beauty, #2)</td></tr><tr><td>18884</td><td>Polgara the Sorceress (Malloreon)</td></tr><tr><td>18889</td><td>Lady of Avalon (Avalon, #3)</td></tr><tr><td>18892</td><td>The Forest House (Avalon, #2)</td></tr><tr><td>19049</td><td>What the Bleep Do We Know!?: Discovering the Endless Possibilities for Altering Your Everyday Reality</td></tr><tr><td>19068</td><td>The Nicomachean Ethics</td></tr><tr><td>19089</td><td>Middlemarch</td></tr><tr><td>19106</td><td>The Nose</td></tr><tr><td>19117</td><td>Fathers and Sons</td></tr><tr><td>19164</td><td>Purgatorio (The Divine Comedy, #2)</td></tr><tr><td>19302</td><td>Pippi Longstocking</td></tr><tr><td>19307</td><td>Pippi in the South Seas</td></tr><tr><td>19312</td><td>The Brothers Lionheart</td></tr><tr><td>19314</td><td>Ronia, the Robber&#39;s Daughter</td></tr><tr><td>19351</td><td>The Epic of Gilgamesh</td></tr><tr><td>19400</td><td>The Decline and Fall of the Roman Empire</td></tr><tr><td>19552</td><td>Essentials of Classic Italian Cooking</td></tr><tr><td>19688</td><td>Breaking Point (Tom Clancy&#39;s Net Force, #4)</td></tr><tr><td>20249</td><td>Hunters of Dune (Dune Chronicles #7)</td></tr><tr><td>20252</td><td>House Corrino (Prelude to Dune #3)</td></tr><tr><td>20253</td><td>House Harkonnen (Prelude to Dune #2)</td></tr><tr><td>20413</td><td>A Child&#39;s Garden of Verses</td></tr><tr><td>20563</td><td>Adam Bede</td></tr><tr><td>20564</td><td>The Mill on the Floss</td></tr><tr><td>21025</td><td>The Gift of Therapy: An Open Letter to a New Generation of Therapists and Their Patients</td></tr><tr><td>21323</td><td>Cold Fire / Hideaway / The Key to Midnight</td></tr><tr><td>21324</td><td>Fables, Vol. 8: Wolves</td></tr><tr><td>21325</td><td>Fables, Vol. 4: March of the Wooden Soldiers</td></tr><tr><td>21326</td><td>Fables, Vol. 1: Legends in Exile</td></tr><tr><td>21327</td><td>Fables, Vol. 7: Arabian Nights [and Days] (Fables, #7)</td></tr><tr><td>21328</td><td>Fables, Vol. 6: Homelands</td></tr><tr><td>21329</td><td>Fables, Vol. 3: Storybook Love</td></tr><tr><td>21330</td><td>Fables, Vol. 5: The Mean Seasons</td></tr><tr><td>21337</td><td>Prodigal Son (Dean Koontz&#39;s Frankenstein, #1)</td></tr><tr><td>21340</td><td>City of Night (Dean Koontz&#39;s Frankenstein, #2)</td></tr><tr><td>21348</td><td>Aesop&#39;s Fables</td></tr><tr><td>21362</td><td>Seize the Night (Moonlight Bay, #2)</td></tr><tr><td>21436</td><td>Cat and Mouse (Alex Cross, #4)</td></tr><tr><td>21445</td><td>The 5th Horseman (Women&#39;s Murder Club, #5)</td></tr><tr><td>21745</td><td>Without Fail (Jack Reacher, #6)</td></tr><tr><td>21996</td><td>The Devil in the White City: Murder, Magic, and Madness at the Fair That Changed America</td></tr><tr><td>22034</td><td>The Godfather</td></tr><tr><td>22323</td><td>Burning Chrome (Sprawl, #0)</td></tr><tr><td>22358</td><td>We3</td></tr><tr><td>22369</td><td>All-Star Superman, Vol. 1</td></tr><tr><td>22374</td><td>Batman: Arkham Asylum - A Serious House on Serious Earth</td></tr><tr><td>22416</td><td>Transmetropolitan, Vol. 1: Back on the Street (Transmetropolitan, #1)</td></tr><tr><td>22417</td><td>Transmetropolitan, Vol. 2: Lust for Life (Transmetropolitan, #2)</td></tr><tr><td>22418</td><td>Transmetropolitan, Vol. 3: Year of the Bastard (Transmetropolitan, #3)</td></tr><tr><td>22420</td><td>Transmetropolitan, Vol. 5: Lonely City (Transmetropolitan, #5)</td></tr><tr><td>22421</td><td>Transmetropolitan, Vol. 4: The New Scum (Transmetropolitan, #4)</td></tr><tr><td>22469</td><td>Wolverine: Origin</td></tr><tr><td>22590</td><td>Ubik</td></tr><tr><td>22632</td><td>The Trial and Death of Socrates</td></tr><tr><td>22904</td><td>The Complete Stories</td></tr><tr><td>22911</td><td>Amerika</td></tr><tr><td>22917</td><td>The Complete Grimm&#39;s Fairy Tales</td></tr><tr><td>22995</td><td>La casa de Bernarda Alba</td></tr><tr><td>23454</td><td>Dragons of Winter Night (Dragonlance: Chronicles, #2)</td></tr><tr><td>23522</td><td>Mythology: Timeless Tales of Gods and Heroes</td></tr><tr><td>23529</td><td>From Hell</td></tr><tr><td>23753</td><td>The Absolute Sandman, Volume One</td></tr><tr><td>23754</td><td>Preludes &amp; Nocturnes (The Sandman #1)</td></tr><tr><td>23772</td><td>Green Eggs and Ham</td></tr><tr><td>23878</td><td>Chronicle of a Death Foretold</td></tr><tr><td>23884</td><td>The General in His Labyrinth</td></tr><tr><td>23885</td><td>No One Writes to the Colonel and Other Stories</td></tr><tr><td>23887</td><td>The Autumn of the Patriarch</td></tr><tr><td>23940</td><td>Junky</td></tr><tr><td>23955</td><td>Trainspotting</td></tr><tr><td>24019</td><td>The New Best Recipe</td></tr><tr><td>24096</td><td>Leonardo&#39;s Notebooks</td></tr><tr><td>24128</td><td>The Merchant of Venice</td></tr><tr><td>24178</td><td>Charlotte&#39;s Web</td></tr><tr><td>24213</td><td>Alice&#39;s Adventures in Wonderland &amp; Through the Looking-Glass</td></tr><tr><td>24215</td><td>Alice&#39;s Adventures in Wonderland: A Pop-Up Adaptation</td></tr><tr><td>24280</td><td>Les Misérables</td></tr><tr><td>24335</td><td>The Trumpet of the Swan</td></tr><tr><td>24384</td><td>The Cricket in Times Square</td></tr><tr><td>24583</td><td>The Adventures of Tom Sawyer</td></tr><tr><td>24724</td><td>Drop City</td></tr><tr><td>24796</td><td>Zorro</td></tr><tr><td>24929</td><td>Lost</td></tr><tr><td>24937</td><td>Wicked: The Grimmerie</td></tr><tr><td>24938</td><td>Wicked - Piano/Vocal Arrangement</td></tr><tr><td>24965</td><td>Fear and Trembling</td></tr><tr><td>25051</td><td>Mrs. Piggle-Wiggle (Mrs. Piggle Wiggle, #1)</td></tr><tr><td>25052</td><td>Mrs. Piggle-Wiggle&#39;s Magic (Mrs. Piggle Wiggle, #2)</td></tr><tr><td>25053</td><td>Hello, Mrs. Piggle-Wiggle (Mrs. Piggle Wiggle, #4)</td></tr><tr><td>25099</td><td>The Doll&#39;s House (The Sandman #2)</td></tr><tr><td>25100</td><td>Dream Country (The Sandman #3)</td></tr><tr><td>25101</td><td>Season of Mists (The Sandman #4)</td></tr><tr><td>25102</td><td>A Game of You (The Sandman #5)</td></tr><tr><td>25103</td><td>Worlds&#39; End (The Sandman #8)</td></tr><tr><td>25104</td><td>The Wake (The Sandman #10)</td></tr><tr><td>25105</td><td>Brief Lives (The Sandman #7)</td></tr><tr><td>25106</td><td>Fables and Reflections (The Sandman #6)</td></tr><tr><td>25190</td><td>Beauty&#39;s Release (Sleeping Beauty, #3)</td></tr><tr><td>25200</td><td>Silence</td></tr><tr><td>25365</td><td>Out</td></tr><tr><td>25373</td><td>Nick &amp; Norah&#39;s Infinite Playlist</td></tr><tr><td>25378</td><td>The Dirt: Confessions of the World&#39;s Most Notorious Rock Band</td></tr><tr><td>25403</td><td>The Orange Girl</td></tr><tr><td>25460</td><td>Animal, Vegetable, Miracle: A Year of Food Life</td></tr><tr><td>25790</td><td>The Lord of the Rings Sketchbook</td></tr><tr><td>25955</td><td>The Medium is the Massage</td></tr><tr><td>26085</td><td>Identity Crisis</td></tr><tr><td>26097</td><td>Slowness</td></tr><tr><td>26101</td><td>Laughable Loves</td></tr><tr><td>26581</td><td>Sleeping Beauty Box Set</td></tr><tr><td>26582</td><td>The Claiming of Sleeping Beauty (Sleeping Beauty, #1)</td></tr><tr><td>26599</td><td>Selected Poems</td></tr><tr><td>27037</td><td>Confessions</td></tr><tr><td>27297</td><td>The Analects</td></tr><tr><td>27333</td><td>Silent Spring</td></tr><tr><td>27523</td><td>Left Behind (Left Behind, #1)</td></tr><tr><td>27525</td><td>Armageddon: The Cosmic Battle of the Ages (Left Behind, #11)</td></tr><tr><td>27526</td><td>Desecration (Left Behind, #9)</td></tr><tr><td>27528</td><td>Nicolae (Left Behind, #3)</td></tr><tr><td>27530</td><td>The Remnant (Left Behind, #10)</td></tr><tr><td>27712</td><td>The Neverending Story</td></tr><tr><td>27822</td><td>Eugene Onegin</td></tr><tr><td>28194</td><td>Inkheart (Inkworld, #1)</td></tr><tr><td>28195</td><td>Inkspell (Inkworld, #2)</td></tr><tr><td>28212</td><td>And the Band Played On: Politics, People, and the AIDS Epidemic</td></tr><tr><td>28381</td><td>Dead Souls</td></tr><tr><td>28407</td><td>Germinal (Les Rougon-Macquart, #13)</td></tr><tr><td>28481</td><td>Dragon Wing (The Death Gate Cycle, #1)</td></tr><tr><td>28482</td><td>The Hand of Chaos (The Death Gate Cycle, #5)</td></tr><tr><td>28483</td><td>The Seventh Gate (The Death Gate Cycle, #7)</td></tr><tr><td>28484</td><td>Into the Labyrinth (The Death Gate Cycle, #6)</td></tr><tr><td>28485</td><td>Elven Star (The Death Gate Cycle, #2)</td></tr><tr><td>28507</td><td>Serpent Mage (The Death Gate Cycle, #4)</td></tr><tr><td>28635</td><td>Identity</td></tr><tr><td>28700</td><td>Falling Man</td></tr><tr><td>28862</td><td>The Prince</td></tr><tr><td>29022</td><td>The Twelve Caesars</td></tr><tr><td>29034</td><td>Twelve Angry Men</td></tr><tr><td>29187</td><td>Time of the Twins (Dragonlance: Legends, #1)</td></tr><tr><td>29254</td><td>Be Here Now</td></tr><tr><td>29641</td><td>The End of the Affair</td></tr><tr><td>30065</td><td>The Walking Dead, Vol. 05: The Best Defense</td></tr><tr><td>30068</td><td>The Book of the Dead (Pendergast, #7; Diogenes, #3)</td></tr><tr><td>30069</td><td>The Walking Dead, Vol. 03: Safety Behind Bars</td></tr><tr><td>30071</td><td>The Walking Dead, Book One (The Walking Dead #1-12)</td></tr><tr><td>30183</td><td>Marked (House of Night, #1)</td></tr><tr><td>30289</td><td>The Republic</td></tr><tr><td>30292</td><td>Five Dialogues: Euthyphro, Apology, Crito, Meno, Phaedo</td></tr><tr><td>30474</td><td>The Communist Manifesto</td></tr><tr><td>30593</td><td>Pnin</td></tr><tr><td>30597</td><td>The Hunchback of Notre-Dame</td></tr><tr><td>30658</td><td>Meditations on First Philosophy</td></tr><tr><td>30659</td><td>Meditations</td></tr><tr><td>30672</td><td>Darkness at Noon</td></tr><tr><td>31157</td><td>The Rising: Antichrist is Born  (Before They Were Left Behind, #1)</td></tr><tr><td>31168</td><td>Shirley</td></tr><tr><td>31173</td><td>Villette</td></tr><tr><td>31242</td><td>Bleak House</td></tr><tr><td>31250</td><td>Little Dorrit</td></tr><tr><td>31334</td><td>Belinda</td></tr><tr><td>31426</td><td>The Collected Poems</td></tr><tr><td>31456</td><td>The Twits</td></tr><tr><td>31463</td><td>Far from the Madding Crowd</td></tr><tr><td>31491</td><td>The Rainbow</td></tr><tr><td>31548</td><td>Of Human Bondage</td></tr><tr><td>31555</td><td>Phantoms in the Brain: Probing the Mysteries of the Human Mind</td></tr><tr><td>31741</td><td>Innocent Erendira and Other Stories</td></tr><tr><td>31819</td><td>Harry Potter and Philosophy: If Aristotle Ran Hogwarts</td></tr><tr><td>31862</td><td>Discourse on Method and Meditations on First Philosophy</td></tr><tr><td>31975</td><td>Astonishing X-Men, Volume 2: Dangerous</td></tr><tr><td>31979</td><td>Astonishing X-Men, Volume 1: Gifted</td></tr><tr><td>32067</td><td>Lady Chatterley&#39;s Lover</td></tr><tr><td>32071</td><td>Sons and Lovers</td></tr><tr><td>32261</td><td>Tess of the D&#39;Urbervilles</td></tr><tr><td>32426</td><td>Icebound</td></tr><tr><td>32428</td><td>Shadow Fires</td></tr><tr><td>32433</td><td>The Key to Midnight</td></tr><tr><td>32438</td><td>Shattered</td></tr><tr><td>32443</td><td>The Eyes of Darkness</td></tr><tr><td>32446</td><td>The Door to December</td></tr><tr><td>32453</td><td>The Servants of Twilight</td></tr><tr><td>32525</td><td>Art Through the Ages </td></tr><tr><td>32552</td><td>Essential Tales and Poems</td></tr><tr><td>32559</td><td>The Fall of the House of Usher and Other Tales </td></tr><tr><td>32585</td><td>Hunger</td></tr><tr><td>32650</td><td>The Return of the Native  </td></tr><tr><td>32767</td><td>At the Mountains of Madness</td></tr><tr><td>32812</td><td>Paradiso (The Divine Comedy, #3)</td></tr><tr><td>32831</td><td>The Mysterious Island (Extraordinary Voyages, #12)</td></tr><tr><td>32929</td><td>Goodnight Moon</td></tr><tr><td>32979</td><td>The Secret of the Old Clock (Nancy Drew, #1)</td></tr><tr><td>33335</td><td>The Hidden Messages in Water</td></tr><tr><td>33449</td><td>The 22 Immutable Laws of Marketing: Violate Them at Your Own Risk</td></tr><tr><td>33455</td><td>Island of the Sequined Love Nun</td></tr><tr><td>33507</td><td>Twenty Thousand Leagues Under the Sea</td></tr><tr><td>33514</td><td>The Elements of Style</td></tr><tr><td>33609</td><td>Katherine</td></tr><tr><td>33668</td><td>4th of July (Women&#39;s Murder Club, #4)</td></tr><tr><td>33723</td><td>Girls&#39; Night In</td></tr><tr><td>34080</td><td>The Waste Land</td></tr><tr><td>34084</td><td>The Waste Lands (The Dark Tower, #3)</td></tr><tr><td>34262</td><td>Peter and the Starcatchers (Peter and the Starcatchers, #1)</td></tr><tr><td>34268</td><td>Peter Pan</td></tr><tr><td>34503</td><td>The Last Hero (Discworld, #27; Rincewind #7)</td></tr><tr><td>34508</td><td>Interesting Times: The Play</td></tr><tr><td>34871</td><td>The Complete Clive Barker&#39;s The Great And Secret Show</td></tr><tr><td>34941</td><td>Star Wars - Episode I: The Phantom Menace</td></tr><tr><td>35332</td><td>Remember (Redemption, #2)</td></tr><tr><td>35476</td><td>Black Elk Speaks: Being the Life Story of a Holy Man of the Oglala Sioux</td></tr><tr><td>35488</td><td>Cash</td></tr><tr><td>35519</td><td>The Power of Myth</td></tr><tr><td>36071</td><td>First Things First</td></tr><tr><td>36315</td><td>The Best of H.P. Lovecraft: Bloodcurdling Tales of Horror and the Macabre</td></tr><tr><td>36638</td><td>The Wolves of Willoughby Chase (The Wolves Chronicles, #1)</td></tr><tr><td>37034</td><td>The Woman in Black</td></tr><tr><td>37186</td><td>The Miraculous Journey of Edward Tulane</td></tr><tr><td>37190</td><td>The Tale of Despereaux</td></tr><tr><td>37442</td><td>Wicked: The Life and Times of the Wicked Witch of the West (The Wicked Years, #1)</td></tr><tr><td>37526</td><td>Henry V</td></tr><tr><td>37793</td><td>A Doll&#39;s House</td></tr><tr><td>37847</td><td>The Long Hard Road Out of Hell</td></tr><tr><td>38210</td><td>The Art of Happiness</td></tr><tr><td>38709</td><td>Holes (Holes, #1)</td></tr><tr><td>38723</td><td>The Feminine Mystique</td></tr><tr><td>38787</td><td>Pedro Páramo</td></tr><tr><td>39028</td><td>The Wheel of Darkness (Pendergast, #8)</td></tr><tr><td>39030</td><td>Reliquary (Pendergast, #2)</td></tr><tr><td>39031</td><td>The Cabinet of Curiosities (Pendergast, #3)</td></tr><tr><td>39032</td><td>Mount Dragon</td></tr><tr><td>39033</td><td>Still Life With Crows (Pendergast, #4)</td></tr><tr><td>39792</td><td>The Man Who Smiled (Kurt Wallander, #4)</td></tr><tr><td>39795</td><td>The Dogs of Riga (Kurt Wallander, #2)</td></tr><tr><td>39796</td><td>Sidetracked (Kurt Wallander, #5)</td></tr><tr><td>39798</td><td>Firewall (Wallander, #8)</td></tr><tr><td>39799</td><td>One Step Behind  (Kurt Wallander, #7)</td></tr><tr><td>39801</td><td>The White Lioness (Kurt Wallander, #3)</td></tr><tr><td>39988</td><td>Matilda</td></tr><tr><td>40289</td><td>The Abyss</td></tr><tr><td>40313</td><td>Full Tilt (Full #2)</td></tr><tr><td>40320</td><td>Full House (Full #1)</td></tr><tr><td>40395</td><td>A Princess of Mars (Barsoom, #1)</td></tr><tr><td>40483</td><td>Story of O (Story of O #1)</td></tr><tr><td>41681</td><td>The Jungle</td></tr><tr><td>41684</td><td>The Jungle Books</td></tr><tr><td>41899</td><td>Fantastic Beasts and Where to Find Them</td></tr><tr><td>42038</td><td>Shakespeare&#39;s Sonnets</td></tr><tr><td>42058</td><td>Richard III</td></tr><tr><td>42369</td><td>The Hundred Dresses</td></tr><tr><td>42512</td><td>We Were Soldiers Once... and Young: Ia Drang - The Battle that Changed the War in Vietnam</td></tr><tr><td>42547</td><td>The Autobiography of Martin Luther King, Jr.</td></tr><tr><td>42641</td><td>Resurrection</td></tr><tr><td>43081</td><td>Marching Powder: A True Story of Friendship, Cocaine, and South America&#39;s Strangest Jail</td></tr><tr><td>43739</td><td>Iron Man: Extremis</td></tr><tr><td>43780</td><td>Vampire Chronicles: Interview with the Vampire, The Vampire Lestat, The Queen of the Damned (Anne Rice)</td></tr><tr><td>43799</td><td>Exit to Eden</td></tr><tr><td>43808</td><td>Anne Rice&#39;s The Vampire Lestat: A Graphic Novel</td></tr><tr><td>43818</td><td>Anne Rice&#39;s The Tale of the Body Thief (A Graphic Novel)</td></tr><tr><td>43915</td><td>Magician: Apprentice  (Raymond E. Feist&#39;s Magician: Apprentice #1)</td></tr><tr><td>43944</td><td>Suite Française</td></tr><tr><td>43945</td><td>Portnoy&#39;s Complaint</td></tr><tr><td>44186</td><td>The Monster at the End of this Book</td></tr><tr><td>44399</td><td>Too Busy Not to Pray: Slowing Down to Be With God</td></tr><tr><td>44559</td><td>Life is Elsewhere</td></tr><tr><td>45032</td><td>Mansfield Park</td></tr><tr><td>45169</td><td>Step on a Crack (Michael Bennett, #1)</td></tr><tr><td>45195</td><td>A Passage to India</td></tr><tr><td>45220</td><td>I Never Promised You a Rose Garden</td></tr><tr><td>45685</td><td>The Canterville Ghost</td></tr><tr><td>45967</td><td>The Blind Owl</td></tr><tr><td>45974</td><td>The Book of Disquiet</td></tr><tr><td>46199</td><td>Letters to a Young Poet</td></tr><tr><td>46201</td><td>The Selected Poetry of Rainer Maria Rilke</td></tr><tr><td>46227</td><td>Ask the Dust (Arturo Bandini, #3)</td></tr><tr><td>46306</td><td>The Complete Fairy Tales</td></tr><tr><td>46677</td><td>Alexander and the Terrible, Horrible, No Good, Very Bad Day</td></tr><tr><td>46799</td><td>Go Ask Alice</td></tr><tr><td>46906</td><td>Fruits Basket, Vol. 15</td></tr><tr><td>46908</td><td>Fruits Basket, Vol. 14</td></tr><tr><td>46913</td><td>FRUiTS</td></tr><tr><td>46945</td><td>Requiem for a Dream</td></tr><tr><td>47304</td><td>The Freedom Writers Diary</td></tr><tr><td>47667</td><td>Seeing</td></tr><tr><td>47697</td><td>The Sandman: King of Dreams</td></tr><tr><td>47701</td><td>InterWorld (InterWorld, #1)</td></tr><tr><td>47720</td><td>The Sandman: Endless Nights</td></tr><tr><td>47730</td><td>The Complete Poems</td></tr><tr><td>47780</td><td>Hunting and Gathering</td></tr><tr><td>48132</td><td>My Family and Other Animals (Corfu Trilogy, #1)</td></tr><tr><td>48304</td><td>Vegan Cupcakes Take Over the World: 75 Dairy-Free Recipes for Cupcakes that Rule</td></tr><tr><td>48318</td><td>The Solitaire Mystery: A Novel About Family and Destiny</td></tr><tr><td>48697</td><td>Art in Theory 1900 - 2000: An Anthology of Changing Ideas</td></tr><tr><td>48757</td><td>The Tao of Pooh</td></tr><tr><td>48855</td><td>The Diary of a Young Girl</td></tr><tr><td>48862</td><td>Brighton Rock</td></tr><tr><td>49436</td><td>Three Cups of Tea: One Man&#39;s Mission to Promote Peace ... One School at a Time</td></tr><tr><td>49455</td><td>Notes from Underground</td></tr><tr><td>49540</td><td>Les Liaisons dangereuses</td></tr><tr><td>49552</td><td>The Stranger</td></tr><tr><td>50001</td><td>The Complete Guide to Middle-Earth</td></tr><tr><td>50039</td><td>I&#39;m with the Band: Confessions of a Groupie</td></tr><tr><td>50140</td><td>Big Sur</td></tr><tr><td>50144</td><td>Kitchen</td></tr><tr><td>50275</td><td>Last Exit to Brooklyn</td></tr><tr><td>50398</td><td>Northanger Abbey</td></tr><tr><td>50930</td><td>The Mark (Left Behind, #8)</td></tr><tr><td>50937</td><td>First, Break All the Rules: What the World&#39;s Greatest Managers Do Differently</td></tr><tr><td>51078</td><td>Batman: Knightfall, Vol. 1: Broken Bat</td></tr><tr><td>51496</td><td>The Strange Case of Dr. Jekyll and Mr. Hyde</td></tr><tr><td>51497</td><td>The Strange Case of Dr. Jekyll and Mr. Hyde and Other Tales of Terror</td></tr><tr><td>51715</td><td>Mythologies</td></tr><tr><td>51799</td><td>The Decameron</td></tr><tr><td>51893</td><td>Thus Spoke Zarathustra</td></tr><tr><td>51985</td><td>Existentialism Is a Humanism</td></tr><tr><td>52036</td><td>Siddhartha</td></tr><tr><td>52309</td><td>The Autobiography of Benjamin Franklin</td></tr><tr><td>52357</td><td>Beowulf</td></tr><tr><td>52367</td><td>Batman: The Dark Knight Strikes Again (The Dark Knight Saga, #2)</td></tr><tr><td>52415</td><td>The Fifth Woman (Kurt Wallander, #6)</td></tr><tr><td>52588</td><td>Cunt: A Declaration of Independence</td></tr><tr><td>52783</td><td>Henderson the Rain King</td></tr><tr><td>52823</td><td>Tartuffe</td></tr><tr><td>53022</td><td>The Collected Poems of W.B. Yeats</td></tr><tr><td>53061</td><td>Death in Venice</td></tr><tr><td>53064</td><td>Death in Venice and Other Tales</td></tr><tr><td>53413</td><td>Hopscotch</td></tr><tr><td>53639</td><td>Zorba the Greek</td></tr><tr><td>53835</td><td>The Age of Innocence</td></tr><tr><td>53969</td><td>The Feast of the Goat</td></tr><tr><td>54120</td><td>The Double</td></tr><tr><td>54479</td><td>Around the World in Eighty Days</td></tr><tr><td>54499</td><td>The Man in the Iron Mask (The D&#39;Artagnan Romances, #3.3)</td></tr><tr><td>54620</td><td>Mary Barton</td></tr><tr><td>55095</td><td>Live from New York: An Uncensored History of Saturday Night Live</td></tr><tr><td>56452</td><td>Now, Discover Your Strengths</td></tr><tr><td>56594</td><td>A Severe Mercy: A Story of Faith, Tragedy and Triumph</td></tr><tr><td>56759</td><td>The Mayor of Casterbridge</td></tr><tr><td>56913</td><td>Barefoot in Paris</td></tr><tr><td>57854</td><td>Tao Te Ching</td></tr><tr><td>57891</td><td>Battle Royale</td></tr><tr><td>57913</td><td>The Illuminatus! Trilogy</td></tr><tr><td>58027</td><td>Alias Grace</td></tr><tr><td>58033</td><td>Four Great Tragedies: Hamlet / Othello / King Lear / Macbeth</td></tr><tr><td>58314</td><td>The Elementary Particles</td></tr><tr><td>58696</td><td>David Copperfield</td></tr><tr><td>58728</td><td>Anne Frank&#39;s Tales from the Secret Annex</td></tr><tr><td>58922</td><td>The Runaway Bunny</td></tr><tr><td>59091</td><td>Tobacco Road (Brown Thrasher Books)</td></tr><tr><td>59142</td><td>Eugénie Grandet</td></tr><tr><td>59151</td><td>Chess Story</td></tr><tr><td>59219</td><td>The Talisman (The Talisman, #1)</td></tr><tr><td>59780</td><td>Cosmicomics</td></tr><tr><td>59952</td><td>300</td></tr><tr><td>59960</td><td>Batman: The Dark Knight Returns (The Dark Knight Saga, #1)</td></tr><tr><td>59980</td><td>Batman: Year One</td></tr><tr><td>60080</td><td>Groundwork of the Metaphysics of Morals</td></tr><tr><td>60792</td><td>The Accidental Tourist</td></tr><tr><td>61329</td><td>Crossing the Chasm: Marketing and Selling High-Tech Products to Mainstream Customers</td></tr><tr><td>61505</td><td>A Little History of the World</td></tr><tr><td>61549</td><td>Mr. Popper&#39;s Penguins</td></tr><tr><td>61663</td><td>Pale Blue Dot: A Vision of the Human Future in Space</td></tr><tr><td>61665</td><td>Billions &amp; Billions: Thoughts on Life and Death at the Brink of the Millennium</td></tr><tr><td>61834</td><td>A Night to Remember</td></tr><tr><td>61975</td><td>Dragonflight (Dragonriders of Pern, #1)</td></tr><tr><td>62032</td><td>The 13½ Lives of Captain Bluebear (Zamonia, #1)</td></tr><tr><td>62103</td><td>The Complete Phantom of the Opera</td></tr><tr><td>62111</td><td>The Swiss Family Robinson  </td></tr><tr><td>62446</td><td>The Prince and the Pauper</td></tr><tr><td>63033</td><td>The Savage Detectives</td></tr><tr><td>64949</td><td>The Voice of the Night</td></tr><tr><td>64960</td><td>The Face of Fear</td></tr><tr><td>65110</td><td>The Penultimate Peril (A Series of Unfortunate Events, #12)</td></tr><tr><td>65111</td><td>The Grim Grotto (A Series of Unfortunate Events, #11)</td></tr><tr><td>65112</td><td>The End (A Series of Unfortunate Events, #13)</td></tr><tr><td>65113</td><td>A Series of Unfortunate Events Box: The Complete Wreck (Books 1-13)</td></tr><tr><td>65118</td><td>The Hostile Hospital (A Series of Unfortunate Events, #8)</td></tr><tr><td>65119</td><td>The Miserable Mill (A Series of Unfortunate Events, #4)</td></tr><tr><td>65217</td><td>The Five Chinese Brothers</td></tr><tr><td>65336</td><td>Selected Poems</td></tr><tr><td>65633</td><td>The Chronicles of Narnia - The Lion, the Witch, and the Wardrobe Official Illustrated Movie Companion</td></tr><tr><td>65641</td><td>The Silver Chair (Chronicles of Narnia, #4)</td></tr><tr><td>66370</td><td>Rage</td></tr><tr><td>66933</td><td>The Wretched of the Earth</td></tr><tr><td>67035</td><td>Relic (Pendergast, #1)</td></tr><tr><td>67657</td><td>The Lady &amp; Sons Savannah Country Cookbook</td></tr><tr><td>67863</td><td>Animal-Speak: The Spiritual &amp; Magical Powers of Creatures Great &amp; Small</td></tr><tr><td>68378</td><td>Dragons of Spring Dawning (Dragonlance: Chronicles, #3)</td></tr><tr><td>68380</td><td>Dragonlance Chronicles (Dragonlance #1-3)</td></tr><tr><td>68591</td><td>Brida</td></tr><tr><td>68984</td><td>The Power of Your Subconscious Mind</td></tr><tr><td>68985</td><td>The Power of Full Engagement: Managing Energy, Not Time, Is the Key to High Performance and Personal Renewal</td></tr><tr><td>69242</td><td>Made to Stick: Why Some Ideas Survive and Others Die</td></tr><tr><td>70561</td><td>The Gulag Archipelago 1918-1956</td></tr><tr><td>71252</td><td>The Kindly Ones (The Sandman #9)</td></tr><tr><td>71292</td><td>Asterix the Gaul (Asterix, #1)</td></tr><tr><td>71728</td><td>Jonathan Livingston Seagull</td></tr><tr><td>72657</td><td>Pedagogy of the Oppressed</td></tr><tr><td>73945</td><td>Apology</td></tr><tr><td>73960</td><td>Lorna Doone</td></tr><tr><td>74034</td><td>Amusing Ourselves to Death: Public Discourse in the Age of Show Business</td></tr><tr><td>74256</td><td>Le Petit Nicolas (Le petit Nicolas, #1)</td></tr><tr><td>74532</td><td>George&#39;s Marvellous Medicine</td></tr><tr><td>74928</td><td>Hellsing, Vol. 01 (Hellsing, #1)</td></tr><tr><td>76104</td><td>The Exploits of Sherlock Holmes</td></tr><tr><td>76171</td><td>We</td></tr><tr><td>76237</td><td>The Further Adventures of Sherlock Holmes: After Sir Arthur Conan Doyle (Classic Crime)</td></tr><tr><td>76527</td><td>The Life and Opinions of Tristram Shandy, Gentleman</td></tr><tr><td>77298</td><td>Aunt Julia and the Scriptwriter</td></tr><tr><td>77727</td><td>Calvin and Hobbes</td></tr><tr><td>77767</td><td>Little House on the Prairie (Little House, #2)</td></tr><tr><td>77770</td><td>These Happy Golden Years (Little House, #8)</td></tr><tr><td>78411</td><td>The Bad Beginning (A Series of Unfortunate Events, #1)</td></tr><tr><td>78418</td><td>The Reptile Room (A Series of Unfortunate Events, #2)</td></tr><tr><td>78728</td><td>Ignorance</td></tr><tr><td>79421</td><td>The Heavenly Man: The Remarkable True Story of Chinese Christian Brother Yun</td></tr><tr><td>79422</td><td>Y: The Last Man, Vol. 8: Kimono Dragons (Y: The Last Man, #8)</td></tr><tr><td>79426</td><td>Y: The Last Man, Vol. 7: Paper Dolls (Y: The Last Man, #7)</td></tr><tr><td>79649</td><td>The Seagull</td></tr><tr><td>79705</td><td>Apollyon (Left Behind, #5)</td></tr><tr><td>80369</td><td>Discipline and Punish: The Birth of the Prison</td></tr><tr><td>80449</td><td>On the Genealogy of Morals</td></tr><tr><td>80890</td><td>Buddenbrooks: The Decline of a Family</td></tr><tr><td>81779</td><td>The Symposium</td></tr><tr><td>81922</td><td>Rich Dad&#39;s Cashflow Quadrant: Rich Dad&#39;s Guide to Financial Freedom</td></tr><tr><td>82397</td><td>Richard II</td></tr><tr><td>82991</td><td>Silence of the Grave (Inspector Erlendur #4)</td></tr><tr><td>83346</td><td>Through the Looking-Glass, and What Alice Found There</td></tr><tr><td>83369</td><td>The Mysterious Benedict Society (The Mysterious Benedict Society, #1)</td></tr><tr><td>84525</td><td>What Got You Here Won&#39;t Get You There: How Successful People Become Even More Successful</td></tr><tr><td>84552</td><td>Priestess of Avalon (Avalon, #4)</td></tr><tr><td>85679</td><td>Mother Courage and Her Children</td></tr><tr><td>85733</td><td>Beach Road</td></tr><tr><td>85957</td><td>Assassins (Left Behind, #6)</td></tr><tr><td>85958</td><td>The Indwelling (Left Behind, #7)</td></tr><tr><td>85987</td><td>Portrait in Sepia</td></tr><tr><td>86424</td><td>Lifeguard</td></tr><tr><td>87346</td><td>The Cherry Orchard</td></tr><tr><td>87424</td><td>Tintin in the Land of the Soviets (Tintin #1)</td></tr><tr><td>87425</td><td>Tintin in Tibet (Tintin, #20)</td></tr><tr><td>88077</td><td>The Magic Mountain</td></tr><tr><td>88442</td><td>Austerlitz</td></tr><tr><td>89160</td><td>Judgment in Death (In Death, #11)</td></tr><tr><td>89375</td><td>90 Minutes in Heaven: A True Story of Death and Life</td></tr><tr><td>89717</td><td>The Haunting of Hill House</td></tr><tr><td>89724</td><td>We Have Always Lived in the Castle</td></tr><tr><td>89755</td><td>Tangerine</td></tr><tr><td>90072</td><td>Dr. Seuss&#39;s Green Eggs and Ham: For Soprano, Boy Soprano, and Orchestra</td></tr><tr><td>90192</td><td>The House of the Seven Gables</td></tr><tr><td>91247</td><td>Ramona and Her Father (Ramona, #4)</td></tr><tr><td>91248</td><td>Ramona the Brave (Ramona, #3)</td></tr><tr><td>91571</td><td>Measure for Measure</td></tr><tr><td>91582</td><td>Lady Susan</td></tr><tr><td>91714</td><td>Civil War: A Marvel Comics Event</td></tr><tr><td>91760</td><td>The Diary of Frida Kahlo: An Intimate Self-Portrait</td></tr><tr><td>91953</td><td>Leviathan</td></tr><tr><td>92057</td><td>The Autobiography of Malcolm X</td></tr><tr><td>92308</td><td>The Importance of Being Earnest and Other Plays</td></tr><tr><td>92780</td><td>Cold Comfort Farm</td></tr><tr><td>93101</td><td>The Arabian Nights</td></tr><tr><td>93263</td><td>The Legend of Sleepy Hollow (Graphic Novel)</td></tr><tr><td>93276</td><td>King Arthur and His Knights: Selected Tales</td></tr><tr><td>93371</td><td>Akira, Vol. 1</td></tr><tr><td>93768</td><td>War of the Twins (Dragonlance: Legends, #2)</td></tr><tr><td>94486</td><td>The Invention of Morel</td></tr><tr><td>94510</td><td>100 Bullets, Vol. 1: First Shot, Last Call</td></tr><tr><td>94578</td><td>The Gay Science</td></tr><tr><td>95395</td><td>Preacher, Volume 4: Ancient History</td></tr><tr><td>95406</td><td>Preacher, Volume 2: Until the End of the World</td></tr><tr><td>95431</td><td>Preacher, Volume 1: Gone to Texas</td></tr><tr><td>95617</td><td>A Voice in the Wind (Mark of the Lion, #1)</td></tr><tr><td>95819</td><td>The Poetry of Robert Frost (Collected Poems, Complete &amp; Unabridged)</td></tr><tr><td>96123</td><td>All the President&#39;s Men</td></tr><tr><td>96358</td><td>Batman: The Killing Joke</td></tr><tr><td>96593</td><td>The Success Principles: How to Get from Where You Are to Where You Want to Be</td></tr><tr><td>96647</td><td>Scar Tissue</td></tr><tr><td>97390</td><td>Горе от ума</td></tr><tr><td>99107</td><td>Winnie-the-Pooh (Winnie-the-Pooh, #1)</td></tr><tr><td>99110</td><td>The Complete Tales and Poems of Winnie-the-Pooh (Winnie-the-Pooh, #1-4)</td></tr><tr><td>99111</td><td>The World of Winnie-the-Pooh (Winnie-the-Pooh, #1-2)</td></tr><tr><td>99218</td><td>The Machine Crusade (Legends of Dune, #2)</td></tr><tr><td>99219</td><td>The Butlerian Jihad (Legends of Dune, #1)</td></tr><tr><td>99245</td><td>Nightfall</td></tr><tr><td>99296</td><td>Diary of a Worm</td></tr><tr><td>99298</td><td>The Harry Potter Collection 1-4 (Harry Potter, #1-4)</td></tr><tr><td>99329</td><td>The History of Tom Jones, a Foundling</td></tr><tr><td>99944</td><td>The Bhagavad Gita</td></tr><tr><td>99955</td><td>Common Sense, The Rights of Man and Other Essential Writings</td></tr><tr><td>100322</td><td>Assata: An Autobiography</td></tr><tr><td>100365</td><td>The Mote in God&#39;s Eye</td></tr><tr><td>101299</td><td>The Reader</td></tr><tr><td>102030</td><td>Musashi</td></tr><tr><td>102324</td><td>Swamp Thing, Vol. 1: Saga of the Swamp Thing</td></tr><tr><td>102458</td><td>Hellboy, Vol. 1: Seed of Destruction (Hellboy, #1)</td></tr><tr><td>102733</td><td>One Past Midnight: The Langoliers</td></tr><tr><td>102857</td><td>Born in Death (In Death, #23)</td></tr><tr><td>102953</td><td>Preacher, Volume 3: Proud Americans</td></tr><tr><td>102954</td><td>Preacher, Volume 7: Salvation</td></tr><tr><td>102955</td><td>Preacher, Volume 8: All Hell&#39;s a-Coming</td></tr><tr><td>102956</td><td>Preacher, Volume 5: Dixie Fried</td></tr><tr><td>102957</td><td>Preacher, Volume 6: War in the Sun</td></tr><tr><td>102958</td><td>Preacher, Volume 9: Alamo</td></tr><tr><td>103111</td><td>X-Men: The Dark Phoenix Saga</td></tr><tr><td>103342</td><td>Stolen Lives: Twenty Years in a Desert Jail</td></tr><tr><td>104159</td><td>Twilight Watch (Watch #3)</td></tr><tr><td>104160</td><td>Day Watch (Watch #2)</td></tr><tr><td>104189</td><td>Same Kind of Different as Me</td></tr><tr><td>104734</td><td>The Vagina Monologues</td></tr><tr><td>104837</td><td>Antony and Cleopatra</td></tr><tr><td>105189</td><td>The Story of a Shipwrecked Sailor</td></tr><tr><td>105703</td><td>Pride of Baghdad</td></tr><tr><td>105920</td><td>Ultimate Spider-Man, Volume 1: Power and Responsibility</td></tr><tr><td>105973</td><td>House of M</td></tr><tr><td>105992</td><td>Helter Skelter: The True Story of the Manson Murders</td></tr><tr><td>105999</td><td>Dear Mr. Henshaw (Leigh Botts, #1)</td></tr><tr><td>106069</td><td>Batman: The Long Halloween</td></tr><tr><td>106076</td><td>Batman: Dark Victory</td></tr><tr><td>106124</td><td>The Dragonslayer (Bone, #4)</td></tr><tr><td>106134</td><td>Out from Boneville (Bone, #1)</td></tr><tr><td>106835</td><td>The Intelligent Investor (Collins Business Essentials)</td></tr><tr><td>106859</td><td>Superman for All Seasons</td></tr><tr><td>107007</td><td>The League of Extraordinary Gentlemen, Vol. 2</td></tr><tr><td>107017</td><td>Batman: Hush, Vol. 1</td></tr><tr><td>107021</td><td>Batman: Hush, Vol. 2</td></tr><tr><td>107029</td><td>The Batman Chronicles, Vol. 1</td></tr><tr><td>107032</td><td>Batman: A Death in the Family</td></tr><tr><td>107172</td><td>DC: The New Frontier, Volume 1</td></tr><tr><td>109499</td><td>Lies Women Believe: And the Truth that Sets Them Free</td></tr><tr><td>110331</td><td>The Federalist Papers</td></tr><tr><td>110692</td><td>The Redemption of Althalus</td></tr><tr><td>110871</td><td>Thérèse Raquin</td></tr><tr><td>111450</td><td>Quidditch Through the Ages</td></tr><tr><td>112204</td><td>The Complete Poems of Emily Dickinson</td></tr><tr><td>112517</td><td>Rama Revealed (Rama, #4)</td></tr><tr><td>112518</td><td>The Garden of Rama (Rama, #3)</td></tr><tr><td>112520</td><td>Rama II (Rama, #2)</td></tr><tr><td>112879</td><td>Once Upon a Crime (The Sisters Grimm, #4)</td></tr><tr><td>113205</td><td>Heart of a Dog</td></tr><tr><td>113441</td><td>The Day of the Locust</td></tr><tr><td>113576</td><td>The Smartest Guys in the Room: The Amazing Rise and Scandalous Fall of Enron</td></tr><tr><td>113934</td><td>The Goal: A Process of Ongoing Improvement</td></tr><tr><td>114345</td><td>The Little House Collection (Little House, #1-9)</td></tr><tr><td>116020</td><td>Walden &amp; Civil Disobedience</td></tr><tr><td>116295</td><td>Guards! Guards!: The Play</td></tr><tr><td>116356</td><td>Footfall</td></tr><tr><td>117251</td><td>Hamlet: Screenplay, Introduction And Film Diary</td></tr><tr><td>117833</td><td>The Master and Margarita</td></tr><tr><td>119073</td><td>The Name of the Rose</td></tr><tr><td>119091</td><td>Taltos (Lives of the Mayfair Witches, #3)</td></tr><tr><td>119239</td><td>Selected Poems</td></tr><tr><td>119247</td><td>The Great Brain (Great Brain #1)</td></tr><tr><td>120230</td><td>Barefoot Contessa at Home: Everyday Recipes You&#39;ll Make Over and Over Again</td></tr><tr><td>120231</td><td>Barefoot Contessa Family Style: Easy Ideas and Recipes That Make Everyone Feel Like Family</td></tr><tr><td>120253</td><td>Good Faeries/Bad Faeries</td></tr><tr><td>121581</td><td>The Past Through Tomorrow (Future History, #1-21)</td></tr><tr><td>122125</td><td>How Do Dinosaurs Say Good Night?</td></tr><tr><td>122756</td><td>My Brother Sam Is Dead</td></tr><tr><td>122967</td><td>The Ugly Duckling</td></tr><tr><td>123170</td><td>Big Red (Big Red, #1)</td></tr><tr><td>123632</td><td>Man and His Symbols</td></tr><tr><td>124272</td><td>The Wings of the Dove</td></tr><tr><td>124509</td><td>Smilla&#39;s Sense of Snow</td></tr><tr><td>124524</td><td>Joni: An Unforgettable Story</td></tr><tr><td>125507</td><td>The True Story of the 3 Little Pigs</td></tr><tr><td>126066</td><td>The Sacred Romance Drawing Closer To The Heart Of God</td></tr><tr><td>128066</td><td>The Pianist: The Extraordinary Story of One Man&#39;s Survival in Warsaw, 1939–45</td></tr><tr><td>128711</td><td>The Yacoubian Building</td></tr><tr><td>129650</td><td>Mastering the Art of French Cooking</td></tr><tr><td>129798</td><td>The King in Yellow and Other Horror Stories</td></tr><tr><td>130440</td><td>Doctor Zhivago</td></tr><tr><td>131123</td><td>The Austere Academy (A Series of Unfortunate Events, #5)</td></tr><tr><td>132152</td><td>Streams in the Desert</td></tr><tr><td>132391</td><td>The Little Mermaid</td></tr><tr><td>132626</td><td>On the Genealogy of Morals/Ecce Homo</td></tr><tr><td>133017</td><td>Hellblazer: Original Sins</td></tr><tr><td>133765</td><td>Those Left Behind (Serenity, #1)</td></tr><tr><td>133767</td><td>Glorious Appearing: The End of Days (Left Behind, #12)</td></tr><tr><td>133954</td><td>Washington Square</td></tr><tr><td>134360</td><td>Diane Arbus: Monograph</td></tr><tr><td>136251</td><td>Harry Potter and the Deathly Hallows (Harry Potter, #7)</td></tr><tr><td>136636</td><td>Thunderhead</td></tr><tr><td>136637</td><td>Brimstone (Pendergast, #5; Diogenes, #1)</td></tr><tr><td>136638</td><td>Dance of Death (Pendergast, #6; Diogenes, #2)</td></tr><tr><td>136642</td><td>The Ice Limit (Ice Limit #1)</td></tr><tr><td>137894</td><td>Batman: No Man&#39;s Land, Vol. 1</td></tr><tr><td>138269</td><td>Catch Me If You Can: The True Story of a Real Fake</td></tr><tr><td>138395</td><td>The Walking Dead, Vol. 06: This Sorrowful Life</td></tr><tr><td>138396</td><td>The Walking Dead, Vol. 02: Miles Behind Us</td></tr><tr><td>138397</td><td>The Walking Dead, Vol. 04: The Heart&#39;s Desire</td></tr><tr><td>138398</td><td>The Walking Dead, Vol. 01: Days Gone Bye</td></tr><tr><td>138399</td><td>The Walking Dead, Book Two (The Walking Dead #13-24)</td></tr><tr><td>138959</td><td>Stuart Little</td></tr><tr><td>139004</td><td>Essays and Poems</td></tr><tr><td>140131</td><td>The Three Little Pigs (Disney Classic)</td></tr><tr><td>140225</td><td>The Voyage of the Dawn Treader (Chronicles of Narnia, #3)</td></tr><tr><td>140345</td><td>Absent In The Spring</td></tr><tr><td>141077</td><td>The Kreutzer Sonata</td></tr><tr><td>141935</td><td>Curious George Visits the Library</td></tr><tr><td>142108</td><td>Rich Dad&#39;s Guide to Investing: What the Rich Invest in That the Poor and Middle Class Do Not!</td></tr><tr><td>142395</td><td>Samarkand</td></tr><tr><td>143534</td><td>The Gift of the Magi</td></tr><tr><td>144974</td><td>The Velveteen Rabbit</td></tr><tr><td>147732</td><td>Miss Nelson Is Missing! (Miss Nelson, #1)</td></tr><tr><td>148337</td><td>Where Eagles Dare </td></tr><tr><td>149196</td><td>Eva Luna</td></tr><tr><td>149267</td><td>The Stand</td></tr><tr><td>149847</td><td>Mort: The Play</td></tr><tr><td>150037</td><td>The Vile Village (A Series of Unfortunate Events, #7)</td></tr><tr><td>150739</td><td>Dealing with Dragons (Enchanted Forest Chronicles, #1)</td></tr><tr><td>152380</td><td>Mary Poppins (Mary Poppins, #1)</td></tr><tr><td>153136</td><td>The Cake Bible</td></tr><tr><td>153747</td><td>Moby-Dick or, The Whale</td></tr><tr><td>154795</td><td>The Death of Superman</td></tr><tr><td>154798</td><td>Superman: Red Son</td></tr><tr><td>155106</td><td>Amelia Bedelia and the Surprise Shower</td></tr><tr><td>155712</td><td>Mrs. Mike (Mrs. Mike, #1)</td></tr><tr><td>156529</td><td>Y: The Last Man, Vol. 6: Girl on Girl (Y: The Last Man, #6)</td></tr><tr><td>156530</td><td>Y: The Last Man, Vol. 3: One Small Step (Y: The Last Man, #3)</td></tr><tr><td>156532</td><td>Y: The Last Man, Vol. 9: Motherland (Y: The Last Man, #9)</td></tr><tr><td>156533</td><td>Y: The Last Man, Vol. 5: Ring of Truth (Y: The Last Man, #5)</td></tr><tr><td>156534</td><td>Y: The Last Man, Vol. 1: Unmanned</td></tr><tr><td>156538</td><td>North and South</td></tr><tr><td>157993</td><td>The Little Prince</td></tr><tr><td>158516</td><td>The Twelve Chairs</td></tr><tr><td>158944</td><td>The Fannie Farmer Cookbook: Anniversary</td></tr><tr><td>158988</td><td>Fables, Vol. 9: Sons of Empire</td></tr><tr><td>159418</td><td>Discourse on Method</td></tr><tr><td>159964</td><td>The Dhammapada</td></tr><tr><td>160149</td><td>The Call of Cthulhu and Other Weird Stories</td></tr><tr><td>160629</td><td>A Bear Called Paddington (Paddington, #1)</td></tr><tr><td>160848</td><td>Wanted</td></tr><tr><td>161275</td><td>Superman: Whatever Happened to the Man of Tomorrow?</td></tr><tr><td>161415</td><td>See You at the Top</td></tr><tr><td>161656</td><td>The Tail of Emily Windsnap (Emily Windsnap, #1)</td></tr><tr><td>162332</td><td>The Sailor Who Fell from Grace with the Sea</td></tr><tr><td>164542</td><td>My Friend Flicka (Flicka, #1)</td></tr><tr><td>165053</td><td>Graffiti World: Street Art from Five Continents</td></tr><tr><td>166580</td><td>The Sandman: The Dream Hunters</td></tr><tr><td>166997</td><td>Stoner</td></tr><tr><td>167010</td><td>Fables, Vol. 2: Animal Farm</td></tr><tr><td>169848</td><td>A Christmas Carol, The Chimes and The Cricket on the Hearth</td></tr><tr><td>169871</td><td>Talking to Dragons (Enchanted Forest Chronicles, #4)</td></tr><tr><td>169875</td><td>Searching for Dragons (Enchanted Forest Chronicles, #2)</td></tr><tr><td>169879</td><td>Calling on Dragons (Enchanted Forest Chronicles, #3)</td></tr><tr><td>172327</td><td>The Ersatz Elevator (A Series of Unfortunate Events, #6)</td></tr><tr><td>172732</td><td>The Motorcycle Diaries: Notes on a Latin American Journey</td></tr><tr><td>173526</td><td>The Ragamuffin Gospel: Good News for the Bedraggled, Beat-Up, and Burnt Out</td></tr><tr><td>174703</td><td>What to Expect When You&#39;re Expecting</td></tr><tr><td>174879</td><td>On Becoming a Person: A Therapist&#39;s View of Psychotherapy</td></tr><tr><td>175078</td><td>The Seven Storey Mountain</td></tr><tr><td>176326</td><td>The Problem Child (The Sisters Grimm, #3)</td></tr><tr><td>176327</td><td>The Fairy-Tale Detectives (The Sisters Grimm, #1)</td></tr><tr><td>176892</td><td>The Elvenbane (Halfblood Chronicles, #1)</td></tr><tr><td>178788</td><td>The China Study: The Most Comprehensive Study of Nutrition Ever Conducted And the Startling Implications for Diet, Weight Loss, And Long-term Health</td></tr><tr><td>179142</td><td>All My Sons</td></tr><tr><td>179565</td><td>The Marvelous Land of Oz (Oz, #2)</td></tr><tr><td>180116</td><td>Awaken the Giant Within: How to Take Immediate Control of Your Mental, Emotional, Physical and Financial Destiny!</td></tr><tr><td>180617</td><td>Pinocchio</td></tr><tr><td>181077</td><td>Sadako and the Thousand Paper Cranes</td></tr><tr><td>181400</td><td>The Tale of Three Trees</td></tr><tr><td>181601</td><td>If You Give a Pig a Party</td></tr><tr><td>181886</td><td>Ancestors of Avalon (Avalon, #5)</td></tr><tr><td>184040</td><td>Y: The Last Man, Vol. 4: Safeword (Y: The Last Man, #4)</td></tr><tr><td>184419</td><td>The Man Who Was Thursday: A Nightmare</td></tr><tr><td>184644</td><td>Baking: From My Home to Yours</td></tr><tr><td>187633</td><td>Art and Fear: Observations on the Perils (and Rewards) of Artmaking</td></tr><tr><td>189182</td><td>The Story About Ping</td></tr><tr><td>189802</td><td>Belgarath the Sorcerer</td></tr><tr><td>191170</td><td>Giggle, Giggle, Quack</td></tr><tr><td>192510</td><td>درخت زیبای من</td></tr><tr><td>193755</td><td>The Diving Bell and the Butterfly</td></tr><tr><td>194479</td><td>Crisis on Infinite Earths</td></tr><tr><td>194755</td><td>Esio Trot</td></tr><tr><td>196613</td><td>Skinny Bitch</td></tr><tr><td>196970</td><td>The Night Before Christmas</td></tr><tr><td>198511</td><td>Dear Theo</td></tr><tr><td>200963</td><td>Meet Samantha: An American Girl (American Girls: Samantha, #1)</td></tr><tr><td>201126</td><td>We&#39;re Going on a Bear Hunt</td></tr><tr><td>201138</td><td>The Berenstain Bears and Too Much TV</td></tr><tr><td>201145</td><td>A Kiss for Little Bear (An I Can Read Book) by Minarik, Else Holmelund [1984]</td></tr><tr><td>201146</td><td>Little Bear</td></tr><tr><td>201175</td><td>Rapture in Death (In Death, #4)</td></tr><tr><td>203220</td><td>Les Fleurs du Mal</td></tr><tr><td>203805</td><td>Vincent Van Gogh: The Complete Paintings</td></tr><tr><td>204041</td><td>Naruto, Vol. 11: Impassioned Efforts (Naruto, #11)</td></tr><tr><td>204042</td><td>Naruto, Vol. 01: The Tests of the Ninja (Naruto, #1)</td></tr><tr><td>205218</td><td>Ethics</td></tr><tr><td>205476</td><td>Our Town</td></tr><tr><td>206309</td><td>Fish: A Proven Way to Boost Morale and Improve Results</td></tr><tr><td>206731</td><td>The Tibetan Book of Living and Dying</td></tr><tr><td>207781</td><td>The Art Spirit: Notes, Articles, Fragments of Letters and Talks to Students, Bearing on the Concept and Technique of Picture Making, the Study of Art (Icon Editions)</td></tr><tr><td>208036</td><td>Metaphysics</td></tr><tr><td>209631</td><td>Cinderella</td></tr><tr><td>209966</td><td>Planetary, Volume 1: All Over the World and Other Stories</td></tr><tr><td>210834</td><td>Kim</td></tr><tr><td>212525</td><td>Ethan Frome and Other Short Fiction</td></tr><tr><td>213975</td><td>Witness in Death (In Death, #10)</td></tr><tr><td>217376</td><td>The Wallflower, Vol. 1 (The Wallflower, #1)</td></tr><tr><td>218467</td><td>Lucifer&#39;s Hammer</td></tr><tr><td>218659</td><td>Everything That Rises Must Converge: Stories</td></tr><tr><td>219499</td><td>The Strange Case of Dr. Jekyll and Mr. Hyde and Other Stories </td></tr><tr><td>224410</td><td>Dracula (Marvel Illustrated)</td></tr><tr><td>225038</td><td>Half Magic (Tales of Magic, #1)</td></tr><tr><td>226378</td><td>A Hero of Our Time</td></tr><tr><td>227570</td><td>Lady Cottington&#39;s Pressed Fairy Book</td></tr><tr><td>228063</td><td>xxxHolic, Vol. 1 (xxxHOLiC, #1)</td></tr><tr><td>228220</td><td>The House of Thunder</td></tr><tr><td>228221</td><td>The Mask</td></tr><tr><td>228258</td><td>Tribulation Force (Left Behind, #2)</td></tr><tr><td>228261</td><td>Soul Harvest: The World Takes Sides (Left Behind, #4)</td></tr><tr><td>228333</td><td>The Nanny Diaries (Nanny, #1)</td></tr><tr><td>228630</td><td>Black Boy</td></tr><tr><td>228696</td><td>Owl Moon</td></tr><tr><td>229145</td><td>Cardcaptor Sakura, Vol. 1 (Cardcaptor Sakura, #1)</td></tr><tr><td>229149</td><td>Cardcaptor Sakura: Master of the Clow, Vol. 1 (Cardcaptor Sakura, #7)</td></tr><tr><td>232109</td><td>The Mouse and the Motorcycle (Ralph S. Mouse, #1)</td></tr><tr><td>232958</td><td>I Love You Through and Through</td></tr><tr><td>233389</td><td>The Lives of the Artists</td></tr><tr><td>233637</td><td>The Hidden Staircase (Nancy Drew #2)</td></tr><tr><td>236093</td><td>The Wonderful Wizard of Oz (Oz, #1)</td></tr><tr><td>240130</td><td>The Paper Bag Princess</td></tr><tr><td>240976</td><td>The Book of Laughter and Forgetting</td></tr><tr><td>244383</td><td>Ask and It Is Given: Learning to Manifest Your Desires</td></tr><tr><td>245700</td><td>The Art of Amy Brown</td></tr><tr><td>246468</td><td>The Jordan Rules</td></tr><tr><td>248484</td><td>Book of a Thousand Days</td></tr><tr><td>248871</td><td>Berserk, Vol. 1 (Berserk, #1)</td></tr><tr><td>253058</td><td>Temple of the Winds (Sword of Truth, #4)</td></tr><tr><td>253264</td><td>Inherit the Wind</td></tr><tr><td>254308</td><td>Oblomov</td></tr><tr><td>6690979</td><td>Black Butler, Vol. 1 (Black Butler, #1)</td></tr><tr><td>6694937</td><td>Game Change: Obama and the Clintons, McCain and Palin, and the Race of a Lifetime</td></tr><tr><td>6713071</td><td>Last Words</td></tr><tr><td>6723348</td><td>The Fall (The Strain Trilogy, #2)</td></tr><tr><td>6732019</td><td>Rework</td></tr><tr><td>6735082</td><td>Bakuman, Band 1: Traum und Realität</td></tr><tr><td>6781956</td><td>Savor the Moment (Bride Quartet, #3)</td></tr><tr><td>6801652</td><td>Vampire Knight, Vol. 9</td></tr><tr><td>6818019</td><td>I Am Nujood, Age 10 and Divorced</td></tr><tr><td>6839093</td><td>Chew, Vol. 1: Taster&#39;s Choice</td></tr><tr><td>6867952</td><td>Black Butler, Vol. 2 (Black Butler, #2)</td></tr><tr><td>6871646</td><td>Pete the Cat: I Love My White Shoes</td></tr><tr><td>6892870</td><td>The Girl Who Kicked the Hornet&#39;s Nest (Millennium, #3)</td></tr><tr><td>6907672</td><td>The Talisman (Volume 1): The Road of Trials</td></tr><tr><td>6911529</td><td>Batwoman: Elegy</td></tr><tr><td>6917952</td><td>Burned (House of Night, #7)</td></tr><tr><td>6922622</td><td>Going Rogue: An American Life</td></tr><tr><td>6945530</td><td>The Night Eternal (The Strain Trilogy, #3)</td></tr><tr><td>6952423</td><td>I Am Ozzy</td></tr><tr><td>6954438</td><td>Sweet Tooth, Volume 1: Out of the Deep Woods</td></tr><tr><td>6987558</td><td>Don&#39;t Blink</td></tr><tr><td>7005479</td><td>Island Beneath the Sea</td></tr><tr><td>7006562</td><td>Stephen King&#39;s N.</td></tr><tr><td>7011879</td><td>Of Course I Love You...! Till I Find Someone Better...</td></tr><tr><td>7025086</td><td>Ender&#39;s Game, Volume 2: Command School</td></tr><tr><td>7058405</td><td>The Ice Princess (Patrik Hedström, #1)</td></tr><tr><td>7090785</td><td>Dawn of the Dreadfuls (Pride and Prejudice and Zombies, #0.5)</td></tr><tr><td>7091713</td><td>Kiss of Death (The Morganville Vampires, #8)</td></tr><tr><td>7099273</td><td>The Other Wes Moore: One Name, Two Fates</td></tr><tr><td>7122034</td><td>Fever Dream (Pendergast, #10)</td></tr><tr><td>7128341</td><td>The Prince of Mist (Niebla, #1)</td></tr><tr><td>7134201</td><td>The Postcard Killers</td></tr><tr><td>7134202</td><td>Private (Private, #1)</td></tr><tr><td>7144426</td><td>The Bourne Objective (Jason Bourne, #8)</td></tr><tr><td>7156505</td><td>The 9th Judgment  (Women&#39;s Murder Club, #9)</td></tr><tr><td>7202841</td><td>Locke &amp; Key, Vol. 3: Crown of Shadows</td></tr><tr><td>7268995</td><td>A Sick Day for Amos McGee</td></tr><tr><td>7274337</td><td>The Invisible Bridge</td></tr><tr><td>7355137</td><td>Darke (Septimus Heap, #6)</td></tr><tr><td>7469664</td><td>The Walking Dead, Vol. 12: Life Among Them</td></tr><tr><td>7505716</td><td>Alice&#39;s Adventures in Wonderland &amp; Other Stories</td></tr><tr><td>7557548</td><td>Men at Arms: The Play</td></tr><tr><td>7619292</td><td>Twilight: The Graphic Novel, Vol. 1 (Twilight: The Graphic Novel, #1)</td></tr><tr><td>7619398</td><td>American Vampire, Vol. 1</td></tr><tr><td>7640261</td><td>Sex at Dawn: The Prehistoric Origins of Modern Sexuality</td></tr><tr><td>7640705</td><td>The Ring of Solomon (Bartimaeus, #0.5)</td></tr><tr><td>7646805</td><td>The Gift (Witch &amp; Wizard, #2)</td></tr><tr><td>7657484</td><td>Superman: Earth One, Volume 1</td></tr><tr><td>7717482</td><td>1Q84 BOOK 3 (1Q84, #3)</td></tr><tr><td>7723797</td><td>Business Model Generation</td></tr><tr><td>7726143</td><td>Origins (The Vampire Diaries: Stefan&#39;s Diaries, #1)</td></tr><tr><td>7736086</td><td>The Lightning Thief: The Graphic Novel (Percy Jackson and the Olympians, #1)</td></tr><tr><td>7741325</td><td>Dash &amp; Lily&#39;s Book of Dares (Dash &amp; Lily, #1)</td></tr><tr><td>7743175</td><td>A Memory of Light (Wheel of Time, #14)</td></tr><tr><td>7746259</td><td>The Stand: Soul Survivors</td></tr><tr><td>7783191</td><td>The Invisible Gorilla: And Other Ways Our Intuitions Deceive Us</td></tr><tr><td>7800188</td><td>Virals (Virals, #1)</td></tr><tr><td>7822895</td><td>The Millennium Trilogy (Millennium Trilogy, #1-3)</td></tr><tr><td>7824997</td><td>Theodore Boone: Kid Lawyer (Theodore Boone, #1)</td></tr><tr><td>7826116</td><td>Behemoth (Leviathan, #2)</td></tr><tr><td>7842288</td><td>Beautiful Darkness (Caster Chronicles, #2)</td></tr><tr><td>7857195</td><td>Squirrel Seeks Chipmunk: A Modest Bestiary</td></tr><tr><td>7870457</td><td>Chew, Vol. 2: International Flavor</td></tr><tr><td>7894870</td><td>Bone: Tall Tales</td></tr><tr><td>7905977</td><td>The Adventures of Ook and Gluk, Kung-Fu Cavemen from the Future</td></tr><tr><td>7926569</td><td>Now You See Her</td></tr><tr><td>7930335</td><td>Beautiful Redemption (Caster Chronicles, #4)</td></tr><tr><td>7933292</td><td>Heaven is for Real: A Little Boy&#39;s Astounding Story of His Trip to Heaven and Back</td></tr><tr><td>7933615</td><td>Hidden (House of Night, #10)</td></tr><tr><td>7933617</td><td>Destined (House of Night, #9)</td></tr><tr><td>7997069</td><td>Dead or Alive (Jack Ryan Universe, #13)</td></tr><tr><td>8044557</td><td>All My Friends Are Dead</td></tr><tr><td>8046680</td><td>The Girl Who Was on Fire: Your Favorite Authors on Suzanne Collins&#39; Hunger Games Trilogy</td></tr><tr><td>8100288</td><td>The Boy Who Came Back from Heaven: A Remarkable Account of Miracles, Angels, and Life beyond This World</td></tr><tr><td>8110748</td><td>キスよりも早く1 [Kisu Yorimo Hayaku 1] (Faster than a Kiss #1)</td></tr><tr><td>8163722</td><td>Earth (The Book): A Visitor&#39;s Guide to the Human Race</td></tr><tr><td>8230409</td><td>Kamisama Kiss, Vol. 1</td></tr><tr><td>8239301</td><td>الطنطورية</td></tr><tr><td>8253920</td><td>Towers of Midnight (Wheel of Time, #13)</td></tr><tr><td>8257435</td><td>Hector and the Search for Happiness</td></tr><tr><td>8286216</td><td>Gideon&#39;s Sword (Gideon Crew, #1)</td></tr><tr><td>8315872</td><td>Treachery in Death (In Death, #32)</td></tr><tr><td>8320534</td><td>Raymond E. Feist&#39;s Magician Master</td></tr><tr><td>8346300</td><td>Harry Potter: A Pop-Up Book: Based on the Film Phenomenon</td></tr><tr><td>8437913</td><td>Tick Tock (Michael Bennett, #4)</td></tr><tr><td>8456124</td><td>Bloodlust (The Vampire Diaries: Stefan&#39;s Diaries, #2)</td></tr><tr><td>8477057</td><td>Daytripper</td></tr><tr><td>8520362</td><td>The Grand Design</td></tr><tr><td>8574333</td><td>Please Look After Mom</td></tr><tr><td>8621462</td><td>A Monster Calls</td></tr><tr><td>8643220</td><td>Vampire Academy: The Graphic Novel (Vampire Academy: The Graphic Novel, #1)</td></tr><tr><td>8652190</td><td>Awakened (House of Night, #8)</td></tr><tr><td>8686068</td><td>The Devotion of Suspect X</td></tr><tr><td>8724779</td><td>Marked / Betrayed / Chosen / Untamed / Hunted (House of Night #1-5)</td></tr><tr><td>8755555</td><td>The Troubled Man (Kurt Wallander, #10)</td></tr><tr><td>8765461</td><td>Choosing to SEE</td></tr><tr><td>8835379</td><td>Ruby Red (Precious Stone Trilogy, #1)</td></tr><tr><td>8835897</td><td>Defiance (Strange Angels, #4)</td></tr><tr><td>9018370</td><td>The Walking Dead, Vol. 13: Too Far Gone</td></tr><tr><td>9151181</td><td>Onward: How Starbucks Fought for Its Life without Losing Its Soul</td></tr><tr><td>9349915</td><td>Red Riding Hood</td></tr><tr><td>9366879</td><td>Bone: Quest for the Spark, Vol. 1</td></tr><tr><td>9436746</td><td>10th Anniversary (Women&#39;s Murder Club, #10)</td></tr><tr><td>9440324</td><td>The Midnight Palace (Niebla, #2)</td></tr><tr><td>9443405</td><td>The Pale King</td></tr><tr><td>9465845</td><td>Vespers Rising (The 39 Clues, #11)</td></tr><tr><td>9476510</td><td>Those Guys Have All the Fun: Inside the World of ESPN</td></tr><tr><td>9489502</td><td>Cold Vengeance (Pendergast, #11)</td></tr><tr><td>9496240</td><td>The Hangman&#39;s Daughter (The Hangman&#39;s Daughter, #1)</td></tr><tr><td>9572203</td><td>The Snowman (Harry Hole, #7)</td></tr><tr><td>9583508</td><td>Smokin&#39; Seventeen (Stephanie Plum, #17)</td></tr><tr><td>9591398</td><td>The Girl Who Circumnavigated Fairyland in a Ship of Her Own Making (Fairyland, #1)</td></tr><tr><td>9606002</td><td>The Preacher (Patrik Hedström, #2)</td></tr><tr><td>9666241</td><td>النبطي</td></tr><tr><td>9670094</td><td>Through My Eyes</td></tr><tr><td>9674335</td><td>Locke &amp; Key, Vol. 4: Keys to the Kingdom</td></tr><tr><td>9677870</td><td>Press Here</td></tr><tr><td>9682816</td><td>Kill Me If You Can</td></tr><tr><td>9739365</td><td>SEAL Team Six: Memoirs of an Elite Navy SEAL Sniper</td></tr><tr><td>9798177</td><td>Middle School: The Worst Years of My Life (Midde School, #1)</td></tr><tr><td>9835731</td><td>The Hypnotist (Joona Linna, #1)</td></tr><tr><td>9850443</td><td>The Sisters Brothers</td></tr><tr><td>9876989</td><td>Blue Exorcist, Vol. 1  (Blue Exorcist, #1)</td></tr><tr><td>9902804</td><td>Lies That Chelsea Handler Told Me</td></tr><tr><td>9918083</td><td>Goliath (Leviathan, #3)</td></tr><tr><td>10256723</td><td>Ghost in the Wires: My Adventures as the World&#39;s Most Wanted Hacker</td></tr><tr><td>10305231</td><td>The Next Always (Inn BoonsBoro, #1)</td></tr><tr><td>10314376</td><td>The Prague Cemetery</td></tr><tr><td>10324808</td><td>Dragon&#39;s Oath (House of Night Novellas, #1)</td></tr><tr><td>10357575</td><td>1Q84</td></tr><tr><td>10399742</td><td>Private London (Private #4)</td></tr><tr><td>10402992</td><td>New York to Dallas (In Death, #33)</td></tr><tr><td>10431447</td><td>Wildwood (Wildwood Chronicles, #1)</td></tr><tr><td>10450750</td><td>Avatar: The Last Airbender: The Lost Adventures</td></tr><tr><td>10508526</td><td>The Chronicles of Harris Burdick: 14 Amazing Authors Tell the Tales</td></tr><tr><td>10518110</td><td>The Bite Before Christmas (Argeneau, #15.5; Night Huntress, #6.5)</td></tr><tr><td>10587120</td><td>Killing Lincoln: The Shocking Assassination that Changed America Forever</td></tr><tr><td>10594929</td><td>Out of Oz (The Wicked Years, #4)</td></tr><tr><td>10604115</td><td>Happy Accidents: A Memoir</td></tr><tr><td>10661081</td><td>Vampire Academy: The Ultimate Guide (Vampire Academy)</td></tr><tr><td>10677213</td><td>Van Gogh: The Life</td></tr><tr><td>10710392</td><td>Chopsticks</td></tr><tr><td>10757833</td><td>Beautiful Chaos (Caster Chronicles, #3)</td></tr><tr><td>10776592</td><td>The Boy in the Suitcase (Nina Borg, #1)</td></tr><tr><td>10778410</td><td>The Fire (Witch &amp; Wizard, #3)</td></tr><tr><td>10790276</td><td>Courageous</td></tr><tr><td>10798418</td><td>Why We Broke Up</td></tr><tr><td>10808006</td><td>Private #1 Suspect (Private, #2)</td></tr><tr><td>10822174</td><td>The Walking Dead, Vol. 14: No Way Out</td></tr><tr><td>10822858</td><td>The Keeper of Lost Causes (Department Q, #1)</td></tr><tr><td>10830444</td><td>Guilty Wives</td></tr><tr><td>10836813</td><td>The Time in Between</td></tr><tr><td>10844125</td><td>The Christmas Wedding</td></tr><tr><td>10868182</td><td>The Hidden Child (Patrik Hedström, #5)</td></tr><tr><td>10869746</td><td>Rise of the Governor (The Walking Dead #1)</td></tr><tr><td>10889279</td><td>Batman: The Black Mirror</td></tr><tr><td>10931321</td><td>Against All Enemies (Max Moore, #1)</td></tr><tr><td>10959277</td><td>The Future of Us</td></tr><tr><td>11104933</td><td>Willpower: Rediscovering the Greatest Human Strength</td></tr><tr><td>11166889</td><td>The Funhouse</td></tr><tr><td>11192642</td><td>Go the Fuck to Sleep</td></tr><tr><td>11256979</td><td>The Magic of Reality: How We Know What&#39;s Really True</td></tr><tr><td>11266880</td><td>It Chooses You</td></tr><tr><td>11281852</td><td>Kisses from Katie: A Story of Relentless Love and Redemption</td></tr><tr><td>11331421</td><td>The Art of Hearing Heartbeats</td></tr><tr><td>11337189</td><td>A Universe from Nothing: Why There Is Something Rather Than Nothing</td></tr><tr><td>11343348</td><td>Private Games (Private #3)</td></tr><tr><td>11389341</td><td>The Meaning of Marriage: Facing the Complexities of Commitment with the Wisdom of God</td></tr><tr><td>11401915</td><td>The Ripper (The Vampire Diaries: Stefan&#39;s Diaries, #4)</td></tr><tr><td>11450360</td><td>Twilight: The Graphic Novel, Vol. 2  (Twilight: The Graphic Novel, #2)</td></tr><tr><td>11551045</td><td>Lenobia&#39;s Vow (House of Night Novellas, #2)</td></tr><tr><td>11568316</td><td>Dream Dark (Caster Chronicles, #2.5)</td></tr><tr><td>11594337</td><td>The One and Only Ivan</td></tr><tr><td>11607446</td><td>The Wishing Spell (The Land of Stories, #1)</td></tr><tr><td>11660590</td><td>Micro</td></tr><tr><td>11777020</td><td>Headhunters</td></tr><tr><td>11784281</td><td>Take This Regret (Take This Regret, #1)</td></tr><tr><td>11872242</td><td>11th Hour (Women&#39;s Murder Club, #11)</td></tr><tr><td>11887020</td><td>American Sniper: The Autobiography of the Most Lethal Sniper in U.S. Military History</td></tr><tr><td>11995136</td><td>محال</td></tr><tr><td>12065943</td><td>Extra Yarn (E. B. White Read-Aloud Award. Picture Books)</td></tr><tr><td>12099007</td><td>The Last Boyfriend (Inn BoonsBoro, #2)</td></tr><tr><td>12158480</td><td>Why Nations Fail: The Origins of Power, Prosperity, and Poverty</td></tr><tr><td>12204857</td><td>Ghost Boy</td></tr><tr><td>12254379</td><td>1Q84 #1-2 (1Q84, #1-2)</td></tr><tr><td>12283261</td><td>Between the Lines (Between the Lines, #1)</td></tr><tr><td>12326644</td><td>The Kingmaker&#39;s Daughter (The Plantagenet and Tudor Novels, #4)</td></tr><tr><td>12341557</td><td>The Wind Through the Keyhole (The Dark Tower, #4.5)</td></tr><tr><td>12360050</td><td>The Dark Monk (The Hangman&#39;s Daughter, #2)</td></tr><tr><td>12413836</td><td>Avatar: The Last Airbender (The Promise, #1)</td></tr><tr><td>12475019</td><td>Some Assembly Required: A Journal of My Son&#39;s First Son</td></tr><tr><td>12675109</td><td>Great by Choice: Uncertainty, Chaos, and Luck--Why Some Thrive Despite Them All</td></tr><tr><td>12687461</td><td>Locked On (Jack Ryan Universe, #14)</td></tr><tr><td>12791521</td><td>Batman: Earth One, Volume 1</td></tr><tr><td>12902549</td><td>An Invisible Thread: The True Story of an 11-Year-Old Panhandler, a Busy Sales Executive, and an Unlikely Meeting with Destiny</td></tr><tr><td>12954620</td><td>Falling Kingdoms (Falling Kingdoms, #1)</td></tr><tr><td>12959086</td><td>The Demigod Diaries</td></tr><tr><td>12962439</td><td>A Game of Thrones: The Graphic Novel, Vol. 1</td></tr><tr><td>13037558</td><td>I, Michael Bennett (Michael Bennett, #5)</td></tr><tr><td>13096848</td><td>Avatar: The Last Airbender (The Promise, #2)</td></tr><tr><td>13105527</td><td>I Wrote This For You</td></tr><tr><td>13129925</td><td>Horrorstör</td></tr><tr><td>13138635</td><td>These Broken Stars (Starbound, #1)</td></tr><tr><td>13147230</td><td>The Long Earth (The Long Earth, #1)</td></tr><tr><td>13151129</td><td>Earth Unaware (The First Formic War, #1)</td></tr><tr><td>13152287</td><td>Bringing Up Bébé: One American Mother Discovers the Wisdom of French Parenting</td></tr><tr><td>13154150</td><td>Attack on Titan, Vol. 1 (Attack on Titan, #1)</td></tr><tr><td>13193855</td><td>It Starts with Food: Discover the Whole30 and Change Your Life in Unexpected Ways</td></tr><tr><td>13202092</td><td>Eat and Run: My Unlikely Journey to Ultramarathon Greatness</td></tr><tr><td>13223349</td><td>Batman, Volume 1: The Court of Owls</td></tr><tr><td>13226173</td><td>The Infernal Devices: Clockwork Angel (The Infernal Devices: Manga, #1)</td></tr><tr><td>13227319</td><td>Wonder Woman, Volume 1: Blood</td></tr><tr><td>13230263</td><td>Mrs. Kennedy and Me: An Intimate Memoir</td></tr><tr><td>13256064</td><td>Phantom (Harry Hole, #9)</td></tr><tr><td>13353667</td><td>Zoo</td></tr><tr><td>13359067</td><td>A Wanted Man (Jack Reacher, #17)</td></tr><tr><td>13406425</td><td>Burn for Burn (Burn for Burn, #1)</td></tr><tr><td>13414599</td><td>Happier at Home: Kiss More, Jump More, Abandon a Project, Read Samuel Johnson, and My Other Experiments in the Practice of Everyday Life</td></tr><tr><td>13425570</td><td>How Will You Measure Your Life?</td></tr><tr><td>13436373</td><td>Drama</td></tr><tr><td>13477819</td><td>Who Could That Be at This Hour? (All the Wrong Questions, #1)</td></tr><tr><td>13486632</td><td>The Hundred-Year-Old Man Who Climbed Out of the Window and Disappeared</td></tr><tr><td>13490570</td><td>Locke &amp; Key, Vol. 5: Clockworks</td></tr><tr><td>13505130</td><td>The Absent One (Department Q, #2)</td></tr><tr><td>13507011</td><td>Low Pressure</td></tr><tr><td>13513205</td><td>A Wrinkle in Time: The Graphic Novel</td></tr><tr><td>13521399</td><td>Confessions of a Murder Suspect (Confessions, #1)</td></tr><tr><td>13538641</td><td>Killing Kennedy: The End of Camelot</td></tr><tr><td>13554713</td><td>Fairy Tales from the Brothers Grimm: A New English Version</td></tr><tr><td>13568619</td><td>The Shadowhunter&#39;s Codex</td></tr><tr><td>13580846</td><td>My Life with the Walter Boys (My Life with the Walter Boys #1)</td></tr><tr><td>13586707</td><td>My Brilliant Friend (The Neapolitan Novels #1)</td></tr><tr><td>13614836</td><td>Tempting the Best Man (Gamble Brothers, #1)</td></tr><tr><td>13637412</td><td>ساق البامبو</td></tr><tr><td>13638125</td><td>Vicious (Villains, #1)</td></tr><tr><td>13722526</td><td>The Nightmare (Joona Linna, #2)</td></tr><tr><td>14744381</td><td>The Walking Dead, Compendium 2</td></tr><tr><td>14781219</td><td>Private Berlin (Private #5)</td></tr><tr><td>14781501</td><td>NYPD Red (NYPD Red, #1)</td></tr><tr><td>14889780</td><td>Two Graves (Pendergast, #12)</td></tr><tr><td>15704307</td><td>Saga, Vol. 1 (Saga, #1)</td></tr><tr><td>15734464</td><td>12th of Never (Women&#39;s Murder Club, #12)</td></tr><tr><td>15752115</td><td>Batman, Volume 2: The City of Owls</td></tr><tr><td>15776904</td><td>The Beggar King (The Hangman&#39;s Daughter, #3)</td></tr><tr><td>15791403</td><td>Mistress</td></tr><tr><td>15797938</td><td>The Dinner</td></tr><tr><td>15799936</td><td>How to Tell If Your Cat Is Plotting to Kill You</td></tr><tr><td>15808816</td><td>A Higher Call: An Incredible True Story of Combat and Chivalry in the War-Torn Skies of World War II</td></tr><tr><td>15814872</td><td>No Easy Day: The Firsthand Account of the Mission That Killed Osama Bin Laden</td></tr><tr><td>15818164</td><td>The Blood Gospel (The Order of the Sanguines, #1)</td></tr><tr><td>15823426</td><td>The Secret Race: Inside the Hidden World of the Tour de France: Doping, Cover-ups, and Winning at All Costs</td></tr><tr><td>15823480</td><td>Anna Karenina</td></tr><tr><td>15827066</td><td>Beyond Belief: My Secret Life Inside Scientology and My Harrowing Escape</td></tr><tr><td>15944406</td><td>Doll Bones</td></tr><tr><td>15985392</td><td>Threat Vector (Jack Ryan Universe, #15)</td></tr><tr><td>16000044</td><td>Rebel Spring (Falling Kingdoms, #2)</td></tr><tr><td>16002136</td><td>Hawkeye, Volume 1: My Life as a Weapon</td></tr><tr><td>16031679</td><td>Tempting the Player (Gamble Brothers, #2)</td></tr><tr><td>16052012</td><td>Flora and Ulysses: The Illuminated Adventures</td></tr><tr><td>16054811</td><td>Manuscript Found in Accra</td></tr><tr><td>16071764</td><td>Lean In: Women, Work, and the Will to Lead</td></tr><tr><td>16074758</td><td>Dangerous Girls</td></tr><tr><td>16081961</td><td>الأسود يليق بك</td></tr><tr><td>16096873</td><td>Revealed (House of Night, #11)</td></tr><tr><td>16101018</td><td>The Day the Crayons Quit</td></tr><tr><td>16113737</td><td>The Reason I Jump: The Inner Voice of a Thirteen-Year-Old Boy with Autism</td></tr><tr><td>16122034</td><td>Frigid (Frigid, #1)</td></tr><tr><td>16131072</td><td>Second Honeymoon (Honeymoon, #2)</td></tr><tr><td>16136599</td><td>Redeemed (House of Night, #12)</td></tr><tr><td>16148398</td><td>Saga #1</td></tr><tr><td>16160797</td><td>The Cuckoo&#39;s Calling (Cormoran Strike, #1)</td></tr><tr><td>16164271</td><td>Locke &amp; Key, Vol. 6: Alpha &amp; Omega</td></tr><tr><td>16169737</td><td>The Heist (Fox and O&#39;Hare, #1)</td></tr><tr><td>16171259</td><td>The Sound of Things Falling</td></tr><tr><td>16248114</td><td>Maya&#39;s Notebook</td></tr><tr><td>16256798</td><td>The One Thing: The Surprisingly Simple Truth Behind Extraordinary Results</td></tr><tr><td>16277248</td><td>Avatar: The Last Airbender (The Search, #1)</td></tr><tr><td>16303287</td><td>The Bane Chronicles</td></tr><tr><td>17131869</td><td>Saga, Vol. 2 (Saga, #2)</td></tr><tr><td>17159011</td><td>White Fire (Pendergast, #13)</td></tr><tr><td>17167572</td><td>The Long War (The Long Earth, #2)</td></tr><tr><td>17200687</td><td>Rule (Marked Men, #1)</td></tr><tr><td>17255186</td><td>The Phoenix Project: A Novel About IT, DevOps, and Helping Your Business Win</td></tr><tr><td>17277800</td><td>Hawkeye, Volume 2: Little Hits</td></tr><tr><td>17286958</td><td>Killing Jesus: A History</td></tr><tr><td>17287028</td><td>My Story</td></tr><tr><td>17314430</td><td>Wait for You (Wait for You, #1)</td></tr><tr><td>17331349</td><td>Think Like a Freak</td></tr><tr><td>17333279</td><td>Gone (Michael Bennett, #6)</td></tr><tr><td>17333302</td><td>Grain Brain: The Surprising Truth about Wheat, Carbs,  and Sugar--Your Brain&#39;s Silent Killers</td></tr><tr><td>17334079</td><td>What Really Happened in Peru (The Bane Chronicles, #1)</td></tr><tr><td>17342700</td><td>Gathering Darkness (Falling Kingdoms, #3)</td></tr><tr><td>17345242</td><td>The World of Ice &amp; Fire: The Untold History of Westeros and the Game of Thrones</td></tr><tr><td>17346698</td><td>March: Book One (March, #1)</td></tr><tr><td>17349203</td><td>Fortunately, the Milk</td></tr><tr><td>17455541</td><td>Happy, Happy, Happy</td></tr><tr><td>17465515</td><td>The Story of a New Name (The Neapolitan Novels #2)</td></tr><tr><td>17524166</td><td>نادي السيارات</td></tr><tr><td>17558817</td><td>Be with Me (Wait for You, #2)</td></tr><tr><td>17570105</td><td>The Survivor (Mitch Rapp, #14)</td></tr><tr><td>17671913</td><td>Batman, Volume 3: Death of the Family</td></tr><tr><td>17673271</td><td>Si-cology 1: Tales and Wisdom from Duck Dynasty’s Favorite Uncle</td></tr><tr><td>17675031</td><td>This Star Won&#39;t Go Out: The Life and Words of Esther Grace Earl</td></tr><tr><td>17704903</td><td>Empty Mansions: The Mysterious Life of Huguette Clark and the Spending of a Great American Fortune</td></tr><tr><td>17707603</td><td>George Washington&#39;s Secret Six: The Spy Ring That Saved the American Revolution</td></tr><tr><td>17722973</td><td>The Enchantress Returns (The Land of Stories, #2)</td></tr><tr><td>17798233</td><td>Rome (Marked Men, #3)</td></tr><tr><td>17851885</td><td>I Am Malala: The Story of the Girl Who Stood Up for Education and Was Shot by the Taliban</td></tr><tr><td>17860217</td><td>Trust in Me (Wait for You, #1.5)</td></tr><tr><td>17860739</td><td>S.</td></tr><tr><td>17899392</td><td>First Love</td></tr><tr><td>17903381</td><td>Diary ng Panget</td></tr><tr><td>18039755</td><td>حوجن [Ḥawjan]</td></tr><tr><td>18039963</td><td>A House in the Sky</td></tr><tr><td>18045473</td><td>Last Train to Istanbul</td></tr><tr><td>18050143</td><td>Zero to One: Notes on Startups, or How to Build the Future</td></tr><tr><td>18077903</td><td>Creativity, Inc.: Overcoming the Unseen Forces That Stand in the Way of True Inspiration</td></tr><tr><td>18090150</td><td>Ripper</td></tr><tr><td>18129852</td><td>Rival (Fall Away, #2)</td></tr><tr><td>18142329</td><td>Police (Harry Hole, #10)</td></tr><tr><td>18143968</td><td>I&#39;ve Got You Under My Skin (Under Suspicion, #1)</td></tr><tr><td>18170134</td><td>NYPD Red 2 (NYPD Red, #2)</td></tr><tr><td>18209454</td><td>The Thousand-Dollar Tan Line (Veronica Mars, #1)</td></tr><tr><td>18214414</td><td>The Silkworm (Cormoran Strike, #2)</td></tr><tr><td>18282915</td><td>The Chase (Fox and O&#39;Hare, #2)</td></tr><tr><td>18310944</td><td>The Sandman: Overture</td></tr><tr><td>18337259</td><td>A Game of Thrones: Comic Book, Issue 1</td></tr><tr><td>18342283</td><td>Command Authority (Jack Ryan Universe, #16)</td></tr><tr><td>18373214</td><td>Cockroaches (Harry Hole, #2)</td></tr><tr><td>18453095</td><td>Unlucky 13 (Women’s Murder Club, #13)</td></tr><tr><td>18460392</td><td>All the Bright Places</td></tr><tr><td>18465566</td><td>This One Summer</td></tr><tr><td>18630542</td><td>Seconds</td></tr><tr><td>18635622</td><td>A Knight of the Seven Kingdoms (The Tales of Dunk and Egg, #1-3)</td></tr><tr><td>18656055</td><td>Invisible</td></tr><tr><td>18667307</td><td>Tokyo Ghoul, tome 1 (Tokyo Ghoul, #1)</td></tr><tr><td>18687079</td><td>Avatar: The Last Airbender (The Rift, #1)</td></tr><tr><td>18692431</td><td>Everything, Everything</td></tr><tr><td>18736925</td><td>Capital in the Twenty-First Century</td></tr><tr><td>18774964</td><td>A Man Called Ove</td></tr><tr><td>19101283</td><td>The Son</td></tr><tr><td>19138879</td><td>Attack on Titan: No Regrets, Volume 01</td></tr><tr><td>19156898</td><td>The Fourteenth Goldfish</td></tr><tr><td>19288239</td><td>Colorless Tsukuru Tazaki and His Years of Pilgrimage</td></tr><tr><td>19351490</td><td>Grimm&#39;s Fairy Tales</td></tr><tr><td>19358975</td><td>Saga, Vol. 3 (Saga, #3)</td></tr><tr><td>19501672</td><td>Stay with Me (Wait for You, #3)</td></tr><tr><td>19536001</td><td>Sex Criminals, Vol. 1: One Weird Trick</td></tr><tr><td>19747756</td><td>House</td></tr><tr><td>20168816</td><td>Rogues</td></tr><tr><td>20170296</td><td>Neil Patrick Harris: Choose Your Own Autobiography</td></tr><tr><td>20257122</td><td>Finding Me: A Decade of Darkness, a Life Reclaimed - A Memoir of the Cleveland Kidnappings</td></tr><tr><td>20299683</td><td>Rat Queens, Vol. 1: Sass &amp; Sorcery</td></tr><tr><td>20309175</td><td>My True Love Gave to Me: Twelve Holiday Stories</td></tr><tr><td>20318201</td><td>Burn (Michael Bennett, #7)</td></tr><tr><td>20510241</td><td>The Calling (Endgame, #1)</td></tr><tr><td>20518872</td><td>The Three-Body Problem (Remembrance of Earth’s Past, #1)</td></tr><tr><td>20575446</td><td>In Real Life</td></tr><tr><td>20578940</td><td>The Iron Trial (Magisterium, #1)</td></tr><tr><td>20588698</td><td>Not That Kind of Girl: A Young Woman Tells You What She&#39;s &quot;Learned&quot;</td></tr><tr><td>20701984</td><td>El Deafo</td></tr><tr><td>20706320</td><td>A Grimm Warning (The Land of Stories, #3)</td></tr><tr><td>20764879</td><td>A Gathering of Shadows (Shades of Magic, #2)</td></tr><tr><td>20803962</td><td>Until You (Fall Away, #1.5)</td></tr><tr><td>20829994</td><td>Percy Jackson&#39;s Greek Gods (A Percy Jackson and the Olympians Guide)</td></tr><tr><td>20886354</td><td>Skin Deep (Legion, #2)</td></tr><tr><td>20898019</td><td>Ms. Marvel, Vol. 1: No Normal</td></tr><tr><td>20912424</td><td>The War that Saved My Life (The War That Saved My Life #1)</td></tr><tr><td>20980959</td><td>Blue Labyrinth (Pendergast, #14)</td></tr><tr><td>21094993</td><td>The Girl Who Saved the King of Sweden</td></tr><tr><td>21412202</td><td>As You Wish: Inconceivable Tales from the Making of The Princess Bride</td></tr><tr><td>21433251</td><td>Manga Classics: Les Misérables</td></tr><tr><td>21437200</td><td>Mr. Kiss and Tell (Veronica Mars, #2)</td></tr><tr><td>21530229</td><td>The Job (Fox and O&#39;Hare, #3)</td></tr><tr><td>21535271</td><td>The Slow Regard of Silent Things (The Kingkiller Chronicle #2.5)</td></tr><tr><td>21535784</td><td>The Cinderella Murder (Under Suspicion, #2)</td></tr><tr><td>21981841</td><td>Corrupt (Devil&#39;s Night, #1)</td></tr><tr><td>22055262</td><td>A Darker Shade of Magic (Shades of Magic, #1)</td></tr><tr><td>22296542</td><td>Addicted to You (Addicted, #1)</td></tr><tr><td>22318578</td><td>The Life-Changing Magic of Tidying Up: The Japanese Art of Decluttering and Organizing</td></tr><tr><td>22381892</td><td>Killing Patton: The Strange Death of World War II&#39;s Most Audacious General</td></tr><tr><td>22428828</td><td>Welcome to Shadowhunter Academy (Tales from the Shadowhunter Academy, #1)</td></tr><tr><td>22510983</td><td>Girl Online (Girl Online, #1)</td></tr><tr><td>22554204</td><td>Lumberjanes, Vol. 1: Beware the Kitten Holy</td></tr><tr><td>22674493</td><td>NYPD Red 3 (NYPD Red, #3)</td></tr><tr><td>22840421</td><td>My Lady Jane (The Lady Janies, #1)</td></tr><tr><td>22875451</td><td>The Royal We</td></tr><tr><td>22915460</td><td>The Glassblower</td></tr><tr><td>23012475</td><td>The Knockoff</td></tr><tr><td>23013953</td><td>Gut: The Inside Story of Our Body’s Most Underrated Organ</td></tr><tr><td>23017947</td><td>Ms. Marvel, Vol. 2: Generation Why</td></tr><tr><td>23093359</td><td>The Wicked + The Divine, Vol. 1: The Faust Act</td></tr><tr><td>23093367</td><td>Saga, Vol. 4 (Saga, #4)</td></tr><tr><td>23128304</td><td>The Strange Library</td></tr><tr><td>23129410</td><td>Welcome to Night Vale</td></tr><tr><td>23156040</td><td>Those Who Leave and Those Who Stay (The Neapolitan Novels #3)</td></tr><tr><td>23158207</td><td>How Google Works</td></tr><tr><td>23168817</td><td>The Dark Forest (Remembrance of Earth’s Past, #2)</td></tr><tr><td>23278537</td><td>The Little Paris Bookshop</td></tr><tr><td>23301545</td><td>The Sleeper and the Spindle</td></tr><tr><td>23346918</td><td>14th Deadly Sin (Women’s Murder Club, #14)</td></tr><tr><td>23395680</td><td>Illuminae (The Illuminae Files, #1)</td></tr><tr><td>23399022</td><td>Hope: A Memoir of Survival in Cleveland</td></tr><tr><td>23453112</td><td>Modern Romance</td></tr><tr><td>23602504</td><td>Blood on Snow (Blood on Snow, #1)</td></tr><tr><td>23604559</td><td>My Grandmother Asked Me to Tell You She&#39;s Sorry</td></tr><tr><td>23705512</td><td>You&#39;re Never Weird on the Internet (Almost)</td></tr><tr><td>23717678</td><td>The Murder House</td></tr><tr><td>23731881</td><td>Very Good Lives: The Fringe Benefits of Failure and the Importance of Imagination</td></tr><tr><td>24378015</td><td>Never Never (Never Never, #1)</td></tr><tr><td>24396884</td><td>Alert (Michael Bennett, #8)</td></tr><tr><td>24422492</td><td>Never Never: Part Two (Never Never, #2)</td></tr><tr><td>25074850</td><td>The Girl in the Spider&#39;s Web (Millennium, #4)</td></tr><tr><td>25152052</td><td>The Japanese Lover</td></tr><tr><td>25242224</td><td>The Story of the Lost Child (The Neapolitan Novels, #4)</td></tr><tr><td>25387202</td><td>The Force Awakens (Star Wars)</td></tr><tr><td>25422234</td><td>Notorious RBG: The Life and Times of Ruth Bader Ginsburg</td></tr><tr><td>25451555</td><td>Saga, Vol. 5 (Saga, #5)</td></tr><tr><td>25454883</td><td>Never Never: Part Three (Never Never, #3)</td></tr><tr><td>25489025</td><td>The Vegetarian</td></tr><tr><td>25573977</td><td>The Readers of Broken Wheel Recommend</td></tr><tr><td>25613617</td><td>15th Affair (Women&#39;s Murder Club #15)</td></tr><tr><td>25614598</td><td>Crimson Shore (Pendergast, #15)</td></tr><tr><td>25624089</td><td>Killing Reagan: The Violent Assault That Changed a Presidency</td></tr><tr><td>25735012</td><td>Career of Evil (Cormoran Strike, #3)</td></tr><tr><td>25772000</td><td>Cocky Bastard</td></tr><tr><td>25817162</td><td>America&#39;s First Daughter</td></tr><tr><td>25893709</td><td>My Name Is Lucy Barton</td></tr><tr><td>25899336</td><td>When Breath Becomes Air</td></tr><tr><td>26072609</td><td>The Rainbow Comes and Goes: A Mother and Son On Life, Love, and Loss</td></tr><tr><td>26200563</td><td>Hamilton: The Revolution</td></tr><tr><td>26827675</td><td>Troublemaker: Surviving Hollywood and Scientology</td></tr><tr><td>27401883</td><td>When I&#39;m Gone</td></tr><tr><td>27406704</td><td>Britt-Marie Was Here</td></tr><tr><td>27423283</td><td>The Moonlit Garden</td></tr><tr><td>28077464</td><td>Night School</td></tr><tr><td>28204534</td><td>Paper Girls, Vol. 1 (Paper Girls, #1)</td></tr><tr><td>28477789</td><td>Stuck-Up Suit</td></tr><tr><td>28678119</td><td>Paper Princess (The Royals, #1)</td></tr><tr><td>28802599</td><td>The Light of the Fireflies</td></tr><tr><td>28862528</td><td>Saga, Vol. 6 (Saga, #6)</td></tr><tr><td>29056083</td><td>Harry Potter and the Cursed Child - Parts One and Two (Harry Potter, #8)</td></tr><tr><td>29236299</td><td>Gemina (The Illuminae Files, #2)</td></tr><tr><td>31538614</td><td>Short Stories from Hogwarts of Power, Politics and Pesky Poltergeists (Pottermore Presents, #2)</td></tr><tr><td>31538635</td><td>Short Stories from Hogwarts of Heroism, Hardship and Dangerous Hobbies (Pottermore Presents, #1)</td></tr><tr><td>256598</td><td>Curse of the Bane (The Last Apprentice / Wardstone Chronicles, #2)</td></tr><tr><td>259836</td><td>Dragons of Autumn Twilight  (Dragonlance: Chronicles, #1)</td></tr><tr><td>260025</td><td>Test of the Twins (Dragonlance: Legends, #3)</td></tr><tr><td>260791</td><td>The Pursuit of Holiness</td></tr><tr><td>261243</td><td>History of the Peloponnesian War</td></tr><tr><td>262731</td><td>The Definitive Book of Body Language</td></tr><tr><td>263145</td><td>Vampire Knight, Vol. 1 (Vampire Knight, #1)</td></tr><tr><td>263173</td><td>Vampire Knight, Vol. 2 (Vampire Knight, #2)</td></tr><tr><td>264158</td><td>The Raven</td></tr><tr><td>265205</td><td>Life Application Study Bible: NIV</td></tr><tr><td>265650</td><td>Shakespeare&#39;s Romeo and Juliet</td></tr><tr><td>268598</td><td>Loyalty in Death (In Death, #9)</td></tr><tr><td>268955</td><td>Mummies in the Morning (Magic Tree House, #3)</td></tr><tr><td>269322</td><td>The Raven and other poems</td></tr><tr><td>271199</td><td>Fruits Basket, Vol. 1</td></tr><tr><td>272895</td><td>The Black Stallion (The Black Stallion, #1)</td></tr><tr><td>275245</td><td>Pygmalion and Three Other Plays</td></tr><tr><td>276287</td><td>M.C. Escher: The Graphic Work</td></tr><tr><td>276289</td><td>The Magic Mirror of M.C. Escher</td></tr><tr><td>277190</td><td>The Wrath of Mulgarath (The Spiderwick Chronicles, #5)</td></tr><tr><td>277191</td><td>The Ironwood Tree (The Spiderwick Chronicles, #4)</td></tr><tr><td>279692</td><td>Miss Nelson Is Back (Miss Nelson, #2)</td></tr><tr><td>280277</td><td>Lucinda&#39;s Secret (The Spiderwick Chronicles, #3)</td></tr><tr><td>280366</td><td>Jar City (Inspector Erlendur, #3)</td></tr><tr><td>281235</td><td>Bunnicula (Bunnicula, #1)</td></tr><tr><td>282282</td><td>Skip Beat!, Vol. 01</td></tr><tr><td>282356</td><td>Hana-Kimi, Vol. 1 (Hana-Kimi, #1)</td></tr><tr><td>282425</td><td>Boys Over Flowers: Hana Yori Dango, Vol. 1 (Boys Over Flowers, #1)</td></tr><tr><td>284440</td><td>Skulduggery Pleasant (Skulduggery Pleasant, #1)</td></tr><tr><td>284698</td><td>Tokyo Mew Mew, Vol. 1 (Tokyo Mew Mew, #1)</td></tr><tr><td>285212</td><td>On the Prowl (Alpha &amp; Omega, #0.5)</td></tr><tr><td>286957</td><td>The Yellow Wall-Paper</td></tr><tr><td>287380</td><td>Kare Kano: His and Her Circumstances, Vol. 1</td></tr><tr><td>287655</td><td>The Second Assistant: A Tale from the Bottom of the Hollywood Ladder</td></tr><tr><td>290882</td><td>The Upanishads: Translations from the Sanskrit</td></tr><tr><td>292275</td><td>Hedda Gabler</td></tr><tr><td>293595</td><td>Chicka Chicka Boom Boom</td></tr><tr><td>294613</td><td>Little Bear&#39;s Friend</td></tr><tr><td>294951</td><td>Fiddler on the Roof</td></tr><tr><td>294963</td><td>Rurouni Kenshin, Vol. 1: Meiji Swordsman Romantic Story (Rurouni Kenshin, #1)</td></tr><tr><td>295169</td><td>The Wind Singer (Wind on Fire, #1)</td></tr><tr><td>295305</td><td>Wolf Brother (Chronicles of Ancient Darkness, #1)</td></tr><tr><td>295834</td><td>The Unusual Suspects (The Sisters Grimm, #2)</td></tr><tr><td>297249</td><td>The Boxcar Children (The Boxcar Children, #1)</td></tr><tr><td>297627</td><td>The League of Extraordinary Gentlemen, Vol. 1</td></tr><tr><td>297792</td><td>The Slippery Slope (A Series of Unfortunate Events, #10)</td></tr><tr><td>298230</td><td>Agnes Grey</td></tr><tr><td>298275</td><td>Nausea</td></tr><tr><td>298567</td><td>Revenge of the Witch (The Last Apprentice / Wardstone Chronicles, #1)</td></tr><tr><td>298568</td><td>Night of the Soul Stealer (The Last Apprentice / Wardstone Chronicles, #3)</td></tr><tr><td>299384</td><td>Sleeping Beauty: a Little Golden Book (Disney Princess)</td></tr><tr><td>301736</td><td>Guess How Much I Love You</td></tr><tr><td>303098</td><td>Riptide</td></tr><tr><td>304079</td><td>The Essential Rumi</td></tr><tr><td>310259</td><td>Love You Forever</td></tr><tr><td>310612</td><td>A Confederacy of Dunces</td></tr><tr><td>313605</td><td>Getting to Yes: Negotiating an Agreement Without Giving In</td></tr><tr><td>313998</td><td>Johnny Mnemonic</td></tr><tr><td>315578</td><td>Auschwitz: A Doctor&#39;s Eyewitness Account</td></tr><tr><td>315882</td><td>Henry&#39;s Freedom Box: A True Story from the Underground Railroad</td></tr><tr><td>317504</td><td>Mistress of the Empire (The Empire Trilogy, #3)</td></tr><tr><td>318742</td><td>The Souls of Black Folk</td></tr><tr><td>320700</td><td>Shadows over Innsmouth</td></tr><tr><td>321552</td><td>The Agony and the Ecstasy</td></tr><tr><td>323355</td><td>The Book of Mormon: Another Testament of Jesus Christ</td></tr><tr><td>324277</td><td>The Carnivorous Carnival (A Series of Unfortunate Events, #9)</td></tr><tr><td>324737</td><td>Fresh Wind, Fresh Fire: What Happens When God&#39;s Spirit Invades the Heart of His People</td></tr><tr><td>325085</td><td>Nicholas Nickleby</td></tr><tr><td>325416</td><td>The Voyages of Doctor Dolittle (Doctor Dolittle, #2)</td></tr><tr><td>325421</td><td>The Story of Doctor Dolittle (Doctor Dolittle, #1)</td></tr><tr><td>326272</td><td>عقاید یک دلقک</td></tr><tr><td>327194</td><td>Three Little Kittens</td></tr><tr><td>327847</td><td>The Joy of Cooking</td></tr><tr><td>328802</td><td>Totto-chan: The Little Girl at the Window</td></tr><tr><td>331256</td><td>Roadside Picnic</td></tr><tr><td>331319</td><td>An American Tragedy</td></tr><tr><td>332631</td><td>Y: The Last Man, Vol. 2: Cycles (Y: The Last Man, #2)</td></tr><tr><td>333538</td><td>The Castle</td></tr><tr><td>333867</td><td>The Stars My Destination</td></tr><tr><td>337113</td><td>The Tenant of Wildfell Hall</td></tr><tr><td>337116</td><td>The Difference Engine </td></tr><tr><td>341281</td><td>The Woodlanders</td></tr><tr><td>342445</td><td>The Dark Tower: The Gunslinger Born</td></tr><tr><td>342637</td><td>Dali: The Paintings</td></tr><tr><td>342994</td><td>The Little Match Girl</td></tr><tr><td>343614</td><td>The Law of Attraction: The Basics of the Teachings of Abraham</td></tr><tr><td>348489</td><td>Snowflake Bentley</td></tr><tr><td>348564</td><td>Flat Stanley (Flat Stanley, #1)</td></tr><tr><td>348573</td><td>The Borrowers (The Borrowers, #1)</td></tr><tr><td>349473</td><td>Blaze</td></tr><tr><td>349929</td><td>Passing</td></tr><tr><td>351064</td><td>The Monkey&#39;s Paw (Oxford Bookworms)</td></tr><tr><td>355697</td><td>All Quiet on the Western Front</td></tr><tr><td>355916</td><td>Physik (Septimus Heap, #3)</td></tr><tr><td>355917</td><td>Flyte (Septimus Heap, #2)</td></tr><tr><td>356321</td><td>The Story of Babar</td></tr><tr><td>356373</td><td>Experiencing God: Knowing and Doing the Will of God, Workbook</td></tr><tr><td>357636</td><td>Civilization and Its Discontents</td></tr><tr><td>357664</td><td>Because of Winn-Dixie</td></tr><tr><td>359375</td><td>Night Watch (Watch #1)</td></tr><tr><td>361081</td><td>Pacific Vortex! (Dirk Pitt, #1)</td></tr><tr><td>363973</td><td>The Little Old Lady Who Was Not Afraid of Anything</td></tr><tr><td>364550</td><td>Two Treatises of Government</td></tr><tr><td>364826</td><td>سینوهه</td></tr><tr><td>373915</td><td>20th Century Ghosts</td></tr><tr><td>373925</td><td>Sweeney Todd: The Demon Barber of Fleet Street</td></tr><tr><td>374233</td><td>If on a Winter&#39;s Night a Traveler</td></tr><tr><td>381440</td><td>The Society of the Spectacle</td></tr><tr><td>383206</td><td>Wives and Daughters</td></tr><tr><td>384457</td><td>Agnes and the Hitman</td></tr><tr><td>386286</td><td>Julie of the Wolves (Julie of the Wolves, #1)</td></tr><tr><td>388018</td><td>The Clocks (Hercule Poirot, #34)</td></tr><tr><td>394683</td><td>A Bargain for Frances</td></tr><tr><td>395182</td><td>Lucky Jim</td></tr><tr><td>395233</td><td>The Letters of Vincent van Gogh</td></tr><tr><td>398323</td><td>Out Stealing Horses</td></tr><tr><td>401876</td><td>The House of God</td></tr><tr><td>402017</td><td>The Cake Mix Doctor</td></tr><tr><td>402128</td><td>Old Possum&#39;s Book of Practical Cats</td></tr><tr><td>406373</td><td>Faust</td></tr><tr><td>407429</td><td>The Stinky Cheese Man and Other Fairly Stupid Tales</td></tr><tr><td>408615</td><td>Left to Tell: Discovering God Amidst the Rwandan Holocaust</td></tr><tr><td>414895</td><td>Planet of the Apes</td></tr><tr><td>417780</td><td>Why Mosquitoes Buzz in People&#39;s Ears</td></tr><tr><td>423156</td><td>King of the Wind: The Story of the Godolphin Arabian</td></tr><tr><td>426504</td><td>Ficciones</td></tr><tr><td>426625</td><td>Fancy Nancy</td></tr><tr><td>427920</td><td>Chicken Soup for the Teenage Soul: 101 Stories of Life, Love and Learning (Chicken Soup for the Soul)</td></tr><tr><td>429024</td><td>The Old Curiosity Shop</td></tr><tr><td>433567</td><td>Flatland: A Romance of Many Dimensions</td></tr><tr><td>436806</td><td>Story of the Eye</td></tr><tr><td>438492</td><td>The Wide Window (A Series of Unfortunate Events, #3)</td></tr><tr><td>439173</td><td>Frindle</td></tr><tr><td>439363</td><td>Love★Com, Vol. 1</td></tr><tr><td>440960</td><td>Batman and Son</td></tr><tr><td>444304</td><td>The Field Guide (The Spiderwick Chronicles, #1)</td></tr><tr><td>444347</td><td>Chasing Vermeer (Chasing Vermeer, #1)</td></tr><tr><td>444381</td><td>The Princess and the Goblin  (Princess Irene and Curdie, #1)</td></tr><tr><td>448836</td><td>Second Treatise of Government</td></tr><tr><td>454236</td><td>Miracle in the Andes</td></tr><tr><td>457264</td><td>The Second Sex</td></tr><tr><td>462684</td><td>The Story of Tracy Beaker</td></tr><tr><td>464260</td><td>The Fire Next Time</td></tr><tr><td>465226</td><td>The Redbreast (Harry Hole, #3)</td></tr><tr><td>467032</td><td>The Bad Seed</td></tr><tr><td>472025</td><td>Why I Am Not a Christian and Other Essays on Religion and Related Subjects</td></tr><tr><td>472331</td><td>Watchmen</td></tr><tr><td>480204</td><td>The Phantom of the Opera</td></tr><tr><td>481743</td><td>The Wave</td></tr><tr><td>485894</td><td>The Metamorphosis</td></tr><tr><td>487666</td><td>Beyond Band of Brothers: The War Memoirs of Major Dick Winters</td></tr><tr><td>491735</td><td>The Dirty Girls Social Club (Dirty Girls, #1)</td></tr><tr><td>497164</td><td>Camera Lucida: Reflections on Photography</td></tr><tr><td>502295</td><td>Gonzo: The Life of Hunter S. Thompson</td></tr><tr><td>503248</td><td>My Lobotomy</td></tr><tr><td>505304</td><td>The Poky Little Puppy (A Little Golden Book)</td></tr><tr><td>511240</td><td>Yotsuba&amp;!, Vol. 01 (Yotsuba&amp;! #1)</td></tr><tr><td>511527</td><td>Double Act</td></tr><tr><td>511614</td><td>The 101 Dalmatians (The Hundred and One Dalmatians, #1)</td></tr><tr><td>511684</td><td>The Illustrated Mum</td></tr><tr><td>517344</td><td>Clementine (Clementine, #1)</td></tr><tr><td>519048</td><td>The Seeing Stone (The Spiderwick Chronicles, #2)</td></tr><tr><td>522525</td><td>Mistakes Were Made (But Not by Me): Why We Justify Foolish Beliefs, Bad Decisions, and Hurtful Acts</td></tr><tr><td>522534</td><td>Geisha, a Life</td></tr><tr><td>525488</td><td>Boundaries: When to Say Yes, How to Say No to Take Control of Your Life</td></tr><tr><td>531197</td><td>Lyra&#39;s Oxford (His Dark Materials, #3.5)</td></tr><tr><td>533465</td><td>Balzac and the Little Chinese Seamstress</td></tr><tr><td>533675</td><td>Pinocchio</td></tr><tr><td>534289</td><td>The I Ching or Book of Changes</td></tr><tr><td>534415</td><td>Dragons of Summer Flame (Dragonlance: The Second Generation, #2)</td></tr><tr><td>538845</td><td>Quo Vadis</td></tr><tr><td>543086</td><td>Tom&#39;s Midnight Garden</td></tr><tr><td>550844</td><td>Cycle of the Werewolf</td></tr><tr><td>551876</td><td>Tikki Tikki Tembo</td></tr><tr><td>552894</td><td>7th Heaven (Women&#39;s Murder Club, #7)</td></tr><tr><td>555500</td><td>Peter and the Secret of Rundoon (Peter and the Starcatchers, #3)</td></tr><tr><td>561909</td><td>The Hiding Place: The Triumphant True Story of Corrie Ten Boom</td></tr><tr><td>563887</td><td>The Littles</td></tr><tr><td>568454</td><td>D.Gray-man, Volume 01</td></tr><tr><td>568476</td><td>Henry Huggins (Henry Huggins, #1)</td></tr><tr><td>568592</td><td>Fushigi Yûgi: The Mysterious Play, Vol. 1: Priestess</td></tr><tr><td>569346</td><td>Full Moon o Sagashite, Vol. 1</td></tr><tr><td>576570</td><td>The Princess and the Pea</td></tr><tr><td>577542</td><td>Rikki-Tikki-Tavi</td></tr><tr><td>579696</td><td>Our Dumb Century: The Onion Presents 100 Years of Headlines from America&#39;s Finest News Source</td></tr><tr><td>584637</td><td>Utilitarianism</td></tr><tr><td>587638</td><td>Gentlemen of the Road</td></tr><tr><td>589979</td><td>Daughter of the Empire (The Empire Trilogy, #1)</td></tr><tr><td>594361</td><td>The Lion King: A little Golden Book</td></tr><tr><td>597790</td><td>The Children of Húrin</td></tr><tr><td>598117</td><td>Sounder</td></tr><tr><td>598159</td><td>Panda Bear, Panda Bear, What Do You See?</td></tr><tr><td>598160</td><td>Polar Bear, Polar Bear, What Do You Hear?</td></tr><tr><td>599090</td><td>A New Hope  (Star Wars: Novelizations #4)</td></tr><tr><td>604635</td><td>Naïve. Super</td></tr><tr><td>606818</td><td>Holy Blood, Holy Grail</td></tr><tr><td>608474</td><td>The Sign of Four</td></tr><tr><td>608601</td><td>Ox-Cart Man (Picture Puffin)</td></tr><tr><td>609035</td><td>Foxe&#39;s Book of Martyrs</td></tr><tr><td>609870</td><td>The Vow: The Kim &amp; Krickitt Carpenter Story</td></tr><tr><td>611298</td><td>I Am America (And So Can You!)</td></tr><tr><td>612188</td><td>Memories, Dreams, Reflections</td></tr><tr><td>616318</td><td>Justice, Volume 1</td></tr><tr><td>625094</td><td>The Leopard</td></tr><tr><td>630621</td><td>The Incredible Hulk: Planet Hulk</td></tr><tr><td>634407</td><td>Knots and Crosses (Inspector Rebus, #1)</td></tr><tr><td>634583</td><td>Wings of Fire: An Autobiography</td></tr><tr><td>646056</td><td>The Little Mermaid</td></tr><tr><td>646195</td><td>Babe: The Gallant Pig</td></tr><tr><td>653559</td><td>Sherlock Holmes and the Case of the Hound of the Baskervilles (Illustrated Classic Editions)</td></tr><tr><td>659469</td><td>The Hobbit: Graphic Novel</td></tr><tr><td>667985</td><td>Chobits, Vol. 1</td></tr><tr><td>668710</td><td>Magic and Other Misdemeanors (The Sisters Grimm, #5)</td></tr><tr><td>669780</td><td>Season of Migration to the North</td></tr><tr><td>672875</td><td>Le Morte d&#39;Arthur: King Arthur and the Legends of the Round Table</td></tr><tr><td>673252</td><td>Anne McCaffrey&#39;s Dragonflight #1</td></tr><tr><td>676555</td><td>The Beatles Anthology</td></tr><tr><td>676924</td><td>Betrayed (House of Night, #2)</td></tr><tr><td>682761</td><td>The Nazi Officer&#39;s Wife: How One Jewish Woman Survived the Holocaust</td></tr><tr><td>682920</td><td>The Little Mouse, the Red Ripe Strawberry, and the Big Hungry Bear</td></tr><tr><td>691520</td><td>No One Here Gets Out Alive</td></tr><tr><td>693208</td><td>The Absolutely True Diary of a Part-Time Indian</td></tr><tr><td>711901</td><td>Lone Survivor: The Eyewitness Account of Operation Redwing and the Lost Heroes of SEAL Team 10</td></tr><tr><td>716696</td><td>رباعيات خيام</td></tr><tr><td>716944</td><td>Owl Babies</td></tr><tr><td>721012</td><td>The Legend of Sleepy Hollow and Other Stories</td></tr><tr><td>722864</td><td>Inside the Human Body (The Magic School Bus, #3)</td></tr><tr><td>724371</td><td>The Lady of Shalott</td></tr><tr><td>731804</td><td>Pinkalicious</td></tr><tr><td>732562</td><td>The Rime of the Ancient Mariner</td></tr><tr><td>736131</td><td>The Valley of Fear</td></tr><tr><td>739840</td><td>Bambi</td></tr><tr><td>744615</td><td>Scott Pilgrim, Volume 4: Scott Pilgrim Gets It Together</td></tr><tr><td>752900</td><td>Medea</td></tr><tr><td>759611</td><td>Brown Bear, Brown Bear, What Do You See?</td></tr><tr><td>760025</td><td>Positioning: The Battle for Your Mind: How to Be Seen and Heard in the Overcrowded Marketplace</td></tr><tr><td>760168</td><td>Just Me in the Tub (Mercer Mayer&#39;s Little Critter)</td></tr><tr><td>760941</td><td>When Rabbit Howls</td></tr><tr><td>761575</td><td>House Atreides (Prelude to Dune #1)</td></tr><tr><td>762064</td><td>Betrayal in Death (In Death, #12)</td></tr><tr><td>762134</td><td>Palace Walk (The Cairo Trilogy #1)</td></tr><tr><td>762462</td><td>One Up On Wall Street: How To Use What You Already Know To Make Money In The Market</td></tr><tr><td>763362</td><td>The One Minute Manager</td></tr><tr><td>763429</td><td>The Walking Dead, Book Three (The Walking Dead #25-36)</td></tr><tr><td>764063</td><td>Wonderful Tonight</td></tr><tr><td>764903</td><td>Cheaper by the Dozen</td></tr><tr><td>765148</td><td>Giraffes Can&#39;t Dance</td></tr><tr><td>765193</td><td>Amazing Grace</td></tr><tr><td>765281</td><td>Lady and the Tramp</td></tr><tr><td>765427</td><td>The Faerie Queene </td></tr><tr><td>766020</td><td>The Rainbow Fish</td></tr><tr><td>766955</td><td>Click, Clack, Moo: Cows That Type</td></tr><tr><td>767680</td><td>If You Give a Mouse a Cookie</td></tr><tr><td>769016</td><td>How to Talk So Kids Will Listen &amp; Listen So Kids Will Talk</td></tr><tr><td>769712</td><td>Palestine</td></tr><tr><td>770038</td><td>Is Your Mama a Llama?</td></tr><tr><td>771332</td><td>With the Old Breed: At Peleliu and Okinawa</td></tr><tr><td>772852</td><td>The Cross and the Switchblade</td></tr><tr><td>773480</td><td>Inside, Outside, Upside Down (Berenstain Bears Bright and Early Board Book)</td></tr><tr><td>773951</td><td>The Story of Ferdinand</td></tr><tr><td>774001</td><td>Amelia Bedelia  (Amelia Bedelia #1)</td></tr><tr><td>776407</td><td>The House at Pooh Corner (Winnie-the-Pooh, #2)</td></tr><tr><td>780581</td><td>Bel-Ami</td></tr><tr><td>781182</td><td>Barbarians at the Gate: The Fall of RJR Nabisco</td></tr><tr><td>781498</td><td>The Day Jimmy&#39;s Boa Ate the Wash</td></tr><tr><td>781787</td><td>Out of Africa</td></tr><tr><td>782580</td><td>The Complete Poetry and Prose</td></tr><tr><td>782854</td><td>Eloise </td></tr><tr><td>784222</td><td>Vampire Knight, Vol. 3 (Vampire Knight, #3)</td></tr><tr><td>789559</td><td>The Three Billy Goats Gruff</td></tr><tr><td>792938</td><td>Having Our Say: The Delany Sisters&#39; First 100 Years</td></tr><tr><td>801178</td><td>Chicken Soup for the Soul</td></tr><tr><td>808853</td><td>The Complete Adventures of Curious George</td></tr><tr><td>815234</td><td>The Napping House</td></tr><tr><td>815716</td><td>The 21 Irrefutable Laws of Leadership: Follow Them and People Will Follow You</td></tr><tr><td>816870</td><td>Johnny Tremain</td></tr><tr><td>818811</td><td>Escape</td></tr><tr><td>819667</td><td>Snowmen at Night</td></tr><tr><td>820273</td><td>Sheep in a Jeep</td></tr><tr><td>821000</td><td>Now We Are Six (Winnie-the-Pooh, #4)</td></tr><tr><td>821003</td><td>When We Were Very Young (Winnie-the-Pooh, #3)</td></tr><tr><td>824062</td><td>God&#39;s Smuggler</td></tr><tr><td>824204</td><td>The Little Engine That Could</td></tr><tr><td>824318</td><td>The New Bedside, Bathtub and Armchair Companion to Agatha Christie</td></tr><tr><td>824734</td><td>Dinosaurs Before Dark (Magic Tree House, #1)</td></tr><tr><td>824763</td><td>Reborn! Vol. 01: Reborn Arrives! (Reborn!, #1)</td></tr><tr><td>825576</td><td>The Saggy Baggy Elephant (A Little Golden Book)</td></tr><tr><td>826582</td><td>If You Take a Mouse to School</td></tr><tr><td>826583</td><td>If You Take a Mouse to the Movies</td></tr><tr><td>826584</td><td>If You Give a Moose a Muffin</td></tr><tr><td>826585</td><td>If You Give a Pig a Pancake </td></tr><tr><td>827685</td><td>Up from Slavery</td></tr><tr><td>829313</td><td>Miles: The Autobiography</td></tr><tr><td>831829</td><td>30 Days of Night, Vol. 1</td></tr><tr><td>833550</td><td>Each Peach Pear Plum</td></tr><tr><td>835495</td><td>Time for Bed</td></tr><tr><td>836606</td><td>Fruits Basket, Vol. 2</td></tr><tr><td>836607</td><td>Fruits Basket, Vol. 3</td></tr><tr><td>836611</td><td>Fruits Basket, Vol. 4</td></tr><tr><td>844051</td><td>Mutiny on the Bounty (The Bounty Trilogy, #1)</td></tr><tr><td>846066</td><td>The Berenstain Bears Forget Their Manners</td></tr><tr><td>849380</td><td>The Seven Principles for Making Marriage Work: A Practical Guide from the Country&#39;s Foremost Relationship Expert</td></tr><tr><td>851393</td><td>The Imitation of Christ</td></tr><tr><td>852460</td><td>Fix-It and Forget-It Cookbook: Feasting with Your Slow Cooker</td></tr><tr><td>854252</td><td>Little House on Rocky Ridge (Little House: The Rocky Ridge Years, #1)</td></tr><tr><td>857418</td><td>The Carrot Seed</td></tr><tr><td>857448</td><td>Harry the Dirty Dog</td></tr><tr><td>857501</td><td>Hand, Hand, Fingers, Thumb</td></tr><tr><td>866222</td><td>Winning</td></tr><tr><td>867247</td><td>A Book of Five Rings: The Classic Guide to Strategy</td></tr><tr><td>867248</td><td>Bear Snores On</td></tr><tr><td>867650</td><td>The Little Red Hen (Little Golden Book)</td></tr><tr><td>877752</td><td>Fruits Basket, Vol. 7</td></tr><tr><td>887201</td><td>Faeries</td></tr><tr><td>892295</td><td>The Annotated Sherlock Holmes: The Four Novels and the Fifty-Six Short Stories Complete (2 Volume Set)</td></tr><tr><td>895886</td><td>Lassie Come-Home</td></tr><tr><td>899492</td><td>The Tell-Tale Heart</td></tr><tr><td>899608</td><td>A Fish Out of Water</td></tr><tr><td>899962</td><td>Curious George Goes to the Hospital</td></tr><tr><td>900065</td><td>The Berenstain Bears and the Messy Room</td></tr><tr><td>900070</td><td>The Berenstain Bears Go to School</td></tr><tr><td>905382</td><td>Anne Frank : The Biography</td></tr><tr><td>906541</td><td>Bedtime for Frances</td></tr><tr><td>911579</td><td>Bread and Jam for Frances</td></tr><tr><td>914211</td><td>Influencer: The Power to Change Anything</td></tr><tr><td>920143</td><td>Little Red Riding Hood</td></tr><tr><td>925367</td><td>The Climb: Tragic Ambitions on Everest</td></tr><tr><td>926908</td><td>Gnomes</td></tr><tr><td>929782</td><td>Martin Eden</td></tr><tr><td>930612</td><td>Judy Moody (Judy Moody, # 1)</td></tr><tr><td>934700</td><td>In a People House</td></tr><tr><td>935308</td><td>Faceless Killers (Kurt Wallander, #1)</td></tr><tr><td>948526</td><td>The Knight at Dawn (Magic Tree House, #2)</td></tr><tr><td>953260</td><td>Disney after Dark (Kingdom Keepers, #1)</td></tr><tr><td>954303</td><td>Kitchen Princess, Vol. 01 (Kitchen Princess, #1)</td></tr><tr><td>958277</td><td>Junie B. Jones and the  Stupid Smelly Bus (Junie B. Jones, #1)</td></tr><tr><td>974122</td><td>Secrets of the Vine: Breaking Through to Abundance</td></tr><tr><td>981161</td><td>Red Phoenix (Red Phoenix #1)</td></tr><tr><td>981463</td><td>The Relatives Came</td></tr><tr><td>988170</td><td>Tawny Scrawny Lion</td></tr><tr><td>989313</td><td>Heart of Darkness and Selected Short Fiction</td></tr><tr><td>991197</td><td>The Complete Persepolis</td></tr><tr><td>1009996</td><td>Artisan Bread in Five Minutes a Day: The Discovery That Revolutionizes Home Baking</td></tr><tr><td>1013383</td><td>The Gruffalo</td></tr><tr><td>1022866</td><td>Run Baby Run</td></tr><tr><td>1031461</td><td>Stone Soup</td></tr><tr><td>1034605</td><td>The Country Mouse and the City Mouse; The Fox and the Crow; The Dog and His Bone</td></tr><tr><td>1059680</td><td>Veganomicon: The Ultimate Vegan Cookbook</td></tr><tr><td>1070527</td><td>Avatar Volume 1: The Last Airbender (Avatar #1)</td></tr><tr><td>1081560</td><td>The History of the Hobbit, Part One: Mr. Baggins</td></tr><tr><td>1085771</td><td>The Walking Dead, Vol. 07: The Calm Before</td></tr><tr><td>1099301</td><td>The Name of This Book Is Secret (Secret, #1)</td></tr><tr><td>1107001</td><td>The Silver Palate Cookbook</td></tr><tr><td>1129315</td><td>The Berenstain Bears&#39; Trouble at School</td></tr><tr><td>1145862</td><td>Stand Tall, Molly Lou Melon</td></tr><tr><td>1166599</td><td>The Gathering Storm (Wheel of Time, #12)</td></tr><tr><td>1173576</td><td>What Every Body is Saying: An Ex-FBI Agent&#39;s Guide to Speed-Reading People</td></tr><tr><td>1175893</td><td>Tunnels (Tunnels, #1)</td></tr><tr><td>1215290</td><td>Rudolph the Red-Nosed Reindeer</td></tr><tr><td>1220507</td><td>شيكاجو</td></tr><tr><td>1237398</td><td>One Piece, Volume 01: Romance Dawn (One Piece, #1)</td></tr><tr><td>1249630</td><td>Os Maias</td></tr><tr><td>1270615</td><td>Buffy the Vampire Slayer: The Long Way Home (Season 8, #1)</td></tr><tr><td>1298171</td><td>Finding Nemo</td></tr><tr><td>1325218</td><td>Scary Stories to Tell in the Dark (Scary Stories, #1)</td></tr><tr><td>1326258</td><td>Chosen (House of Night, #3)</td></tr><tr><td>1335019</td><td>Necronomicon: The Best Weird Tales</td></tr><tr><td>1335184</td><td>Peter Pan (A Little Golden Book)</td></tr><tr><td>1337448</td><td>Wir Kinder vom Bahnhof Zoo</td></tr><tr><td>1375896</td><td>Queste (Septimus Heap, #4)</td></tr><tr><td>1395209</td><td>Attack of the Fiend (The Last Apprentice / Wardstone Chronicles, #4)</td></tr><tr><td>1406197</td><td>A Lick of Frost (Merry Gentry, #6)</td></tr><tr><td>1422926</td><td>Frosty the Snow Man</td></tr><tr><td>1429082</td><td>美少女戦士セーラームーン新装版 1 [Bishōjo Senshi Sailor Moon Shinsōban 1]</td></tr><tr><td>1493253</td><td>Hunter x Hunter, Vol. 01 (Hunter x Hunter, #1)</td></tr><tr><td>1528410</td><td>Night Train to Lisbon</td></tr><tr><td>1563413</td><td>The Three Little Pigs</td></tr><tr><td>1566053</td><td>The Portable Atheist: Essential Readings for the Nonbeliever</td></tr><tr><td>1603923</td><td>Beauty and the Beast</td></tr><tr><td>1717890</td><td>Pandora Hearts 1巻</td></tr><tr><td>1728744</td><td>Sleeping Beauty (Disney Princess, 5)</td></tr><tr><td>1753714</td><td>Gakuen Alice, Vol. 01 (Gakuen Alice, #1)</td></tr><tr><td>1809175</td><td>The Magic Thief (Magic Thief, #1)</td></tr><tr><td>1821187</td><td>Train Dreams</td></tr><tr><td>1848444</td><td>A Scandal in Bohemia (The Adventures of Sherlock Holmes, #1)</td></tr><tr><td>1898916</td><td>Vampire Knight, Vol. 4 (Vampire Knight, #4)</td></tr><tr><td>1967070</td><td>Coraline (Illustrated/Graphic Novel Edition)</td></tr><tr><td>1970449</td><td>Slash</td></tr><tr><td>1991039</td><td>Flaggermusmannen (Harry Hole, #1)</td></tr><tr><td>2029176</td><td>Sail</td></tr><tr><td>2029177</td><td>Sundays at Tiffany&#39;s</td></tr><tr><td>2073686</td><td>Tales From the Hood (The Sisters Grimm, #6)</td></tr><tr><td>2108198</td><td>Odd and the Frost Giants</td></tr><tr><td>2118114</td><td>Sway: The Irresistible Pull of Irrational Behavior</td></tr><tr><td>2147714</td><td>Fables, Vol. 10: The Good Prince</td></tr><tr><td>2159225</td><td>The Mysterious Benedict Society and the Perilous Journey (The Mysterious Benedict Society, #2)</td></tr><tr><td>2176873</td><td>Martha Stewart&#39;s Cookies: The Very Best Treats to Bake and to Share</td></tr><tr><td>2182780</td><td>Batman: The Man Who Laughs</td></tr><tr><td>2187270</td><td>Waiter Rant: Thanks for the Tip-Confessions of a Cynical Waiter</td></tr><tr><td>2195464</td><td>What I Talk About When I Talk About Running</td></tr><tr><td>2197227</td><td>Cemetery Dance (Pendergast, #9)</td></tr><tr><td>2198274</td><td>The Monster of Florence</td></tr><tr><td>2202230</td><td>Y: The Last Man, Vol. 10: Whys and Wherefores (Y: The Last Man, #10)</td></tr><tr><td>2213661</td><td>The Graveyard Book</td></tr><tr><td>2235597</td><td>The Dangerous Days of Daniel X (Daniel X, #1)</td></tr><tr><td>2249196</td><td>All-Star Superman, Vol. 2</td></tr><tr><td>2318271</td><td>The Last Lecture</td></tr><tr><td>2324124</td><td>Hello, Cupcake</td></tr><tr><td>2364284</td><td>أولاد حارتنا</td></tr><tr><td>2429135</td><td>The Girl with the Dragon Tattoo (Millennium, #1)</td></tr><tr><td>2454986</td><td>Fairy Tail, Vol. 1 (Fairy Tail, #1)</td></tr><tr><td>2474084</td><td>The Work of Art in the Age of Its Technological Reproducibility, and Other Writings on Media</td></tr><tr><td>2501453</td><td>عابر سرير</td></tr><tr><td>2501455</td><td>فوضى الحواس</td></tr><tr><td>2501458</td><td>ذاكرة الجسد</td></tr><tr><td>2505836</td><td>Money, and the Law of Attraction: Learning to Attract Wealth, Health, and Happiness</td></tr><tr><td>2508854</td><td>تاكسي: حواديت المشاوير</td></tr><tr><td>2527900</td><td>Nudge: Improving Decisions About Health, Wealth, and Happiness</td></tr><tr><td>2659997</td><td>Stolen Innocence: My Story of Growing Up in a Polygamous Sect, Becoming a Teenage Bride, and Breaking Free of Warren Jeffs</td></tr><tr><td>2693801</td><td>History of Art</td></tr><tr><td>2728527</td><td>The Guernsey Literary and Potato Peel Pie Society</td></tr><tr><td>2795053</td><td>The Umbrella Academy, Vol. 1: The Apocalypse Suite</td></tr><tr><td>2804776</td><td>One Fifth Avenue</td></tr><tr><td>2815949</td><td>Barefoot Contessa Back to Basics</td></tr><tr><td>2865944</td><td>If You Give a Cat a Cupcake</td></tr><tr><td>2866718</td><td>Untamed (House of Night, #4)</td></tr><tr><td>2918374</td><td>The Red Badge of Courage and Selected Short Fiction  </td></tr><tr><td>2967752</td><td>The Elegance of the Hedgehog</td></tr><tr><td>3018539</td><td>Death With Interruptions</td></tr><tr><td>3052106</td><td>The Picture of Dorian Gray: A Graphic Novel</td></tr><tr><td>3090465</td><td>The Twilight Saga (Twilight, #1-4)</td></tr><tr><td>3124249</td><td>A Lion Among Men (The Wicked Years, #3)</td></tr><tr><td>3130430</td><td>Harry, a History: The True Story of a Boy Wizard, His Fans, and Life Inside the Harry Potter Phenomenon</td></tr><tr><td>3134981</td><td>The Joker</td></tr><tr><td>3173558</td><td>Maximum Ride, Vol. 1 (Maximum Ride: The Manga, #1)</td></tr><tr><td>3181564</td><td>The Housekeeper and the Professor</td></tr><tr><td>3188186</td><td>Run for Your Life (Michael Bennett, #2)</td></tr><tr><td>3206011</td><td>Crazy Love: Overwhelmed by a Relentless God</td></tr><tr><td>3213286</td><td>Let It Snow: Three Holiday Romances</td></tr><tr><td>3217221</td><td>Locke &amp; Key, Vol. 1: Welcome to Lovecraft</td></tr><tr><td>3243517</td><td>رأيت رام الله</td></tr><tr><td>3257136</td><td>Dewey: The Small-Town Library Cat Who Touched the World</td></tr><tr><td>3344411</td><td>Every Man Dies Alone</td></tr><tr><td>3359940</td><td>If You&#39;re Reading This, It&#39;s Too Late (Secret, #2)</td></tr><tr><td>3392089</td><td>The Winter Sea (Slains, #1)</td></tr><tr><td>3438000</td><td>ثلاثية غرناطة</td></tr><tr><td>3522419</td><td>Nemesis (Harry Hole, #4)</td></tr><tr><td>3690427</td><td>Among the Mad (Maisie Dobbs, #6)</td></tr><tr><td>3710603</td><td>Y: The Last Man - The Deluxe Edition Book One</td></tr><tr><td>3918010</td><td>Kick-Ass (Kick-Ass, #1)</td></tr><tr><td>4110198</td><td>The 8th Confession (Women&#39;s Murder Club, #8)</td></tr><tr><td>4134071</td><td>Hunted (House of Night, #5)</td></tr><tr><td>4224060</td><td>The Element: How Finding Your Passion Changes Everything</td></tr><tr><td>4488657</td><td>رباعيات صلاح جاهين</td></tr><tr><td>4499669</td><td>The Love Dare</td></tr><tr><td>4673605</td><td>Dean Koontz&#39;s Frankenstein, Volume 1: Prodigal Son</td></tr><tr><td>4714126</td><td>The Walking Dead, Vol. 09: Here We Remain</td></tr><tr><td>4769651</td><td>The Everafter War (The Sisters Grimm, #7)</td></tr><tr><td>4808763</td><td>The Last Question</td></tr><tr><td>4912857</td><td>The Angel&#39;s Game (The Cemetery of Forgotten Books, #2)</td></tr><tr><td>4961959</td><td>The Dresden Files:  Storm Front, Volume 1-  The Gathering Storm</td></tr><tr><td>5031805</td><td>ESV Study Bible</td></tr><tr><td>5060378</td><td>The Girl Who Played with Fire (Millennium, #2)</td></tr><tr><td>5199185</td><td>Fahrenheit 451: The Authorized Adaptation</td></tr><tr><td>5295735</td><td>الحرافيش</td></tr><tr><td>5551522</td><td>Swimsuit</td></tr><tr><td>5558786</td><td>Metro 2033 (METRO, #1)</td></tr><tr><td>5599692</td><td>Batman: Whatever Happened to the Caped Crusader?</td></tr><tr><td>5607622</td><td>قمر على سمرقند</td></tr><tr><td>5771014</td><td>The Talent Code: Unlocking the Secret of Skill in Sports, Art, Music, Math, and Just About Everything Else</td></tr><tr><td>5899779</td><td>Pride and Prejudice and Zombies (Pride and Prejudice and Zombies, #1)</td></tr><tr><td>6006518</td><td>Strange Angels (Strange Angels, #1)</td></tr><tr><td>6065215</td><td>The Strain (The Strain Trilogy, #1)</td></tr><tr><td>6120349</td><td>Locke &amp; Key, Vol. 2: Head Games</td></tr><tr><td>6164358</td><td>The Mysterious Benedict Society and the Prisoner&#39;s Dilemma (The Mysterious Benedict Society, #3)</td></tr><tr><td>6167746</td><td>Marked / Betrayed / Chosen / Untamed (House of Night, #1-4)</td></tr><tr><td>6218007</td><td>Kimi ni Todoke: From Me to You, Vol. 1</td></tr><tr><td>6236809</td><td>Black Bird, Vol. 01 (Black Bird, #1)</td></tr><tr><td>6255949</td><td>All You Need Is Kill</td></tr><tr><td>6260997</td><td>Half the Sky: Turning Oppression into Opportunity for Women Worldwide</td></tr><tr><td>6262365</td><td>Tempted (House of Night, #6)</td></tr><tr><td>6264710</td><td>Tempt Me at Twilight (The Hathaways, #3)</td></tr><tr><td>6266907</td><td>Alex Cross&#39;s Trial (Alex Cross, #15)</td></tr><tr><td>6282753</td><td>The Museum of Innocence</td></tr><tr><td>6294553</td><td>Deep Kiss of Winter (Includes: Immortals After Dark, #8; Alien Huntress, #3.5)</td></tr><tr><td>6303733</td><td>That Old Cape Magic</td></tr><tr><td>6304335</td><td>Beautiful Creatures (Caster Chronicles, #1)</td></tr><tr><td>6324090</td><td>Alice&#39;s Adventures in Wonderland</td></tr><tr><td>6344097</td><td>The Stand: Captain Trips</td></tr><tr><td>6345760</td><td>The Magician&#39;s Elephant</td></tr><tr><td>6356190</td><td>The Little Sisters of Eluria (The Dark Tower, #0.5)</td></tr><tr><td>6371117</td><td>Betrayals (Strange Angels, #2)</td></tr><tr><td>6375845</td><td>Batman: Hush</td></tr><tr><td>6387565</td><td>Witch &amp; Wizard (Witch &amp; Wizard, #1)</td></tr><tr><td>6390031</td><td>The Improbable Adventures of Sherlock Holmes</td></tr><tr><td>6393082</td><td>Ender&#39;s Game, Volume 1: Battle School (Ender&#39;s Saga)</td></tr><tr><td>6402364</td><td>SuperFreakonomics: Global Cooling, Patriotic Prostitutes And Why Suicide Bombers Should Buy Life Insurance</td></tr><tr><td>6419887</td><td>The Boy Who Harnessed the Wind: Creating Currents of Electricity and Hope</td></tr><tr><td>6441654</td><td>Twilight and Philosophy: Vampires, Vegetarians, and the Pursuit of Immortality</td></tr><tr><td>6443349</td><td>Percy Jackson and the Olympians Boxed Set (Percy Jackson and the Olympians, #1-5)</td></tr><tr><td>6443834</td><td>1Q84 BOOK 1 (1Q84, #1)</td></tr><tr><td>6452760</td><td>Stones Into Schools: Promoting Peace With Books, Not Bombs, in Afghanistan and Pakistan</td></tr><tr><td>6455256</td><td>Worst Case (Michael Bennett, #3)</td></tr><tr><td>6464094</td><td>This Book Is Not Good for You (Secret, #3)</td></tr><tr><td>6471550</td><td>The Unwritten, Vol. 1: Tommy Taylor and the Bogus Identity</td></tr><tr><td>6480781</td><td>Open</td></tr><tr><td>6486483</td><td>Emotional Intelligence 2.0</td></tr><tr><td>6488483</td><td>The Walking Dead, Vol. 11: Fear the Hunters</td></tr><tr><td>6493321</td><td>Logicomix: An epic search for truth</td></tr><tr><td>6496815</td><td>NurtureShock: New Thinking About Children</td></tr><tr><td>6497645</td><td>The Paris Vendetta (Cotton Malone, #5)</td></tr><tr><td>6514074</td><td>The Monuments Men: Allied Heroes, Nazi Thieves, and the Greatest Treasure Hunt in History</td></tr><tr><td>6515834</td><td>Forgotten God: Reversing Our Tragic Neglect of the Holy Spirit</td></tr><tr><td>6562380</td><td>When the Game Was Ours</td></tr><tr><td>6567017</td><td>Will Grayson, Will Grayson</td></tr><tr><td>6570502</td><td>Switch: How to Change Things When Change Is Hard</td></tr><tr><td>6578507</td><td>The Postmistress</td></tr><tr><td>6596542</td><td>The Man from Beijing</td></tr><tr><td>6600807</td><td>Jealousy (Strange Angels, #3)</td></tr><tr><td>6606855</td><td>Deadman Wonderland, Volume 1 (Deadman Wonderland, #1)</td></tr><tr><td>6609490</td><td>Night World: The Ultimate Fan Guide</td></tr><tr><td>6609549</td><td>By the Time You Read This, I&#39;ll Be Dead</td></tr><tr><td>6612005</td><td>Alice in the Country of Hearts, Vol. 01 (Alice in the Country of Hearts, #1)</td></tr><tr><td>6613956</td><td>The Solitude of Prime Numbers</td></tr><tr><td>6617185</td><td>Soccernomics: Why England Loses, Why Germany and Brazil Win, and Why the U.S., Japan, Australia, Turkey--and Even Iraq--Are Destined to Become the Kings of the World&#39;s Most Popular Sport</td></tr><tr><td>6617928</td><td>Saving CeeCee Honeycutt</td></tr><tr><td>6621287</td><td>com نسيان</td></tr><tr><td>6642715</td><td>The Forty Rules of Love</td></tr><tr><td>6647312</td><td>Nothing</td></tr><tr><td>6654104</td><td>Percy Jackson &amp; the Olympians:  The Ultimate Guide</td></tr><tr><td>6662883</td><td>Oz: The Wonderful Wizard of Oz</td></tr><tr><td>6672183</td><td>Batman &amp; Robin: Batman Reborn</td></tr></table>"
                    },
                    "metadata": {}
                }
            ],
            "execution_count": 50
        },
        {
            "cell_type": "markdown",
            "source": [
                "## QUESTION 2: Ira\n",
                "\n",
                "Ira was asked by a customer for titles that have been tagged \"Meditation\".  As you create a query for Ira, think about how the tables in BooksDB are organized as you write your query."
            ],
            "metadata": {
                "azdata_cell_guid": "06f2a08a-a54e-484e-8053-c74594da9db2"
            },
            "attachments": {}
        },
        {
            "cell_type": "code",
            "source": [
                "-- Code here:\r\n",
                "--select * from BooksDB.dbo.tags where tag_name like '%Meditation%'\r\n",
                "--9 rows\r\n",
                "\r\n",
                "-- select BooksDB.dbo.book_tags.tag_id,BooksDB.dbo.book_tags.goodreads_book_id,BooksDB.dbo.tags.tag_id from \r\n",
                "-- BooksDB.dbo.book_tags join BooksDB.dbo.tags on BooksDB.dbo.book_tags.tag_id=BooksDB.dbo.tags.tag_id where \r\n",
                "-- BooksDB.dbo.tags.tag_name like '%Meditation%'\r\n",
                "--Ans:65 rows\r\n",
                "\r\n",
                "-- select BooksDB.dbo.book_tags.goodreads_book_id from \r\n",
                "-- BooksDB.dbo.book_tags join BooksDB.dbo.tags on BooksDB.dbo.book_tags.tag_id=BooksDB.dbo.tags.tag_id where \r\n",
                "-- BooksDB.dbo.tags.tag_name like '%Meditation%' order by goodreads_book_id\r\n",
                "\r\n",
                "select BooksDB.dbo.books.title,BooksDB.dbo.books.book_id from BooksDB.dbo.books where BooksDB.dbo.books.book_id in(select BooksDB.dbo.book_tags.goodreads_book_id from \r\n",
                "BooksDB.dbo.book_tags , BooksDB.dbo.tags where BooksDB.dbo.book_tags.tag_id=BooksDB.dbo.tags.tag_id and \r\n",
                "BooksDB.dbo.tags.tag_name like '%Meditation%')order by BooksDB.dbo.books.book_id\r\n",
                "--Ans:44 rows\r\n",
                ""
            ],
            "metadata": {
                "azdata_cell_guid": "552924f9-a1cc-4979-8f53-15ba959550c2",
                "tags": [],
                "language": "sql"
            },
            "outputs": [
                {
                    "output_type": "display_data",
                    "data": {
                        "text/html": "(44 rows affected)"
                    },
                    "metadata": {}
                },
                {
                    "output_type": "display_data",
                    "data": {
                        "text/html": "Total execution time: 00:00:00.216"
                    },
                    "metadata": {}
                },
                {
                    "output_type": "execute_result",
                    "execution_count": 17,
                    "data": {
                        "application/vnd.dataresource+json": {
                            "schema": {
                                "fields": [
                                    {
                                        "name": "title"
                                    },
                                    {
                                        "name": "book_id"
                                    }
                                ]
                            },
                            "data": [
                                {
                                    "title": "Way of the Peaceful Warrior: A Book That Changes Lives",
                                    "book_id": "2255"
                                },
                                {
                                    "title": "The Four Agreements: A Practical Guide to Personal Freedom",
                                    "book_id": "6596"
                                },
                                {
                                    "title": "The Power of Now: A Guide to Spiritual Enlightenment",
                                    "book_id": "6708"
                                },
                                {
                                    "title": "Practicing the Power of Now: Essential Teachings, Meditations, and Exercises from the Power of Now",
                                    "book_id": "6709"
                                },
                                {
                                    "title": "Awakening the Buddha Within: Tibetan Wisdom for the Western World",
                                    "book_id": "7579"
                                },
                                {
                                    "title": "Loving What Is: Four Questions That Can Change Your Life",
                                    "book_id": "9762"
                                },
                                {
                                    "title": "The Tenth Insight: Holding the Vision (Celestine Prophecy, #2)",
                                    "book_id": "13105"
                                },
                                {
                                    "title": "Wherever You Go, There You Are: Mindfulness Meditation in Everyday Life",
                                    "book_id": "14096"
                                },
                                {
                                    "title": "Peace Is Every Step: The Path of Mindfulness in Everyday Life",
                                    "book_id": "14572"
                                },
                                {
                                    "title": "The Power of Intention: Learning to Co-create Your World Your Way",
                                    "book_id": "19793"
                                },
                                {
                                    "title": "Be Here Now",
                                    "book_id": "29254"
                                },
                                {
                                    "title": "Meditations",
                                    "book_id": "30659"
                                },
                                {
                                    "title": "The Art of Happiness",
                                    "book_id": "38210"
                                },
                                {
                                    "title": "Tao Te Ching",
                                    "book_id": "57854"
                                },
                                {
                                    "title": "The Book on the Taboo Against Knowing Who You Are",
                                    "book_id": "60551"
                                },
                                {
                                    "title": "Living Buddha, Living Christ",
                                    "book_id": "73184"
                                },
                                {
                                    "title": "A New Earth: Awakening to Your Life's Purpose",
                                    "book_id": "76334"
                                },
                                {
                                    "title": "The Teachings of Don Juan: A Yaqui Way of Knowledge ",
                                    "book_id": "78250"
                                },
                                {
                                    "title": "The Miracle of Mindfulness: An Introduction to the Practice of Meditation",
                                    "book_id": "95747"
                                },
                                {
                                    "title": "The Happiness Hypothesis: Finding Modern Truth in Ancient Wisdom",
                                    "book_id": "96884"
                                },
                                {
                                    "title": "The Seat of the Soul",
                                    "book_id": "119760"
                                },
                                {
                                    "title": "The Places That Scare You: A Guide to Fearlessness in Difficult Times",
                                    "book_id": "136977"
                                },
                                {
                                    "title": "The Dhammapada",
                                    "book_id": "159964"
                                },
                                {
                                    "title": "A Course in Miracles",
                                    "book_id": "173673"
                                },
                                {
                                    "title": "The Tibetan Book of Living and Dying",
                                    "book_id": "206731"
                                },
                                {
                                    "title": "Zen of Seeing: Seeing/Drawing as Meditation",
                                    "book_id": "228765"
                                },
                                {
                                    "title": "The Upanishads: Translations from the Sanskrit",
                                    "book_id": "290882"
                                },
                                {
                                    "title": "Care of the Soul: A Guide for Cultivating Depth and Sacredness in Everyday Life",
                                    "book_id": "295132"
                                },
                                {
                                    "title": "The Essential Rumi",
                                    "book_id": "304079"
                                },
                                {
                                    "title": "Change Your Thoughts - Change Your Life: Living the Wisdom of the Tao",
                                    "book_id": "389763"
                                },
                                {
                                    "title": "Zen Mind, Beginner's Mind: Informal Talks on Zen Meditation and Practice",
                                    "book_id": "402843"
                                },
                                {
                                    "title": "The Practice of the Presence of God",
                                    "book_id": "498641"
                                },
                                {
                                    "title": "The Way of Zen",
                                    "book_id": "514210"
                                },
                                {
                                    "title": "The I Ching or Book of Changes",
                                    "book_id": "534289"
                                },
                                {
                                    "title": "Creative Visualization: Use the Power of Your Imagination to Create What You Want in Your Life",
                                    "book_id": "582533"
                                },
                                {
                                    "title": "Autobiography of a Yogi",
                                    "book_id": "639864"
                                },
                                {
                                    "title": "When Things Fall Apart: Heart Advice for Difficult Times",
                                    "book_id": "687278"
                                },
                                {
                                    "title": "Simple Abundance:  A Daybook of Comfort and Joy",
                                    "book_id": "748862"
                                },
                                {
                                    "title": "The Power of a Praying Wife",
                                    "book_id": "833253"
                                },
                                {
                                    "title": "The Imitation of Christ",
                                    "book_id": "851393"
                                },
                                {
                                    "title": "The Untethered Soul: The Journey Beyond Yourself",
                                    "book_id": "1963638"
                                },
                                {
                                    "title": "10% Happier: How I Tamed the Voice in My Head, Reduced Stress Without Losing My Edge, and Found Self-Help That Actually Works",
                                    "book_id": "18505796"
                                },
                                {
                                    "title": "Thrive: The Third Metric to Redefining Success and Creating a Life of Well-Being, Wisdom, and Wonder",
                                    "book_id": "18594634"
                                },
                                {
                                    "title": "Waking Up: A Guide to Spirituality Without Religion",
                                    "book_id": "18774981"
                                }
                            ]
                        },
                        "text/html": "<table><tr><th>title</th><th>book_id</th></tr><tr><td>Way of the Peaceful Warrior: A Book That Changes Lives</td><td>2255</td></tr><tr><td>The Four Agreements: A Practical Guide to Personal Freedom</td><td>6596</td></tr><tr><td>The Power of Now: A Guide to Spiritual Enlightenment</td><td>6708</td></tr><tr><td>Practicing the Power of Now: Essential Teachings, Meditations, and Exercises from the Power of Now</td><td>6709</td></tr><tr><td>Awakening the Buddha Within: Tibetan Wisdom for the Western World</td><td>7579</td></tr><tr><td>Loving What Is: Four Questions That Can Change Your Life</td><td>9762</td></tr><tr><td>The Tenth Insight: Holding the Vision (Celestine Prophecy, #2)</td><td>13105</td></tr><tr><td>Wherever You Go, There You Are: Mindfulness Meditation in Everyday Life</td><td>14096</td></tr><tr><td>Peace Is Every Step: The Path of Mindfulness in Everyday Life</td><td>14572</td></tr><tr><td>The Power of Intention: Learning to Co-create Your World Your Way</td><td>19793</td></tr><tr><td>Be Here Now</td><td>29254</td></tr><tr><td>Meditations</td><td>30659</td></tr><tr><td>The Art of Happiness</td><td>38210</td></tr><tr><td>Tao Te Ching</td><td>57854</td></tr><tr><td>The Book on the Taboo Against Knowing Who You Are</td><td>60551</td></tr><tr><td>Living Buddha, Living Christ</td><td>73184</td></tr><tr><td>A New Earth: Awakening to Your Life&#39;s Purpose</td><td>76334</td></tr><tr><td>The Teachings of Don Juan: A Yaqui Way of Knowledge </td><td>78250</td></tr><tr><td>The Miracle of Mindfulness: An Introduction to the Practice of Meditation</td><td>95747</td></tr><tr><td>The Happiness Hypothesis: Finding Modern Truth in Ancient Wisdom</td><td>96884</td></tr><tr><td>The Seat of the Soul</td><td>119760</td></tr><tr><td>The Places That Scare You: A Guide to Fearlessness in Difficult Times</td><td>136977</td></tr><tr><td>The Dhammapada</td><td>159964</td></tr><tr><td>A Course in Miracles</td><td>173673</td></tr><tr><td>The Tibetan Book of Living and Dying</td><td>206731</td></tr><tr><td>Zen of Seeing: Seeing/Drawing as Meditation</td><td>228765</td></tr><tr><td>The Upanishads: Translations from the Sanskrit</td><td>290882</td></tr><tr><td>Care of the Soul: A Guide for Cultivating Depth and Sacredness in Everyday Life</td><td>295132</td></tr><tr><td>The Essential Rumi</td><td>304079</td></tr><tr><td>Change Your Thoughts - Change Your Life: Living the Wisdom of the Tao</td><td>389763</td></tr><tr><td>Zen Mind, Beginner&#39;s Mind: Informal Talks on Zen Meditation and Practice</td><td>402843</td></tr><tr><td>The Practice of the Presence of God</td><td>498641</td></tr><tr><td>The Way of Zen</td><td>514210</td></tr><tr><td>The I Ching or Book of Changes</td><td>534289</td></tr><tr><td>Creative Visualization: Use the Power of Your Imagination to Create What You Want in Your Life</td><td>582533</td></tr><tr><td>Autobiography of a Yogi</td><td>639864</td></tr><tr><td>When Things Fall Apart: Heart Advice for Difficult Times</td><td>687278</td></tr><tr><td>Simple Abundance:  A Daybook of Comfort and Joy</td><td>748862</td></tr><tr><td>The Power of a Praying Wife</td><td>833253</td></tr><tr><td>The Imitation of Christ</td><td>851393</td></tr><tr><td>The Untethered Soul: The Journey Beyond Yourself</td><td>1963638</td></tr><tr><td>10% Happier: How I Tamed the Voice in My Head, Reduced Stress Without Losing My Edge, and Found Self-Help That Actually Works</td><td>18505796</td></tr><tr><td>Thrive: The Third Metric to Redefining Success and Creating a Life of Well-Being, Wisdom, and Wonder</td><td>18594634</td></tr><tr><td>Waking Up: A Guide to Spirituality Without Religion</td><td>18774981</td></tr></table>"
                    },
                    "metadata": {}
                }
            ],
            "execution_count": 17
        },
        {
            "cell_type": "markdown",
            "source": [
                "## QUESTION 3:  Alyce\n",
                "\n",
                "Alyce wants to create a display of books with an average rating of 4.2 or higher, but she only wants books that share both title and original title.  Write a query that displays both the original title and title for Alyce, in descending order by rating.  Make sure that none of the original titles contain NULL values either."
            ],
            "metadata": {
                "azdata_cell_guid": "1d758d74-b4f0-4836-bdfe-d7280b5b4592"
            },
            "attachments": {}
        },
        {
            "cell_type": "code",
            "source": [
                "-- Code here:\r\n",
                "select book_id,average_rating,original_title,title from BooksDB.dbo.books where average_rating>=4.2 and original_title is not null ORDER by average_rating desc\r\n",
                ""
            ],
            "metadata": {
                "azdata_cell_guid": "2c693b4e-6987-4c49-ba55-61094e677608",
                "tags": [],
                "language": "sql"
            },
            "outputs": [
                {
                    "output_type": "display_data",
                    "data": {
                        "text/html": "(658 rows affected)"
                    },
                    "metadata": {}
                },
                {
                    "output_type": "display_data",
                    "data": {
                        "text/html": "Total execution time: 00:00:00.334"
                    },
                    "metadata": {}
                },
                {
                    "output_type": "execute_result",
                    "execution_count": 29,
                    "data": {
                        "application/vnd.dataresource+json": {
                            "schema": {
                                "fields": [
                                    {
                                        "name": "book_id"
                                    },
                                    {
                                        "name": "average_rating"
                                    },
                                    {
                                        "name": "original_title"
                                    },
                                    {
                                        "name": "title"
                                    }
                                ]
                            },
                            "data": [
                                {
                                    "book_id": "24812",
                                    "average_rating": "4.82",
                                    "original_title": "The Complete Calvin and Hobbes",
                                    "title": "The Complete Calvin and Hobbes"
                                },
                                {
                                    "book_id": "95602",
                                    "average_rating": "4.76",
                                    "original_title": "Mark of the Lion Trilogy",
                                    "title": "Mark of the Lion Trilogy"
                                },
                                {
                                    "book_id": "24814",
                                    "average_rating": "4.75",
                                    "original_title": "It's a Magical World: A Calvin and Hobbes Collection",
                                    "title": "It's a Magical World: A Calvin and Hobbes Collection"
                                },
                                {
                                    "book_id": "70489",
                                    "average_rating": "4.74",
                                    "original_title": "There's Treasure Everywhere: A Calvin and Hobbes Collection",
                                    "title": "There's Treasure Everywhere: A Calvin and Hobbes Collection"
                                },
                                {
                                    "book_id": "10",
                                    "average_rating": "4.73",
                                    "original_title": "Harry Potter Collection (Harry Potter, #1-6)",
                                    "title": "Harry Potter Collection (Harry Potter, #1-6)"
                                },
                                {
                                    "book_id": "24816",
                                    "average_rating": "4.71",
                                    "original_title": "Homicidal Psycho Jungle Cat: A Calvin and Hobbes Collection",
                                    "title": "Homicidal Psycho Jungle Cat: A Calvin and Hobbes Collection"
                                },
                                {
                                    "book_id": "24818",
                                    "average_rating": "4.68",
                                    "original_title": "The Days Are Just Packed: A Calvin and Hobbes Collection",
                                    "title": "The Days Are Just Packed: A Calvin and Hobbes Collection"
                                },
                                {
                                    "book_id": "24494",
                                    "average_rating": "4.66",
                                    "original_title": "The Calvin and Hobbes Lazy Sunday Book",
                                    "title": "The Calvin and Hobbes Lazy Sunday Book"
                                },
                                {
                                    "book_id": "23753",
                                    "average_rating": "4.65",
                                    "original_title": "The Absolute Sandman, Volume One",
                                    "title": "The Absolute Sandman, Volume One"
                                },
                                {
                                    "book_id": "43070",
                                    "average_rating": "4.65",
                                    "original_title": "The Essential Calvin and Hobbes: A Calvin and Hobbes Treasury",
                                    "title": "The Essential Calvin and Hobbes: A Calvin and Hobbes Treasury"
                                },
                                {
                                    "book_id": "24813",
                                    "average_rating": "4.63",
                                    "original_title": "The Calvin and Hobbes Tenth Anniversary Book",
                                    "title": "The Calvin and Hobbes Tenth Anniversary Book"
                                },
                                {
                                    "book_id": "32075671",
                                    "average_rating": "4.62",
                                    "original_title": "The Hate U Give",
                                    "title": "The Hate U Give"
                                },
                                {
                                    "book_id": "77727",
                                    "average_rating": "4.61",
                                    "original_title": "Calvin and Hobbes",
                                    "title": "Calvin and Hobbes"
                                },
                                {
                                    "book_id": "280111",
                                    "average_rating": "4.61",
                                    "original_title": "Holy Bible: New International Version",
                                    "title": "Holy Bible: New International Version"
                                },
                                {
                                    "book_id": "2223324",
                                    "average_rating": "4.61",
                                    "original_title": "Harry Potter and the Chamber of Secrets: Sheet Music for Flute with C.D",
                                    "title": "Harry Potter and the Chamber of Secrets: Sheet Music for Flute with C.D"
                                },
                                {
                                    "book_id": "47697",
                                    "average_rating": "4.61",
                                    "original_title": "The Sandman: King of Dreams",
                                    "title": "The Sandman: King of Dreams"
                                },
                                {
                                    "book_id": "596259",
                                    "average_rating": "4.61",
                                    "original_title": "Standing for Something: 10 Neglected Virtues That Will Heal Our Hearts and Homes",
                                    "title": "Standing for Something: 10 Neglected Virtues That Will Heal Our Hearts and Homes"
                                },
                                {
                                    "book_id": "46601",
                                    "average_rating": "4.6",
                                    "original_title": "An Echo in the Darkness (Mark of the Lion, #2)",
                                    "title": "An Echo in the Darkness (Mark of the Lion, #2)"
                                },
                                {
                                    "book_id": "119",
                                    "average_rating": "4.59",
                                    "original_title": "The Lord of the Rings: The Art of The Fellowship of the Ring",
                                    "title": "The Lord of the Rings: The Art of The Fellowship of the Ring"
                                },
                                {
                                    "book_id": "20342617",
                                    "average_rating": "4.58",
                                    "original_title": "Just Mercy: A Story of Justice and Redemption",
                                    "title": "Just Mercy: A Story of Justice and Redemption"
                                },
                                {
                                    "book_id": "4634266",
                                    "average_rating": "4.57",
                                    "original_title": "NARUTO -ナルト- 巻ノ四十三 ",
                                    "title": "NARUTO -ナルト- 巻ノ四十三"
                                },
                                {
                                    "book_id": "10785687",
                                    "average_rating": "4.56",
                                    "original_title": "Harry Potter Page to Screen: The Complete Filmmaking Journey",
                                    "title": "Harry Potter Page to Screen: The Complete Filmmaking Journey"
                                },
                                {
                                    "book_id": "71823",
                                    "average_rating": "4.55",
                                    "original_title": "The Green Mile, Part 6: Coffey on the Mile",
                                    "title": "The Green Mile, Part 6: Coffey on the Mile"
                                },
                                {
                                    "book_id": "21853621",
                                    "average_rating": "4.54",
                                    "original_title": "The Nightingale",
                                    "title": "The Nightingale"
                                },
                                {
                                    "book_id": "89959",
                                    "average_rating": "4.54",
                                    "original_title": "The Constitution of the United States of America",
                                    "title": "The Constitution of the United States of America"
                                },
                                {
                                    "book_id": "36",
                                    "average_rating": "4.53",
                                    "original_title": "The Lord of the Rings: Weapons and Warfare",
                                    "title": "The Lord of the Rings: Weapons and Warfare"
                                },
                                {
                                    "book_id": "10790276",
                                    "average_rating": "4.53",
                                    "original_title": "Courageous",
                                    "title": "Courageous"
                                },
                                {
                                    "book_id": "228199",
                                    "average_rating": "4.52",
                                    "original_title": "The Green Mile, Part 4: The Bad Death of Eduard Delacroix",
                                    "title": "The Green Mile, Part 4: The Bad Death of Eduard Delacroix"
                                },
                                {
                                    "book_id": "216048",
                                    "average_rating": "4.52",
                                    "original_title": "Thank You, Mr. Falker",
                                    "title": "Thank You, Mr. Falker"
                                },
                                {
                                    "book_id": "434764",
                                    "average_rating": "4.51",
                                    "original_title": "Believing Christ: The Parable of the Bicycle and Other Good News",
                                    "title": "Believing Christ: The Parable of the Bicycle and Other Good News"
                                },
                                {
                                    "book_id": "228200",
                                    "average_rating": "4.51",
                                    "original_title": "The Green Mile, Part 5: Night Journey",
                                    "title": "The Green Mile, Part 5: Night Journey"
                                },
                                {
                                    "book_id": "24019187",
                                    "average_rating": "4.5",
                                    "original_title": "Humans of New York: Stories",
                                    "title": "Humans of New York: Stories"
                                },
                                {
                                    "book_id": "228198",
                                    "average_rating": "4.5",
                                    "original_title": "The Green Mile, Part 3: Coffey's Hands",
                                    "title": "The Green Mile, Part 3: Coffey's Hands"
                                },
                                {
                                    "book_id": "16164271",
                                    "average_rating": "4.5",
                                    "original_title": "Locke & Key, Vol. 6: Alpha & Omega",
                                    "title": "Locke & Key, Vol. 6: Alpha & Omega"
                                },
                                {
                                    "book_id": "188572",
                                    "average_rating": "4.5",
                                    "original_title": "The Complete Sherlock Holmes",
                                    "title": "The Complete Sherlock Holmes"
                                },
                                {
                                    "book_id": "6792458",
                                    "average_rating": "4.49",
                                    "original_title": "The New Jim Crow: Mass Incarceration in the Age of Colorblindness",
                                    "title": "The New Jim Crow: Mass Incarceration in the Age of Colorblindness"
                                },
                                {
                                    "book_id": "569564",
                                    "average_rating": "4.49",
                                    "original_title": "The Complete Works",
                                    "title": "The Complete Works"
                                },
                                {
                                    "book_id": "220826",
                                    "average_rating": "4.49",
                                    "original_title": "Kürk Mantolu Madonna",
                                    "title": "Kürk Mantolu Madonna"
                                },
                                {
                                    "book_id": "92227",
                                    "average_rating": "4.49",
                                    "original_title": "The Green Mile, Part 1: The Two Dead Girls",
                                    "title": "The Green Mile, Part 1: The Two Dead Girls"
                                },
                                {
                                    "book_id": "25852784",
                                    "average_rating": "4.48",
                                    "original_title": "Evicted: Poverty and Profit in the American City",
                                    "title": "Evicted: Poverty and Profit in the American City"
                                },
                                {
                                    "book_id": "101255",
                                    "average_rating": "4.48",
                                    "original_title": "On Food and Cooking: The Science and Lore of the Kitchen",
                                    "title": "On Food and Cooking: The Science and Lore of the Kitchen"
                                },
                                {
                                    "book_id": "7952502",
                                    "average_rating": "4.48",
                                    "original_title": "Harry Potter: Film Wizardry",
                                    "title": "Harry Potter: Film Wizardry"
                                },
                                {
                                    "book_id": "1275105",
                                    "average_rating": "4.48",
                                    "original_title": "A Charlie Brown Christmas ",
                                    "title": "A Charlie Brown Christmas"
                                },
                                {
                                    "book_id": "100322",
                                    "average_rating": "4.48",
                                    "original_title": "Assata: An Autobiography",
                                    "title": "Assata: An Autobiography"
                                },
                                {
                                    "book_id": "65633",
                                    "average_rating": "4.48",
                                    "original_title": "The Chronicles of Narnia - The Lion, the Witch, and the Wardrobe Official Illustrated Movie Companion",
                                    "title": "The Chronicles of Narnia - The Lion, the Witch, and the Wardrobe Official Illustrated Movie Companion"
                                },
                                {
                                    "book_id": "228194",
                                    "average_rating": "4.47",
                                    "original_title": "The Green Mile, Part 2: The Mouse on the Mile",
                                    "title": "The Green Mile, Part 2: The Mouse on the Mile"
                                },
                                {
                                    "book_id": "256008",
                                    "average_rating": "4.47",
                                    "original_title": "Lonesome Dove",
                                    "title": "Lonesome Dove"
                                },
                                {
                                    "book_id": "3412815",
                                    "average_rating": "4.47",
                                    "original_title": "Fireproof",
                                    "title": "Fireproof"
                                },
                                {
                                    "book_id": "22738563",
                                    "average_rating": "4.47",
                                    "original_title": "We Should All Be Feminists",
                                    "title": "We Should All Be Feminists"
                                },
                                {
                                    "book_id": "426504",
                                    "average_rating": "4.47",
                                    "original_title": "Ficciones",
                                    "title": "Ficciones"
                                },
                                {
                                    "book_id": "106393",
                                    "average_rating": "4.47",
                                    "original_title": "The Coldest Winter Ever",
                                    "title": "The Coldest Winter Ever"
                                },
                                {
                                    "book_id": "26200563",
                                    "average_rating": "4.47",
                                    "original_title": "Hamilton: The Revolution",
                                    "title": "Hamilton: The Revolution"
                                },
                                {
                                    "book_id": "8269450",
                                    "average_rating": "4.47",
                                    "original_title": "Darkest Powers Trilogy (Darkest Powers, #1-3)",
                                    "title": "Darkest Powers Trilogy (Darkest Powers, #1-3)"
                                },
                                {
                                    "book_id": "1298171",
                                    "average_rating": "4.47",
                                    "original_title": "Finding Nemo",
                                    "title": "Finding Nemo"
                                },
                                {
                                    "book_id": "906560",
                                    "average_rating": "4.47",
                                    "original_title": "Tramp for the Lord",
                                    "title": "Tramp for the Lord"
                                },
                                {
                                    "book_id": "1013383",
                                    "average_rating": "4.47",
                                    "original_title": "The Gruffalo",
                                    "title": "The Gruffalo"
                                },
                                {
                                    "book_id": "27220736",
                                    "average_rating": "4.46",
                                    "original_title": "Shoe Dog: A Memoir by the Creator of Nike",
                                    "title": "Shoe Dog: A Memoir by the Creator of NIKE"
                                },
                                {
                                    "book_id": "194870",
                                    "average_rating": "4.46",
                                    "original_title": "The Complete Adventures of Peter Rabbit",
                                    "title": "The Complete Adventures of Peter Rabbit"
                                },
                                {
                                    "book_id": "24938",
                                    "average_rating": "4.45",
                                    "original_title": "Wicked - Piano/Vocal Arrangement",
                                    "title": "Wicked - Piano/Vocal Arrangement"
                                },
                                {
                                    "book_id": "31819",
                                    "average_rating": "4.45",
                                    "original_title": "Harry Potter and Philosophy: If Aristotle Ran Hogwarts",
                                    "title": "Harry Potter and Philosophy: If Aristotle Ran Hogwarts"
                                },
                                {
                                    "book_id": "3581",
                                    "average_rating": "4.45",
                                    "original_title": "Sherlock Holmes: The Complete Novels and Stories, Volume I",
                                    "title": "Sherlock Holmes: The Complete Novels and Stories, Volume I"
                                },
                                {
                                    "book_id": "334818",
                                    "average_rating": "4.45",
                                    "original_title": "Miss Rumphius",
                                    "title": "Miss Rumphius"
                                },
                                {
                                    "book_id": "464260",
                                    "average_rating": "4.45",
                                    "original_title": "The Fire Next Time",
                                    "title": "The Fire Next Time"
                                },
                                {
                                    "book_id": "26661",
                                    "average_rating": "4.45",
                                    "original_title": "Praying God's Word: Breaking Free From Spiritual Strongholds",
                                    "title": "Praying God's Word: Breaking Free From Spiritual Strongholds"
                                },
                                {
                                    "book_id": "233691",
                                    "average_rating": "4.45",
                                    "original_title": "The Far Side Gallery 3",
                                    "title": "The Far Side Gallery 3"
                                },
                                {
                                    "book_id": "20639274",
                                    "average_rating": "4.45",
                                    "original_title": "Archer's Voice",
                                    "title": "Archer's Voice"
                                },
                                {
                                    "book_id": "4667024",
                                    "average_rating": "4.45",
                                    "original_title": "The Help",
                                    "title": "The Help"
                                },
                                {
                                    "book_id": "42900",
                                    "average_rating": "4.45",
                                    "original_title": "Lover Awakened (Black Dagger Brotherhood, #3)",
                                    "title": "Lover Awakened (Black Dagger Brotherhood, #3)"
                                },
                                {
                                    "book_id": "44186",
                                    "average_rating": "4.45",
                                    "original_title": "The Monster at the End of This Book",
                                    "title": "The Monster at the End of this Book"
                                },
                                {
                                    "book_id": "27362503",
                                    "average_rating": "4.44",
                                    "original_title": "It Ends with Us",
                                    "title": "It Ends with Us"
                                },
                                {
                                    "book_id": "13188676",
                                    "average_rating": "4.44",
                                    "original_title": "Ignite Me (Shatter Me, #3)",
                                    "title": "Ignite Me (Shatter Me, #3)"
                                },
                                {
                                    "book_id": "284996",
                                    "average_rating": "4.44",
                                    "original_title": "The Complete Stories",
                                    "title": "The Complete Stories"
                                },
                                {
                                    "book_id": "9674335",
                                    "average_rating": "4.44",
                                    "original_title": "Locke & Key, Vol. 4: Keys to the Kingdom",
                                    "title": "Locke & Key, Vol. 4: Keys to the Kingdom"
                                },
                                {
                                    "book_id": "285500",
                                    "average_rating": "4.44",
                                    "original_title": "The Declaration of Independence and The Constitution of the United States ",
                                    "title": "The Declaration of Independence and The Constitution of the United States"
                                },
                                {
                                    "book_id": "5936",
                                    "average_rating": "4.44",
                                    "original_title": "The Poetry of Pablo Neruda",
                                    "title": "The Poetry of Pablo Neruda"
                                },
                                {
                                    "book_id": "35233",
                                    "average_rating": "4.43",
                                    "original_title": "The Wheel of Time: Boxed Set #1 (Wheel of Time, #1-3)",
                                    "title": "The Wheel of Time: Boxed Set #1 (Wheel of Time, #1-3)"
                                },
                                {
                                    "book_id": "4488657",
                                    "average_rating": "4.43",
                                    "original_title": "رباعيات صلاح جاهين",
                                    "title": "رباعيات صلاح جاهين"
                                },
                                {
                                    "book_id": "408615",
                                    "average_rating": "4.43",
                                    "original_title": "Left to Tell: Discovering God Amidst the Rwandan Holocaust",
                                    "title": "Left to Tell: Discovering God Amidst the Rwandan Holocaust"
                                },
                                {
                                    "book_id": "11387515",
                                    "average_rating": "4.43",
                                    "original_title": "Wonder",
                                    "title": "Wonder"
                                },
                                {
                                    "book_id": "11566",
                                    "average_rating": "4.42",
                                    "original_title": "The Green Mile",
                                    "title": "The Green Mile"
                                },
                                {
                                    "book_id": "42389",
                                    "average_rating": "4.42",
                                    "original_title": "Band of Brothers: E Company, 506th Regiment, 101st Airborne from Normandy to Hitler's Eagle's Nest",
                                    "title": "Band of Brothers: E Company, 506th Regiment, 101st Airborne from Normandy to Hitler's Eagle's Nest"
                                },
                                {
                                    "book_id": "6178648",
                                    "average_rating": "4.42",
                                    "original_title": "Nothing to Envy: Ordinary Lives in North Korea",
                                    "title": "Nothing to Envy: Ordinary Lives in North Korea"
                                },
                                {
                                    "book_id": "32127",
                                    "average_rating": "4.42",
                                    "original_title": "Ina May's Guide to Childbirth",
                                    "title": "Ina May's Guide to Childbirth"
                                },
                                {
                                    "book_id": "77281",
                                    "average_rating": "4.42",
                                    "original_title": "The Far Side Gallery",
                                    "title": "The Far Side Gallery"
                                },
                                {
                                    "book_id": "77427",
                                    "average_rating": "4.42",
                                    "original_title": "H.M.S. Surprise ",
                                    "title": "H.M.S. Surprise"
                                },
                                {
                                    "book_id": "121715",
                                    "average_rating": "4.41",
                                    "original_title": "The Weight of Glory",
                                    "title": "The Weight of Glory"
                                },
                                {
                                    "book_id": "14403",
                                    "average_rating": "4.41",
                                    "original_title": "The Story of Ruby Bridges",
                                    "title": "The Story of Ruby Bridges"
                                },
                                {
                                    "book_id": "16101018",
                                    "average_rating": "4.41",
                                    "original_title": "The Day the Crayons Quit",
                                    "title": "The Day the Crayons Quit"
                                },
                                {
                                    "book_id": "30065028",
                                    "average_rating": "4.41",
                                    "original_title": "Fantastic Beasts and Where to Find Them: The Original Screenplay",
                                    "title": "Fantastic Beasts and Where to Find Them: The Original Screenplay"
                                },
                                {
                                    "book_id": "434535",
                                    "average_rating": "4.41",
                                    "original_title": "The Peacegiver: How Christ Offers to Heal Our Hearts and Homes",
                                    "title": "The Peacegiver: How Christ Offers to Heal Our Hearts and Homes"
                                },
                                {
                                    "book_id": "25111004",
                                    "average_rating": "4.41",
                                    "original_title": "November 9",
                                    "title": "November 9"
                                },
                                {
                                    "book_id": "7788",
                                    "average_rating": "4.41",
                                    "original_title": "The Cat in the Hat and Other Dr. Seuss Favorites",
                                    "title": "The Cat in the Hat and Other Dr. Seuss Favorites"
                                },
                                {
                                    "book_id": "27071490",
                                    "average_rating": "4.41",
                                    "original_title": "Homegoing",
                                    "title": "Homegoing"
                                },
                                {
                                    "book_id": "7904429",
                                    "average_rating": "4.41",
                                    "original_title": "Scott Pilgrim, Volume 6: Scott Pilgrim's Finest Hour",
                                    "title": "Scott Pilgrim, Volume 6: Scott Pilgrim's Finest Hour"
                                },
                                {
                                    "book_id": "18419",
                                    "average_rating": "4.41",
                                    "original_title": "The Kissing Hand",
                                    "title": "The Kissing Hand"
                                },
                                {
                                    "book_id": "20696006",
                                    "average_rating": "4.4",
                                    "original_title": "Being Mortal: Medicine and What Matters in the End",
                                    "title": "Being Mortal: Medicine and What Matters in the End"
                                },
                                {
                                    "book_id": "25489625",
                                    "average_rating": "4.4",
                                    "original_title": "Between the World and Me",
                                    "title": "Between the World and Me"
                                },
                                {
                                    "book_id": "8664353",
                                    "average_rating": "4.4",
                                    "original_title": "Unbroken: A World War II Story of Survival, Resilience, and Redemption",
                                    "title": "Unbroken: A World War II Story of Survival, Resilience, and Redemption"
                                },
                                {
                                    "book_id": "76104",
                                    "average_rating": "4.4",
                                    "original_title": "The Exploits of Sherlock Holmes",
                                    "title": "The Exploits of Sherlock Holmes"
                                },
                                {
                                    "book_id": "1305",
                                    "average_rating": "4.4",
                                    "original_title": "Gates of Fire: An Epic Novel of the Battle of Thermopylae",
                                    "title": "Gates of Fire: An Epic Novel of the Battle of Thermopylae"
                                },
                                {
                                    "book_id": "771332",
                                    "average_rating": "4.4",
                                    "original_title": "With The Old Breed: At Peleliu And Okinawa",
                                    "title": "With the Old Breed: At Peleliu and Okinawa"
                                },
                                {
                                    "book_id": "119829",
                                    "average_rating": "4.4",
                                    "original_title": "The Sunne in Splendour",
                                    "title": "The Sunne in Splendour"
                                },
                                {
                                    "book_id": "17465470",
                                    "average_rating": "4.4",
                                    "original_title": "The Royal Ranger (Ranger's Apprentice, #12)",
                                    "title": "The Royal Ranger (Ranger's Apprentice, #12)"
                                },
                                {
                                    "book_id": "22609522",
                                    "average_rating": "4.39",
                                    "original_title": "Red Notice: A True Story of High Finance, Murder, and One Man’s Fight for Justice",
                                    "title": "Red Notice: A True Story of High Finance, Murder, and One Man’s Fight for Justice"
                                },
                                {
                                    "book_id": "232958",
                                    "average_rating": "4.39",
                                    "original_title": "I Love You Through And Through",
                                    "title": "I Love You Through and Through"
                                },
                                {
                                    "book_id": "1145862",
                                    "average_rating": "4.39",
                                    "original_title": "Stand Tall, Molly Lou Melon",
                                    "title": "Stand Tall, Molly Lou Melon"
                                },
                                {
                                    "book_id": "132152",
                                    "average_rating": "4.39",
                                    "original_title": "Streams in the Desert",
                                    "title": "Streams in the Desert"
                                },
                                {
                                    "book_id": "1603923",
                                    "average_rating": "4.39",
                                    "original_title": "Beauty and the Beast",
                                    "title": "Beauty and the Beast"
                                },
                                {
                                    "book_id": "95621",
                                    "average_rating": "4.39",
                                    "original_title": "As Sure as the Dawn (Mark of the Lion, #3)",
                                    "title": "As Sure as the Dawn (Mark of the Lion, #3)"
                                },
                                {
                                    "book_id": "11233988",
                                    "average_rating": "4.39",
                                    "original_title": "I Want My Hat Back",
                                    "title": "I Want My Hat Back"
                                },
                                {
                                    "book_id": "929782",
                                    "average_rating": "4.39",
                                    "original_title": "Martin Eden",
                                    "title": "Martin Eden"
                                },
                                {
                                    "book_id": "370057",
                                    "average_rating": "4.39",
                                    "original_title": "The Truth Seeker (O'Malley #3)",
                                    "title": "The Truth Seeker (O'Malley #3)"
                                },
                                {
                                    "book_id": "19534",
                                    "average_rating": "4.39",
                                    "original_title": "The Brothers K",
                                    "title": "The Brothers K"
                                },
                                {
                                    "book_id": "10659536",
                                    "average_rating": "4.39",
                                    "original_title": "Every Thing On It",
                                    "title": "Every Thing on It"
                                },
                                {
                                    "book_id": "38739",
                                    "average_rating": "4.39",
                                    "original_title": "The Lord God Made Them All",
                                    "title": "The Lord God Made Them All"
                                },
                                {
                                    "book_id": "18007564",
                                    "average_rating": "4.39",
                                    "original_title": "The Martian",
                                    "title": "The Martian"
                                },
                                {
                                    "book_id": "175510",
                                    "average_rating": "4.39",
                                    "original_title": "My Utmost for His Highest",
                                    "title": "My Utmost for His Highest"
                                },
                                {
                                    "book_id": "370493",
                                    "average_rating": "4.38",
                                    "original_title": "The Giving Tree",
                                    "title": "The Giving Tree"
                                },
                                {
                                    "book_id": "838917",
                                    "average_rating": "4.38",
                                    "original_title": "The Power of a Praying Woman",
                                    "title": "The Power of a Praying Woman"
                                },
                                {
                                    "book_id": "175113",
                                    "average_rating": "4.38",
                                    "original_title": "The Return of the Prodigal Son: A Story of Homecoming",
                                    "title": "The Return of the Prodigal Son: A Story of Homecoming"
                                },
                                {
                                    "book_id": "18956",
                                    "average_rating": "4.38",
                                    "original_title": "Homicide: A Year on the Killing Streets",
                                    "title": "Homicide: A Year on the Killing Streets"
                                },
                                {
                                    "book_id": "7140220",
                                    "average_rating": "4.38",
                                    "original_title": "Twilight and History",
                                    "title": "Twilight and History"
                                },
                                {
                                    "book_id": "166580",
                                    "average_rating": "4.38",
                                    "original_title": "The Sandman: The Dream Hunters",
                                    "title": "The Sandman: The Dream Hunters"
                                },
                                {
                                    "book_id": "56634",
                                    "average_rating": "4.38",
                                    "original_title": "Through Gates of Splendor",
                                    "title": "Through Gates of Splendor"
                                },
                                {
                                    "book_id": "109367",
                                    "average_rating": "4.38",
                                    "original_title": "Survivor in Death (In Death, #20)",
                                    "title": "Survivor In Death (In Death, #20)"
                                },
                                {
                                    "book_id": "110890",
                                    "average_rating": "4.38",
                                    "original_title": "The Looming Tower: Al-Qaeda and the Road to 9/11",
                                    "title": "The Looming Tower: Al-Qaeda and the Road to 9/11"
                                },
                                {
                                    "book_id": "676555",
                                    "average_rating": "4.38",
                                    "original_title": "The Beatles Anthology",
                                    "title": "The Beatles Anthology"
                                },
                                {
                                    "book_id": "7967299",
                                    "average_rating": "4.38",
                                    "original_title": "Love You to Death: The Unofficial Companion to The Vampire Diaries",
                                    "title": "Love You to Death: The Unofficial Companion to the Vampire Diaries"
                                },
                                {
                                    "book_id": "1111600",
                                    "average_rating": "4.37",
                                    "original_title": "The Wheel of Time: Boxed Set  (Wheel of Time, #1-8)",
                                    "title": "The Wheel of Time: Boxed Set  (Wheel of Time, #1-8)"
                                },
                                {
                                    "book_id": "1055617",
                                    "average_rating": "4.37",
                                    "original_title": "The Miracle of Forgiveness",
                                    "title": "The Miracle of Forgiveness"
                                },
                                {
                                    "book_id": "28212",
                                    "average_rating": "4.37",
                                    "original_title": "And the Band Played On: Politics, People, and the AIDS Epidemic",
                                    "title": "And the Band Played On: Politics, People, and the AIDS Epidemic"
                                },
                                {
                                    "book_id": "6390031",
                                    "average_rating": "4.37",
                                    "original_title": "The Improbable Adventures of Sherlock Holmes",
                                    "title": "The Improbable Adventures of Sherlock Holmes"
                                },
                                {
                                    "book_id": "1908511",
                                    "average_rating": "4.37",
                                    "original_title": "The Pigeon Wants a Puppy!",
                                    "title": "The Pigeon Wants a Puppy!"
                                },
                                {
                                    "book_id": "1398034",
                                    "average_rating": "4.37",
                                    "original_title": "Bumi Manusia",
                                    "title": "Bumi Manusia"
                                },
                                {
                                    "book_id": "29430012",
                                    "average_rating": "4.37",
                                    "original_title": "A Gentleman in Moscow",
                                    "title": "A Gentleman in Moscow"
                                },
                                {
                                    "book_id": "435045",
                                    "average_rating": "4.37",
                                    "original_title": "Wicked Deeds on a Winter's Night (Immortals After Dark #4)",
                                    "title": "Wicked Deeds on a Winter's Night (Immortals After Dark #4)"
                                },
                                {
                                    "book_id": "6609765",
                                    "average_rating": "4.37",
                                    "original_title": "Out of My Mind",
                                    "title": "Out of My Mind"
                                },
                                {
                                    "book_id": "139069",
                                    "average_rating": "4.36",
                                    "original_title": "Endurance: Shackleton's incredible voyage",
                                    "title": "Endurance: Shackleton's Incredible Voyage"
                                },
                                {
                                    "book_id": "8621462",
                                    "average_rating": "4.36",
                                    "original_title": "A Monster Calls ",
                                    "title": "A Monster Calls"
                                },
                                {
                                    "book_id": "301736",
                                    "average_rating": "4.36",
                                    "original_title": "Guess How Much I Love You",
                                    "title": "Guess How Much I Love You"
                                },
                                {
                                    "book_id": "7824322",
                                    "average_rating": "4.36",
                                    "original_title": "Between Shades of Gray",
                                    "title": "Between Shades of Gray"
                                },
                                {
                                    "book_id": "19063",
                                    "average_rating": "4.36",
                                    "original_title": "The Book Thief",
                                    "title": "The Book Thief"
                                },
                                {
                                    "book_id": "22034",
                                    "average_rating": "4.36",
                                    "original_title": "The Godfather",
                                    "title": "The Godfather"
                                },
                                {
                                    "book_id": "113946",
                                    "average_rating": "4.36",
                                    "original_title": "How the Grinch Stole Christmas!",
                                    "title": "How the Grinch Stole Christmas!"
                                },
                                {
                                    "book_id": "96358",
                                    "average_rating": "4.36",
                                    "original_title": "Batman: The Killing Joke ",
                                    "title": "Batman: The Killing Joke"
                                },
                                {
                                    "book_id": "25614492",
                                    "average_rating": "4.36",
                                    "original_title": "Salt to the Sea",
                                    "title": "Salt to the Sea"
                                },
                                {
                                    "book_id": "18301124",
                                    "average_rating": "4.36",
                                    "original_title": "Making Faces",
                                    "title": "Making Faces"
                                },
                                {
                                    "book_id": "74033",
                                    "average_rating": "4.36",
                                    "original_title": "Innocent in Death (In Death, #24)",
                                    "title": "Innocent in Death (In Death, #24)"
                                },
                                {
                                    "book_id": "206236",
                                    "average_rating": "4.36",
                                    "original_title": "The Power of the Dog",
                                    "title": "The Power of the Dog"
                                },
                                {
                                    "book_id": "22886113",
                                    "average_rating": "4.36",
                                    "original_title": "A Work in Progress",
                                    "title": "A Work in Progress"
                                },
                                {
                                    "book_id": "22749539",
                                    "average_rating": "4.36",
                                    "original_title": "Echo",
                                    "title": "Echo"
                                },
                                {
                                    "book_id": "3710603",
                                    "average_rating": "4.36",
                                    "original_title": "Y: The Last Man - The Deluxe Edition Book One",
                                    "title": "Y: The Last Man - The Deluxe Edition Book One"
                                },
                                {
                                    "book_id": "37377",
                                    "average_rating": "4.35",
                                    "original_title": "On the Night You Were Born",
                                    "title": "On the Night You Were Born"
                                },
                                {
                                    "book_id": "77431",
                                    "average_rating": "4.35",
                                    "original_title": "The Mauritius Command",
                                    "title": "The Mauritius Command"
                                },
                                {
                                    "book_id": "556629",
                                    "average_rating": "4.35",
                                    "original_title": "The Holiness of God",
                                    "title": "The Holiness of God"
                                },
                                {
                                    "book_id": "15801381",
                                    "average_rating": "4.35",
                                    "original_title": "Chasing the Prophecy (Beyonders, #3)",
                                    "title": "Chasing the Prophecy (Beyonders, #3)"
                                },
                                {
                                    "book_id": "191117",
                                    "average_rating": "4.35",
                                    "original_title": "Don't Let the Pigeon Stay Up Late!",
                                    "title": "Don't Let the Pigeon Stay Up Late!"
                                },
                                {
                                    "book_id": "197512",
                                    "average_rating": "4.35",
                                    "original_title": "The Pigeon Finds a Hot Dog!",
                                    "title": "The Pigeon Finds a Hot Dog!"
                                },
                                {
                                    "book_id": "7784",
                                    "average_rating": "4.35",
                                    "original_title": "The Lorax",
                                    "title": "The Lorax"
                                },
                                {
                                    "book_id": "472331",
                                    "average_rating": "4.35",
                                    "original_title": "Watchmen",
                                    "title": "Watchmen"
                                },
                                {
                                    "book_id": "4406",
                                    "average_rating": "4.35",
                                    "original_title": "East of Eden  ",
                                    "title": "East of Eden"
                                },
                                {
                                    "book_id": "55030",
                                    "average_rating": "4.35",
                                    "original_title": "Cosmos",
                                    "title": "Cosmos"
                                },
                                {
                                    "book_id": "35729",
                                    "average_rating": "4.35",
                                    "original_title": "Lover Eternal (Black Dagger Brotherhood, #2)",
                                    "title": "Lover Eternal (Black Dagger Brotherhood, #2)"
                                },
                                {
                                    "book_id": "53764",
                                    "average_rating": "4.35",
                                    "original_title": "The Great Dune Trilogy",
                                    "title": "The Great Dune Trilogy  "
                                },
                                {
                                    "book_id": "773951",
                                    "average_rating": "4.35",
                                    "original_title": "The Story of Ferdinand",
                                    "title": "The Story of Ferdinand"
                                },
                                {
                                    "book_id": "37186",
                                    "average_rating": "4.34",
                                    "original_title": "The Miraculous Journey of Edward Tulane",
                                    "title": "The Miraculous Journey of Edward Tulane"
                                },
                                {
                                    "book_id": "2241059",
                                    "average_rating": "4.34",
                                    "original_title": "Identical",
                                    "title": "Identical"
                                },
                                {
                                    "book_id": "147074",
                                    "average_rating": "4.34",
                                    "original_title": "Janet Evanovich Three and Four Two-Book Set (Stephanie Plum, #3-4)",
                                    "title": "Janet Evanovich Three and Four Two-Book Set (Stephanie Plum, #3-4)"
                                },
                                {
                                    "book_id": "711901",
                                    "average_rating": "4.34",
                                    "original_title": "Lone Survivor: The Eyewitness Account of Operation Redwing and the Lost Heroes of SEAL Team 10",
                                    "title": "Lone Survivor: The Eyewitness Account of Operation Redwing and the Lost Heroes of SEAL Team 10"
                                },
                                {
                                    "book_id": "30118",
                                    "average_rating": "4.34",
                                    "original_title": "A Light in the Attic",
                                    "title": "A Light in the Attic"
                                },
                                {
                                    "book_id": "128029",
                                    "average_rating": "4.34",
                                    "original_title": "A Thousand Splendid Suns",
                                    "title": "A Thousand Splendid Suns"
                                },
                                {
                                    "book_id": "149267",
                                    "average_rating": "4.34",
                                    "original_title": "The Stand",
                                    "title": "The Stand"
                                },
                                {
                                    "book_id": "191139",
                                    "average_rating": "4.34",
                                    "original_title": "Oh, the Places You'll Go!",
                                    "title": "Oh, The Places You'll Go!"
                                },
                                {
                                    "book_id": "39662",
                                    "average_rating": "4.34",
                                    "original_title": "Different Seasons",
                                    "title": "Different Seasons"
                                },
                                {
                                    "book_id": "5211",
                                    "average_rating": "4.34",
                                    "original_title": "A Fine Balance",
                                    "title": "A Fine Balance"
                                },
                                {
                                    "book_id": "310259",
                                    "average_rating": "4.34",
                                    "original_title": "Love You Forever",
                                    "title": "Love You Forever"
                                },
                                {
                                    "book_id": "10988",
                                    "average_rating": "4.34",
                                    "original_title": "Drums of Autumn (Outlander, #4)",
                                    "title": "Drums of Autumn (Outlander, #4)"
                                },
                                {
                                    "book_id": "16151178",
                                    "average_rating": "4.34",
                                    "original_title": "The Sea of Tranquility",
                                    "title": "The Sea of Tranquility"
                                },
                                {
                                    "book_id": "47720",
                                    "average_rating": "4.34",
                                    "original_title": "The Sandman: Endless Nights",
                                    "title": "The Sandman: Endless Nights"
                                },
                                {
                                    "book_id": "769212",
                                    "average_rating": "4.34",
                                    "original_title": "The Last Seven Months of Anne Frank",
                                    "title": "The Last Seven Months of Anne Frank"
                                },
                                {
                                    "book_id": "29367958",
                                    "average_rating": "4.34",
                                    "original_title": "The Wall of Winnipeg and Me",
                                    "title": "The Wall of Winnipeg and Me"
                                },
                                {
                                    "book_id": "14572",
                                    "average_rating": "4.34",
                                    "original_title": "Peace Is Every Step: The Path of Mindfulness in Everyday Life",
                                    "title": "Peace Is Every Step: The Path of Mindfulness in Everyday Life"
                                },
                                {
                                    "book_id": "356824",
                                    "average_rating": "4.34",
                                    "original_title": "India After Gandhi: The History of the World's Largest Democracy",
                                    "title": "India After Gandhi: The History of the World's Largest Democracy"
                                },
                                {
                                    "book_id": "20821299",
                                    "average_rating": "4.34",
                                    "original_title": "The Book with No Pictures",
                                    "title": "The Book with No Pictures"
                                },
                                {
                                    "book_id": "10822174",
                                    "average_rating": "4.34",
                                    "original_title": "The Walking Dead, Vol. 14: No Way Out ",
                                    "title": "The Walking Dead, Vol. 14: No Way Out"
                                },
                                {
                                    "book_id": "238142",
                                    "average_rating": "4.33",
                                    "original_title": "Visions in Death (In Death, #19)",
                                    "title": "Visions in Death (In Death, #19)"
                                },
                                {
                                    "book_id": "102857",
                                    "average_rating": "4.33",
                                    "original_title": "Born in Death (In Death, #23)",
                                    "title": "Born in Death (In Death, #23)"
                                },
                                {
                                    "book_id": "2249196",
                                    "average_rating": "4.33",
                                    "original_title": "All-Star Superman, Vol. 2",
                                    "title": "All-Star Superman, Vol. 2"
                                },
                                {
                                    "book_id": "8696",
                                    "average_rating": "4.33",
                                    "original_title": "Last Chance to See",
                                    "title": "Last Chance to See"
                                },
                                {
                                    "book_id": "102955",
                                    "average_rating": "4.33",
                                    "original_title": "Preacher, Volume 8: All Hell's a-Coming",
                                    "title": "Preacher, Volume 8: All Hell's a-Coming"
                                },
                                {
                                    "book_id": "5989573",
                                    "average_rating": "4.33",
                                    "original_title": "Scott Pilgrim, Volume 5: Scott Pilgrim Vs. the Universe",
                                    "title": "Scott Pilgrim, Volume 5: Scott Pilgrim Vs. the Universe"
                                },
                                {
                                    "book_id": "79421",
                                    "average_rating": "4.33",
                                    "original_title": "The Heavenly Man: The Remarkable True Story of Chinese Christian Brother Yun",
                                    "title": "The Heavenly Man: The Remarkable True Story of Chinese Christian Brother Yun"
                                },
                                {
                                    "book_id": "129650",
                                    "average_rating": "4.33",
                                    "original_title": "Mastering the Art of French Cooking",
                                    "title": "Mastering the Art of French Cooking"
                                },
                                {
                                    "book_id": "178357",
                                    "average_rating": "4.33",
                                    "original_title": "SantaLand Diaries",
                                    "title": "SantaLand Diaries"
                                },
                                {
                                    "book_id": "13578175",
                                    "average_rating": "4.33",
                                    "original_title": "The Emperor's Soul",
                                    "title": "The Emperor's Soul"
                                },
                                {
                                    "book_id": "1001896",
                                    "average_rating": "4.33",
                                    "original_title": "The Real Mother Goose",
                                    "title": "The Real Mother Goose"
                                },
                                {
                                    "book_id": "920607",
                                    "average_rating": "4.33",
                                    "original_title": "The Arrival",
                                    "title": "The Arrival"
                                },
                                {
                                    "book_id": "12866426",
                                    "average_rating": "4.33",
                                    "original_title": "Taken at Dusk (Shadow Falls, #3)",
                                    "title": "Taken at Dusk (Shadow Falls, #3)"
                                },
                                {
                                    "book_id": "42697",
                                    "average_rating": "4.33",
                                    "original_title": "Exodus",
                                    "title": "Exodus"
                                },
                                {
                                    "book_id": "30120",
                                    "average_rating": "4.33",
                                    "original_title": "Falling Up",
                                    "title": "Falling Up"
                                },
                                {
                                    "book_id": "13360",
                                    "average_rating": "4.33",
                                    "original_title": "Battlefield of the Mind: Winning the Battle in Your Mind",
                                    "title": "Battlefield of the Mind: Winning the Battle in Your Mind"
                                },
                                {
                                    "book_id": "765193",
                                    "average_rating": "4.33",
                                    "original_title": "Amazing Grace",
                                    "title": "Amazing Grace"
                                },
                                {
                                    "book_id": "106124",
                                    "average_rating": "4.33",
                                    "original_title": "The Dragonslayer (Bone, #4)",
                                    "title": "The Dragonslayer (Bone, #4)"
                                },
                                {
                                    "book_id": "17671913",
                                    "average_rating": "4.33",
                                    "original_title": "Batman, Volume 3: Death of the Family",
                                    "title": "Batman, Volume 3: Death of the Family"
                                },
                                {
                                    "book_id": "96259",
                                    "average_rating": "4.33",
                                    "original_title": "Crush",
                                    "title": "Crush"
                                },
                                {
                                    "book_id": "8086216",
                                    "average_rating": "4.32",
                                    "original_title": "Plenty",
                                    "title": "Plenty"
                                },
                                {
                                    "book_id": "6403690",
                                    "average_rating": "4.32",
                                    "original_title": "Counterfeit Gods: The Empty Promises of Money, Sex, and Power, and the Only Hope That Matters",
                                    "title": "Counterfeit Gods: The Empty Promises of Money, Sex, and Power, and the Only Hope that Matters"
                                },
                                {
                                    "book_id": "18232495",
                                    "average_rating": "4.32",
                                    "original_title": "The Auschwitz Escape",
                                    "title": "The Auschwitz Escape"
                                },
                                {
                                    "book_id": "8803932",
                                    "average_rating": "4.32",
                                    "original_title": "If I Die (Soul Screamers, #5)",
                                    "title": "If I Die (Soul Screamers, #5)"
                                },
                                {
                                    "book_id": "131830",
                                    "average_rating": "4.32",
                                    "original_title": "Women's Bodies, Women's Wisdom: Creating Physical and Emotional Health and Healing",
                                    "title": "Women's Bodies, Women's Wisdom: Creating Physical and Emotional Health and Healing"
                                },
                                {
                                    "book_id": "4769651",
                                    "average_rating": "4.32",
                                    "original_title": "The Everafter War (The Sisters Grimm, #7)",
                                    "title": "The Everafter War (The Sisters Grimm, #7)"
                                },
                                {
                                    "book_id": "144350",
                                    "average_rating": "4.32",
                                    "original_title": "The Battle for Skandia (Ranger's Apprentice, #4)",
                                    "title": "The Battle for Skandia (Ranger's Apprentice, #4)"
                                },
                                {
                                    "book_id": "25899336",
                                    "average_rating": "4.32",
                                    "original_title": "When Breath Becomes Air",
                                    "title": "When Breath Becomes Air"
                                },
                                {
                                    "book_id": "194373",
                                    "average_rating": "4.32",
                                    "original_title": "The Memoirs of Sherlock Holmes",
                                    "title": "The Memoirs of Sherlock Holmes"
                                },
                                {
                                    "book_id": "16158542",
                                    "average_rating": "4.32",
                                    "original_title": "The Boys in the Boat: Nine Americans and Their Epic Quest for Gold at the 1936 Berlin Olympics",
                                    "title": "The Boys in the Boat: Nine Americans and Their Epic Quest for Gold at the 1936 Berlin Olympics"
                                },
                                {
                                    "book_id": "13638570",
                                    "average_rating": "4.32",
                                    "original_title": "Out of Breath (Breathing, #3)",
                                    "title": "Out of Breath (Breathing, #3)"
                                },
                                {
                                    "book_id": "13834",
                                    "average_rating": "4.32",
                                    "original_title": "The Realms of the Gods (Immortals, #4)",
                                    "title": "The Realms of the Gods (Immortals, #4)"
                                },
                                {
                                    "book_id": "498641",
                                    "average_rating": "4.32",
                                    "original_title": "The Practice of the Presence of God",
                                    "title": "The Practice of the Presence of God"
                                },
                                {
                                    "book_id": "744615",
                                    "average_rating": "4.32",
                                    "original_title": "Scott Pilgrim, Volume 4: Scott Pilgrim Gets It Together",
                                    "title": "Scott Pilgrim, Volume 4: Scott Pilgrim Gets It Together"
                                },
                                {
                                    "book_id": "240130",
                                    "average_rating": "4.32",
                                    "original_title": "The Paper Bag Princess",
                                    "title": "The Paper Bag Princess"
                                },
                                {
                                    "book_id": "13836",
                                    "average_rating": "4.32",
                                    "original_title": "Wild Magic (Immortals, #1)",
                                    "title": "Wild Magic (Immortals, #1)"
                                },
                                {
                                    "book_id": "25142924",
                                    "average_rating": "4.32",
                                    "original_title": "The Magic Strings of Frankie Presto",
                                    "title": "The Magic Strings of Frankie Presto"
                                },
                                {
                                    "book_id": "16884",
                                    "average_rating": "4.32",
                                    "original_title": "The Making of the Atomic Bomb",
                                    "title": "The Making of the Atomic Bomb"
                                },
                                {
                                    "book_id": "11553",
                                    "average_rating": "4.32",
                                    "original_title": "Boy's Life",
                                    "title": "Boy's Life"
                                },
                                {
                                    "book_id": "8239301",
                                    "average_rating": "4.32",
                                    "original_title": "الطنطورية ",
                                    "title": "الطنطورية"
                                },
                                {
                                    "book_id": "61663",
                                    "average_rating": "4.32",
                                    "original_title": "Pale Blue Dot: A Vision of the Human Future in Space",
                                    "title": "Pale Blue Dot: A Vision of the Human Future in Space"
                                },
                                {
                                    "book_id": "824062",
                                    "average_rating": "4.32",
                                    "original_title": "God's Smuggler",
                                    "title": "God's Smuggler"
                                },
                                {
                                    "book_id": "35100",
                                    "average_rating": "4.32",
                                    "original_title": "Battle Cry of Freedom",
                                    "title": "Battle Cry of Freedom"
                                },
                                {
                                    "book_id": "7519472",
                                    "average_rating": "4.32",
                                    "original_title": "The Darkest Lie (Lords of the Underworld #6)",
                                    "title": "The Darkest Lie (Lords of the Underworld #6)"
                                },
                                {
                                    "book_id": "2880715",
                                    "average_rating": "4.32",
                                    "original_title": "The Black Dagger Brotherhood: An Insider's Guide",
                                    "title": "The Black Dagger Brotherhood: An Insider's Guide"
                                },
                                {
                                    "book_id": "845403",
                                    "average_rating": "4.32",
                                    "original_title": "Mufaro's Beautiful Daughters: An African Tale",
                                    "title": "Mufaro's Beautiful Daughters: An African Tale"
                                },
                                {
                                    "book_id": "22471294",
                                    "average_rating": "4.32",
                                    "original_title": "Black Lies",
                                    "title": "Black Lies"
                                },
                                {
                                    "book_id": "15823426",
                                    "average_rating": "4.32",
                                    "original_title": "The Secret Race: Inside the Hidden World of the Tour de France: Doping, Cover-ups, and Winning at All Costs",
                                    "title": "The Secret Race: Inside the Hidden World of the Tour de France: Doping, Cover-ups, and Winning at All Costs"
                                },
                                {
                                    "book_id": "30125",
                                    "average_rating": "4.32",
                                    "original_title": "The Missing Piece Meets the Big O",
                                    "title": "The Missing Piece Meets the Big O "
                                },
                                {
                                    "book_id": "129523",
                                    "average_rating": "4.32",
                                    "original_title": "Divided in Death (In Death, #18)",
                                    "title": "Divided in Death (In Death, #18)"
                                },
                                {
                                    "book_id": "15808816",
                                    "average_rating": "4.32",
                                    "original_title": "A Higher Call: An Incredible True Story of Combat and Chivalry in the War-Torn Skies of World War II",
                                    "title": "A Higher Call: An Incredible True Story of Combat and Chivalry in the War-Torn Skies of World War II"
                                },
                                {
                                    "book_id": "3331756",
                                    "average_rating": "4.32",
                                    "original_title": "عائد إلى حيفا",
                                    "title": "عائد إلى حيفا"
                                },
                                {
                                    "book_id": "118389",
                                    "average_rating": "4.32",
                                    "original_title": "The Love Song of J. Alfred Prufrock and Other Poems",
                                    "title": "The Love Song of J. Alfred Prufrock and Other Poems"
                                },
                                {
                                    "book_id": "3888",
                                    "average_rating": "4.31",
                                    "original_title": "The America's Test Kitchen Family Cookbook",
                                    "title": "The America's Test Kitchen Family Cookbook"
                                },
                                {
                                    "book_id": "132688",
                                    "average_rating": "4.31",
                                    "original_title": "The Way to Cook",
                                    "title": "The Way to Cook"
                                },
                                {
                                    "book_id": "129565",
                                    "average_rating": "4.31",
                                    "original_title": "Financial Peace Revisited",
                                    "title": "Financial Peace Revisited"
                                },
                                {
                                    "book_id": "42547",
                                    "average_rating": "4.31",
                                    "original_title": "The Autobiography of Martin Luther King, Jr.",
                                    "title": "The Autobiography of Martin Luther King, Jr."
                                },
                                {
                                    "book_id": "905382",
                                    "average_rating": "4.31",
                                    "original_title": "Anne Frank : The Biography",
                                    "title": "Anne Frank : The Biography"
                                },
                                {
                                    "book_id": "161156",
                                    "average_rating": "4.31",
                                    "original_title": "The Longest Day",
                                    "title": "The Longest Day"
                                },
                                {
                                    "book_id": "823411",
                                    "average_rating": "4.31",
                                    "original_title": "Three Day Road",
                                    "title": "Three Day Road"
                                },
                                {
                                    "book_id": "8477057",
                                    "average_rating": "4.31",
                                    "original_title": "Daytripper",
                                    "title": "Daytripper"
                                },
                                {
                                    "book_id": "537375",
                                    "average_rating": "4.31",
                                    "original_title": "The Endurance: Shackleton's legendary Antarctic expedition",
                                    "title": "The Endurance: Shackleton's Legendary Antarctic Expedition"
                                },
                                {
                                    "book_id": "6260997",
                                    "average_rating": "4.31",
                                    "original_title": "Half the Sky: Turning Oppression into Opportunity for Women Worldwide",
                                    "title": "Half the Sky: Turning Oppression into Opportunity for Women Worldwide"
                                },
                                {
                                    "book_id": "858513",
                                    "average_rating": "4.31",
                                    "original_title": "Chrysanthemum",
                                    "title": "Chrysanthemum"
                                },
                                {
                                    "book_id": "833253",
                                    "average_rating": "4.31",
                                    "original_title": "The Power of a Praying Wife",
                                    "title": "The Power of a Praying Wife"
                                },
                                {
                                    "book_id": "8171378",
                                    "average_rating": "4.31",
                                    "original_title": "The Warmth of Other Suns: The Epic Story of America's Great Migration ",
                                    "title": "The Warmth of Other Suns: The Epic Story of America's Great Migration"
                                },
                                {
                                    "book_id": "25893693",
                                    "average_rating": "4.31",
                                    "original_title": "Lilac Girls",
                                    "title": "Lilac Girls"
                                },
                                {
                                    "book_id": "139855",
                                    "average_rating": "4.31",
                                    "original_title": "Knowing God",
                                    "title": "Knowing God"
                                },
                                {
                                    "book_id": "682920",
                                    "average_rating": "4.31",
                                    "original_title": "The Little Mouse, the Red Ripe Strawberry, and the Big Hungry Bear",
                                    "title": "The Little Mouse, the Red Ripe Strawberry, and the Big Hungry Bear"
                                },
                                {
                                    "book_id": "11138",
                                    "average_rating": "4.31",
                                    "original_title": "Mere Christianity",
                                    "title": "Mere Christianity"
                                },
                                {
                                    "book_id": "10569",
                                    "average_rating": "4.31",
                                    "original_title": "On Writing: A Memoir of the Craft",
                                    "title": "On Writing: A Memoir of the Craft"
                                },
                                {
                                    "book_id": "6759",
                                    "average_rating": "4.31",
                                    "original_title": "Infinite Jest",
                                    "title": "Infinite Jest"
                                },
                                {
                                    "book_id": "105549",
                                    "average_rating": "4.31",
                                    "original_title": "The Sneetches and Other Stories",
                                    "title": "The Sneetches and Other Stories"
                                },
                                {
                                    "book_id": "4099",
                                    "average_rating": "4.31",
                                    "original_title": "The Pragmatic Programmer: From Journeyman to Master",
                                    "title": "The Pragmatic Programmer: From Journeyman to Master"
                                },
                                {
                                    "book_id": "294613",
                                    "average_rating": "4.3",
                                    "original_title": "Little Bear's Friend",
                                    "title": "Little Bear's Friend"
                                },
                                {
                                    "book_id": "136977",
                                    "average_rating": "4.3",
                                    "original_title": "The Places That Scare You: A Guide to Fearlessness in Difficult Times",
                                    "title": "The Places That Scare You: A Guide to Fearlessness in Difficult Times"
                                },
                                {
                                    "book_id": "90420",
                                    "average_rating": "4.3",
                                    "original_title": "Copper Sun",
                                    "title": "Copper Sun"
                                },
                                {
                                    "book_id": "2199",
                                    "average_rating": "4.3",
                                    "original_title": "Team of Rivals: The Political Genius of Abraham Lincoln",
                                    "title": "Team of Rivals: The Political Genius of Abraham Lincoln"
                                },
                                {
                                    "book_id": "17788401",
                                    "average_rating": "4.3",
                                    "original_title": "Ugly Love",
                                    "title": "Ugly Love"
                                },
                                {
                                    "book_id": "2153405",
                                    "average_rating": "4.3",
                                    "original_title": "Still Alice",
                                    "title": "Still Alice"
                                },
                                {
                                    "book_id": "85392",
                                    "average_rating": "4.3",
                                    "original_title": "Term Limits",
                                    "title": "Term Limits"
                                },
                                {
                                    "book_id": "269322",
                                    "average_rating": "4.3",
                                    "original_title": "The Raven and Other Poems",
                                    "title": "The Raven and other poems"
                                },
                                {
                                    "book_id": "45244",
                                    "average_rating": "4.3",
                                    "original_title": "Judas Unchained",
                                    "title": "Judas Unchained"
                                },
                                {
                                    "book_id": "1215290",
                                    "average_rating": "4.3",
                                    "original_title": "Rudolph the Red-Nosed Reindeer",
                                    "title": "Rudolph the Red-Nosed Reindeer"
                                },
                                {
                                    "book_id": "194366",
                                    "average_rating": "4.3",
                                    "original_title": "The Return of Sherlock Holmes",
                                    "title": "The Return of Sherlock Holmes"
                                },
                                {
                                    "book_id": "821056",
                                    "average_rating": "4.3",
                                    "original_title": "Hinds' Feet on High Places",
                                    "title": "Hinds' Feet on High Places"
                                },
                                {
                                    "book_id": "13833",
                                    "average_rating": "4.3",
                                    "original_title": "Emperor Mage (Immortals, #3)",
                                    "title": "Emperor Mage (Immortals, #3)"
                                },
                                {
                                    "book_id": "12657",
                                    "average_rating": "4.3",
                                    "original_title": "The Source",
                                    "title": "The Source"
                                },
                                {
                                    "book_id": "24113",
                                    "average_rating": "4.3",
                                    "original_title": "Gödel, Escher, Bach: An Eternal Golden Braid",
                                    "title": "Gödel, Escher, Bach: An Eternal Golden Braid"
                                },
                                {
                                    "book_id": "35519",
                                    "average_rating": "4.3",
                                    "original_title": "The Power of Myth",
                                    "title": "The Power of Myth"
                                },
                                {
                                    "book_id": "13223349",
                                    "average_rating": "4.3",
                                    "original_title": "Batman, Volume 1: The Court of Owls",
                                    "title": "Batman, Volume 1: The Court of Owls"
                                },
                                {
                                    "book_id": "20413",
                                    "average_rating": "4.3",
                                    "original_title": "A Child's Garden of Verses",
                                    "title": "A Child's Garden of Verses"
                                },
                                {
                                    "book_id": "11472",
                                    "average_rating": "4.3",
                                    "original_title": "We Wish to Inform You That Tomorrow We Will Be Killed with Our Families",
                                    "title": "We Wish to Inform You That Tomorrow We Will Be Killed with Our Families"
                                },
                                {
                                    "book_id": "83143",
                                    "average_rating": "4.3",
                                    "original_title": "Tatiana and Alexander (The Bronze Horseman, #2)",
                                    "title": "Tatiana and Alexander (The Bronze Horseman, #2)"
                                },
                                {
                                    "book_id": "11449",
                                    "average_rating": "4.3",
                                    "original_title": "Cathedral",
                                    "title": "Cathedral"
                                },
                                {
                                    "book_id": "2761356",
                                    "average_rating": "4.3",
                                    "original_title": "The Sweet Gum Tree",
                                    "title": "The Sweet Gum Tree"
                                },
                                {
                                    "book_id": "20613761",
                                    "average_rating": "4.3",
                                    "original_title": "Citizen: An American Lyric",
                                    "title": "Citizen: An American Lyric"
                                },
                                {
                                    "book_id": "25507925",
                                    "average_rating": "4.3",
                                    "original_title": "Binge",
                                    "title": "Binge"
                                },
                                {
                                    "book_id": "62103",
                                    "average_rating": "4.29",
                                    "original_title": "The Complete Phantom of the Opera",
                                    "title": "The Complete Phantom of the Opera"
                                },
                                {
                                    "book_id": "6145711",
                                    "average_rating": "4.29",
                                    "original_title": "The Walking Dead, Vol. 10: What We Become",
                                    "title": "The Walking Dead, Vol. 10: What We Become"
                                },
                                {
                                    "book_id": "542389",
                                    "average_rating": "4.29",
                                    "original_title": "Stalingrad: The Fateful Siege, 1942–1943",
                                    "title": "Stalingrad: The Fateful Siege, 1942–1943"
                                },
                                {
                                    "book_id": "7171876",
                                    "average_rating": "4.29",
                                    "original_title": "Fallout (Crank, #3)",
                                    "title": "Fallout (Crank, #3)"
                                },
                                {
                                    "book_id": "18225810",
                                    "average_rating": "4.29",
                                    "original_title": "Sisters",
                                    "title": "Sisters"
                                },
                                {
                                    "book_id": "845977",
                                    "average_rating": "4.29",
                                    "original_title": "A Return to Love: Reflections on the Principles of \"A Course in Miracles\"",
                                    "title": "A Return to Love: Reflections on the Principles of \"A Course in Miracles\""
                                },
                                {
                                    "book_id": "42512",
                                    "average_rating": "4.29",
                                    "original_title": "We Were Soldiers Once... and Young: Ia Drang - the Battle That Changed the War in Vietnam",
                                    "title": "We Were Soldiers Once... and Young: Ia Drang - The Battle that Changed the War in Vietnam"
                                },
                                {
                                    "book_id": "216304",
                                    "average_rating": "4.29",
                                    "original_title": "A Woman After God's Own Heart",
                                    "title": "A Woman After God's Own Heart"
                                },
                                {
                                    "book_id": "4373",
                                    "average_rating": "4.29",
                                    "original_title": "First They Killed My Father: A Daughter of Cambodia Remembers ",
                                    "title": "First They Killed My Father: A Daughter of Cambodia Remembers"
                                },
                                {
                                    "book_id": "317504",
                                    "average_rating": "4.29",
                                    "original_title": "Mistress of the Empire (The Empire Trilogy, #3)",
                                    "title": "Mistress of the Empire (The Empire Trilogy, #3)"
                                },
                                {
                                    "book_id": "10889279",
                                    "average_rating": "4.29",
                                    "original_title": "Batman: The Black Mirror",
                                    "title": "Batman: The Black Mirror"
                                },
                                {
                                    "book_id": "3438000",
                                    "average_rating": "4.29",
                                    "original_title": "ثلاثية غرناطة",
                                    "title": "ثلاثية غرناطة"
                                },
                                {
                                    "book_id": "452157",
                                    "average_rating": "4.29",
                                    "original_title": "The Road to the Dark Tower: Exploring Stephen King's Magnum Opus",
                                    "title": "The Road to the Dark Tower: Exploring Stephen King's Magnum Opus"
                                },
                                {
                                    "book_id": "68811",
                                    "average_rating": "4.29",
                                    "original_title": "Momo",
                                    "title": "Momo"
                                },
                                {
                                    "book_id": "78427",
                                    "average_rating": "4.29",
                                    "original_title": "The Total Money Makeover: A Proven Plan for Financial Fitness",
                                    "title": "The Total Money Makeover: A Proven Plan for Financial Fitness"
                                },
                                {
                                    "book_id": "270067",
                                    "average_rating": "4.29",
                                    "original_title": "A Pocket for Corduroy",
                                    "title": "A Pocket for Corduroy"
                                },
                                {
                                    "book_id": "13152194",
                                    "average_rating": "4.29",
                                    "original_title": "Tiny Beautiful Things: Advice on Love and Life from Dear Sugar",
                                    "title": "Tiny Beautiful Things: Advice on Love and Life from Dear Sugar"
                                },
                                {
                                    "book_id": "687278",
                                    "average_rating": "4.29",
                                    "original_title": "When Things Fall Apart: Heart Advice for Difficult Times",
                                    "title": "When Things Fall Apart: Heart Advice for Difficult Times"
                                },
                                {
                                    "book_id": "29802",
                                    "average_rating": "4.29",
                                    "original_title": "Scott Pilgrim, Volume 3: Scott Pilgrim & The Infinite Sadness",
                                    "title": "Scott Pilgrim, Volume 3: Scott Pilgrim & The Infinite Sadness"
                                },
                                {
                                    "book_id": "153540",
                                    "average_rating": "4.29",
                                    "original_title": "The Little House",
                                    "title": "The Little House"
                                },
                                {
                                    "book_id": "10644930",
                                    "average_rating": "4.29",
                                    "original_title": "11/22/63",
                                    "title": "11/22/63"
                                },
                                {
                                    "book_id": "39988",
                                    "average_rating": "4.29",
                                    "original_title": "Matilda",
                                    "title": "Matilda"
                                },
                                {
                                    "book_id": "23772",
                                    "average_rating": "4.29",
                                    "original_title": "Green Eggs and Ham",
                                    "title": "Green Eggs and Ham"
                                },
                                {
                                    "book_id": "3590",
                                    "average_rating": "4.29",
                                    "original_title": "The Adventures of Sherlock Holmes",
                                    "title": "The Adventures of Sherlock Holmes"
                                },
                                {
                                    "book_id": "144974",
                                    "average_rating": "4.29",
                                    "original_title": "The Velveteen Rabbit",
                                    "title": "The Velveteen Rabbit"
                                },
                                {
                                    "book_id": "420282",
                                    "average_rating": "4.29",
                                    "original_title": "The Polar Express",
                                    "title": "The Polar Express"
                                },
                                {
                                    "book_id": "92057",
                                    "average_rating": "4.29",
                                    "original_title": "The Autobiography of Malcolm X",
                                    "title": "The Autobiography of Malcolm X"
                                },
                                {
                                    "book_id": "7170627",
                                    "average_rating": "4.29",
                                    "original_title": "The Emperor of All Maladies: A Biography of Cancer",
                                    "title": "The Emperor of All Maladies: A Biography of Cancer"
                                },
                                {
                                    "book_id": "106069",
                                    "average_rating": "4.29",
                                    "original_title": "Batman: The Long Halloween",
                                    "title": "Batman: The Long Halloween"
                                },
                                {
                                    "book_id": "25912358",
                                    "average_rating": "4.29",
                                    "original_title": "A Thousand Boy Kisses",
                                    "title": "A Thousand Boy Kisses"
                                },
                                {
                                    "book_id": "11446",
                                    "average_rating": "4.29",
                                    "original_title": "Will You Please Be Quiet, Please?",
                                    "title": "Will You Please Be Quiet, Please?"
                                },
                                {
                                    "book_id": "502406",
                                    "average_rating": "4.28",
                                    "original_title": "Curious George Takes a Job",
                                    "title": "Curious George Takes a Job"
                                },
                                {
                                    "book_id": "60551",
                                    "average_rating": "4.28",
                                    "original_title": "The Book on the Taboo Against Knowing Who You Are",
                                    "title": "The Book on the Taboo Against Knowing Who You Are"
                                },
                                {
                                    "book_id": "1153709",
                                    "average_rating": "4.28",
                                    "original_title": "Hairy Maclary from Donaldson's Dairy",
                                    "title": "Hairy Maclary from Donaldson's Dairy"
                                },
                                {
                                    "book_id": "17267",
                                    "average_rating": "4.28",
                                    "original_title": "The Great Divorce",
                                    "title": "The Great Divorce"
                                },
                                {
                                    "book_id": "270804",
                                    "average_rating": "4.28",
                                    "original_title": "Glass (Crank, #2)",
                                    "title": "Glass (Crank, #2)"
                                },
                                {
                                    "book_id": "264158",
                                    "average_rating": "4.28",
                                    "original_title": "The Raven",
                                    "title": "The Raven"
                                },
                                {
                                    "book_id": "18749",
                                    "average_rating": "4.28",
                                    "original_title": "Half of a Yellow Sun",
                                    "title": "Half of a Yellow Sun"
                                },
                                {
                                    "book_id": "166997",
                                    "average_rating": "4.28",
                                    "original_title": "Stoner",
                                    "title": "Stoner"
                                },
                                {
                                    "book_id": "13104080",
                                    "average_rating": "4.28",
                                    "original_title": "Unravel Me (Shatter Me, #2)",
                                    "title": "Unravel Me (Shatter Me, #2)"
                                },
                                {
                                    "book_id": "1971304",
                                    "average_rating": "4.28",
                                    "original_title": "City of Thieves",
                                    "title": "City of Thieves"
                                },
                                {
                                    "book_id": "231850",
                                    "average_rating": "4.28",
                                    "original_title": "Corduroy",
                                    "title": "Corduroy"
                                },
                                {
                                    "book_id": "18405",
                                    "average_rating": "4.28",
                                    "original_title": "Gone with the Wind",
                                    "title": "Gone with the Wind"
                                },
                                {
                                    "book_id": "3591262",
                                    "average_rating": "4.28",
                                    "original_title": "Cutting for Stone",
                                    "title": "Cutting for Stone"
                                },
                                {
                                    "book_id": "6871617",
                                    "average_rating": "4.28",
                                    "original_title": "This Side of the Grave (Night Huntress, #5)",
                                    "title": "This Side of the Grave (Night Huntress, #5)"
                                },
                                {
                                    "book_id": "17834834",
                                    "average_rating": "4.28",
                                    "original_title": "Once We Were Brothers",
                                    "title": "Once We Were Brothers"
                                },
                                {
                                    "book_id": "161099",
                                    "average_rating": "4.28",
                                    "original_title": "Good Night, Mr. Tom",
                                    "title": "Good Night, Mr. Tom"
                                },
                                {
                                    "book_id": "11557",
                                    "average_rating": "4.28",
                                    "original_title": "Swan Song",
                                    "title": "Swan Song"
                                },
                                {
                                    "book_id": "55403",
                                    "average_rating": "4.28",
                                    "original_title": "Black Hawk Down",
                                    "title": "Black Hawk Down"
                                },
                                {
                                    "book_id": "260791",
                                    "average_rating": "4.28",
                                    "original_title": "The Pursuit of Holiness",
                                    "title": "The Pursuit of Holiness"
                                },
                                {
                                    "book_id": "138070",
                                    "average_rating": "4.28",
                                    "original_title": "Flotsam",
                                    "title": "Flotsam"
                                },
                                {
                                    "book_id": "6926176",
                                    "average_rating": "4.28",
                                    "original_title": "Her Mother's Hope (Marta's Legacy, #1)",
                                    "title": "Her Mother's Hope (Marta's Legacy, #1)"
                                },
                                {
                                    "book_id": "1031461",
                                    "average_rating": "4.28",
                                    "original_title": "Stone Soup",
                                    "title": "Stone Soup"
                                },
                                {
                                    "book_id": "85443",
                                    "average_rating": "4.28",
                                    "original_title": "The Lords of Discipline",
                                    "title": "The Lords of Discipline"
                                },
                                {
                                    "book_id": "489972",
                                    "average_rating": "4.28",
                                    "original_title": "The Snowman",
                                    "title": "The Snowman"
                                },
                                {
                                    "book_id": "273512",
                                    "average_rating": "4.28",
                                    "original_title": "Starlight (Warriors: The New Prophecy, #4)",
                                    "title": "Starlight (Warriors: The New Prophecy, #4)"
                                },
                                {
                                    "book_id": "770040",
                                    "average_rating": "4.28",
                                    "original_title": "Llama Llama Mad at Mama",
                                    "title": "Llama Llama Mad at Mama"
                                },
                                {
                                    "book_id": "22402972",
                                    "average_rating": "4.28",
                                    "original_title": "Fish In A Tree",
                                    "title": "Fish in a Tree"
                                },
                                {
                                    "book_id": "20348781",
                                    "average_rating": "4.28",
                                    "original_title": "Loving Mr. Daniels",
                                    "title": "Loving Mr. Daniels"
                                },
                                {
                                    "book_id": "682751",
                                    "average_rating": "4.28",
                                    "original_title": "Animalia",
                                    "title": "Animalia"
                                },
                                {
                                    "book_id": "23602561",
                                    "average_rating": "4.28",
                                    "original_title": "The Cartel",
                                    "title": "The Cartel"
                                },
                                {
                                    "book_id": "7384801",
                                    "average_rating": "4.27",
                                    "original_title": "Taken by Midnight (Midnight Breed, #8)",
                                    "title": "Taken by Midnight (Midnight Breed, #8)"
                                },
                                {
                                    "book_id": "13589182",
                                    "average_rating": "4.27",
                                    "original_title": "Mastery",
                                    "title": "Mastery"
                                },
                                {
                                    "book_id": "155106",
                                    "average_rating": "4.27",
                                    "original_title": "Amelia Bedelia and the Surprise Shower",
                                    "title": "Amelia Bedelia and the Surprise Shower"
                                },
                                {
                                    "book_id": "139569",
                                    "average_rating": "4.27",
                                    "original_title": "Stone Butch Blues",
                                    "title": "Stone Butch Blues"
                                },
                                {
                                    "book_id": "1027760",
                                    "average_rating": "4.27",
                                    "original_title": "Madeline and the Bad Hat",
                                    "title": "Madeline and the Bad Hat"
                                },
                                {
                                    "book_id": "104101",
                                    "average_rating": "4.27",
                                    "original_title": "The Lions of Al-Rassan",
                                    "title": "The Lions of Al-Rassan"
                                },
                                {
                                    "book_id": "60471",
                                    "average_rating": "4.27",
                                    "original_title": "Coming Home",
                                    "title": "Coming Home"
                                },
                                {
                                    "book_id": "11686",
                                    "average_rating": "4.27",
                                    "original_title": "The Stories of John Cheever",
                                    "title": "The Stories of John Cheever"
                                },
                                {
                                    "book_id": "33335",
                                    "average_rating": "4.27",
                                    "original_title": "The Hidden Messages in Water",
                                    "title": "The Hidden Messages in Water"
                                },
                                {
                                    "book_id": "13350",
                                    "average_rating": "4.27",
                                    "original_title": "Eragon & Eldest (Inheritance, #1-2)",
                                    "title": "Eragon & Eldest (Inheritance, #1-2)"
                                },
                                {
                                    "book_id": "29254",
                                    "average_rating": "4.27",
                                    "original_title": "Be Here Now",
                                    "title": "Be Here Now"
                                },
                                {
                                    "book_id": "223380",
                                    "average_rating": "4.27",
                                    "original_title": "Stories of Your Life and Others ",
                                    "title": "Stories of Your Life and Others"
                                },
                                {
                                    "book_id": "10767466",
                                    "average_rating": "4.27",
                                    "original_title": "Hark! A Vagrant",
                                    "title": "Hark! A Vagrant"
                                },
                                {
                                    "book_id": "30122",
                                    "average_rating": "4.27",
                                    "original_title": "The Missing Piece",
                                    "title": "The Missing Piece"
                                },
                                {
                                    "book_id": "42692",
                                    "average_rating": "4.27",
                                    "original_title": "Mila 18",
                                    "title": "Mila 18"
                                },
                                {
                                    "book_id": "13815",
                                    "average_rating": "4.27",
                                    "original_title": "Servant of the Empire (The Empire Trilogy, #2)",
                                    "title": "Servant of the Empire (The Empire Trilogy, #2)"
                                },
                                {
                                    "book_id": "17349",
                                    "average_rating": "4.27",
                                    "original_title": "The Demon-Haunted World: Science as a Candle in the Dark",
                                    "title": "The Demon-Haunted World: Science as a Candle in the Dark"
                                },
                                {
                                    "book_id": "292408",
                                    "average_rating": "4.27",
                                    "original_title": "Angle of Repose",
                                    "title": "Angle of Repose"
                                },
                                {
                                    "book_id": "11250317",
                                    "average_rating": "4.27",
                                    "original_title": "The Song of Achilles",
                                    "title": "The Song of Achilles"
                                },
                                {
                                    "book_id": "815234",
                                    "average_rating": "4.27",
                                    "original_title": "The Napping House",
                                    "title": "The Napping House"
                                },
                                {
                                    "book_id": "23513349",
                                    "average_rating": "4.27",
                                    "original_title": "milk and honey",
                                    "title": "Milk and Honey"
                                },
                                {
                                    "book_id": "201126",
                                    "average_rating": "4.27",
                                    "original_title": "We're Going on a Bear Hunt",
                                    "title": "We're Going on a Bear Hunt"
                                },
                                {
                                    "book_id": "6289283",
                                    "average_rating": "4.27",
                                    "original_title": "Born to Run: A Hidden Tribe, Superathletes, and the Greatest Race the World Has Never Seen",
                                    "title": "Born to Run: A Hidden Tribe, Superathletes, and the Greatest Race the World Has Never Seen"
                                },
                                {
                                    "book_id": "22822858",
                                    "average_rating": "4.27",
                                    "original_title": "A Little Life",
                                    "title": "A Little Life"
                                },
                                {
                                    "book_id": "17277800",
                                    "average_rating": "4.27",
                                    "original_title": "Hawkeye, Volume 2: Little Hits",
                                    "title": "Hawkeye, Volume 2: Little Hits"
                                },
                                {
                                    "book_id": "22504701",
                                    "average_rating": "4.27",
                                    "original_title": "Roller Girl",
                                    "title": "Roller Girl"
                                },
                                {
                                    "book_id": "77866",
                                    "average_rating": "4.26",
                                    "original_title": "Any Human Heart",
                                    "title": "Any Human Heart"
                                },
                                {
                                    "book_id": "22608582",
                                    "average_rating": "4.26",
                                    "original_title": "13 Hours: The Inside Account of What Really Happened In Benghazi",
                                    "title": "13 Hours: The Inside Account of What Really Happened In Benghazi"
                                },
                                {
                                    "book_id": "330944",
                                    "average_rating": "4.26",
                                    "original_title": "The Field of Swords (Emperor, #3)",
                                    "title": "The Field of Swords (Emperor, #3)"
                                },
                                {
                                    "book_id": "25790",
                                    "average_rating": "4.26",
                                    "original_title": "The Lord of the Rings Sketchbook",
                                    "title": "The Lord of the Rings Sketchbook"
                                },
                                {
                                    "book_id": "11192642",
                                    "average_rating": "4.26",
                                    "original_title": "Go the Fuck to Sleep",
                                    "title": "Go the Fuck to Sleep"
                                },
                                {
                                    "book_id": "6463967",
                                    "average_rating": "4.26",
                                    "original_title": "The Big Short: Inside the Doomsday Machine",
                                    "title": "The Big Short: Inside the Doomsday Machine"
                                },
                                {
                                    "book_id": "15796700",
                                    "average_rating": "4.26",
                                    "original_title": "Americanah",
                                    "title": "Americanah"
                                },
                                {
                                    "book_id": "33600",
                                    "average_rating": "4.26",
                                    "original_title": "Shantaram",
                                    "title": "Shantaram"
                                },
                                {
                                    "book_id": "28881",
                                    "average_rating": "4.26",
                                    "original_title": "Lamb: The Gospel According to Biff, Christ's Childhood Pal",
                                    "title": "Lamb: The Gospel According to Biff, Christ's Childhood Pal"
                                },
                                {
                                    "book_id": "15753740",
                                    "average_rating": "4.26",
                                    "original_title": "The Storyteller",
                                    "title": "The Storyteller"
                                },
                                {
                                    "book_id": "9375",
                                    "average_rating": "4.26",
                                    "original_title": "Fried Green Tomatoes at the Whistle Stop Cafe",
                                    "title": "Fried Green Tomatoes at the Whistle Stop Cafe"
                                },
                                {
                                    "book_id": "11870085",
                                    "average_rating": "4.26",
                                    "original_title": "The Fault in Our Stars",
                                    "title": "The Fault in Our Stars"
                                },
                                {
                                    "book_id": "77203",
                                    "average_rating": "4.26",
                                    "original_title": "The Kite Runner ",
                                    "title": "The Kite Runner"
                                },
                                {
                                    "book_id": "49221",
                                    "average_rating": "4.26",
                                    "original_title": "A Grief Observed",
                                    "title": "A Grief Observed"
                                },
                                {
                                    "book_id": "5632446",
                                    "average_rating": "4.26",
                                    "original_title": "Columbine",
                                    "title": "Columbine"
                                },
                                {
                                    "book_id": "16130",
                                    "average_rating": "4.26",
                                    "original_title": "Alexander Hamilton",
                                    "title": "Alexander Hamilton"
                                },
                                {
                                    "book_id": "353814",
                                    "average_rating": "4.26",
                                    "original_title": "The Charm School",
                                    "title": "The Charm School"
                                },
                                {
                                    "book_id": "203220",
                                    "average_rating": "4.26",
                                    "original_title": "Les Fleurs du mal",
                                    "title": "Les Fleurs du Mal"
                                },
                                {
                                    "book_id": "19547856",
                                    "average_rating": "4.26",
                                    "original_title": "Simon vs. the Homo Sapiens Agenda",
                                    "title": "Simon vs. the Homo Sapiens Agenda"
                                },
                                {
                                    "book_id": "9943",
                                    "average_rating": "4.26",
                                    "original_title": "The Atonement Child",
                                    "title": "The Atonement Child"
                                },
                                {
                                    "book_id": "120231",
                                    "average_rating": "4.26",
                                    "original_title": "Barefoot Contessa Family Style: Easy Ideas and Recipes That Make Everyone Feel Like Family",
                                    "title": "Barefoot Contessa Family Style: Easy Ideas and Recipes That Make Everyone Feel Like Family"
                                },
                                {
                                    "book_id": "95607",
                                    "average_rating": "4.26",
                                    "original_title": "Unveiled: Tamar (Lineage of Grace #1)",
                                    "title": "Unveiled: Tamar (Lineage of Grace #1)"
                                },
                                {
                                    "book_id": "169331",
                                    "average_rating": "4.26",
                                    "original_title": "Addicted",
                                    "title": "Addicted"
                                },
                                {
                                    "book_id": "153779",
                                    "average_rating": "4.26",
                                    "original_title": "Bloodhound (Beka Cooper, #2)",
                                    "title": "Bloodhound (Beka Cooper, #2)"
                                },
                                {
                                    "book_id": "23731881",
                                    "average_rating": "4.26",
                                    "original_title": "Very Good Lives: The Fringe Benefits of Failure and the Importance of Imagination",
                                    "title": "Very Good Lives: The Fringe Benefits of Failure and the Importance of Imagination"
                                },
                                {
                                    "book_id": "19552",
                                    "average_rating": "4.26",
                                    "original_title": "Essentials of Classic Italian Cooking",
                                    "title": "Essentials of Classic Italian Cooking"
                                },
                                {
                                    "book_id": "15752115",
                                    "average_rating": "4.26",
                                    "original_title": "Batman, Volume 2: The City of Owls",
                                    "title": "Batman, Volume 2: The City of Owls"
                                },
                                {
                                    "book_id": "825377",
                                    "average_rating": "4.26",
                                    "original_title": "The Dot",
                                    "title": "The Dot"
                                },
                                {
                                    "book_id": "13547504",
                                    "average_rating": "4.26",
                                    "original_title": "Far from the Tree: Parents, Children, and the Search for Identity",
                                    "title": "Far from the Tree: Parents, Children, and the Search for Identity"
                                },
                                {
                                    "book_id": "14481",
                                    "average_rating": "4.25",
                                    "original_title": "Come Back, Amelia Bedelia",
                                    "title": "Come Back, Amelia Bedelia"
                                },
                                {
                                    "book_id": "42435",
                                    "average_rating": "4.25",
                                    "original_title": "In Harm's Way: The Sinking of the U.S.S. Indianapolis and the Extraordinary Story of Its Survivors",
                                    "title": "In Harm's Way: The Sinking of the U.S.S. Indianapolis and the Extraordinary Story of Its Survivors"
                                },
                                {
                                    "book_id": "1170158",
                                    "average_rating": "4.25",
                                    "original_title": "The Earthsea Trilogy",
                                    "title": "The Earthsea Trilogy"
                                },
                                {
                                    "book_id": "7268995",
                                    "average_rating": "4.25",
                                    "original_title": "A Sick Day for Amos McGee",
                                    "title": "A Sick Day for Amos McGee"
                                },
                                {
                                    "book_id": "609035",
                                    "average_rating": "4.25",
                                    "original_title": "Foxe's Book of Martyrs",
                                    "title": "Foxe's Book of Martyrs"
                                },
                                {
                                    "book_id": "133241",
                                    "average_rating": "4.25",
                                    "original_title": "Saving Grace",
                                    "title": "Saving Grace"
                                },
                                {
                                    "book_id": "31314",
                                    "average_rating": "4.25",
                                    "original_title": "Barnyard Dance",
                                    "title": "Barnyard Dance"
                                },
                                {
                                    "book_id": "3885",
                                    "average_rating": "4.25",
                                    "original_title": "The Taste of Home Cookbook",
                                    "title": "The Taste of Home Cookbook"
                                },
                                {
                                    "book_id": "394683",
                                    "average_rating": "4.25",
                                    "original_title": "A Bargain for Frances",
                                    "title": "A Bargain for Frances"
                                },
                                {
                                    "book_id": "671724",
                                    "average_rating": "4.25",
                                    "original_title": "The Death of Kings (Emperor, #2)",
                                    "title": "The Death of Kings (Emperor, #2)"
                                },
                                {
                                    "book_id": "31555",
                                    "average_rating": "4.25",
                                    "original_title": "Phantoms in the Brain: Probing the Mysteries of the Human Mind",
                                    "title": "Phantoms in the Brain: Probing the Mysteries of the Human Mind"
                                },
                                {
                                    "book_id": "635083",
                                    "average_rating": "4.25",
                                    "original_title": "Owen",
                                    "title": "Owen"
                                },
                                {
                                    "book_id": "363973",
                                    "average_rating": "4.25",
                                    "original_title": "The Little Old Lady Who Was Not Afraid of Anything",
                                    "title": "The Little Old Lady Who Was Not Afraid of Anything"
                                },
                                {
                                    "book_id": "867248",
                                    "average_rating": "4.25",
                                    "original_title": "Bear Snores On",
                                    "title": "Bear Snores On"
                                },
                                {
                                    "book_id": "803171",
                                    "average_rating": "4.25",
                                    "original_title": "Skippyjon Jones",
                                    "title": "Skippyjon Jones"
                                },
                                {
                                    "book_id": "133486",
                                    "average_rating": "4.25",
                                    "original_title": "Nicholas and Alexandra",
                                    "title": "Nicholas and Alexandra"
                                },
                                {
                                    "book_id": "225545",
                                    "average_rating": "4.25",
                                    "original_title": "A Color of His Own",
                                    "title": "A Color of His Own"
                                },
                                {
                                    "book_id": "11254850",
                                    "average_rating": "4.25",
                                    "original_title": "Seeds of Rebellion (Beyonders, #2)",
                                    "title": "Seeds of Rebellion (Beyonders, #2)"
                                },
                                {
                                    "book_id": "8967",
                                    "average_rating": "4.25",
                                    "original_title": "Trials of Death (Cirque du Freak, #5) ",
                                    "title": "Trials of Death (Cirque Du Freak, #5)"
                                },
                                {
                                    "book_id": "7954556",
                                    "average_rating": "4.25",
                                    "original_title": "One Grave at a Time (Night Huntress, #6)",
                                    "title": "One Grave at a Time (Night Huntress, #6)"
                                },
                                {
                                    "book_id": "7438179",
                                    "average_rating": "4.25",
                                    "original_title": "The Evolutionary Void",
                                    "title": "The Evolutionary Void"
                                },
                                {
                                    "book_id": "1422926",
                                    "average_rating": "4.25",
                                    "original_title": "Frosty the Snow Man",
                                    "title": "Frosty the Snow Man"
                                },
                                {
                                    "book_id": "8564644",
                                    "average_rating": "4.25",
                                    "original_title": "Little Princes: One Man's Promise to Bring Home the Lost Children of Nepal",
                                    "title": "Little Princes: One Man's Promise to Bring Home the Lost Children of Nepal"
                                },
                                {
                                    "book_id": "196951",
                                    "average_rating": "4.25",
                                    "original_title": "The Hat",
                                    "title": "The Hat"
                                },
                                {
                                    "book_id": "12299419",
                                    "average_rating": "4.25",
                                    "original_title": "Mystery Man (Dream Man, #1)",
                                    "title": "Mystery Man (Dream Man, #1)"
                                },
                                {
                                    "book_id": "1127996",
                                    "average_rating": "4.25",
                                    "original_title": "Betty Crocker's Cookbook",
                                    "title": "Betty Crocker's Cookbook"
                                },
                                {
                                    "book_id": "40929",
                                    "average_rating": "4.25",
                                    "original_title": "The Rise of Theodore Roosevelt ",
                                    "title": "The Rise of Theodore Roosevelt"
                                },
                                {
                                    "book_id": "53022",
                                    "average_rating": "4.25",
                                    "original_title": "The Collected Poems of W.B. Yeats",
                                    "title": "The Collected Poems of W.B. Yeats"
                                },
                                {
                                    "book_id": "5508",
                                    "average_rating": "4.25",
                                    "original_title": "Anne Frank: Beyond the Diary - A Photographic Remembrance",
                                    "title": "Anne Frank: Beyond the Diary - A Photographic Remembrance"
                                },
                                {
                                    "book_id": "160149",
                                    "average_rating": "4.25",
                                    "original_title": "The Call of Cthulhu and Other Weird Stories",
                                    "title": "The Call of Cthulhu and Other Weird Stories"
                                },
                                {
                                    "book_id": "6709",
                                    "average_rating": "4.25",
                                    "original_title": "Practicing the Power of Now: Essential Teachings, Meditations, and Exercises from The Power of Now",
                                    "title": "Practicing the Power of Now: Essential Teachings, Meditations, and Exercises from the Power of Now"
                                },
                                {
                                    "book_id": "2657",
                                    "average_rating": "4.25",
                                    "original_title": "To Kill a Mockingbird",
                                    "title": "To Kill a Mockingbird"
                                },
                                {
                                    "book_id": "21787",
                                    "average_rating": "4.25",
                                    "original_title": "The Princess Bride",
                                    "title": "The Princess Bride "
                                },
                                {
                                    "book_id": "12067",
                                    "average_rating": "4.25",
                                    "original_title": "Good Omens: The Nice and Accurate Prophecies of Agnes Nutter, Witch",
                                    "title": "Good Omens: The Nice and Accurate Prophecies of Agnes Nutter, Witch"
                                },
                                {
                                    "book_id": "2318271",
                                    "average_rating": "4.25",
                                    "original_title": "The Last Lecture",
                                    "title": "The Last Lecture"
                                },
                                {
                                    "book_id": "5805",
                                    "average_rating": "4.25",
                                    "original_title": "V for Vendetta",
                                    "title": "V for Vendetta"
                                },
                                {
                                    "book_id": "540020",
                                    "average_rating": "4.25",
                                    "original_title": "The Day of the Jackal",
                                    "title": "The Day of the Jackal"
                                },
                                {
                                    "book_id": "816",
                                    "average_rating": "4.25",
                                    "original_title": "Cryptonomicon",
                                    "title": "Cryptonomicon"
                                },
                                {
                                    "book_id": "13810",
                                    "average_rating": "4.25",
                                    "original_title": "Magician: Master (The Riftwar Saga, #2)",
                                    "title": "Magician: Master (The Riftwar Saga, #2)"
                                },
                                {
                                    "book_id": "41918",
                                    "average_rating": "4.25",
                                    "original_title": "There Are No Children Here: The Story of Two Boys Growing Up in the Other America",
                                    "title": "There are No Children Here: The Story of Two Boys Growing Up in the Other America"
                                },
                                {
                                    "book_id": "19049",
                                    "average_rating": "4.25",
                                    "original_title": "What the Bleep Do We Know!?: Discovering the Endless Possibilities for Altering Your Everyday Reality",
                                    "title": "What the Bleep Do We Know!?: Discovering the Endless Possibilities for Altering Your Everyday Reality"
                                },
                                {
                                    "book_id": "141935",
                                    "average_rating": "4.25",
                                    "original_title": "Curious George Visits the Library",
                                    "title": "Curious George Visits the Library"
                                },
                                {
                                    "book_id": "109515",
                                    "average_rating": "4.25",
                                    "original_title": "How I Raised Myself from Failure to Success in Selling",
                                    "title": "How I Raised Myself from Failure to Success in Selling"
                                },
                                {
                                    "book_id": "6452731",
                                    "average_rating": "4.25",
                                    "original_title": "Justice: What's the Right Thing to Do?",
                                    "title": "Justice: What's the Right Thing to Do?"
                                },
                                {
                                    "book_id": "487666",
                                    "average_rating": "4.24",
                                    "original_title": "Beyond Band of Brothers: The War Memoirs of Major Dick Winters",
                                    "title": "Beyond Band of Brothers: The War Memoirs of Major Dick Winters"
                                },
                                {
                                    "book_id": "23196",
                                    "average_rating": "4.24",
                                    "original_title": "The River Why",
                                    "title": "The River Why"
                                },
                                {
                                    "book_id": "4339",
                                    "average_rating": "4.24",
                                    "original_title": "Dispatches",
                                    "title": "Dispatches"
                                },
                                {
                                    "book_id": "833550",
                                    "average_rating": "4.24",
                                    "original_title": "Each Peach Pear Plum",
                                    "title": "Each Peach Pear Plum"
                                },
                                {
                                    "book_id": "2505836",
                                    "average_rating": "4.24",
                                    "original_title": "Money, and the Law of Attraction: Learning to Attract Wealth, Health, and Happiness",
                                    "title": "Money, and the Law of Attraction: Learning to Attract Wealth, Health, and Happiness"
                                },
                                {
                                    "book_id": "474858",
                                    "average_rating": "4.24",
                                    "original_title": "A Bad Case of Stripes",
                                    "title": "A Bad Case of Stripes"
                                },
                                {
                                    "book_id": "29801",
                                    "average_rating": "4.24",
                                    "original_title": "Scott Pilgrim, Volume 2: Scott Pilgrim vs. The World",
                                    "title": "Scott Pilgrim, Volume 2: Scott Pilgrim vs. The World"
                                },
                                {
                                    "book_id": "8682",
                                    "average_rating": "4.24",
                                    "original_title": "Jitterbug Perfume",
                                    "title": "Jitterbug Perfume"
                                },
                                {
                                    "book_id": "1301",
                                    "average_rating": "4.24",
                                    "original_title": "Moneyball: The Art of Winning an Unfair Game",
                                    "title": "Moneyball: The Art of Winning an Unfair Game"
                                },
                                {
                                    "book_id": "11594337",
                                    "average_rating": "4.24",
                                    "original_title": "The One and Only Ivan",
                                    "title": "The One and Only Ivan"
                                },
                                {
                                    "book_id": "98573",
                                    "average_rating": "4.24",
                                    "original_title": "Harold and the Purple Crayon",
                                    "title": "Harold and the Purple Crayon"
                                },
                                {
                                    "book_id": "767680",
                                    "average_rating": "4.24",
                                    "original_title": "If You Give a Mouse a Cookie",
                                    "title": "If You Give a Mouse a Cookie"
                                },
                                {
                                    "book_id": "14891",
                                    "average_rating": "4.24",
                                    "original_title": "A Tree Grows In Brooklyn ",
                                    "title": "A Tree Grows in Brooklyn"
                                },
                                {
                                    "book_id": "7445",
                                    "average_rating": "4.24",
                                    "original_title": "The Glass Castle",
                                    "title": "The Glass Castle"
                                },
                                {
                                    "book_id": "1885",
                                    "average_rating": "4.24",
                                    "original_title": "Pride and Prejudice",
                                    "title": "Pride and Prejudice"
                                },
                                {
                                    "book_id": "16992",
                                    "average_rating": "4.24",
                                    "original_title": "Kingdom Come",
                                    "title": "Kingdom Come"
                                },
                                {
                                    "book_id": "45252",
                                    "average_rating": "4.24",
                                    "original_title": "Pandora's Star",
                                    "title": "Pandora's Star"
                                },
                                {
                                    "book_id": "18077903",
                                    "average_rating": "4.24",
                                    "original_title": "Creativity, Inc.: Overcoming the Unseen Forces That Stand in the Way of True Inspiration",
                                    "title": "Creativity, Inc.: Overcoming the Unseen Forces That Stand in the Way of True Inspiration"
                                },
                                {
                                    "book_id": "7039218",
                                    "average_rating": "4.24",
                                    "original_title": "Once Burned (Night Prince, #1)",
                                    "title": "Once Burned (Night Prince, #1)"
                                },
                                {
                                    "book_id": "3437328",
                                    "average_rating": "4.24",
                                    "original_title": "The Temporal Void",
                                    "title": "The Temporal Void"
                                },
                                {
                                    "book_id": "760168",
                                    "average_rating": "4.24",
                                    "original_title": "Just Me in the Tub (Mercer Mayer's Little Critter)",
                                    "title": "Just Me in the Tub (Mercer Mayer's Little Critter)"
                                },
                                {
                                    "book_id": "25883848",
                                    "average_rating": "4.24",
                                    "original_title": "The Hating Game",
                                    "title": "The Hating Game"
                                },
                                {
                                    "book_id": "8044557",
                                    "average_rating": "4.24",
                                    "original_title": "All My Friends Are Dead",
                                    "title": "All My Friends Are Dead"
                                },
                                {
                                    "book_id": "529626",
                                    "average_rating": "4.24",
                                    "original_title": "Sometimes a Great Notion",
                                    "title": "Sometimes a Great Notion"
                                },
                                {
                                    "book_id": "1409344",
                                    "average_rating": "4.24",
                                    "original_title": "Driving Miss Daisy",
                                    "title": "Driving Miss Daisy"
                                },
                                {
                                    "book_id": "5983694",
                                    "average_rating": "4.24",
                                    "original_title": "Where the Mountain Meets the Moon",
                                    "title": "Where the Mountain Meets the Moon"
                                },
                                {
                                    "book_id": "773606",
                                    "average_rating": "4.24",
                                    "original_title": "Madeline's Rescue",
                                    "title": "Madeline's Rescue"
                                },
                                {
                                    "book_id": "588138",
                                    "average_rating": "4.24",
                                    "original_title": "The Hero with a Thousand Faces",
                                    "title": "The Hero With a Thousand Faces"
                                },
                                {
                                    "book_id": "18999",
                                    "average_rating": "4.24",
                                    "original_title": "Smiley's People",
                                    "title": "Smiley's People"
                                },
                                {
                                    "book_id": "318742",
                                    "average_rating": "4.24",
                                    "original_title": "The Souls of Black Folk",
                                    "title": "The Souls of Black Folk"
                                },
                                {
                                    "book_id": "13634927",
                                    "average_rating": "4.24",
                                    "original_title": "A Leaf on the Wind of All Hallows (Outlander, #8.5)",
                                    "title": "A Leaf on the Wind of All Hallows (Outlander, #8.5)"
                                },
                                {
                                    "book_id": "17661831",
                                    "average_rating": "4.24",
                                    "original_title": "The Orenda",
                                    "title": "The Orenda"
                                },
                                {
                                    "book_id": "676",
                                    "average_rating": "4.24",
                                    "original_title": "Sailing Alone Around the Room: New and Selected Poems",
                                    "title": "Sailing Alone Around the Room: New and Selected Poems"
                                },
                                {
                                    "book_id": "25813937",
                                    "average_rating": "4.24",
                                    "original_title": "Glory over Everything: Beyond The Kitchen House",
                                    "title": "Glory over Everything: Beyond The Kitchen House"
                                },
                                {
                                    "book_id": "291364",
                                    "average_rating": "4.24",
                                    "original_title": "Curious George Rides a Bike",
                                    "title": "Curious George Rides a Bike"
                                },
                                {
                                    "book_id": "82888",
                                    "average_rating": "4.24",
                                    "original_title": "Dom Casmurro",
                                    "title": "Dom Casmurro"
                                },
                                {
                                    "book_id": "389763",
                                    "average_rating": "4.24",
                                    "original_title": "Change Your Thoughts - Change Your Life: Living the Wisdom of the Tao",
                                    "title": "Change Your Thoughts - Change Your Life: Living the Wisdom of the Tao"
                                },
                                {
                                    "book_id": "539904",
                                    "average_rating": "4.24",
                                    "original_title": "A Bridge Too Far",
                                    "title": "A Bridge Too Far"
                                },
                                {
                                    "book_id": "819667",
                                    "average_rating": "4.23",
                                    "original_title": "Snowmen at Night",
                                    "title": "Snowmen at Night"
                                },
                                {
                                    "book_id": "87264",
                                    "average_rating": "4.23",
                                    "original_title": "Memórias Póstumas de Brás Cubas",
                                    "title": "Memórias Póstumas de Brás Cubas"
                                },
                                {
                                    "book_id": "13531024",
                                    "average_rating": "4.23",
                                    "original_title": "This is Not My Hat",
                                    "title": "This is Not My Hat"
                                },
                                {
                                    "book_id": "255458",
                                    "average_rating": "4.23",
                                    "original_title": "Systematic Theology: An Introduction to Biblical Doctrine",
                                    "title": "Systematic Theology: An Introduction to Biblical Doctrine"
                                },
                                {
                                    "book_id": "5552",
                                    "average_rating": "4.23",
                                    "original_title": "QED: The Strange Theory of Light and Matter",
                                    "title": "QED: The Strange Theory of Light and Matter"
                                },
                                {
                                    "book_id": "73385",
                                    "average_rating": "4.23",
                                    "original_title": "A Knight in Shining Armor",
                                    "title": "A Knight in Shining Armor"
                                },
                                {
                                    "book_id": "2815949",
                                    "average_rating": "4.23",
                                    "original_title": "Barefoot Contessa Back to Basics",
                                    "title": "Barefoot Contessa Back to Basics"
                                },
                                {
                                    "book_id": "8968",
                                    "average_rating": "4.23",
                                    "original_title": "The Vampire Prince (Cirque Du Freak, #6)",
                                    "title": "The Vampire Prince (Cirque Du Freak, #6)"
                                },
                                {
                                    "book_id": "87665",
                                    "average_rating": "4.23",
                                    "original_title": "Orthodoxy",
                                    "title": "Orthodoxy"
                                },
                                {
                                    "book_id": "95693",
                                    "average_rating": "4.23",
                                    "original_title": "The Blue Castle",
                                    "title": "The Blue Castle "
                                },
                                {
                                    "book_id": "368772",
                                    "average_rating": "4.23",
                                    "original_title": "The Caine Mutiny",
                                    "title": "The Caine Mutiny"
                                },
                                {
                                    "book_id": "246468",
                                    "average_rating": "4.23",
                                    "original_title": "The Jordan Rules",
                                    "title": "The Jordan Rules"
                                },
                                {
                                    "book_id": "53343",
                                    "average_rating": "4.23",
                                    "original_title": "On Writing Well: The Classic Guide to Writing Nonfiction",
                                    "title": "On Writing Well: The Classic Guide to Writing Nonfiction"
                                },
                                {
                                    "book_id": "25078",
                                    "average_rating": "4.23",
                                    "original_title": "Savage Inequalities: Children in America's Schools",
                                    "title": "Savage Inequalities: Children in America's Schools"
                                },
                                {
                                    "book_id": "173526",
                                    "average_rating": "4.23",
                                    "original_title": "The Ragamuffin Gospel: Good News for the Bedraggled, Beat-Up, and Burnt Out",
                                    "title": "The Ragamuffin Gospel: Good News for the Bedraggled, Beat-Up, and Burnt Out"
                                },
                                {
                                    "book_id": "4477",
                                    "average_rating": "4.23",
                                    "original_title": "Complications: A Surgeon's Notes on an Imperfect Science",
                                    "title": "Complications: A Surgeon's Notes on an Imperfect Science"
                                },
                                {
                                    "book_id": "586472",
                                    "average_rating": "4.23",
                                    "original_title": "The Right Stuff",
                                    "title": "The Right Stuff"
                                },
                                {
                                    "book_id": "395090",
                                    "average_rating": "4.23",
                                    "original_title": "Ariel",
                                    "title": "Ariel"
                                },
                                {
                                    "book_id": "808853",
                                    "average_rating": "4.23",
                                    "original_title": "The Complete Adventures of Curious George",
                                    "title": "The Complete Adventures of Curious George"
                                },
                                {
                                    "book_id": "6882",
                                    "average_rating": "4.23",
                                    "original_title": "Papillon ",
                                    "title": "Papillon"
                                },
                                {
                                    "book_id": "7501962",
                                    "average_rating": "4.23",
                                    "original_title": "Bonhoeffer: Pastor, Martyr, Prophet, Spy",
                                    "title": "Bonhoeffer: Pastor, Martyr, Prophet, Spy"
                                },
                                {
                                    "book_id": "400412",
                                    "average_rating": "4.23",
                                    "original_title": "The Waste Land and Other Poems",
                                    "title": "The Waste Land and Other Poems"
                                },
                                {
                                    "book_id": "3609760",
                                    "average_rating": "4.23",
                                    "original_title": "Twilight: The Complete Illustrated Movie Companion",
                                    "title": "Twilight: The Complete Illustrated Movie Companion"
                                },
                                {
                                    "book_id": "567795",
                                    "average_rating": "4.23",
                                    "original_title": "The Five Love Languages: How to Express Heartfelt Commitment to Your Mate",
                                    "title": "The Five Love Languages: How to Express Heartfelt Commitment to Your Mate"
                                },
                                {
                                    "book_id": "18079776",
                                    "average_rating": "4.23",
                                    "original_title": "The Invention of Wings",
                                    "title": "The Invention of Wings"
                                },
                                {
                                    "book_id": "59980",
                                    "average_rating": "4.23",
                                    "original_title": "Batman: Year One",
                                    "title": "Batman: Year One"
                                },
                                {
                                    "book_id": "9673436",
                                    "average_rating": "4.23",
                                    "original_title": "The Invention of Hugo Cabret",
                                    "title": "The Invention of Hugo Cabret"
                                },
                                {
                                    "book_id": "1848",
                                    "average_rating": "4.23",
                                    "original_title": "Wild Swans: Three Daughters of China",
                                    "title": "Wild Swans: Three Daughters of China"
                                },
                                {
                                    "book_id": "766955",
                                    "average_rating": "4.23",
                                    "original_title": "Click, Clack, Moo: Cows That Type",
                                    "title": "Click, Clack, Moo: Cows That Type"
                                },
                                {
                                    "book_id": "826585",
                                    "average_rating": "4.23",
                                    "original_title": "If You Give a Pig a Pancake ",
                                    "title": "If You Give a Pig a Pancake "
                                },
                                {
                                    "book_id": "1099097",
                                    "average_rating": "4.23",
                                    "original_title": "The Tiger Who Came to Tea",
                                    "title": "The Tiger Who Came to Tea"
                                },
                                {
                                    "book_id": "241387",
                                    "average_rating": "4.23",
                                    "original_title": "When Crickets Cry",
                                    "title": "When Crickets Cry"
                                },
                                {
                                    "book_id": "385255",
                                    "average_rating": "4.23",
                                    "original_title": "Random Family: Love, Drugs, Trouble, and Coming of Age in the Bronx",
                                    "title": "Random Family: Love, Drugs, Trouble, and Coming of Age in the Bronx"
                                },
                                {
                                    "book_id": "9018370",
                                    "average_rating": "4.23",
                                    "original_title": "The Walking Dead, Vol. 13: Too Far Gone",
                                    "title": "The Walking Dead, Vol. 13: Too Far Gone"
                                },
                                {
                                    "book_id": "52318",
                                    "average_rating": "4.22",
                                    "original_title": "Wild Seed (Patternmaster, #1)",
                                    "title": "Wild Seed (Patternmaster, #1)"
                                },
                                {
                                    "book_id": "26599",
                                    "average_rating": "4.22",
                                    "original_title": "Selected Poems",
                                    "title": "Selected Poems"
                                },
                                {
                                    "book_id": "209631",
                                    "average_rating": "4.22",
                                    "original_title": "Cinderella",
                                    "title": "Cinderella"
                                },
                                {
                                    "book_id": "21086818",
                                    "average_rating": "4.22",
                                    "original_title": "Do No Harm: Stories of Life, Death and Brain Surgery",
                                    "title": "Do No Harm: Stories of Life, Death and Brain Surgery"
                                },
                                {
                                    "book_id": "33288638",
                                    "average_rating": "4.22",
                                    "original_title": "Wait for It",
                                    "title": "Wait for It"
                                },
                                {
                                    "book_id": "12543",
                                    "average_rating": "4.22",
                                    "original_title": "Bird by Bird: Some Instructions on Writing and Life",
                                    "title": "Bird by Bird: Some Instructions on Writing and Life"
                                },
                                {
                                    "book_id": "581409",
                                    "average_rating": "4.22",
                                    "original_title": "Strega Nona",
                                    "title": "Strega Nona"
                                },
                                {
                                    "book_id": "786256",
                                    "average_rating": "4.22",
                                    "original_title": "Stellaluna",
                                    "title": "Stellaluna"
                                },
                                {
                                    "book_id": "378",
                                    "average_rating": "4.22",
                                    "original_title": "The Phantom Tollbooth",
                                    "title": "The Phantom Tollbooth"
                                },
                                {
                                    "book_id": "16735",
                                    "average_rating": "4.22",
                                    "original_title": "The Prince of Tides",
                                    "title": "The Prince of Tides"
                                },
                                {
                                    "book_id": "2547",
                                    "average_rating": "4.22",
                                    "original_title": "The Prophet",
                                    "title": "The Prophet"
                                },
                                {
                                    "book_id": "6319",
                                    "average_rating": "4.22",
                                    "original_title": "The BFG",
                                    "title": "The BFG"
                                },
                                {
                                    "book_id": "46677",
                                    "average_rating": "4.22",
                                    "original_title": "Alexander and the Terrible, Horrible, No Good, Very Bad Day",
                                    "title": "Alexander and the Terrible, Horrible, No Good, Very Bad Day"
                                },
                                {
                                    "book_id": "3412",
                                    "average_rating": "4.22",
                                    "original_title": "The Thorn Birds",
                                    "title": "The Thorn Birds"
                                },
                                {
                                    "book_id": "4473",
                                    "average_rating": "4.22",
                                    "original_title": "A Prayer for Owen Meany",
                                    "title": "A Prayer for Owen Meany"
                                },
                                {
                                    "book_id": "19543",
                                    "average_rating": "4.22",
                                    "original_title": "Where the Wild Things Are",
                                    "title": "Where the Wild Things Are"
                                },
                                {
                                    "book_id": "201146",
                                    "average_rating": "4.22",
                                    "original_title": "Little Bear",
                                    "title": "Little Bear"
                                },
                                {
                                    "book_id": "639864",
                                    "average_rating": "4.22",
                                    "original_title": "Autobiography of a Yogi",
                                    "title": "Autobiography of a Yogi"
                                },
                                {
                                    "book_id": "214614",
                                    "average_rating": "4.22",
                                    "original_title": "Desert Solitaire",
                                    "title": "Desert Solitaire"
                                },
                                {
                                    "book_id": "899492",
                                    "average_rating": "4.22",
                                    "original_title": "The Tell-Tale Heart",
                                    "title": "The Tell-Tale Heart"
                                },
                                {
                                    "book_id": "899962",
                                    "average_rating": "4.22",
                                    "original_title": "Curious George Goes to the Hospital",
                                    "title": "Curious George Goes to the Hospital"
                                },
                                {
                                    "book_id": "1237300",
                                    "average_rating": "4.22",
                                    "original_title": "The Shock Doctrine: The Rise of Disaster Capitalism",
                                    "title": "The Shock Doctrine: The Rise of Disaster Capitalism"
                                },
                                {
                                    "book_id": "65497",
                                    "average_rating": "4.22",
                                    "original_title": "Love Comes Softly (Love Comes Softly, #1)",
                                    "title": "Love Comes Softly (Love Comes Softly, #1)"
                                },
                                {
                                    "book_id": "857501",
                                    "average_rating": "4.22",
                                    "original_title": "Hand, Hand, Fingers, Thumb",
                                    "title": "Hand, Hand, Fingers, Thumb"
                                },
                                {
                                    "book_id": "93797",
                                    "average_rating": "4.22",
                                    "original_title": "The Unlikely Spy",
                                    "title": "The Unlikely Spy"
                                },
                                {
                                    "book_id": "669570",
                                    "average_rating": "4.22",
                                    "original_title": "Dragon Slippers (Dragon Slippers, #1)",
                                    "title": "Dragon Slippers (Dragon Slippers, #1)"
                                },
                                {
                                    "book_id": "8949",
                                    "average_rating": "4.22",
                                    "original_title": "Lord of the Shadows (Cirque Du Freak, #11)",
                                    "title": "Lord of the Shadows (Cirque Du Freak, #11)"
                                },
                                {
                                    "book_id": "7519640",
                                    "average_rating": "4.22",
                                    "original_title": "WAR",
                                    "title": "War"
                                },
                                {
                                    "book_id": "120840",
                                    "average_rating": "4.22",
                                    "original_title": "David Gets in Trouble",
                                    "title": "David Gets In Trouble"
                                },
                                {
                                    "book_id": "107774",
                                    "average_rating": "4.22",
                                    "original_title": "Honor's Splendour",
                                    "title": "Honor's Splendour"
                                },
                                {
                                    "book_id": "171020",
                                    "average_rating": "4.22",
                                    "original_title": "A Mango-Shaped Space",
                                    "title": "A Mango-Shaped Space"
                                },
                                {
                                    "book_id": "107772",
                                    "average_rating": "4.22",
                                    "original_title": "The Prize",
                                    "title": "The Prize"
                                },
                                {
                                    "book_id": "8952",
                                    "average_rating": "4.22",
                                    "original_title": "Killers of the Dawn (Cirque Du Freak, #9)",
                                    "title": "Killers of the Dawn (Cirque Du Freak, #9)"
                                },
                                {
                                    "book_id": "53580",
                                    "average_rating": "4.22",
                                    "original_title": "The Going-To-Bed Book",
                                    "title": "The Going-To-Bed Book"
                                },
                                {
                                    "book_id": "1166131",
                                    "average_rating": "4.22",
                                    "original_title": "The Recruit (Cherub, #1)",
                                    "title": "The Recruit (Cherub, #1)"
                                },
                                {
                                    "book_id": "38412",
                                    "average_rating": "4.22",
                                    "original_title": "Fermat's Enigma: The Epic Quest to Solve the World's Greatest Mathematical Problem",
                                    "title": "Fermat's Enigma: The Epic Quest to Solve the World's Greatest Mathematical Problem"
                                },
                                {
                                    "book_id": "206731",
                                    "average_rating": "4.22",
                                    "original_title": "The Tibetan Book of Living and Dying",
                                    "title": "The Tibetan Book of Living and Dying"
                                },
                                {
                                    "book_id": "18263725",
                                    "average_rating": "4.22",
                                    "original_title": "The Crossover",
                                    "title": "The Crossover"
                                },
                                {
                                    "book_id": "921651",
                                    "average_rating": "4.22",
                                    "original_title": "Just Go to Bed",
                                    "title": "Just Go to Bed"
                                },
                                {
                                    "book_id": "781182",
                                    "average_rating": "4.22",
                                    "original_title": "Barbarians at the Gate: The Fall of RJR Nabisco",
                                    "title": "Barbarians at the Gate: The Fall of RJR Nabisco"
                                },
                                {
                                    "book_id": "43081",
                                    "average_rating": "4.22",
                                    "original_title": "Marching Powder: A True Story of Friendship, Cocaine, and South America's Strangest Jail",
                                    "title": "Marching Powder: A True Story of Friendship, Cocaine, and South America's Strangest Jail"
                                },
                                {
                                    "book_id": "858514",
                                    "average_rating": "4.22",
                                    "original_title": "Wemberly Worried",
                                    "title": "Wemberly Worried"
                                },
                                {
                                    "book_id": "7006562",
                                    "average_rating": "4.22",
                                    "original_title": "Stephen King's N.",
                                    "title": "Stephen King's N."
                                },
                                {
                                    "book_id": "21025",
                                    "average_rating": "4.22",
                                    "original_title": "The Gift of Therapy: An Open Letter to a New Generation of Therapists and Their Patients",
                                    "title": "The Gift of Therapy: An Open Letter to a New Generation of Therapists and Their Patients"
                                },
                                {
                                    "book_id": "173572",
                                    "average_rating": "4.22",
                                    "original_title": "Where Is God When It Hurts?",
                                    "title": "Where Is God When It Hurts?"
                                },
                                {
                                    "book_id": "17443673",
                                    "average_rating": "4.22",
                                    "original_title": "A Different Blue",
                                    "title": "A Different Blue"
                                },
                                {
                                    "book_id": "29104680",
                                    "average_rating": "4.22",
                                    "original_title": "Punk 57",
                                    "title": "Punk 57"
                                },
                                {
                                    "book_id": "12617",
                                    "average_rating": "4.22",
                                    "original_title": "Manufacturing Consent: The Political Economy of the Mass Media",
                                    "title": "Manufacturing Consent: The Political Economy of the Mass Media"
                                },
                                {
                                    "book_id": "28747",
                                    "average_rating": "4.22",
                                    "original_title": "CivilWarLand in Bad Decline",
                                    "title": "CivilWarLand in Bad Decline"
                                },
                                {
                                    "book_id": "25817162",
                                    "average_rating": "4.22",
                                    "original_title": "America's First Daughter",
                                    "title": "America's First Daughter"
                                },
                                {
                                    "book_id": "11699349",
                                    "average_rating": "4.22",
                                    "original_title": "The Lions of Little Rock",
                                    "title": "The Lions of Little Rock"
                                },
                                {
                                    "book_id": "17798233",
                                    "average_rating": "4.22",
                                    "original_title": "Rome (Marked Men, #3)",
                                    "title": "Rome (Marked Men, #3)"
                                },
                                {
                                    "book_id": "138872",
                                    "average_rating": "4.21",
                                    "original_title": "Follow the River",
                                    "title": "Follow the River"
                                },
                                {
                                    "book_id": "894072",
                                    "average_rating": "4.21",
                                    "original_title": "The Little Red Caboose (Little Golden Book)",
                                    "title": "The Little Red Caboose (Little Golden Book)"
                                },
                                {
                                    "book_id": "899608",
                                    "average_rating": "4.21",
                                    "original_title": "A Fish Out of Water",
                                    "title": "A Fish Out of Water"
                                },
                                {
                                    "book_id": "394772",
                                    "average_rating": "4.21",
                                    "original_title": "The Mixed-Up Chameleon",
                                    "title": "The Mixed-Up Chameleon"
                                },
                                {
                                    "book_id": "2678349",
                                    "average_rating": "4.21",
                                    "original_title": "استمتع بحياتك",
                                    "title": "استمتع بحياتك"
                                },
                                {
                                    "book_id": "159061",
                                    "average_rating": "4.21",
                                    "original_title": "Go Away, Big Green Monster!",
                                    "title": "Go Away, Big Green Monster!"
                                },
                                {
                                    "book_id": "1022866",
                                    "average_rating": "4.21",
                                    "original_title": "Run Baby Run",
                                    "title": "Run Baby Run"
                                },
                                {
                                    "book_id": "122211",
                                    "average_rating": "4.21",
                                    "original_title": "Disappearing Acts",
                                    "title": "Disappearing Acts"
                                },
                                {
                                    "book_id": "9542259",
                                    "average_rating": "4.21",
                                    "original_title": "Envy (Fallen Angels, #3)",
                                    "title": "Envy (Fallen Angels, #3)"
                                },
                                {
                                    "book_id": "952",
                                    "average_rating": "4.21",
                                    "original_title": "The Five Love Languages of Children",
                                    "title": "The Five Love Languages of Children"
                                },
                                {
                                    "book_id": "18422",
                                    "average_rating": "4.21",
                                    "original_title": "Gifted Hands: The Ben Carson Story",
                                    "title": "Gifted Hands: The Ben Carson Story"
                                },
                                {
                                    "book_id": "8676",
                                    "average_rating": "4.21",
                                    "original_title": "Unlimited Power : The New Science Of Personal Achievement",
                                    "title": "Unlimited Power : The New Science Of Personal Achievement"
                                },
                                {
                                    "book_id": "73086",
                                    "average_rating": "4.21",
                                    "original_title": "Kiss an Angel ",
                                    "title": "Kiss an Angel"
                                },
                                {
                                    "book_id": "101249",
                                    "average_rating": "4.21",
                                    "original_title": "I'm Just Here for the Food: Food + Heat = Cooking",
                                    "title": "I'm Just Here for the Food: Food + Heat = Cooking"
                                },
                                {
                                    "book_id": "2897258",
                                    "average_rating": "4.21",
                                    "original_title": "The Heretic Queen",
                                    "title": "The Heretic Queen"
                                },
                                {
                                    "book_id": "16982",
                                    "average_rating": "4.21",
                                    "original_title": "Marvels",
                                    "title": "Marvels"
                                },
                                {
                                    "book_id": "3895",
                                    "average_rating": "4.21",
                                    "original_title": "The Barefoot Contessa Cookbook",
                                    "title": "The Barefoot Contessa Cookbook"
                                },
                                {
                                    "book_id": "598159",
                                    "average_rating": "4.21",
                                    "original_title": "Panda Bear, Panda Bear, What Do You See?",
                                    "title": "Panda Bear, Panda Bear, What Do You See?"
                                },
                                {
                                    "book_id": "24094",
                                    "average_rating": "4.21",
                                    "original_title": "Wolf-Speaker (Immortals, #2)",
                                    "title": "Wolf-Speaker (Immortals, #2)"
                                },
                                {
                                    "book_id": "15793184",
                                    "average_rating": "4.21",
                                    "original_title": "Calling Me Home",
                                    "title": "Calling Me Home"
                                },
                                {
                                    "book_id": "22327",
                                    "average_rating": "4.21",
                                    "original_title": "The Miracle Worker",
                                    "title": "The Miracle Worker"
                                },
                                {
                                    "book_id": "509784",
                                    "average_rating": "4.21",
                                    "original_title": "The End of Eternity",
                                    "title": "The End of Eternity"
                                },
                                {
                                    "book_id": "38462",
                                    "average_rating": "4.21",
                                    "original_title": "Giovanni's Room",
                                    "title": "Giovanni's Room"
                                },
                                {
                                    "book_id": "133430",
                                    "average_rating": "4.21",
                                    "original_title": "Centennial",
                                    "title": "Centennial"
                                },
                                {
                                    "book_id": "53817",
                                    "average_rating": "4.21",
                                    "original_title": "What's So Amazing About Grace?",
                                    "title": "What's So Amazing About Grace?"
                                },
                                {
                                    "book_id": "67238",
                                    "average_rating": "4.21",
                                    "original_title": "Dead Poets Society ",
                                    "title": "Dead Poets Society"
                                },
                                {
                                    "book_id": "76401",
                                    "average_rating": "4.21",
                                    "original_title": "Bury My Heart at Wounded Knee: An Indian History of the American West",
                                    "title": "Bury My Heart at Wounded Knee: An Indian History of the American West"
                                },
                                {
                                    "book_id": "11607446",
                                    "average_rating": "4.21",
                                    "original_title": "The Wishing Spell (The Land of Stories, #1)",
                                    "title": "The Wishing Spell (The Land of Stories, #1)"
                                },
                                {
                                    "book_id": "551876",
                                    "average_rating": "4.21",
                                    "original_title": "Tikki Tikki Tembo",
                                    "title": "Tikki Tikki Tembo"
                                },
                                {
                                    "book_id": "22628",
                                    "average_rating": "4.21",
                                    "original_title": "The Perks of Being a Wallflower",
                                    "title": "The Perks of Being a Wallflower"
                                },
                                {
                                    "book_id": "112204",
                                    "average_rating": "4.21",
                                    "original_title": "The Complete Poems of Emily Dickinson",
                                    "title": "The Complete Poems of Emily Dickinson"
                                },
                                {
                                    "book_id": "29291",
                                    "average_rating": "4.21",
                                    "original_title": "Make Way for Ducklings",
                                    "title": "Make Way for Ducklings"
                                },
                                {
                                    "book_id": "293595",
                                    "average_rating": "4.21",
                                    "original_title": "Chicka Chicka Boom Boom",
                                    "title": "Chicka Chicka Boom Boom"
                                },
                                {
                                    "book_id": "9592",
                                    "average_rating": "4.21",
                                    "original_title": "Mother Night",
                                    "title": "Mother Night"
                                },
                                {
                                    "book_id": "104189",
                                    "average_rating": "4.21",
                                    "original_title": "Same Kind of Different as Me",
                                    "title": "Same Kind of Different as Me"
                                },
                                {
                                    "book_id": "10235",
                                    "average_rating": "4.21",
                                    "original_title": "Mountains Beyond Mountains: The Quest of Dr. Paul Farmer, a Man Who Would Cure the World",
                                    "title": "Mountains Beyond Mountains: The Quest of Dr. Paul Farmer, A Man Who Would Cure the World"
                                },
                                {
                                    "book_id": "209966",
                                    "average_rating": "4.21",
                                    "original_title": "Planetary, Volume 1: All Over the World and Other Stories",
                                    "title": "Planetary, Volume 1: All Over the World and Other Stories"
                                },
                                {
                                    "book_id": "227492",
                                    "average_rating": "4.21",
                                    "original_title": "Friends and Lovers",
                                    "title": "Friends and Lovers"
                                },
                                {
                                    "book_id": "16170625",
                                    "average_rating": "4.21",
                                    "original_title": "المانيفستو",
                                    "title": "المانيفستو"
                                },
                                {
                                    "book_id": "129327",
                                    "average_rating": "4.2",
                                    "original_title": "The Case of Charles Dexter Ward",
                                    "title": "The Case of Charles Dexter Ward"
                                },
                                {
                                    "book_id": "395220",
                                    "average_rating": "4.2",
                                    "original_title": "Zami: A New Spelling of My Name",
                                    "title": "Zami: A New Spelling of My Name"
                                },
                                {
                                    "book_id": "1376220",
                                    "average_rating": "4.2",
                                    "original_title": "Hafalan Shalat Delisa",
                                    "title": "Hafalan Shalat Delisa"
                                },
                                {
                                    "book_id": "2437710",
                                    "average_rating": "4.2",
                                    "original_title": "August: Osage County",
                                    "title": "August: Osage County"
                                },
                                {
                                    "book_id": "162823",
                                    "average_rating": "4.2",
                                    "original_title": "The Case-Book of Sherlock Holmes",
                                    "title": "The Case-Book of Sherlock Holmes"
                                },
                                {
                                    "book_id": "769712",
                                    "average_rating": "4.2",
                                    "original_title": "Palestine",
                                    "title": "Palestine"
                                },
                                {
                                    "book_id": "2865944",
                                    "average_rating": "4.2",
                                    "original_title": "If You Give a Cat a Cupcake",
                                    "title": "If You Give a Cat a Cupcake"
                                },
                                {
                                    "book_id": "81227",
                                    "average_rating": "4.2",
                                    "original_title": "Infidel",
                                    "title": "Infidel"
                                },
                                {
                                    "book_id": "407429",
                                    "average_rating": "4.2",
                                    "original_title": "The Stinky Cheese Man and Other Fairly Stupid Tales",
                                    "title": "The Stinky Cheese Man and Other Fairly Stupid Tales"
                                },
                                {
                                    "book_id": "5759",
                                    "average_rating": "4.2",
                                    "original_title": "Fight Club",
                                    "title": "Fight Club"
                                },
                                {
                                    "book_id": "19486412",
                                    "average_rating": "4.2",
                                    "original_title": "Big Little Lies",
                                    "title": "Big Little Lies"
                                },
                                {
                                    "book_id": "12873",
                                    "average_rating": "4.2",
                                    "original_title": "Rebecca",
                                    "title": "Rebecca"
                                },
                                {
                                    "book_id": "3008",
                                    "average_rating": "4.2",
                                    "original_title": "A Little Princess",
                                    "title": "A Little Princess"
                                },
                                {
                                    "book_id": "772852",
                                    "average_rating": "4.2",
                                    "original_title": "The Cross and the Switchblade",
                                    "title": "The Cross and the Switchblade"
                                },
                                {
                                    "book_id": "18600",
                                    "average_rating": "4.2",
                                    "original_title": "Touching the Void: The True Story of One Man's Miraculous Survival",
                                    "title": "Touching the Void: The True Story of One Man's Miraculous Survival"
                                },
                                {
                                    "book_id": "205330",
                                    "average_rating": "4.2",
                                    "original_title": "There Was an Old Lady Who Swallowed a Fly",
                                    "title": "There Was an Old Lady Who Swallowed a Fly"
                                },
                                {
                                    "book_id": "1858013",
                                    "average_rating": "4.2",
                                    "original_title": "The Reason for God: Belief in an Age of Skepticism",
                                    "title": "The Reason for God: Belief in an Age of Skepticism"
                                },
                                {
                                    "book_id": "19351043",
                                    "average_rating": "4.2",
                                    "original_title": "Nimona",
                                    "title": "Nimona"
                                },
                                {
                                    "book_id": "153542",
                                    "average_rating": "4.2",
                                    "original_title": "Mike Mulligan and His Steam Shovel",
                                    "title": "Mike Mulligan and His Steam Shovel"
                                },
                                {
                                    "book_id": "11010251",
                                    "average_rating": "4.2",
                                    "original_title": "The Lost Wife",
                                    "title": "The Lost Wife"
                                },
                                {
                                    "book_id": "18039963",
                                    "average_rating": "4.2",
                                    "original_title": "A House in the Sky",
                                    "title": "A House in the Sky"
                                },
                                {
                                    "book_id": "773276",
                                    "average_rating": "4.2",
                                    "original_title": "Good Night, Gorilla",
                                    "title": "Good Night, Gorilla"
                                },
                                {
                                    "book_id": "229123",
                                    "average_rating": "4.2",
                                    "original_title": "Christy",
                                    "title": "Christy"
                                },
                                {
                                    "book_id": "228696",
                                    "average_rating": "4.2",
                                    "original_title": "Owl Moon",
                                    "title": "Owl Moon"
                                },
                                {
                                    "book_id": "31426",
                                    "average_rating": "4.2",
                                    "original_title": "The Collected Poems",
                                    "title": "The Collected Poems"
                                },
                                {
                                    "book_id": "10222",
                                    "average_rating": "4.2",
                                    "original_title": "The Far Pavilions",
                                    "title": "The Far Pavilions"
                                },
                                {
                                    "book_id": "2479827",
                                    "average_rating": "4.2",
                                    "original_title": "Eragon, Eldest & Brisingr (Inheritance, #1-3)",
                                    "title": "Eragon, Eldest & Brisingr (Inheritance, #1-3)"
                                },
                                {
                                    "book_id": "16303287",
                                    "average_rating": "4.2",
                                    "original_title": "The Bane Chronicles",
                                    "title": "The Bane Chronicles"
                                },
                                {
                                    "book_id": "835202",
                                    "average_rating": "4.2",
                                    "original_title": "A Chair for My Mother ",
                                    "title": "A Chair for My Mother"
                                },
                                {
                                    "book_id": "231585",
                                    "average_rating": "4.2",
                                    "original_title": "Small Sacrifices: A True Story of Passion and Murder",
                                    "title": "Small Sacrifices: A True Story of Passion and Murder"
                                },
                                {
                                    "book_id": "219919",
                                    "average_rating": "4.2",
                                    "original_title": "The Robe",
                                    "title": "The Robe"
                                },
                                {
                                    "book_id": "1433337",
                                    "average_rating": "4.2",
                                    "original_title": "ABNKKBSNPLAKo?! (Mga Kwentong Chalk ni Bob Ong)",
                                    "title": "ABNKKBSNPLAKo?! (Mga Kwentong Chalk ni Bob Ong)"
                                },
                                {
                                    "book_id": "782854",
                                    "average_rating": "4.2",
                                    "original_title": "Eloise",
                                    "title": "Eloise "
                                },
                                {
                                    "book_id": "570172",
                                    "average_rating": "4.2",
                                    "original_title": "The Brain That Changes Itself: Stories of Personal Triumph from the Frontiers of Brain Science",
                                    "title": "The Brain That Changes Itself: Stories of Personal Triumph from the Frontiers of Brain Science"
                                },
                                {
                                    "book_id": "911579",
                                    "average_rating": "4.2",
                                    "original_title": "Bread and Jam for Frances",
                                    "title": "Bread and Jam for Frances"
                                },
                                {
                                    "book_id": "110384",
                                    "average_rating": "4.2",
                                    "original_title": "Romancing Mister Bridgerton (Bridgertons, #4)",
                                    "title": "Romancing Mister Bridgerton (Bridgertons, #4)"
                                },
                                {
                                    "book_id": "63032",
                                    "average_rating": "4.2",
                                    "original_title": "2666",
                                    "title": "2666"
                                },
                                {
                                    "book_id": "18176747",
                                    "average_rating": "4.2",
                                    "original_title": "The Hard Thing about Hard Things: Building A Business When There Are No Easy Answers",
                                    "title": "The Hard Thing About Hard Things: Building a Business When There Are No Easy Answers"
                                },
                                {
                                    "book_id": "18728",
                                    "average_rating": "4.2",
                                    "original_title": "No Ordinary Time: Franklin and Eleanor Roosevelt: The Home Front in World War II",
                                    "title": "No Ordinary Time: Franklin and Eleanor Roosevelt: The Home Front in World War II"
                                },
                                {
                                    "book_id": "825081",
                                    "average_rating": "4.2",
                                    "original_title": "Lilly's Purple Plastic Purse",
                                    "title": "Lilly's Purple Plastic Purse"
                                },
                                {
                                    "book_id": "867650",
                                    "average_rating": "4.2",
                                    "original_title": "The Little Red Hen (Little Golden Book)",
                                    "title": "The Little Red Hen (Little Golden Book)"
                                },
                                {
                                    "book_id": "23341894",
                                    "average_rating": "4.2",
                                    "original_title": "Every Last Word",
                                    "title": "Every Last Word"
                                },
                                {
                                    "book_id": "7940589",
                                    "average_rating": "4.2",
                                    "original_title": "Malcolm X: A Life of Reinvention",
                                    "title": "Malcolm X: A Life of Reinvention"
                                },
                                {
                                    "book_id": "981463",
                                    "average_rating": "4.2",
                                    "original_title": "The Relatives Came",
                                    "title": "The Relatives Came"
                                },
                                {
                                    "book_id": "11133791",
                                    "average_rating": "4.2",
                                    "original_title": "Tilt",
                                    "title": "Tilt"
                                },
                                {
                                    "book_id": "153136",
                                    "average_rating": "4.2",
                                    "original_title": "The Cake Bible",
                                    "title": "The Cake Bible"
                                },
                                {
                                    "book_id": "84927",
                                    "average_rating": "4.2",
                                    "original_title": "Amadeus",
                                    "title": "Amadeus"
                                },
                                {
                                    "book_id": "367802",
                                    "average_rating": "4.2",
                                    "original_title": "Collected Poems",
                                    "title": "Collected Poems"
                                },
                                {
                                    "book_id": "14082",
                                    "average_rating": "4.2",
                                    "original_title": "Malgudi Days",
                                    "title": "Malgudi Days"
                                },
                                {
                                    "book_id": "9864913",
                                    "average_rating": "4.2",
                                    "original_title": "Jaya: An Illustrated Retelling of the Mahabharata",
                                    "title": "Jaya: An Illustrated Retelling of the Mahabharata"
                                },
                                {
                                    "book_id": "29393",
                                    "average_rating": "4.2",
                                    "original_title": "Our Band Could Be Your Life: Scenes from the American Indie Underground 1981-1991",
                                    "title": "Our Band Could Be Your Life: Scenes from the American Indie Underground 1981-1991"
                                },
                                {
                                    "book_id": "120461",
                                    "average_rating": "4.2",
                                    "original_title": "Oscar et la dame rose",
                                    "title": "Oscar et la dame rose"
                                }
                            ]
                        },
                        "text/html": "<table><tr><th>book_id</th><th>average_rating</th><th>original_title</th><th>title</th></tr><tr><td>24812</td><td>4.82</td><td>The Complete Calvin and Hobbes</td><td>The Complete Calvin and Hobbes</td></tr><tr><td>95602</td><td>4.76</td><td>Mark of the Lion Trilogy</td><td>Mark of the Lion Trilogy</td></tr><tr><td>24814</td><td>4.75</td><td>It&#39;s a Magical World: A Calvin and Hobbes Collection</td><td>It&#39;s a Magical World: A Calvin and Hobbes Collection</td></tr><tr><td>70489</td><td>4.74</td><td>There&#39;s Treasure Everywhere: A Calvin and Hobbes Collection</td><td>There&#39;s Treasure Everywhere: A Calvin and Hobbes Collection</td></tr><tr><td>10</td><td>4.73</td><td>Harry Potter Collection (Harry Potter, #1-6)</td><td>Harry Potter Collection (Harry Potter, #1-6)</td></tr><tr><td>24816</td><td>4.71</td><td>Homicidal Psycho Jungle Cat: A Calvin and Hobbes Collection</td><td>Homicidal Psycho Jungle Cat: A Calvin and Hobbes Collection</td></tr><tr><td>24818</td><td>4.68</td><td>The Days Are Just Packed: A Calvin and Hobbes Collection</td><td>The Days Are Just Packed: A Calvin and Hobbes Collection</td></tr><tr><td>24494</td><td>4.66</td><td>The Calvin and Hobbes Lazy Sunday Book</td><td>The Calvin and Hobbes Lazy Sunday Book</td></tr><tr><td>23753</td><td>4.65</td><td>The Absolute Sandman, Volume One</td><td>The Absolute Sandman, Volume One</td></tr><tr><td>43070</td><td>4.65</td><td>The Essential Calvin and Hobbes: A Calvin and Hobbes Treasury</td><td>The Essential Calvin and Hobbes: A Calvin and Hobbes Treasury</td></tr><tr><td>24813</td><td>4.63</td><td>The Calvin and Hobbes Tenth Anniversary Book</td><td>The Calvin and Hobbes Tenth Anniversary Book</td></tr><tr><td>32075671</td><td>4.62</td><td>The Hate U Give</td><td>The Hate U Give</td></tr><tr><td>77727</td><td>4.61</td><td>Calvin and Hobbes</td><td>Calvin and Hobbes</td></tr><tr><td>280111</td><td>4.61</td><td>Holy Bible: New International Version</td><td>Holy Bible: New International Version</td></tr><tr><td>2223324</td><td>4.61</td><td>Harry Potter and the Chamber of Secrets: Sheet Music for Flute with C.D</td><td>Harry Potter and the Chamber of Secrets: Sheet Music for Flute with C.D</td></tr><tr><td>47697</td><td>4.61</td><td>The Sandman: King of Dreams</td><td>The Sandman: King of Dreams</td></tr><tr><td>596259</td><td>4.61</td><td>Standing for Something: 10 Neglected Virtues That Will Heal Our Hearts and Homes</td><td>Standing for Something: 10 Neglected Virtues That Will Heal Our Hearts and Homes</td></tr><tr><td>46601</td><td>4.6</td><td>An Echo in the Darkness (Mark of the Lion, #2)</td><td>An Echo in the Darkness (Mark of the Lion, #2)</td></tr><tr><td>119</td><td>4.59</td><td>The Lord of the Rings: The Art of The Fellowship of the Ring</td><td>The Lord of the Rings: The Art of The Fellowship of the Ring</td></tr><tr><td>20342617</td><td>4.58</td><td>Just Mercy: A Story of Justice and Redemption</td><td>Just Mercy: A Story of Justice and Redemption</td></tr><tr><td>4634266</td><td>4.57</td><td>NARUTO -ナルト- 巻ノ四十三 </td><td>NARUTO -ナルト- 巻ノ四十三</td></tr><tr><td>10785687</td><td>4.56</td><td>Harry Potter Page to Screen: The Complete Filmmaking Journey</td><td>Harry Potter Page to Screen: The Complete Filmmaking Journey</td></tr><tr><td>71823</td><td>4.55</td><td>The Green Mile, Part 6: Coffey on the Mile</td><td>The Green Mile, Part 6: Coffey on the Mile</td></tr><tr><td>21853621</td><td>4.54</td><td>The Nightingale</td><td>The Nightingale</td></tr><tr><td>89959</td><td>4.54</td><td>The Constitution of the United States of America</td><td>The Constitution of the United States of America</td></tr><tr><td>36</td><td>4.53</td><td>The Lord of the Rings: Weapons and Warfare</td><td>The Lord of the Rings: Weapons and Warfare</td></tr><tr><td>10790276</td><td>4.53</td><td>Courageous</td><td>Courageous</td></tr><tr><td>228199</td><td>4.52</td><td>The Green Mile, Part 4: The Bad Death of Eduard Delacroix</td><td>The Green Mile, Part 4: The Bad Death of Eduard Delacroix</td></tr><tr><td>216048</td><td>4.52</td><td>Thank You, Mr. Falker</td><td>Thank You, Mr. Falker</td></tr><tr><td>434764</td><td>4.51</td><td>Believing Christ: The Parable of the Bicycle and Other Good News</td><td>Believing Christ: The Parable of the Bicycle and Other Good News</td></tr><tr><td>228200</td><td>4.51</td><td>The Green Mile, Part 5: Night Journey</td><td>The Green Mile, Part 5: Night Journey</td></tr><tr><td>24019187</td><td>4.5</td><td>Humans of New York: Stories</td><td>Humans of New York: Stories</td></tr><tr><td>228198</td><td>4.5</td><td>The Green Mile, Part 3: Coffey&#39;s Hands</td><td>The Green Mile, Part 3: Coffey&#39;s Hands</td></tr><tr><td>16164271</td><td>4.5</td><td>Locke &amp; Key, Vol. 6: Alpha &amp; Omega</td><td>Locke &amp; Key, Vol. 6: Alpha &amp; Omega</td></tr><tr><td>188572</td><td>4.5</td><td>The Complete Sherlock Holmes</td><td>The Complete Sherlock Holmes</td></tr><tr><td>6792458</td><td>4.49</td><td>The New Jim Crow: Mass Incarceration in the Age of Colorblindness</td><td>The New Jim Crow: Mass Incarceration in the Age of Colorblindness</td></tr><tr><td>569564</td><td>4.49</td><td>The Complete Works</td><td>The Complete Works</td></tr><tr><td>220826</td><td>4.49</td><td>Kürk Mantolu Madonna</td><td>Kürk Mantolu Madonna</td></tr><tr><td>92227</td><td>4.49</td><td>The Green Mile, Part 1: The Two Dead Girls</td><td>The Green Mile, Part 1: The Two Dead Girls</td></tr><tr><td>25852784</td><td>4.48</td><td>Evicted: Poverty and Profit in the American City</td><td>Evicted: Poverty and Profit in the American City</td></tr><tr><td>101255</td><td>4.48</td><td>On Food and Cooking: The Science and Lore of the Kitchen</td><td>On Food and Cooking: The Science and Lore of the Kitchen</td></tr><tr><td>7952502</td><td>4.48</td><td>Harry Potter: Film Wizardry</td><td>Harry Potter: Film Wizardry</td></tr><tr><td>1275105</td><td>4.48</td><td>A Charlie Brown Christmas </td><td>A Charlie Brown Christmas</td></tr><tr><td>100322</td><td>4.48</td><td>Assata: An Autobiography</td><td>Assata: An Autobiography</td></tr><tr><td>65633</td><td>4.48</td><td>The Chronicles of Narnia - The Lion, the Witch, and the Wardrobe Official Illustrated Movie Companion</td><td>The Chronicles of Narnia - The Lion, the Witch, and the Wardrobe Official Illustrated Movie Companion</td></tr><tr><td>228194</td><td>4.47</td><td>The Green Mile, Part 2: The Mouse on the Mile</td><td>The Green Mile, Part 2: The Mouse on the Mile</td></tr><tr><td>256008</td><td>4.47</td><td>Lonesome Dove</td><td>Lonesome Dove</td></tr><tr><td>3412815</td><td>4.47</td><td>Fireproof</td><td>Fireproof</td></tr><tr><td>22738563</td><td>4.47</td><td>We Should All Be Feminists</td><td>We Should All Be Feminists</td></tr><tr><td>426504</td><td>4.47</td><td>Ficciones</td><td>Ficciones</td></tr><tr><td>106393</td><td>4.47</td><td>The Coldest Winter Ever</td><td>The Coldest Winter Ever</td></tr><tr><td>26200563</td><td>4.47</td><td>Hamilton: The Revolution</td><td>Hamilton: The Revolution</td></tr><tr><td>8269450</td><td>4.47</td><td>Darkest Powers Trilogy (Darkest Powers, #1-3)</td><td>Darkest Powers Trilogy (Darkest Powers, #1-3)</td></tr><tr><td>1298171</td><td>4.47</td><td>Finding Nemo</td><td>Finding Nemo</td></tr><tr><td>906560</td><td>4.47</td><td>Tramp for the Lord</td><td>Tramp for the Lord</td></tr><tr><td>1013383</td><td>4.47</td><td>The Gruffalo</td><td>The Gruffalo</td></tr><tr><td>27220736</td><td>4.46</td><td>Shoe Dog: A Memoir by the Creator of Nike</td><td>Shoe Dog: A Memoir by the Creator of NIKE</td></tr><tr><td>194870</td><td>4.46</td><td>The Complete Adventures of Peter Rabbit</td><td>The Complete Adventures of Peter Rabbit</td></tr><tr><td>24938</td><td>4.45</td><td>Wicked - Piano/Vocal Arrangement</td><td>Wicked - Piano/Vocal Arrangement</td></tr><tr><td>31819</td><td>4.45</td><td>Harry Potter and Philosophy: If Aristotle Ran Hogwarts</td><td>Harry Potter and Philosophy: If Aristotle Ran Hogwarts</td></tr><tr><td>3581</td><td>4.45</td><td>Sherlock Holmes: The Complete Novels and Stories, Volume I</td><td>Sherlock Holmes: The Complete Novels and Stories, Volume I</td></tr><tr><td>334818</td><td>4.45</td><td>Miss Rumphius</td><td>Miss Rumphius</td></tr><tr><td>464260</td><td>4.45</td><td>The Fire Next Time</td><td>The Fire Next Time</td></tr><tr><td>26661</td><td>4.45</td><td>Praying God&#39;s Word: Breaking Free From Spiritual Strongholds</td><td>Praying God&#39;s Word: Breaking Free From Spiritual Strongholds</td></tr><tr><td>233691</td><td>4.45</td><td>The Far Side Gallery 3</td><td>The Far Side Gallery 3</td></tr><tr><td>20639274</td><td>4.45</td><td>Archer&#39;s Voice</td><td>Archer&#39;s Voice</td></tr><tr><td>4667024</td><td>4.45</td><td>The Help</td><td>The Help</td></tr><tr><td>42900</td><td>4.45</td><td>Lover Awakened (Black Dagger Brotherhood, #3)</td><td>Lover Awakened (Black Dagger Brotherhood, #3)</td></tr><tr><td>44186</td><td>4.45</td><td>The Monster at the End of This Book</td><td>The Monster at the End of this Book</td></tr><tr><td>27362503</td><td>4.44</td><td>It Ends with Us</td><td>It Ends with Us</td></tr><tr><td>13188676</td><td>4.44</td><td>Ignite Me (Shatter Me, #3)</td><td>Ignite Me (Shatter Me, #3)</td></tr><tr><td>284996</td><td>4.44</td><td>The Complete Stories</td><td>The Complete Stories</td></tr><tr><td>9674335</td><td>4.44</td><td>Locke &amp; Key, Vol. 4: Keys to the Kingdom</td><td>Locke &amp; Key, Vol. 4: Keys to the Kingdom</td></tr><tr><td>285500</td><td>4.44</td><td>The Declaration of Independence and The Constitution of the United States </td><td>The Declaration of Independence and The Constitution of the United States</td></tr><tr><td>5936</td><td>4.44</td><td>The Poetry of Pablo Neruda</td><td>The Poetry of Pablo Neruda</td></tr><tr><td>35233</td><td>4.43</td><td>The Wheel of Time: Boxed Set #1 (Wheel of Time, #1-3)</td><td>The Wheel of Time: Boxed Set #1 (Wheel of Time, #1-3)</td></tr><tr><td>4488657</td><td>4.43</td><td>رباعيات صلاح جاهين</td><td>رباعيات صلاح جاهين</td></tr><tr><td>408615</td><td>4.43</td><td>Left to Tell: Discovering God Amidst the Rwandan Holocaust</td><td>Left to Tell: Discovering God Amidst the Rwandan Holocaust</td></tr><tr><td>11387515</td><td>4.43</td><td>Wonder</td><td>Wonder</td></tr><tr><td>11566</td><td>4.42</td><td>The Green Mile</td><td>The Green Mile</td></tr><tr><td>42389</td><td>4.42</td><td>Band of Brothers: E Company, 506th Regiment, 101st Airborne from Normandy to Hitler&#39;s Eagle&#39;s Nest</td><td>Band of Brothers: E Company, 506th Regiment, 101st Airborne from Normandy to Hitler&#39;s Eagle&#39;s Nest</td></tr><tr><td>6178648</td><td>4.42</td><td>Nothing to Envy: Ordinary Lives in North Korea</td><td>Nothing to Envy: Ordinary Lives in North Korea</td></tr><tr><td>32127</td><td>4.42</td><td>Ina May&#39;s Guide to Childbirth</td><td>Ina May&#39;s Guide to Childbirth</td></tr><tr><td>77281</td><td>4.42</td><td>The Far Side Gallery</td><td>The Far Side Gallery</td></tr><tr><td>77427</td><td>4.42</td><td>H.M.S. Surprise </td><td>H.M.S. Surprise</td></tr><tr><td>121715</td><td>4.41</td><td>The Weight of Glory</td><td>The Weight of Glory</td></tr><tr><td>14403</td><td>4.41</td><td>The Story of Ruby Bridges</td><td>The Story of Ruby Bridges</td></tr><tr><td>16101018</td><td>4.41</td><td>The Day the Crayons Quit</td><td>The Day the Crayons Quit</td></tr><tr><td>30065028</td><td>4.41</td><td>Fantastic Beasts and Where to Find Them: The Original Screenplay</td><td>Fantastic Beasts and Where to Find Them: The Original Screenplay</td></tr><tr><td>434535</td><td>4.41</td><td>The Peacegiver: How Christ Offers to Heal Our Hearts and Homes</td><td>The Peacegiver: How Christ Offers to Heal Our Hearts and Homes</td></tr><tr><td>25111004</td><td>4.41</td><td>November 9</td><td>November 9</td></tr><tr><td>7788</td><td>4.41</td><td>The Cat in the Hat and Other Dr. Seuss Favorites</td><td>The Cat in the Hat and Other Dr. Seuss Favorites</td></tr><tr><td>27071490</td><td>4.41</td><td>Homegoing</td><td>Homegoing</td></tr><tr><td>7904429</td><td>4.41</td><td>Scott Pilgrim, Volume 6: Scott Pilgrim&#39;s Finest Hour</td><td>Scott Pilgrim, Volume 6: Scott Pilgrim&#39;s Finest Hour</td></tr><tr><td>18419</td><td>4.41</td><td>The Kissing Hand</td><td>The Kissing Hand</td></tr><tr><td>20696006</td><td>4.4</td><td>Being Mortal: Medicine and What Matters in the End</td><td>Being Mortal: Medicine and What Matters in the End</td></tr><tr><td>25489625</td><td>4.4</td><td>Between the World and Me</td><td>Between the World and Me</td></tr><tr><td>8664353</td><td>4.4</td><td>Unbroken: A World War II Story of Survival, Resilience, and Redemption</td><td>Unbroken: A World War II Story of Survival, Resilience, and Redemption</td></tr><tr><td>76104</td><td>4.4</td><td>The Exploits of Sherlock Holmes</td><td>The Exploits of Sherlock Holmes</td></tr><tr><td>1305</td><td>4.4</td><td>Gates of Fire: An Epic Novel of the Battle of Thermopylae</td><td>Gates of Fire: An Epic Novel of the Battle of Thermopylae</td></tr><tr><td>771332</td><td>4.4</td><td>With The Old Breed: At Peleliu And Okinawa</td><td>With the Old Breed: At Peleliu and Okinawa</td></tr><tr><td>119829</td><td>4.4</td><td>The Sunne in Splendour</td><td>The Sunne in Splendour</td></tr><tr><td>17465470</td><td>4.4</td><td>The Royal Ranger (Ranger&#39;s Apprentice, #12)</td><td>The Royal Ranger (Ranger&#39;s Apprentice, #12)</td></tr><tr><td>22609522</td><td>4.39</td><td>Red Notice: A True Story of High Finance, Murder, and One Man’s Fight for Justice</td><td>Red Notice: A True Story of High Finance, Murder, and One Man’s Fight for Justice</td></tr><tr><td>232958</td><td>4.39</td><td>I Love You Through And Through</td><td>I Love You Through and Through</td></tr><tr><td>1145862</td><td>4.39</td><td>Stand Tall, Molly Lou Melon</td><td>Stand Tall, Molly Lou Melon</td></tr><tr><td>132152</td><td>4.39</td><td>Streams in the Desert</td><td>Streams in the Desert</td></tr><tr><td>1603923</td><td>4.39</td><td>Beauty and the Beast</td><td>Beauty and the Beast</td></tr><tr><td>95621</td><td>4.39</td><td>As Sure as the Dawn (Mark of the Lion, #3)</td><td>As Sure as the Dawn (Mark of the Lion, #3)</td></tr><tr><td>11233988</td><td>4.39</td><td>I Want My Hat Back</td><td>I Want My Hat Back</td></tr><tr><td>929782</td><td>4.39</td><td>Martin Eden</td><td>Martin Eden</td></tr><tr><td>370057</td><td>4.39</td><td>The Truth Seeker (O&#39;Malley #3)</td><td>The Truth Seeker (O&#39;Malley #3)</td></tr><tr><td>19534</td><td>4.39</td><td>The Brothers K</td><td>The Brothers K</td></tr><tr><td>10659536</td><td>4.39</td><td>Every Thing On It</td><td>Every Thing on It</td></tr><tr><td>38739</td><td>4.39</td><td>The Lord God Made Them All</td><td>The Lord God Made Them All</td></tr><tr><td>18007564</td><td>4.39</td><td>The Martian</td><td>The Martian</td></tr><tr><td>175510</td><td>4.39</td><td>My Utmost for His Highest</td><td>My Utmost for His Highest</td></tr><tr><td>370493</td><td>4.38</td><td>The Giving Tree</td><td>The Giving Tree</td></tr><tr><td>838917</td><td>4.38</td><td>The Power of a Praying Woman</td><td>The Power of a Praying Woman</td></tr><tr><td>175113</td><td>4.38</td><td>The Return of the Prodigal Son: A Story of Homecoming</td><td>The Return of the Prodigal Son: A Story of Homecoming</td></tr><tr><td>18956</td><td>4.38</td><td>Homicide: A Year on the Killing Streets</td><td>Homicide: A Year on the Killing Streets</td></tr><tr><td>7140220</td><td>4.38</td><td>Twilight and History</td><td>Twilight and History</td></tr><tr><td>166580</td><td>4.38</td><td>The Sandman: The Dream Hunters</td><td>The Sandman: The Dream Hunters</td></tr><tr><td>56634</td><td>4.38</td><td>Through Gates of Splendor</td><td>Through Gates of Splendor</td></tr><tr><td>109367</td><td>4.38</td><td>Survivor in Death (In Death, #20)</td><td>Survivor In Death (In Death, #20)</td></tr><tr><td>110890</td><td>4.38</td><td>The Looming Tower: Al-Qaeda and the Road to 9/11</td><td>The Looming Tower: Al-Qaeda and the Road to 9/11</td></tr><tr><td>676555</td><td>4.38</td><td>The Beatles Anthology</td><td>The Beatles Anthology</td></tr><tr><td>7967299</td><td>4.38</td><td>Love You to Death: The Unofficial Companion to The Vampire Diaries</td><td>Love You to Death: The Unofficial Companion to the Vampire Diaries</td></tr><tr><td>1111600</td><td>4.37</td><td>The Wheel of Time: Boxed Set  (Wheel of Time, #1-8)</td><td>The Wheel of Time: Boxed Set  (Wheel of Time, #1-8)</td></tr><tr><td>1055617</td><td>4.37</td><td>The Miracle of Forgiveness</td><td>The Miracle of Forgiveness</td></tr><tr><td>28212</td><td>4.37</td><td>And the Band Played On: Politics, People, and the AIDS Epidemic</td><td>And the Band Played On: Politics, People, and the AIDS Epidemic</td></tr><tr><td>6390031</td><td>4.37</td><td>The Improbable Adventures of Sherlock Holmes</td><td>The Improbable Adventures of Sherlock Holmes</td></tr><tr><td>1908511</td><td>4.37</td><td>The Pigeon Wants a Puppy!</td><td>The Pigeon Wants a Puppy!</td></tr><tr><td>1398034</td><td>4.37</td><td>Bumi Manusia</td><td>Bumi Manusia</td></tr><tr><td>29430012</td><td>4.37</td><td>A Gentleman in Moscow</td><td>A Gentleman in Moscow</td></tr><tr><td>435045</td><td>4.37</td><td>Wicked Deeds on a Winter&#39;s Night (Immortals After Dark #4)</td><td>Wicked Deeds on a Winter&#39;s Night (Immortals After Dark #4)</td></tr><tr><td>6609765</td><td>4.37</td><td>Out of My Mind</td><td>Out of My Mind</td></tr><tr><td>139069</td><td>4.36</td><td>Endurance: Shackleton&#39;s incredible voyage</td><td>Endurance: Shackleton&#39;s Incredible Voyage</td></tr><tr><td>8621462</td><td>4.36</td><td>A Monster Calls </td><td>A Monster Calls</td></tr><tr><td>301736</td><td>4.36</td><td>Guess How Much I Love You</td><td>Guess How Much I Love You</td></tr><tr><td>7824322</td><td>4.36</td><td>Between Shades of Gray</td><td>Between Shades of Gray</td></tr><tr><td>19063</td><td>4.36</td><td>The Book Thief</td><td>The Book Thief</td></tr><tr><td>22034</td><td>4.36</td><td>The Godfather</td><td>The Godfather</td></tr><tr><td>113946</td><td>4.36</td><td>How the Grinch Stole Christmas!</td><td>How the Grinch Stole Christmas!</td></tr><tr><td>96358</td><td>4.36</td><td>Batman: The Killing Joke </td><td>Batman: The Killing Joke</td></tr><tr><td>25614492</td><td>4.36</td><td>Salt to the Sea</td><td>Salt to the Sea</td></tr><tr><td>18301124</td><td>4.36</td><td>Making Faces</td><td>Making Faces</td></tr><tr><td>74033</td><td>4.36</td><td>Innocent in Death (In Death, #24)</td><td>Innocent in Death (In Death, #24)</td></tr><tr><td>206236</td><td>4.36</td><td>The Power of the Dog</td><td>The Power of the Dog</td></tr><tr><td>22886113</td><td>4.36</td><td>A Work in Progress</td><td>A Work in Progress</td></tr><tr><td>22749539</td><td>4.36</td><td>Echo</td><td>Echo</td></tr><tr><td>3710603</td><td>4.36</td><td>Y: The Last Man - The Deluxe Edition Book One</td><td>Y: The Last Man - The Deluxe Edition Book One</td></tr><tr><td>37377</td><td>4.35</td><td>On the Night You Were Born</td><td>On the Night You Were Born</td></tr><tr><td>77431</td><td>4.35</td><td>The Mauritius Command</td><td>The Mauritius Command</td></tr><tr><td>556629</td><td>4.35</td><td>The Holiness of God</td><td>The Holiness of God</td></tr><tr><td>15801381</td><td>4.35</td><td>Chasing the Prophecy (Beyonders, #3)</td><td>Chasing the Prophecy (Beyonders, #3)</td></tr><tr><td>191117</td><td>4.35</td><td>Don&#39;t Let the Pigeon Stay Up Late!</td><td>Don&#39;t Let the Pigeon Stay Up Late!</td></tr><tr><td>197512</td><td>4.35</td><td>The Pigeon Finds a Hot Dog!</td><td>The Pigeon Finds a Hot Dog!</td></tr><tr><td>7784</td><td>4.35</td><td>The Lorax</td><td>The Lorax</td></tr><tr><td>472331</td><td>4.35</td><td>Watchmen</td><td>Watchmen</td></tr><tr><td>4406</td><td>4.35</td><td>East of Eden  </td><td>East of Eden</td></tr><tr><td>55030</td><td>4.35</td><td>Cosmos</td><td>Cosmos</td></tr><tr><td>35729</td><td>4.35</td><td>Lover Eternal (Black Dagger Brotherhood, #2)</td><td>Lover Eternal (Black Dagger Brotherhood, #2)</td></tr><tr><td>53764</td><td>4.35</td><td>The Great Dune Trilogy</td><td>The Great Dune Trilogy  </td></tr><tr><td>773951</td><td>4.35</td><td>The Story of Ferdinand</td><td>The Story of Ferdinand</td></tr><tr><td>37186</td><td>4.34</td><td>The Miraculous Journey of Edward Tulane</td><td>The Miraculous Journey of Edward Tulane</td></tr><tr><td>2241059</td><td>4.34</td><td>Identical</td><td>Identical</td></tr><tr><td>147074</td><td>4.34</td><td>Janet Evanovich Three and Four Two-Book Set (Stephanie Plum, #3-4)</td><td>Janet Evanovich Three and Four Two-Book Set (Stephanie Plum, #3-4)</td></tr><tr><td>711901</td><td>4.34</td><td>Lone Survivor: The Eyewitness Account of Operation Redwing and the Lost Heroes of SEAL Team 10</td><td>Lone Survivor: The Eyewitness Account of Operation Redwing and the Lost Heroes of SEAL Team 10</td></tr><tr><td>30118</td><td>4.34</td><td>A Light in the Attic</td><td>A Light in the Attic</td></tr><tr><td>128029</td><td>4.34</td><td>A Thousand Splendid Suns</td><td>A Thousand Splendid Suns</td></tr><tr><td>149267</td><td>4.34</td><td>The Stand</td><td>The Stand</td></tr><tr><td>191139</td><td>4.34</td><td>Oh, the Places You&#39;ll Go!</td><td>Oh, The Places You&#39;ll Go!</td></tr><tr><td>39662</td><td>4.34</td><td>Different Seasons</td><td>Different Seasons</td></tr><tr><td>5211</td><td>4.34</td><td>A Fine Balance</td><td>A Fine Balance</td></tr><tr><td>310259</td><td>4.34</td><td>Love You Forever</td><td>Love You Forever</td></tr><tr><td>10988</td><td>4.34</td><td>Drums of Autumn (Outlander, #4)</td><td>Drums of Autumn (Outlander, #4)</td></tr><tr><td>16151178</td><td>4.34</td><td>The Sea of Tranquility</td><td>The Sea of Tranquility</td></tr><tr><td>47720</td><td>4.34</td><td>The Sandman: Endless Nights</td><td>The Sandman: Endless Nights</td></tr><tr><td>769212</td><td>4.34</td><td>The Last Seven Months of Anne Frank</td><td>The Last Seven Months of Anne Frank</td></tr><tr><td>29367958</td><td>4.34</td><td>The Wall of Winnipeg and Me</td><td>The Wall of Winnipeg and Me</td></tr><tr><td>14572</td><td>4.34</td><td>Peace Is Every Step: The Path of Mindfulness in Everyday Life</td><td>Peace Is Every Step: The Path of Mindfulness in Everyday Life</td></tr><tr><td>356824</td><td>4.34</td><td>India After Gandhi: The History of the World&#39;s Largest Democracy</td><td>India After Gandhi: The History of the World&#39;s Largest Democracy</td></tr><tr><td>20821299</td><td>4.34</td><td>The Book with No Pictures</td><td>The Book with No Pictures</td></tr><tr><td>10822174</td><td>4.34</td><td>The Walking Dead, Vol. 14: No Way Out </td><td>The Walking Dead, Vol. 14: No Way Out</td></tr><tr><td>238142</td><td>4.33</td><td>Visions in Death (In Death, #19)</td><td>Visions in Death (In Death, #19)</td></tr><tr><td>102857</td><td>4.33</td><td>Born in Death (In Death, #23)</td><td>Born in Death (In Death, #23)</td></tr><tr><td>2249196</td><td>4.33</td><td>All-Star Superman, Vol. 2</td><td>All-Star Superman, Vol. 2</td></tr><tr><td>8696</td><td>4.33</td><td>Last Chance to See</td><td>Last Chance to See</td></tr><tr><td>102955</td><td>4.33</td><td>Preacher, Volume 8: All Hell&#39;s a-Coming</td><td>Preacher, Volume 8: All Hell&#39;s a-Coming</td></tr><tr><td>5989573</td><td>4.33</td><td>Scott Pilgrim, Volume 5: Scott Pilgrim Vs. the Universe</td><td>Scott Pilgrim, Volume 5: Scott Pilgrim Vs. the Universe</td></tr><tr><td>79421</td><td>4.33</td><td>The Heavenly Man: The Remarkable True Story of Chinese Christian Brother Yun</td><td>The Heavenly Man: The Remarkable True Story of Chinese Christian Brother Yun</td></tr><tr><td>129650</td><td>4.33</td><td>Mastering the Art of French Cooking</td><td>Mastering the Art of French Cooking</td></tr><tr><td>178357</td><td>4.33</td><td>SantaLand Diaries</td><td>SantaLand Diaries</td></tr><tr><td>13578175</td><td>4.33</td><td>The Emperor&#39;s Soul</td><td>The Emperor&#39;s Soul</td></tr><tr><td>1001896</td><td>4.33</td><td>The Real Mother Goose</td><td>The Real Mother Goose</td></tr><tr><td>920607</td><td>4.33</td><td>The Arrival</td><td>The Arrival</td></tr><tr><td>12866426</td><td>4.33</td><td>Taken at Dusk (Shadow Falls, #3)</td><td>Taken at Dusk (Shadow Falls, #3)</td></tr><tr><td>42697</td><td>4.33</td><td>Exodus</td><td>Exodus</td></tr><tr><td>30120</td><td>4.33</td><td>Falling Up</td><td>Falling Up</td></tr><tr><td>13360</td><td>4.33</td><td>Battlefield of the Mind: Winning the Battle in Your Mind</td><td>Battlefield of the Mind: Winning the Battle in Your Mind</td></tr><tr><td>765193</td><td>4.33</td><td>Amazing Grace</td><td>Amazing Grace</td></tr><tr><td>106124</td><td>4.33</td><td>The Dragonslayer (Bone, #4)</td><td>The Dragonslayer (Bone, #4)</td></tr><tr><td>17671913</td><td>4.33</td><td>Batman, Volume 3: Death of the Family</td><td>Batman, Volume 3: Death of the Family</td></tr><tr><td>96259</td><td>4.33</td><td>Crush</td><td>Crush</td></tr><tr><td>8086216</td><td>4.32</td><td>Plenty</td><td>Plenty</td></tr><tr><td>6403690</td><td>4.32</td><td>Counterfeit Gods: The Empty Promises of Money, Sex, and Power, and the Only Hope That Matters</td><td>Counterfeit Gods: The Empty Promises of Money, Sex, and Power, and the Only Hope that Matters</td></tr><tr><td>18232495</td><td>4.32</td><td>The Auschwitz Escape</td><td>The Auschwitz Escape</td></tr><tr><td>8803932</td><td>4.32</td><td>If I Die (Soul Screamers, #5)</td><td>If I Die (Soul Screamers, #5)</td></tr><tr><td>131830</td><td>4.32</td><td>Women&#39;s Bodies, Women&#39;s Wisdom: Creating Physical and Emotional Health and Healing</td><td>Women&#39;s Bodies, Women&#39;s Wisdom: Creating Physical and Emotional Health and Healing</td></tr><tr><td>4769651</td><td>4.32</td><td>The Everafter War (The Sisters Grimm, #7)</td><td>The Everafter War (The Sisters Grimm, #7)</td></tr><tr><td>144350</td><td>4.32</td><td>The Battle for Skandia (Ranger&#39;s Apprentice, #4)</td><td>The Battle for Skandia (Ranger&#39;s Apprentice, #4)</td></tr><tr><td>25899336</td><td>4.32</td><td>When Breath Becomes Air</td><td>When Breath Becomes Air</td></tr><tr><td>194373</td><td>4.32</td><td>The Memoirs of Sherlock Holmes</td><td>The Memoirs of Sherlock Holmes</td></tr><tr><td>16158542</td><td>4.32</td><td>The Boys in the Boat: Nine Americans and Their Epic Quest for Gold at the 1936 Berlin Olympics</td><td>The Boys in the Boat: Nine Americans and Their Epic Quest for Gold at the 1936 Berlin Olympics</td></tr><tr><td>13638570</td><td>4.32</td><td>Out of Breath (Breathing, #3)</td><td>Out of Breath (Breathing, #3)</td></tr><tr><td>13834</td><td>4.32</td><td>The Realms of the Gods (Immortals, #4)</td><td>The Realms of the Gods (Immortals, #4)</td></tr><tr><td>498641</td><td>4.32</td><td>The Practice of the Presence of God</td><td>The Practice of the Presence of God</td></tr><tr><td>744615</td><td>4.32</td><td>Scott Pilgrim, Volume 4: Scott Pilgrim Gets It Together</td><td>Scott Pilgrim, Volume 4: Scott Pilgrim Gets It Together</td></tr><tr><td>240130</td><td>4.32</td><td>The Paper Bag Princess</td><td>The Paper Bag Princess</td></tr><tr><td>13836</td><td>4.32</td><td>Wild Magic (Immortals, #1)</td><td>Wild Magic (Immortals, #1)</td></tr><tr><td>25142924</td><td>4.32</td><td>The Magic Strings of Frankie Presto</td><td>The Magic Strings of Frankie Presto</td></tr><tr><td>16884</td><td>4.32</td><td>The Making of the Atomic Bomb</td><td>The Making of the Atomic Bomb</td></tr><tr><td>11553</td><td>4.32</td><td>Boy&#39;s Life</td><td>Boy&#39;s Life</td></tr><tr><td>8239301</td><td>4.32</td><td>الطنطورية </td><td>الطنطورية</td></tr><tr><td>61663</td><td>4.32</td><td>Pale Blue Dot: A Vision of the Human Future in Space</td><td>Pale Blue Dot: A Vision of the Human Future in Space</td></tr><tr><td>824062</td><td>4.32</td><td>God&#39;s Smuggler</td><td>God&#39;s Smuggler</td></tr><tr><td>35100</td><td>4.32</td><td>Battle Cry of Freedom</td><td>Battle Cry of Freedom</td></tr><tr><td>7519472</td><td>4.32</td><td>The Darkest Lie (Lords of the Underworld #6)</td><td>The Darkest Lie (Lords of the Underworld #6)</td></tr><tr><td>2880715</td><td>4.32</td><td>The Black Dagger Brotherhood: An Insider&#39;s Guide</td><td>The Black Dagger Brotherhood: An Insider&#39;s Guide</td></tr><tr><td>845403</td><td>4.32</td><td>Mufaro&#39;s Beautiful Daughters: An African Tale</td><td>Mufaro&#39;s Beautiful Daughters: An African Tale</td></tr><tr><td>22471294</td><td>4.32</td><td>Black Lies</td><td>Black Lies</td></tr><tr><td>15823426</td><td>4.32</td><td>The Secret Race: Inside the Hidden World of the Tour de France: Doping, Cover-ups, and Winning at All Costs</td><td>The Secret Race: Inside the Hidden World of the Tour de France: Doping, Cover-ups, and Winning at All Costs</td></tr><tr><td>30125</td><td>4.32</td><td>The Missing Piece Meets the Big O</td><td>The Missing Piece Meets the Big O </td></tr><tr><td>129523</td><td>4.32</td><td>Divided in Death (In Death, #18)</td><td>Divided in Death (In Death, #18)</td></tr><tr><td>15808816</td><td>4.32</td><td>A Higher Call: An Incredible True Story of Combat and Chivalry in the War-Torn Skies of World War II</td><td>A Higher Call: An Incredible True Story of Combat and Chivalry in the War-Torn Skies of World War II</td></tr><tr><td>3331756</td><td>4.32</td><td>عائد إلى حيفا</td><td>عائد إلى حيفا</td></tr><tr><td>118389</td><td>4.32</td><td>The Love Song of J. Alfred Prufrock and Other Poems</td><td>The Love Song of J. Alfred Prufrock and Other Poems</td></tr><tr><td>3888</td><td>4.31</td><td>The America&#39;s Test Kitchen Family Cookbook</td><td>The America&#39;s Test Kitchen Family Cookbook</td></tr><tr><td>132688</td><td>4.31</td><td>The Way to Cook</td><td>The Way to Cook</td></tr><tr><td>129565</td><td>4.31</td><td>Financial Peace Revisited</td><td>Financial Peace Revisited</td></tr><tr><td>42547</td><td>4.31</td><td>The Autobiography of Martin Luther King, Jr.</td><td>The Autobiography of Martin Luther King, Jr.</td></tr><tr><td>905382</td><td>4.31</td><td>Anne Frank : The Biography</td><td>Anne Frank : The Biography</td></tr><tr><td>161156</td><td>4.31</td><td>The Longest Day</td><td>The Longest Day</td></tr><tr><td>823411</td><td>4.31</td><td>Three Day Road</td><td>Three Day Road</td></tr><tr><td>8477057</td><td>4.31</td><td>Daytripper</td><td>Daytripper</td></tr><tr><td>537375</td><td>4.31</td><td>The Endurance: Shackleton&#39;s legendary Antarctic expedition</td><td>The Endurance: Shackleton&#39;s Legendary Antarctic Expedition</td></tr><tr><td>6260997</td><td>4.31</td><td>Half the Sky: Turning Oppression into Opportunity for Women Worldwide</td><td>Half the Sky: Turning Oppression into Opportunity for Women Worldwide</td></tr><tr><td>858513</td><td>4.31</td><td>Chrysanthemum</td><td>Chrysanthemum</td></tr><tr><td>833253</td><td>4.31</td><td>The Power of a Praying Wife</td><td>The Power of a Praying Wife</td></tr><tr><td>8171378</td><td>4.31</td><td>The Warmth of Other Suns: The Epic Story of America&#39;s Great Migration </td><td>The Warmth of Other Suns: The Epic Story of America&#39;s Great Migration</td></tr><tr><td>25893693</td><td>4.31</td><td>Lilac Girls</td><td>Lilac Girls</td></tr><tr><td>139855</td><td>4.31</td><td>Knowing God</td><td>Knowing God</td></tr><tr><td>682920</td><td>4.31</td><td>The Little Mouse, the Red Ripe Strawberry, and the Big Hungry Bear</td><td>The Little Mouse, the Red Ripe Strawberry, and the Big Hungry Bear</td></tr><tr><td>11138</td><td>4.31</td><td>Mere Christianity</td><td>Mere Christianity</td></tr><tr><td>10569</td><td>4.31</td><td>On Writing: A Memoir of the Craft</td><td>On Writing: A Memoir of the Craft</td></tr><tr><td>6759</td><td>4.31</td><td>Infinite Jest</td><td>Infinite Jest</td></tr><tr><td>105549</td><td>4.31</td><td>The Sneetches and Other Stories</td><td>The Sneetches and Other Stories</td></tr><tr><td>4099</td><td>4.31</td><td>The Pragmatic Programmer: From Journeyman to Master</td><td>The Pragmatic Programmer: From Journeyman to Master</td></tr><tr><td>294613</td><td>4.3</td><td>Little Bear&#39;s Friend</td><td>Little Bear&#39;s Friend</td></tr><tr><td>136977</td><td>4.3</td><td>The Places That Scare You: A Guide to Fearlessness in Difficult Times</td><td>The Places That Scare You: A Guide to Fearlessness in Difficult Times</td></tr><tr><td>90420</td><td>4.3</td><td>Copper Sun</td><td>Copper Sun</td></tr><tr><td>2199</td><td>4.3</td><td>Team of Rivals: The Political Genius of Abraham Lincoln</td><td>Team of Rivals: The Political Genius of Abraham Lincoln</td></tr><tr><td>17788401</td><td>4.3</td><td>Ugly Love</td><td>Ugly Love</td></tr><tr><td>2153405</td><td>4.3</td><td>Still Alice</td><td>Still Alice</td></tr><tr><td>85392</td><td>4.3</td><td>Term Limits</td><td>Term Limits</td></tr><tr><td>269322</td><td>4.3</td><td>The Raven and Other Poems</td><td>The Raven and other poems</td></tr><tr><td>45244</td><td>4.3</td><td>Judas Unchained</td><td>Judas Unchained</td></tr><tr><td>1215290</td><td>4.3</td><td>Rudolph the Red-Nosed Reindeer</td><td>Rudolph the Red-Nosed Reindeer</td></tr><tr><td>194366</td><td>4.3</td><td>The Return of Sherlock Holmes</td><td>The Return of Sherlock Holmes</td></tr><tr><td>821056</td><td>4.3</td><td>Hinds&#39; Feet on High Places</td><td>Hinds&#39; Feet on High Places</td></tr><tr><td>13833</td><td>4.3</td><td>Emperor Mage (Immortals, #3)</td><td>Emperor Mage (Immortals, #3)</td></tr><tr><td>12657</td><td>4.3</td><td>The Source</td><td>The Source</td></tr><tr><td>24113</td><td>4.3</td><td>Gödel, Escher, Bach: An Eternal Golden Braid</td><td>Gödel, Escher, Bach: An Eternal Golden Braid</td></tr><tr><td>35519</td><td>4.3</td><td>The Power of Myth</td><td>The Power of Myth</td></tr><tr><td>13223349</td><td>4.3</td><td>Batman, Volume 1: The Court of Owls</td><td>Batman, Volume 1: The Court of Owls</td></tr><tr><td>20413</td><td>4.3</td><td>A Child&#39;s Garden of Verses</td><td>A Child&#39;s Garden of Verses</td></tr><tr><td>11472</td><td>4.3</td><td>We Wish to Inform You That Tomorrow We Will Be Killed with Our Families</td><td>We Wish to Inform You That Tomorrow We Will Be Killed with Our Families</td></tr><tr><td>83143</td><td>4.3</td><td>Tatiana and Alexander (The Bronze Horseman, #2)</td><td>Tatiana and Alexander (The Bronze Horseman, #2)</td></tr><tr><td>11449</td><td>4.3</td><td>Cathedral</td><td>Cathedral</td></tr><tr><td>2761356</td><td>4.3</td><td>The Sweet Gum Tree</td><td>The Sweet Gum Tree</td></tr><tr><td>20613761</td><td>4.3</td><td>Citizen: An American Lyric</td><td>Citizen: An American Lyric</td></tr><tr><td>25507925</td><td>4.3</td><td>Binge</td><td>Binge</td></tr><tr><td>62103</td><td>4.29</td><td>The Complete Phantom of the Opera</td><td>The Complete Phantom of the Opera</td></tr><tr><td>6145711</td><td>4.29</td><td>The Walking Dead, Vol. 10: What We Become</td><td>The Walking Dead, Vol. 10: What We Become</td></tr><tr><td>542389</td><td>4.29</td><td>Stalingrad: The Fateful Siege, 1942–1943</td><td>Stalingrad: The Fateful Siege, 1942–1943</td></tr><tr><td>7171876</td><td>4.29</td><td>Fallout (Crank, #3)</td><td>Fallout (Crank, #3)</td></tr><tr><td>18225810</td><td>4.29</td><td>Sisters</td><td>Sisters</td></tr><tr><td>845977</td><td>4.29</td><td>A Return to Love: Reflections on the Principles of &quot;A Course in Miracles&quot;</td><td>A Return to Love: Reflections on the Principles of &quot;A Course in Miracles&quot;</td></tr><tr><td>42512</td><td>4.29</td><td>We Were Soldiers Once... and Young: Ia Drang - the Battle That Changed the War in Vietnam</td><td>We Were Soldiers Once... and Young: Ia Drang - The Battle that Changed the War in Vietnam</td></tr><tr><td>216304</td><td>4.29</td><td>A Woman After God&#39;s Own Heart</td><td>A Woman After God&#39;s Own Heart</td></tr><tr><td>4373</td><td>4.29</td><td>First They Killed My Father: A Daughter of Cambodia Remembers </td><td>First They Killed My Father: A Daughter of Cambodia Remembers</td></tr><tr><td>317504</td><td>4.29</td><td>Mistress of the Empire (The Empire Trilogy, #3)</td><td>Mistress of the Empire (The Empire Trilogy, #3)</td></tr><tr><td>10889279</td><td>4.29</td><td>Batman: The Black Mirror</td><td>Batman: The Black Mirror</td></tr><tr><td>3438000</td><td>4.29</td><td>ثلاثية غرناطة</td><td>ثلاثية غرناطة</td></tr><tr><td>452157</td><td>4.29</td><td>The Road to the Dark Tower: Exploring Stephen King&#39;s Magnum Opus</td><td>The Road to the Dark Tower: Exploring Stephen King&#39;s Magnum Opus</td></tr><tr><td>68811</td><td>4.29</td><td>Momo</td><td>Momo</td></tr><tr><td>78427</td><td>4.29</td><td>The Total Money Makeover: A Proven Plan for Financial Fitness</td><td>The Total Money Makeover: A Proven Plan for Financial Fitness</td></tr><tr><td>270067</td><td>4.29</td><td>A Pocket for Corduroy</td><td>A Pocket for Corduroy</td></tr><tr><td>13152194</td><td>4.29</td><td>Tiny Beautiful Things: Advice on Love and Life from Dear Sugar</td><td>Tiny Beautiful Things: Advice on Love and Life from Dear Sugar</td></tr><tr><td>687278</td><td>4.29</td><td>When Things Fall Apart: Heart Advice for Difficult Times</td><td>When Things Fall Apart: Heart Advice for Difficult Times</td></tr><tr><td>29802</td><td>4.29</td><td>Scott Pilgrim, Volume 3: Scott Pilgrim &amp; The Infinite Sadness</td><td>Scott Pilgrim, Volume 3: Scott Pilgrim &amp; The Infinite Sadness</td></tr><tr><td>153540</td><td>4.29</td><td>The Little House</td><td>The Little House</td></tr><tr><td>10644930</td><td>4.29</td><td>11/22/63</td><td>11/22/63</td></tr><tr><td>39988</td><td>4.29</td><td>Matilda</td><td>Matilda</td></tr><tr><td>23772</td><td>4.29</td><td>Green Eggs and Ham</td><td>Green Eggs and Ham</td></tr><tr><td>3590</td><td>4.29</td><td>The Adventures of Sherlock Holmes</td><td>The Adventures of Sherlock Holmes</td></tr><tr><td>144974</td><td>4.29</td><td>The Velveteen Rabbit</td><td>The Velveteen Rabbit</td></tr><tr><td>420282</td><td>4.29</td><td>The Polar Express</td><td>The Polar Express</td></tr><tr><td>92057</td><td>4.29</td><td>The Autobiography of Malcolm X</td><td>The Autobiography of Malcolm X</td></tr><tr><td>7170627</td><td>4.29</td><td>The Emperor of All Maladies: A Biography of Cancer</td><td>The Emperor of All Maladies: A Biography of Cancer</td></tr><tr><td>106069</td><td>4.29</td><td>Batman: The Long Halloween</td><td>Batman: The Long Halloween</td></tr><tr><td>25912358</td><td>4.29</td><td>A Thousand Boy Kisses</td><td>A Thousand Boy Kisses</td></tr><tr><td>11446</td><td>4.29</td><td>Will You Please Be Quiet, Please?</td><td>Will You Please Be Quiet, Please?</td></tr><tr><td>502406</td><td>4.28</td><td>Curious George Takes a Job</td><td>Curious George Takes a Job</td></tr><tr><td>60551</td><td>4.28</td><td>The Book on the Taboo Against Knowing Who You Are</td><td>The Book on the Taboo Against Knowing Who You Are</td></tr><tr><td>1153709</td><td>4.28</td><td>Hairy Maclary from Donaldson&#39;s Dairy</td><td>Hairy Maclary from Donaldson&#39;s Dairy</td></tr><tr><td>17267</td><td>4.28</td><td>The Great Divorce</td><td>The Great Divorce</td></tr><tr><td>270804</td><td>4.28</td><td>Glass (Crank, #2)</td><td>Glass (Crank, #2)</td></tr><tr><td>264158</td><td>4.28</td><td>The Raven</td><td>The Raven</td></tr><tr><td>18749</td><td>4.28</td><td>Half of a Yellow Sun</td><td>Half of a Yellow Sun</td></tr><tr><td>166997</td><td>4.28</td><td>Stoner</td><td>Stoner</td></tr><tr><td>13104080</td><td>4.28</td><td>Unravel Me (Shatter Me, #2)</td><td>Unravel Me (Shatter Me, #2)</td></tr><tr><td>1971304</td><td>4.28</td><td>City of Thieves</td><td>City of Thieves</td></tr><tr><td>231850</td><td>4.28</td><td>Corduroy</td><td>Corduroy</td></tr><tr><td>18405</td><td>4.28</td><td>Gone with the Wind</td><td>Gone with the Wind</td></tr><tr><td>3591262</td><td>4.28</td><td>Cutting for Stone</td><td>Cutting for Stone</td></tr><tr><td>6871617</td><td>4.28</td><td>This Side of the Grave (Night Huntress, #5)</td><td>This Side of the Grave (Night Huntress, #5)</td></tr><tr><td>17834834</td><td>4.28</td><td>Once We Were Brothers</td><td>Once We Were Brothers</td></tr><tr><td>161099</td><td>4.28</td><td>Good Night, Mr. Tom</td><td>Good Night, Mr. Tom</td></tr><tr><td>11557</td><td>4.28</td><td>Swan Song</td><td>Swan Song</td></tr><tr><td>55403</td><td>4.28</td><td>Black Hawk Down</td><td>Black Hawk Down</td></tr><tr><td>260791</td><td>4.28</td><td>The Pursuit of Holiness</td><td>The Pursuit of Holiness</td></tr><tr><td>138070</td><td>4.28</td><td>Flotsam</td><td>Flotsam</td></tr><tr><td>6926176</td><td>4.28</td><td>Her Mother&#39;s Hope (Marta&#39;s Legacy, #1)</td><td>Her Mother&#39;s Hope (Marta&#39;s Legacy, #1)</td></tr><tr><td>1031461</td><td>4.28</td><td>Stone Soup</td><td>Stone Soup</td></tr><tr><td>85443</td><td>4.28</td><td>The Lords of Discipline</td><td>The Lords of Discipline</td></tr><tr><td>489972</td><td>4.28</td><td>The Snowman</td><td>The Snowman</td></tr><tr><td>273512</td><td>4.28</td><td>Starlight (Warriors: The New Prophecy, #4)</td><td>Starlight (Warriors: The New Prophecy, #4)</td></tr><tr><td>770040</td><td>4.28</td><td>Llama Llama Mad at Mama</td><td>Llama Llama Mad at Mama</td></tr><tr><td>22402972</td><td>4.28</td><td>Fish In A Tree</td><td>Fish in a Tree</td></tr><tr><td>20348781</td><td>4.28</td><td>Loving Mr. Daniels</td><td>Loving Mr. Daniels</td></tr><tr><td>682751</td><td>4.28</td><td>Animalia</td><td>Animalia</td></tr><tr><td>23602561</td><td>4.28</td><td>The Cartel</td><td>The Cartel</td></tr><tr><td>7384801</td><td>4.27</td><td>Taken by Midnight (Midnight Breed, #8)</td><td>Taken by Midnight (Midnight Breed, #8)</td></tr><tr><td>13589182</td><td>4.27</td><td>Mastery</td><td>Mastery</td></tr><tr><td>155106</td><td>4.27</td><td>Amelia Bedelia and the Surprise Shower</td><td>Amelia Bedelia and the Surprise Shower</td></tr><tr><td>139569</td><td>4.27</td><td>Stone Butch Blues</td><td>Stone Butch Blues</td></tr><tr><td>1027760</td><td>4.27</td><td>Madeline and the Bad Hat</td><td>Madeline and the Bad Hat</td></tr><tr><td>104101</td><td>4.27</td><td>The Lions of Al-Rassan</td><td>The Lions of Al-Rassan</td></tr><tr><td>60471</td><td>4.27</td><td>Coming Home</td><td>Coming Home</td></tr><tr><td>11686</td><td>4.27</td><td>The Stories of John Cheever</td><td>The Stories of John Cheever</td></tr><tr><td>33335</td><td>4.27</td><td>The Hidden Messages in Water</td><td>The Hidden Messages in Water</td></tr><tr><td>13350</td><td>4.27</td><td>Eragon &amp; Eldest (Inheritance, #1-2)</td><td>Eragon &amp; Eldest (Inheritance, #1-2)</td></tr><tr><td>29254</td><td>4.27</td><td>Be Here Now</td><td>Be Here Now</td></tr><tr><td>223380</td><td>4.27</td><td>Stories of Your Life and Others </td><td>Stories of Your Life and Others</td></tr><tr><td>10767466</td><td>4.27</td><td>Hark! A Vagrant</td><td>Hark! A Vagrant</td></tr><tr><td>30122</td><td>4.27</td><td>The Missing Piece</td><td>The Missing Piece</td></tr><tr><td>42692</td><td>4.27</td><td>Mila 18</td><td>Mila 18</td></tr><tr><td>13815</td><td>4.27</td><td>Servant of the Empire (The Empire Trilogy, #2)</td><td>Servant of the Empire (The Empire Trilogy, #2)</td></tr><tr><td>17349</td><td>4.27</td><td>The Demon-Haunted World: Science as a Candle in the Dark</td><td>The Demon-Haunted World: Science as a Candle in the Dark</td></tr><tr><td>292408</td><td>4.27</td><td>Angle of Repose</td><td>Angle of Repose</td></tr><tr><td>11250317</td><td>4.27</td><td>The Song of Achilles</td><td>The Song of Achilles</td></tr><tr><td>815234</td><td>4.27</td><td>The Napping House</td><td>The Napping House</td></tr><tr><td>23513349</td><td>4.27</td><td>milk and honey</td><td>Milk and Honey</td></tr><tr><td>201126</td><td>4.27</td><td>We&#39;re Going on a Bear Hunt</td><td>We&#39;re Going on a Bear Hunt</td></tr><tr><td>6289283</td><td>4.27</td><td>Born to Run: A Hidden Tribe, Superathletes, and the Greatest Race the World Has Never Seen</td><td>Born to Run: A Hidden Tribe, Superathletes, and the Greatest Race the World Has Never Seen</td></tr><tr><td>22822858</td><td>4.27</td><td>A Little Life</td><td>A Little Life</td></tr><tr><td>17277800</td><td>4.27</td><td>Hawkeye, Volume 2: Little Hits</td><td>Hawkeye, Volume 2: Little Hits</td></tr><tr><td>22504701</td><td>4.27</td><td>Roller Girl</td><td>Roller Girl</td></tr><tr><td>77866</td><td>4.26</td><td>Any Human Heart</td><td>Any Human Heart</td></tr><tr><td>22608582</td><td>4.26</td><td>13 Hours: The Inside Account of What Really Happened In Benghazi</td><td>13 Hours: The Inside Account of What Really Happened In Benghazi</td></tr><tr><td>330944</td><td>4.26</td><td>The Field of Swords (Emperor, #3)</td><td>The Field of Swords (Emperor, #3)</td></tr><tr><td>25790</td><td>4.26</td><td>The Lord of the Rings Sketchbook</td><td>The Lord of the Rings Sketchbook</td></tr><tr><td>11192642</td><td>4.26</td><td>Go the Fuck to Sleep</td><td>Go the Fuck to Sleep</td></tr><tr><td>6463967</td><td>4.26</td><td>The Big Short: Inside the Doomsday Machine</td><td>The Big Short: Inside the Doomsday Machine</td></tr><tr><td>15796700</td><td>4.26</td><td>Americanah</td><td>Americanah</td></tr><tr><td>33600</td><td>4.26</td><td>Shantaram</td><td>Shantaram</td></tr><tr><td>28881</td><td>4.26</td><td>Lamb: The Gospel According to Biff, Christ&#39;s Childhood Pal</td><td>Lamb: The Gospel According to Biff, Christ&#39;s Childhood Pal</td></tr><tr><td>15753740</td><td>4.26</td><td>The Storyteller</td><td>The Storyteller</td></tr><tr><td>9375</td><td>4.26</td><td>Fried Green Tomatoes at the Whistle Stop Cafe</td><td>Fried Green Tomatoes at the Whistle Stop Cafe</td></tr><tr><td>11870085</td><td>4.26</td><td>The Fault in Our Stars</td><td>The Fault in Our Stars</td></tr><tr><td>77203</td><td>4.26</td><td>The Kite Runner </td><td>The Kite Runner</td></tr><tr><td>49221</td><td>4.26</td><td>A Grief Observed</td><td>A Grief Observed</td></tr><tr><td>5632446</td><td>4.26</td><td>Columbine</td><td>Columbine</td></tr><tr><td>16130</td><td>4.26</td><td>Alexander Hamilton</td><td>Alexander Hamilton</td></tr><tr><td>353814</td><td>4.26</td><td>The Charm School</td><td>The Charm School</td></tr><tr><td>203220</td><td>4.26</td><td>Les Fleurs du mal</td><td>Les Fleurs du Mal</td></tr><tr><td>19547856</td><td>4.26</td><td>Simon vs. the Homo Sapiens Agenda</td><td>Simon vs. the Homo Sapiens Agenda</td></tr><tr><td>9943</td><td>4.26</td><td>The Atonement Child</td><td>The Atonement Child</td></tr><tr><td>120231</td><td>4.26</td><td>Barefoot Contessa Family Style: Easy Ideas and Recipes That Make Everyone Feel Like Family</td><td>Barefoot Contessa Family Style: Easy Ideas and Recipes That Make Everyone Feel Like Family</td></tr><tr><td>95607</td><td>4.26</td><td>Unveiled: Tamar (Lineage of Grace #1)</td><td>Unveiled: Tamar (Lineage of Grace #1)</td></tr><tr><td>169331</td><td>4.26</td><td>Addicted</td><td>Addicted</td></tr><tr><td>153779</td><td>4.26</td><td>Bloodhound (Beka Cooper, #2)</td><td>Bloodhound (Beka Cooper, #2)</td></tr><tr><td>23731881</td><td>4.26</td><td>Very Good Lives: The Fringe Benefits of Failure and the Importance of Imagination</td><td>Very Good Lives: The Fringe Benefits of Failure and the Importance of Imagination</td></tr><tr><td>19552</td><td>4.26</td><td>Essentials of Classic Italian Cooking</td><td>Essentials of Classic Italian Cooking</td></tr><tr><td>15752115</td><td>4.26</td><td>Batman, Volume 2: The City of Owls</td><td>Batman, Volume 2: The City of Owls</td></tr><tr><td>825377</td><td>4.26</td><td>The Dot</td><td>The Dot</td></tr><tr><td>13547504</td><td>4.26</td><td>Far from the Tree: Parents, Children, and the Search for Identity</td><td>Far from the Tree: Parents, Children, and the Search for Identity</td></tr><tr><td>14481</td><td>4.25</td><td>Come Back, Amelia Bedelia</td><td>Come Back, Amelia Bedelia</td></tr><tr><td>42435</td><td>4.25</td><td>In Harm&#39;s Way: The Sinking of the U.S.S. Indianapolis and the Extraordinary Story of Its Survivors</td><td>In Harm&#39;s Way: The Sinking of the U.S.S. Indianapolis and the Extraordinary Story of Its Survivors</td></tr><tr><td>1170158</td><td>4.25</td><td>The Earthsea Trilogy</td><td>The Earthsea Trilogy</td></tr><tr><td>7268995</td><td>4.25</td><td>A Sick Day for Amos McGee</td><td>A Sick Day for Amos McGee</td></tr><tr><td>609035</td><td>4.25</td><td>Foxe&#39;s Book of Martyrs</td><td>Foxe&#39;s Book of Martyrs</td></tr><tr><td>133241</td><td>4.25</td><td>Saving Grace</td><td>Saving Grace</td></tr><tr><td>31314</td><td>4.25</td><td>Barnyard Dance</td><td>Barnyard Dance</td></tr><tr><td>3885</td><td>4.25</td><td>The Taste of Home Cookbook</td><td>The Taste of Home Cookbook</td></tr><tr><td>394683</td><td>4.25</td><td>A Bargain for Frances</td><td>A Bargain for Frances</td></tr><tr><td>671724</td><td>4.25</td><td>The Death of Kings (Emperor, #2)</td><td>The Death of Kings (Emperor, #2)</td></tr><tr><td>31555</td><td>4.25</td><td>Phantoms in the Brain: Probing the Mysteries of the Human Mind</td><td>Phantoms in the Brain: Probing the Mysteries of the Human Mind</td></tr><tr><td>635083</td><td>4.25</td><td>Owen</td><td>Owen</td></tr><tr><td>363973</td><td>4.25</td><td>The Little Old Lady Who Was Not Afraid of Anything</td><td>The Little Old Lady Who Was Not Afraid of Anything</td></tr><tr><td>867248</td><td>4.25</td><td>Bear Snores On</td><td>Bear Snores On</td></tr><tr><td>803171</td><td>4.25</td><td>Skippyjon Jones</td><td>Skippyjon Jones</td></tr><tr><td>133486</td><td>4.25</td><td>Nicholas and Alexandra</td><td>Nicholas and Alexandra</td></tr><tr><td>225545</td><td>4.25</td><td>A Color of His Own</td><td>A Color of His Own</td></tr><tr><td>11254850</td><td>4.25</td><td>Seeds of Rebellion (Beyonders, #2)</td><td>Seeds of Rebellion (Beyonders, #2)</td></tr><tr><td>8967</td><td>4.25</td><td>Trials of Death (Cirque du Freak, #5) </td><td>Trials of Death (Cirque Du Freak, #5)</td></tr><tr><td>7954556</td><td>4.25</td><td>One Grave at a Time (Night Huntress, #6)</td><td>One Grave at a Time (Night Huntress, #6)</td></tr><tr><td>7438179</td><td>4.25</td><td>The Evolutionary Void</td><td>The Evolutionary Void</td></tr><tr><td>1422926</td><td>4.25</td><td>Frosty the Snow Man</td><td>Frosty the Snow Man</td></tr><tr><td>8564644</td><td>4.25</td><td>Little Princes: One Man&#39;s Promise to Bring Home the Lost Children of Nepal</td><td>Little Princes: One Man&#39;s Promise to Bring Home the Lost Children of Nepal</td></tr><tr><td>196951</td><td>4.25</td><td>The Hat</td><td>The Hat</td></tr><tr><td>12299419</td><td>4.25</td><td>Mystery Man (Dream Man, #1)</td><td>Mystery Man (Dream Man, #1)</td></tr><tr><td>1127996</td><td>4.25</td><td>Betty Crocker&#39;s Cookbook</td><td>Betty Crocker&#39;s Cookbook</td></tr><tr><td>40929</td><td>4.25</td><td>The Rise of Theodore Roosevelt </td><td>The Rise of Theodore Roosevelt</td></tr><tr><td>53022</td><td>4.25</td><td>The Collected Poems of W.B. Yeats</td><td>The Collected Poems of W.B. Yeats</td></tr><tr><td>5508</td><td>4.25</td><td>Anne Frank: Beyond the Diary - A Photographic Remembrance</td><td>Anne Frank: Beyond the Diary - A Photographic Remembrance</td></tr><tr><td>160149</td><td>4.25</td><td>The Call of Cthulhu and Other Weird Stories</td><td>The Call of Cthulhu and Other Weird Stories</td></tr><tr><td>6709</td><td>4.25</td><td>Practicing the Power of Now: Essential Teachings, Meditations, and Exercises from The Power of Now</td><td>Practicing the Power of Now: Essential Teachings, Meditations, and Exercises from the Power of Now</td></tr><tr><td>2657</td><td>4.25</td><td>To Kill a Mockingbird</td><td>To Kill a Mockingbird</td></tr><tr><td>21787</td><td>4.25</td><td>The Princess Bride</td><td>The Princess Bride </td></tr><tr><td>12067</td><td>4.25</td><td>Good Omens: The Nice and Accurate Prophecies of Agnes Nutter, Witch</td><td>Good Omens: The Nice and Accurate Prophecies of Agnes Nutter, Witch</td></tr><tr><td>2318271</td><td>4.25</td><td>The Last Lecture</td><td>The Last Lecture</td></tr><tr><td>5805</td><td>4.25</td><td>V for Vendetta</td><td>V for Vendetta</td></tr><tr><td>540020</td><td>4.25</td><td>The Day of the Jackal</td><td>The Day of the Jackal</td></tr><tr><td>816</td><td>4.25</td><td>Cryptonomicon</td><td>Cryptonomicon</td></tr><tr><td>13810</td><td>4.25</td><td>Magician: Master (The Riftwar Saga, #2)</td><td>Magician: Master (The Riftwar Saga, #2)</td></tr><tr><td>41918</td><td>4.25</td><td>There Are No Children Here: The Story of Two Boys Growing Up in the Other America</td><td>There are No Children Here: The Story of Two Boys Growing Up in the Other America</td></tr><tr><td>19049</td><td>4.25</td><td>What the Bleep Do We Know!?: Discovering the Endless Possibilities for Altering Your Everyday Reality</td><td>What the Bleep Do We Know!?: Discovering the Endless Possibilities for Altering Your Everyday Reality</td></tr><tr><td>141935</td><td>4.25</td><td>Curious George Visits the Library</td><td>Curious George Visits the Library</td></tr><tr><td>109515</td><td>4.25</td><td>How I Raised Myself from Failure to Success in Selling</td><td>How I Raised Myself from Failure to Success in Selling</td></tr><tr><td>6452731</td><td>4.25</td><td>Justice: What&#39;s the Right Thing to Do?</td><td>Justice: What&#39;s the Right Thing to Do?</td></tr><tr><td>487666</td><td>4.24</td><td>Beyond Band of Brothers: The War Memoirs of Major Dick Winters</td><td>Beyond Band of Brothers: The War Memoirs of Major Dick Winters</td></tr><tr><td>23196</td><td>4.24</td><td>The River Why</td><td>The River Why</td></tr><tr><td>4339</td><td>4.24</td><td>Dispatches</td><td>Dispatches</td></tr><tr><td>833550</td><td>4.24</td><td>Each Peach Pear Plum</td><td>Each Peach Pear Plum</td></tr><tr><td>2505836</td><td>4.24</td><td>Money, and the Law of Attraction: Learning to Attract Wealth, Health, and Happiness</td><td>Money, and the Law of Attraction: Learning to Attract Wealth, Health, and Happiness</td></tr><tr><td>474858</td><td>4.24</td><td>A Bad Case of Stripes</td><td>A Bad Case of Stripes</td></tr><tr><td>29801</td><td>4.24</td><td>Scott Pilgrim, Volume 2: Scott Pilgrim vs. The World</td><td>Scott Pilgrim, Volume 2: Scott Pilgrim vs. The World</td></tr><tr><td>8682</td><td>4.24</td><td>Jitterbug Perfume</td><td>Jitterbug Perfume</td></tr><tr><td>1301</td><td>4.24</td><td>Moneyball: The Art of Winning an Unfair Game</td><td>Moneyball: The Art of Winning an Unfair Game</td></tr><tr><td>11594337</td><td>4.24</td><td>The One and Only Ivan</td><td>The One and Only Ivan</td></tr><tr><td>98573</td><td>4.24</td><td>Harold and the Purple Crayon</td><td>Harold and the Purple Crayon</td></tr><tr><td>767680</td><td>4.24</td><td>If You Give a Mouse a Cookie</td><td>If You Give a Mouse a Cookie</td></tr><tr><td>14891</td><td>4.24</td><td>A Tree Grows In Brooklyn </td><td>A Tree Grows in Brooklyn</td></tr><tr><td>7445</td><td>4.24</td><td>The Glass Castle</td><td>The Glass Castle</td></tr><tr><td>1885</td><td>4.24</td><td>Pride and Prejudice</td><td>Pride and Prejudice</td></tr><tr><td>16992</td><td>4.24</td><td>Kingdom Come</td><td>Kingdom Come</td></tr><tr><td>45252</td><td>4.24</td><td>Pandora&#39;s Star</td><td>Pandora&#39;s Star</td></tr><tr><td>18077903</td><td>4.24</td><td>Creativity, Inc.: Overcoming the Unseen Forces That Stand in the Way of True Inspiration</td><td>Creativity, Inc.: Overcoming the Unseen Forces That Stand in the Way of True Inspiration</td></tr><tr><td>7039218</td><td>4.24</td><td>Once Burned (Night Prince, #1)</td><td>Once Burned (Night Prince, #1)</td></tr><tr><td>3437328</td><td>4.24</td><td>The Temporal Void</td><td>The Temporal Void</td></tr><tr><td>760168</td><td>4.24</td><td>Just Me in the Tub (Mercer Mayer&#39;s Little Critter)</td><td>Just Me in the Tub (Mercer Mayer&#39;s Little Critter)</td></tr><tr><td>25883848</td><td>4.24</td><td>The Hating Game</td><td>The Hating Game</td></tr><tr><td>8044557</td><td>4.24</td><td>All My Friends Are Dead</td><td>All My Friends Are Dead</td></tr><tr><td>529626</td><td>4.24</td><td>Sometimes a Great Notion</td><td>Sometimes a Great Notion</td></tr><tr><td>1409344</td><td>4.24</td><td>Driving Miss Daisy</td><td>Driving Miss Daisy</td></tr><tr><td>5983694</td><td>4.24</td><td>Where the Mountain Meets the Moon</td><td>Where the Mountain Meets the Moon</td></tr><tr><td>773606</td><td>4.24</td><td>Madeline&#39;s Rescue</td><td>Madeline&#39;s Rescue</td></tr><tr><td>588138</td><td>4.24</td><td>The Hero with a Thousand Faces</td><td>The Hero With a Thousand Faces</td></tr><tr><td>18999</td><td>4.24</td><td>Smiley&#39;s People</td><td>Smiley&#39;s People</td></tr><tr><td>318742</td><td>4.24</td><td>The Souls of Black Folk</td><td>The Souls of Black Folk</td></tr><tr><td>13634927</td><td>4.24</td><td>A Leaf on the Wind of All Hallows (Outlander, #8.5)</td><td>A Leaf on the Wind of All Hallows (Outlander, #8.5)</td></tr><tr><td>17661831</td><td>4.24</td><td>The Orenda</td><td>The Orenda</td></tr><tr><td>676</td><td>4.24</td><td>Sailing Alone Around the Room: New and Selected Poems</td><td>Sailing Alone Around the Room: New and Selected Poems</td></tr><tr><td>25813937</td><td>4.24</td><td>Glory over Everything: Beyond The Kitchen House</td><td>Glory over Everything: Beyond The Kitchen House</td></tr><tr><td>291364</td><td>4.24</td><td>Curious George Rides a Bike</td><td>Curious George Rides a Bike</td></tr><tr><td>82888</td><td>4.24</td><td>Dom Casmurro</td><td>Dom Casmurro</td></tr><tr><td>389763</td><td>4.24</td><td>Change Your Thoughts - Change Your Life: Living the Wisdom of the Tao</td><td>Change Your Thoughts - Change Your Life: Living the Wisdom of the Tao</td></tr><tr><td>539904</td><td>4.24</td><td>A Bridge Too Far</td><td>A Bridge Too Far</td></tr><tr><td>819667</td><td>4.23</td><td>Snowmen at Night</td><td>Snowmen at Night</td></tr><tr><td>87264</td><td>4.23</td><td>Memórias Póstumas de Brás Cubas</td><td>Memórias Póstumas de Brás Cubas</td></tr><tr><td>13531024</td><td>4.23</td><td>This is Not My Hat</td><td>This is Not My Hat</td></tr><tr><td>255458</td><td>4.23</td><td>Systematic Theology: An Introduction to Biblical Doctrine</td><td>Systematic Theology: An Introduction to Biblical Doctrine</td></tr><tr><td>5552</td><td>4.23</td><td>QED: The Strange Theory of Light and Matter</td><td>QED: The Strange Theory of Light and Matter</td></tr><tr><td>73385</td><td>4.23</td><td>A Knight in Shining Armor</td><td>A Knight in Shining Armor</td></tr><tr><td>2815949</td><td>4.23</td><td>Barefoot Contessa Back to Basics</td><td>Barefoot Contessa Back to Basics</td></tr><tr><td>8968</td><td>4.23</td><td>The Vampire Prince (Cirque Du Freak, #6)</td><td>The Vampire Prince (Cirque Du Freak, #6)</td></tr><tr><td>87665</td><td>4.23</td><td>Orthodoxy</td><td>Orthodoxy</td></tr><tr><td>95693</td><td>4.23</td><td>The Blue Castle</td><td>The Blue Castle </td></tr><tr><td>368772</td><td>4.23</td><td>The Caine Mutiny</td><td>The Caine Mutiny</td></tr><tr><td>246468</td><td>4.23</td><td>The Jordan Rules</td><td>The Jordan Rules</td></tr><tr><td>53343</td><td>4.23</td><td>On Writing Well: The Classic Guide to Writing Nonfiction</td><td>On Writing Well: The Classic Guide to Writing Nonfiction</td></tr><tr><td>25078</td><td>4.23</td><td>Savage Inequalities: Children in America&#39;s Schools</td><td>Savage Inequalities: Children in America&#39;s Schools</td></tr><tr><td>173526</td><td>4.23</td><td>The Ragamuffin Gospel: Good News for the Bedraggled, Beat-Up, and Burnt Out</td><td>The Ragamuffin Gospel: Good News for the Bedraggled, Beat-Up, and Burnt Out</td></tr><tr><td>4477</td><td>4.23</td><td>Complications: A Surgeon&#39;s Notes on an Imperfect Science</td><td>Complications: A Surgeon&#39;s Notes on an Imperfect Science</td></tr><tr><td>586472</td><td>4.23</td><td>The Right Stuff</td><td>The Right Stuff</td></tr><tr><td>395090</td><td>4.23</td><td>Ariel</td><td>Ariel</td></tr><tr><td>808853</td><td>4.23</td><td>The Complete Adventures of Curious George</td><td>The Complete Adventures of Curious George</td></tr><tr><td>6882</td><td>4.23</td><td>Papillon </td><td>Papillon</td></tr><tr><td>7501962</td><td>4.23</td><td>Bonhoeffer: Pastor, Martyr, Prophet, Spy</td><td>Bonhoeffer: Pastor, Martyr, Prophet, Spy</td></tr><tr><td>400412</td><td>4.23</td><td>The Waste Land and Other Poems</td><td>The Waste Land and Other Poems</td></tr><tr><td>3609760</td><td>4.23</td><td>Twilight: The Complete Illustrated Movie Companion</td><td>Twilight: The Complete Illustrated Movie Companion</td></tr><tr><td>567795</td><td>4.23</td><td>The Five Love Languages: How to Express Heartfelt Commitment to Your Mate</td><td>The Five Love Languages: How to Express Heartfelt Commitment to Your Mate</td></tr><tr><td>18079776</td><td>4.23</td><td>The Invention of Wings</td><td>The Invention of Wings</td></tr><tr><td>59980</td><td>4.23</td><td>Batman: Year One</td><td>Batman: Year One</td></tr><tr><td>9673436</td><td>4.23</td><td>The Invention of Hugo Cabret</td><td>The Invention of Hugo Cabret</td></tr><tr><td>1848</td><td>4.23</td><td>Wild Swans: Three Daughters of China</td><td>Wild Swans: Three Daughters of China</td></tr><tr><td>766955</td><td>4.23</td><td>Click, Clack, Moo: Cows That Type</td><td>Click, Clack, Moo: Cows That Type</td></tr><tr><td>826585</td><td>4.23</td><td>If You Give a Pig a Pancake </td><td>If You Give a Pig a Pancake </td></tr><tr><td>1099097</td><td>4.23</td><td>The Tiger Who Came to Tea</td><td>The Tiger Who Came to Tea</td></tr><tr><td>241387</td><td>4.23</td><td>When Crickets Cry</td><td>When Crickets Cry</td></tr><tr><td>385255</td><td>4.23</td><td>Random Family: Love, Drugs, Trouble, and Coming of Age in the Bronx</td><td>Random Family: Love, Drugs, Trouble, and Coming of Age in the Bronx</td></tr><tr><td>9018370</td><td>4.23</td><td>The Walking Dead, Vol. 13: Too Far Gone</td><td>The Walking Dead, Vol. 13: Too Far Gone</td></tr><tr><td>52318</td><td>4.22</td><td>Wild Seed (Patternmaster, #1)</td><td>Wild Seed (Patternmaster, #1)</td></tr><tr><td>26599</td><td>4.22</td><td>Selected Poems</td><td>Selected Poems</td></tr><tr><td>209631</td><td>4.22</td><td>Cinderella</td><td>Cinderella</td></tr><tr><td>21086818</td><td>4.22</td><td>Do No Harm: Stories of Life, Death and Brain Surgery</td><td>Do No Harm: Stories of Life, Death and Brain Surgery</td></tr><tr><td>33288638</td><td>4.22</td><td>Wait for It</td><td>Wait for It</td></tr><tr><td>12543</td><td>4.22</td><td>Bird by Bird: Some Instructions on Writing and Life</td><td>Bird by Bird: Some Instructions on Writing and Life</td></tr><tr><td>581409</td><td>4.22</td><td>Strega Nona</td><td>Strega Nona</td></tr><tr><td>786256</td><td>4.22</td><td>Stellaluna</td><td>Stellaluna</td></tr><tr><td>378</td><td>4.22</td><td>The Phantom Tollbooth</td><td>The Phantom Tollbooth</td></tr><tr><td>16735</td><td>4.22</td><td>The Prince of Tides</td><td>The Prince of Tides</td></tr><tr><td>2547</td><td>4.22</td><td>The Prophet</td><td>The Prophet</td></tr><tr><td>6319</td><td>4.22</td><td>The BFG</td><td>The BFG</td></tr><tr><td>46677</td><td>4.22</td><td>Alexander and the Terrible, Horrible, No Good, Very Bad Day</td><td>Alexander and the Terrible, Horrible, No Good, Very Bad Day</td></tr><tr><td>3412</td><td>4.22</td><td>The Thorn Birds</td><td>The Thorn Birds</td></tr><tr><td>4473</td><td>4.22</td><td>A Prayer for Owen Meany</td><td>A Prayer for Owen Meany</td></tr><tr><td>19543</td><td>4.22</td><td>Where the Wild Things Are</td><td>Where the Wild Things Are</td></tr><tr><td>201146</td><td>4.22</td><td>Little Bear</td><td>Little Bear</td></tr><tr><td>639864</td><td>4.22</td><td>Autobiography of a Yogi</td><td>Autobiography of a Yogi</td></tr><tr><td>214614</td><td>4.22</td><td>Desert Solitaire</td><td>Desert Solitaire</td></tr><tr><td>899492</td><td>4.22</td><td>The Tell-Tale Heart</td><td>The Tell-Tale Heart</td></tr><tr><td>899962</td><td>4.22</td><td>Curious George Goes to the Hospital</td><td>Curious George Goes to the Hospital</td></tr><tr><td>1237300</td><td>4.22</td><td>The Shock Doctrine: The Rise of Disaster Capitalism</td><td>The Shock Doctrine: The Rise of Disaster Capitalism</td></tr><tr><td>65497</td><td>4.22</td><td>Love Comes Softly (Love Comes Softly, #1)</td><td>Love Comes Softly (Love Comes Softly, #1)</td></tr><tr><td>857501</td><td>4.22</td><td>Hand, Hand, Fingers, Thumb</td><td>Hand, Hand, Fingers, Thumb</td></tr><tr><td>93797</td><td>4.22</td><td>The Unlikely Spy</td><td>The Unlikely Spy</td></tr><tr><td>669570</td><td>4.22</td><td>Dragon Slippers (Dragon Slippers, #1)</td><td>Dragon Slippers (Dragon Slippers, #1)</td></tr><tr><td>8949</td><td>4.22</td><td>Lord of the Shadows (Cirque Du Freak, #11)</td><td>Lord of the Shadows (Cirque Du Freak, #11)</td></tr><tr><td>7519640</td><td>4.22</td><td>WAR</td><td>War</td></tr><tr><td>120840</td><td>4.22</td><td>David Gets in Trouble</td><td>David Gets In Trouble</td></tr><tr><td>107774</td><td>4.22</td><td>Honor&#39;s Splendour</td><td>Honor&#39;s Splendour</td></tr><tr><td>171020</td><td>4.22</td><td>A Mango-Shaped Space</td><td>A Mango-Shaped Space</td></tr><tr><td>107772</td><td>4.22</td><td>The Prize</td><td>The Prize</td></tr><tr><td>8952</td><td>4.22</td><td>Killers of the Dawn (Cirque Du Freak, #9)</td><td>Killers of the Dawn (Cirque Du Freak, #9)</td></tr><tr><td>53580</td><td>4.22</td><td>The Going-To-Bed Book</td><td>The Going-To-Bed Book</td></tr><tr><td>1166131</td><td>4.22</td><td>The Recruit (Cherub, #1)</td><td>The Recruit (Cherub, #1)</td></tr><tr><td>38412</td><td>4.22</td><td>Fermat&#39;s Enigma: The Epic Quest to Solve the World&#39;s Greatest Mathematical Problem</td><td>Fermat&#39;s Enigma: The Epic Quest to Solve the World&#39;s Greatest Mathematical Problem</td></tr><tr><td>206731</td><td>4.22</td><td>The Tibetan Book of Living and Dying</td><td>The Tibetan Book of Living and Dying</td></tr><tr><td>18263725</td><td>4.22</td><td>The Crossover</td><td>The Crossover</td></tr><tr><td>921651</td><td>4.22</td><td>Just Go to Bed</td><td>Just Go to Bed</td></tr><tr><td>781182</td><td>4.22</td><td>Barbarians at the Gate: The Fall of RJR Nabisco</td><td>Barbarians at the Gate: The Fall of RJR Nabisco</td></tr><tr><td>43081</td><td>4.22</td><td>Marching Powder: A True Story of Friendship, Cocaine, and South America&#39;s Strangest Jail</td><td>Marching Powder: A True Story of Friendship, Cocaine, and South America&#39;s Strangest Jail</td></tr><tr><td>858514</td><td>4.22</td><td>Wemberly Worried</td><td>Wemberly Worried</td></tr><tr><td>7006562</td><td>4.22</td><td>Stephen King&#39;s N.</td><td>Stephen King&#39;s N.</td></tr><tr><td>21025</td><td>4.22</td><td>The Gift of Therapy: An Open Letter to a New Generation of Therapists and Their Patients</td><td>The Gift of Therapy: An Open Letter to a New Generation of Therapists and Their Patients</td></tr><tr><td>173572</td><td>4.22</td><td>Where Is God When It Hurts?</td><td>Where Is God When It Hurts?</td></tr><tr><td>17443673</td><td>4.22</td><td>A Different Blue</td><td>A Different Blue</td></tr><tr><td>29104680</td><td>4.22</td><td>Punk 57</td><td>Punk 57</td></tr><tr><td>12617</td><td>4.22</td><td>Manufacturing Consent: The Political Economy of the Mass Media</td><td>Manufacturing Consent: The Political Economy of the Mass Media</td></tr><tr><td>28747</td><td>4.22</td><td>CivilWarLand in Bad Decline</td><td>CivilWarLand in Bad Decline</td></tr><tr><td>25817162</td><td>4.22</td><td>America&#39;s First Daughter</td><td>America&#39;s First Daughter</td></tr><tr><td>11699349</td><td>4.22</td><td>The Lions of Little Rock</td><td>The Lions of Little Rock</td></tr><tr><td>17798233</td><td>4.22</td><td>Rome (Marked Men, #3)</td><td>Rome (Marked Men, #3)</td></tr><tr><td>138872</td><td>4.21</td><td>Follow the River</td><td>Follow the River</td></tr><tr><td>894072</td><td>4.21</td><td>The Little Red Caboose (Little Golden Book)</td><td>The Little Red Caboose (Little Golden Book)</td></tr><tr><td>899608</td><td>4.21</td><td>A Fish Out of Water</td><td>A Fish Out of Water</td></tr><tr><td>394772</td><td>4.21</td><td>The Mixed-Up Chameleon</td><td>The Mixed-Up Chameleon</td></tr><tr><td>2678349</td><td>4.21</td><td>استمتع بحياتك</td><td>استمتع بحياتك</td></tr><tr><td>159061</td><td>4.21</td><td>Go Away, Big Green Monster!</td><td>Go Away, Big Green Monster!</td></tr><tr><td>1022866</td><td>4.21</td><td>Run Baby Run</td><td>Run Baby Run</td></tr><tr><td>122211</td><td>4.21</td><td>Disappearing Acts</td><td>Disappearing Acts</td></tr><tr><td>9542259</td><td>4.21</td><td>Envy (Fallen Angels, #3)</td><td>Envy (Fallen Angels, #3)</td></tr><tr><td>952</td><td>4.21</td><td>The Five Love Languages of Children</td><td>The Five Love Languages of Children</td></tr><tr><td>18422</td><td>4.21</td><td>Gifted Hands: The Ben Carson Story</td><td>Gifted Hands: The Ben Carson Story</td></tr><tr><td>8676</td><td>4.21</td><td>Unlimited Power : The New Science Of Personal Achievement</td><td>Unlimited Power : The New Science Of Personal Achievement</td></tr><tr><td>73086</td><td>4.21</td><td>Kiss an Angel </td><td>Kiss an Angel</td></tr><tr><td>101249</td><td>4.21</td><td>I&#39;m Just Here for the Food: Food + Heat = Cooking</td><td>I&#39;m Just Here for the Food: Food + Heat = Cooking</td></tr><tr><td>2897258</td><td>4.21</td><td>The Heretic Queen</td><td>The Heretic Queen</td></tr><tr><td>16982</td><td>4.21</td><td>Marvels</td><td>Marvels</td></tr><tr><td>3895</td><td>4.21</td><td>The Barefoot Contessa Cookbook</td><td>The Barefoot Contessa Cookbook</td></tr><tr><td>598159</td><td>4.21</td><td>Panda Bear, Panda Bear, What Do You See?</td><td>Panda Bear, Panda Bear, What Do You See?</td></tr><tr><td>24094</td><td>4.21</td><td>Wolf-Speaker (Immortals, #2)</td><td>Wolf-Speaker (Immortals, #2)</td></tr><tr><td>15793184</td><td>4.21</td><td>Calling Me Home</td><td>Calling Me Home</td></tr><tr><td>22327</td><td>4.21</td><td>The Miracle Worker</td><td>The Miracle Worker</td></tr><tr><td>509784</td><td>4.21</td><td>The End of Eternity</td><td>The End of Eternity</td></tr><tr><td>38462</td><td>4.21</td><td>Giovanni&#39;s Room</td><td>Giovanni&#39;s Room</td></tr><tr><td>133430</td><td>4.21</td><td>Centennial</td><td>Centennial</td></tr><tr><td>53817</td><td>4.21</td><td>What&#39;s So Amazing About Grace?</td><td>What&#39;s So Amazing About Grace?</td></tr><tr><td>67238</td><td>4.21</td><td>Dead Poets Society </td><td>Dead Poets Society</td></tr><tr><td>76401</td><td>4.21</td><td>Bury My Heart at Wounded Knee: An Indian History of the American West</td><td>Bury My Heart at Wounded Knee: An Indian History of the American West</td></tr><tr><td>11607446</td><td>4.21</td><td>The Wishing Spell (The Land of Stories, #1)</td><td>The Wishing Spell (The Land of Stories, #1)</td></tr><tr><td>551876</td><td>4.21</td><td>Tikki Tikki Tembo</td><td>Tikki Tikki Tembo</td></tr><tr><td>22628</td><td>4.21</td><td>The Perks of Being a Wallflower</td><td>The Perks of Being a Wallflower</td></tr><tr><td>112204</td><td>4.21</td><td>The Complete Poems of Emily Dickinson</td><td>The Complete Poems of Emily Dickinson</td></tr><tr><td>29291</td><td>4.21</td><td>Make Way for Ducklings</td><td>Make Way for Ducklings</td></tr><tr><td>293595</td><td>4.21</td><td>Chicka Chicka Boom Boom</td><td>Chicka Chicka Boom Boom</td></tr><tr><td>9592</td><td>4.21</td><td>Mother Night</td><td>Mother Night</td></tr><tr><td>104189</td><td>4.21</td><td>Same Kind of Different as Me</td><td>Same Kind of Different as Me</td></tr><tr><td>10235</td><td>4.21</td><td>Mountains Beyond Mountains: The Quest of Dr. Paul Farmer, a Man Who Would Cure the World</td><td>Mountains Beyond Mountains: The Quest of Dr. Paul Farmer, A Man Who Would Cure the World</td></tr><tr><td>209966</td><td>4.21</td><td>Planetary, Volume 1: All Over the World and Other Stories</td><td>Planetary, Volume 1: All Over the World and Other Stories</td></tr><tr><td>227492</td><td>4.21</td><td>Friends and Lovers</td><td>Friends and Lovers</td></tr><tr><td>16170625</td><td>4.21</td><td>المانيفستو</td><td>المانيفستو</td></tr><tr><td>129327</td><td>4.2</td><td>The Case of Charles Dexter Ward</td><td>The Case of Charles Dexter Ward</td></tr><tr><td>395220</td><td>4.2</td><td>Zami: A New Spelling of My Name</td><td>Zami: A New Spelling of My Name</td></tr><tr><td>1376220</td><td>4.2</td><td>Hafalan Shalat Delisa</td><td>Hafalan Shalat Delisa</td></tr><tr><td>2437710</td><td>4.2</td><td>August: Osage County</td><td>August: Osage County</td></tr><tr><td>162823</td><td>4.2</td><td>The Case-Book of Sherlock Holmes</td><td>The Case-Book of Sherlock Holmes</td></tr><tr><td>769712</td><td>4.2</td><td>Palestine</td><td>Palestine</td></tr><tr><td>2865944</td><td>4.2</td><td>If You Give a Cat a Cupcake</td><td>If You Give a Cat a Cupcake</td></tr><tr><td>81227</td><td>4.2</td><td>Infidel</td><td>Infidel</td></tr><tr><td>407429</td><td>4.2</td><td>The Stinky Cheese Man and Other Fairly Stupid Tales</td><td>The Stinky Cheese Man and Other Fairly Stupid Tales</td></tr><tr><td>5759</td><td>4.2</td><td>Fight Club</td><td>Fight Club</td></tr><tr><td>19486412</td><td>4.2</td><td>Big Little Lies</td><td>Big Little Lies</td></tr><tr><td>12873</td><td>4.2</td><td>Rebecca</td><td>Rebecca</td></tr><tr><td>3008</td><td>4.2</td><td>A Little Princess</td><td>A Little Princess</td></tr><tr><td>772852</td><td>4.2</td><td>The Cross and the Switchblade</td><td>The Cross and the Switchblade</td></tr><tr><td>18600</td><td>4.2</td><td>Touching the Void: The True Story of One Man&#39;s Miraculous Survival</td><td>Touching the Void: The True Story of One Man&#39;s Miraculous Survival</td></tr><tr><td>205330</td><td>4.2</td><td>There Was an Old Lady Who Swallowed a Fly</td><td>There Was an Old Lady Who Swallowed a Fly</td></tr><tr><td>1858013</td><td>4.2</td><td>The Reason for God: Belief in an Age of Skepticism</td><td>The Reason for God: Belief in an Age of Skepticism</td></tr><tr><td>19351043</td><td>4.2</td><td>Nimona</td><td>Nimona</td></tr><tr><td>153542</td><td>4.2</td><td>Mike Mulligan and His Steam Shovel</td><td>Mike Mulligan and His Steam Shovel</td></tr><tr><td>11010251</td><td>4.2</td><td>The Lost Wife</td><td>The Lost Wife</td></tr><tr><td>18039963</td><td>4.2</td><td>A House in the Sky</td><td>A House in the Sky</td></tr><tr><td>773276</td><td>4.2</td><td>Good Night, Gorilla</td><td>Good Night, Gorilla</td></tr><tr><td>229123</td><td>4.2</td><td>Christy</td><td>Christy</td></tr><tr><td>228696</td><td>4.2</td><td>Owl Moon</td><td>Owl Moon</td></tr><tr><td>31426</td><td>4.2</td><td>The Collected Poems</td><td>The Collected Poems</td></tr><tr><td>10222</td><td>4.2</td><td>The Far Pavilions</td><td>The Far Pavilions</td></tr><tr><td>2479827</td><td>4.2</td><td>Eragon, Eldest &amp; Brisingr (Inheritance, #1-3)</td><td>Eragon, Eldest &amp; Brisingr (Inheritance, #1-3)</td></tr><tr><td>16303287</td><td>4.2</td><td>The Bane Chronicles</td><td>The Bane Chronicles</td></tr><tr><td>835202</td><td>4.2</td><td>A Chair for My Mother </td><td>A Chair for My Mother</td></tr><tr><td>231585</td><td>4.2</td><td>Small Sacrifices: A True Story of Passion and Murder</td><td>Small Sacrifices: A True Story of Passion and Murder</td></tr><tr><td>219919</td><td>4.2</td><td>The Robe</td><td>The Robe</td></tr><tr><td>1433337</td><td>4.2</td><td>ABNKKBSNPLAKo?! (Mga Kwentong Chalk ni Bob Ong)</td><td>ABNKKBSNPLAKo?! (Mga Kwentong Chalk ni Bob Ong)</td></tr><tr><td>782854</td><td>4.2</td><td>Eloise</td><td>Eloise </td></tr><tr><td>570172</td><td>4.2</td><td>The Brain That Changes Itself: Stories of Personal Triumph from the Frontiers of Brain Science</td><td>The Brain That Changes Itself: Stories of Personal Triumph from the Frontiers of Brain Science</td></tr><tr><td>911579</td><td>4.2</td><td>Bread and Jam for Frances</td><td>Bread and Jam for Frances</td></tr><tr><td>110384</td><td>4.2</td><td>Romancing Mister Bridgerton (Bridgertons, #4)</td><td>Romancing Mister Bridgerton (Bridgertons, #4)</td></tr><tr><td>63032</td><td>4.2</td><td>2666</td><td>2666</td></tr><tr><td>18176747</td><td>4.2</td><td>The Hard Thing about Hard Things: Building A Business When There Are No Easy Answers</td><td>The Hard Thing About Hard Things: Building a Business When There Are No Easy Answers</td></tr><tr><td>18728</td><td>4.2</td><td>No Ordinary Time: Franklin and Eleanor Roosevelt: The Home Front in World War II</td><td>No Ordinary Time: Franklin and Eleanor Roosevelt: The Home Front in World War II</td></tr><tr><td>825081</td><td>4.2</td><td>Lilly&#39;s Purple Plastic Purse</td><td>Lilly&#39;s Purple Plastic Purse</td></tr><tr><td>867650</td><td>4.2</td><td>The Little Red Hen (Little Golden Book)</td><td>The Little Red Hen (Little Golden Book)</td></tr><tr><td>23341894</td><td>4.2</td><td>Every Last Word</td><td>Every Last Word</td></tr><tr><td>7940589</td><td>4.2</td><td>Malcolm X: A Life of Reinvention</td><td>Malcolm X: A Life of Reinvention</td></tr><tr><td>981463</td><td>4.2</td><td>The Relatives Came</td><td>The Relatives Came</td></tr><tr><td>11133791</td><td>4.2</td><td>Tilt</td><td>Tilt</td></tr><tr><td>153136</td><td>4.2</td><td>The Cake Bible</td><td>The Cake Bible</td></tr><tr><td>84927</td><td>4.2</td><td>Amadeus</td><td>Amadeus</td></tr><tr><td>367802</td><td>4.2</td><td>Collected Poems</td><td>Collected Poems</td></tr><tr><td>14082</td><td>4.2</td><td>Malgudi Days</td><td>Malgudi Days</td></tr><tr><td>9864913</td><td>4.2</td><td>Jaya: An Illustrated Retelling of the Mahabharata</td><td>Jaya: An Illustrated Retelling of the Mahabharata</td></tr><tr><td>29393</td><td>4.2</td><td>Our Band Could Be Your Life: Scenes from the American Indie Underground 1981-1991</td><td>Our Band Could Be Your Life: Scenes from the American Indie Underground 1981-1991</td></tr><tr><td>120461</td><td>4.2</td><td>Oscar et la dame rose</td><td>Oscar et la dame rose</td></tr></table>"
                    },
                    "metadata": {}
                }
            ],
            "execution_count": 29
        },
        {
            "cell_type": "markdown",
            "source": [
                "## QUESTION 4:  Thisbe\n",
                "\n",
                "Thisbe is planning to make a long-term display of popular books that she will update monthly, reflecting different time periods.  She wants to make it reader-centric by including titles that readers have averagely rated higher than the book's actual average rating. \n",
                "\n",
                "**Part A:**   Write a query that compares the publication time with average reader ratings.\n",
                "\n",
                "**Part B:**  She wants the list ordered by year, then the book title"
            ],
            "metadata": {
                "azdata_cell_guid": "c3cb4fa8-802c-4130-8740-2adf20ec6a15"
            },
            "attachments": {}
        },
        {
            "cell_type": "code",
            "source": [
                "--select book_id,AVG(rating) as Average_reader_rating from BooksDB.dbo.ratings GROUP by book_id \r\n",
                "\r\n",
                "select book_id,original_title,title,original_publication_year from BooksDB.dbo.books where book_id in(\r\n",
                "select book_id from BooksDB.dbo.ratings GROUP by book_id HAVING AVG(BooksDB.dbo.ratings.rating)>BooksDB.dbo.books.average_rating) order by original_publication_year,title,book_id"
            ],
            "metadata": {
                "language": "sql",
                "azdata_cell_guid": "8a70899f-8a65-488f-a27a-5758dd26d3ce"
            },
            "outputs": [
                {
                    "output_type": "display_data",
                    "data": {
                        "text/html": "(178 rows affected)"
                    },
                    "metadata": {}
                },
                {
                    "output_type": "display_data",
                    "data": {
                        "text/html": "Total execution time: 00:00:00.281"
                    },
                    "metadata": {}
                },
                {
                    "output_type": "execute_result",
                    "execution_count": 16,
                    "data": {
                        "application/vnd.dataresource+json": {
                            "schema": {
                                "fields": [
                                    {
                                        "name": "book_id"
                                    },
                                    {
                                        "name": "original_title"
                                    },
                                    {
                                        "name": "title"
                                    },
                                    {
                                        "name": "original_publication_year"
                                    }
                                ]
                            },
                            "data": [
                                {
                                    "book_id": "1371",
                                    "original_title": "Ἰλιάς",
                                    "title": "The Iliad",
                                    "original_publication_year": "-750"
                                },
                                {
                                    "book_id": "1519",
                                    "original_title": "Ὀρέστεια",
                                    "title": "The Oresteia  (Ορέστεια, #1-3)",
                                    "original_publication_year": "-458"
                                },
                                {
                                    "book_id": "7728",
                                    "original_title": "Ἀντιγόνη",
                                    "title": "Antigone (The Theban Plays, #3)",
                                    "original_publication_year": "-441"
                                },
                                {
                                    "book_id": "1554",
                                    "original_title": "Οἰδίπους Τύραννος",
                                    "title": "Oedipus Rex  (The Theban Plays, #1)",
                                    "original_publication_year": "-430"
                                },
                                {
                                    "book_id": "1591",
                                    "original_title": "Λυσιστράτη",
                                    "title": "Lysistrata",
                                    "original_publication_year": "-411"
                                },
                                {
                                    "book_id": "2696",
                                    "original_title": "Tales of Caunterbury",
                                    "title": "The Canterbury Tales",
                                    "original_publication_year": "1390"
                                },
                                {
                                    "book_id": "3836",
                                    "original_title": "Don Quijote de La Mancha",
                                    "title": "Don Quixote",
                                    "original_publication_year": "1605"
                                },
                                {
                                    "book_id": "8852",
                                    "original_title": "The Tragedy of Macbeth",
                                    "title": "Macbeth",
                                    "original_publication_year": "1606"
                                },
                                {
                                    "book_id": "7733",
                                    "original_title": "Gulliver’s Travels",
                                    "title": "Gulliver's Travels",
                                    "original_publication_year": "1726"
                                },
                                {
                                    "book_id": "6185",
                                    "original_title": "Wuthering Heights",
                                    "title": "Wuthering Heights",
                                    "original_publication_year": "1847"
                                },
                                {
                                    "book_id": "7186",
                                    "original_title": "La Dame aux camélias",
                                    "title": "La Dame aux Camélias",
                                    "original_publication_year": "1848"
                                },
                                {
                                    "book_id": "5344",
                                    "original_title": "Hard Times: For These Times",
                                    "title": "Hard Times",
                                    "original_publication_year": "1854"
                                },
                                {
                                    "book_id": "2175",
                                    "original_title": "Madame Bovary",
                                    "title": "Madame Bovary",
                                    "original_publication_year": "1856"
                                },
                                {
                                    "book_id": "2623",
                                    "original_title": "Great Expectations",
                                    "title": "Great Expectations",
                                    "original_publication_year": "1860"
                                },
                                {
                                    "book_id": "93",
                                    "original_title": "Heidi",
                                    "title": "Heidi",
                                    "original_publication_year": "1880"
                                },
                                {
                                    "book_id": "295",
                                    "original_title": "Treasure Island",
                                    "title": "Treasure Island",
                                    "original_publication_year": "1882"
                                },
                                {
                                    "book_id": "2956",
                                    "original_title": "The Adventures of Huckleberry Finn",
                                    "title": "The Adventures of Huckleberry Finn",
                                    "original_publication_year": "1884"
                                },
                                {
                                    "book_id": "4921",
                                    "original_title": "Three Men in a Boat (To Say Nothing of the Dog)",
                                    "title": "Three Men in a Boat (Three Men, #1)",
                                    "original_publication_year": "1889"
                                },
                                {
                                    "book_id": "2493",
                                    "original_title": "The Time Machine",
                                    "title": "The Time Machine",
                                    "original_publication_year": "1895"
                                },
                                {
                                    "book_id": "8909",
                                    "original_title": "The War of the Worlds",
                                    "title": "The War of the Worlds",
                                    "original_publication_year": "1897"
                                },
                                {
                                    "book_id": "5659",
                                    "original_title": "The Wind in the Willows",
                                    "title": "The Wind in the Willows",
                                    "original_publication_year": "1908"
                                },
                                {
                                    "book_id": "7714",
                                    "original_title": "Pygmalion",
                                    "title": "Pygmalion",
                                    "original_publication_year": "1912"
                                },
                                {
                                    "book_id": "291",
                                    "original_title": "الأجنحة المتكسرة",
                                    "title": "The Broken Wings",
                                    "original_publication_year": "1912"
                                },
                                {
                                    "book_id": "9784",
                                    "original_title": "Women in Love",
                                    "title": "Women in Love (Brangwen Family, #2)",
                                    "original_publication_year": "1920"
                                },
                                {
                                    "book_id": "4708",
                                    "original_title": "The Beautiful and Damned",
                                    "title": "The Beautiful and Damned",
                                    "original_publication_year": "1922"
                                },
                                {
                                    "book_id": "5129",
                                    "original_title": "Brave New World",
                                    "title": "Brave New World",
                                    "original_publication_year": "1932"
                                },
                                {
                                    "book_id": "2978",
                                    "original_title": "Lost Horizon",
                                    "title": "Lost Horizon",
                                    "original_publication_year": "1933"
                                },
                                {
                                    "book_id": "8732",
                                    "original_title": "The Red Pony",
                                    "title": "The Red Pony",
                                    "original_publication_year": "1933"
                                },
                                {
                                    "book_id": "9650",
                                    "original_title": "Burmese Days",
                                    "title": "Burmese Days",
                                    "original_publication_year": "1934"
                                },
                                {
                                    "book_id": "890",
                                    "original_title": "Of Mice and Men ",
                                    "title": "Of Mice and Men",
                                    "original_publication_year": "1937"
                                },
                                {
                                    "book_id": "250",
                                    "original_title": "Tropic of Capricorn",
                                    "title": "Tropic of Capricorn",
                                    "original_publication_year": "1938"
                                },
                                {
                                    "book_id": "3690",
                                    "original_title": "The Power and the Glory",
                                    "title": "The Power and the Glory",
                                    "original_publication_year": "1940"
                                },
                                {
                                    "book_id": "7613",
                                    "original_title": "Animal Farm: A Fairy Story",
                                    "title": "Animal Farm",
                                    "original_publication_year": "1945"
                                },
                                {
                                    "book_id": "3692",
                                    "original_title": "The Heart of the Matter",
                                    "title": "The Heart of the Matter",
                                    "original_publication_year": "1948"
                                },
                                {
                                    "book_id": "9597",
                                    "original_title": "Player Piano",
                                    "title": "Player Piano",
                                    "original_publication_year": "1952"
                                },
                                {
                                    "book_id": "4381",
                                    "original_title": "Fahrenheit 451",
                                    "title": "Fahrenheit 451",
                                    "original_publication_year": "1953"
                                },
                                {
                                    "book_id": "8296",
                                    "original_title": "The First Four Years",
                                    "title": "The First Four Years  (Little House, #9)",
                                    "original_publication_year": "1953"
                                },
                                {
                                    "book_id": "3698",
                                    "original_title": "The Quiet American",
                                    "title": "The Quiet American",
                                    "original_publication_year": "1955"
                                },
                                {
                                    "book_id": "662",
                                    "original_title": "Atlas Shrugged",
                                    "title": "Atlas Shrugged",
                                    "original_publication_year": "1957"
                                },
                                {
                                    "book_id": "5481",
                                    "original_title": "Brave New World Revisited ",
                                    "title": "Brave New World Revisited ",
                                    "original_publication_year": "1958"
                                },
                                {
                                    "book_id": "3759",
                                    "original_title": "Goldfinger",
                                    "title": "Goldfinger (James Bond, #7)",
                                    "original_publication_year": "1959"
                                },
                                {
                                    "book_id": "5849",
                                    "original_title": "A House for Mr. Biswas",
                                    "title": "A House for Mr Biswas",
                                    "original_publication_year": "1961"
                                },
                                {
                                    "book_id": "5113",
                                    "original_title": "Franny and Zooey",
                                    "title": "Franny and Zooey",
                                    "original_publication_year": "1961"
                                },
                                {
                                    "book_id": "6689",
                                    "original_title": "James and the Giant Peach",
                                    "title": "James and the Giant Peach",
                                    "original_publication_year": "1961"
                                },
                                {
                                    "book_id": "665",
                                    "original_title": "The Virtue of Selfishness: A New Concept of Egoism",
                                    "title": "The Virtue of Selfishness: A New Concept of Egoism",
                                    "original_publication_year": "1961"
                                },
                                {
                                    "book_id": "4796",
                                    "original_title": "The Winter of our Discontent",
                                    "title": "The Winter of Our Discontent",
                                    "original_publication_year": "1961"
                                },
                                {
                                    "book_id": "9998",
                                    "original_title": "砂の女 [Suna no onna]",
                                    "title": "The Woman in the Dunes",
                                    "original_publication_year": "1962"
                                },
                                {
                                    "book_id": "6514",
                                    "original_title": "The Bell Jar",
                                    "title": "The Bell Jar",
                                    "original_publication_year": "1963"
                                },
                                {
                                    "book_id": "2794",
                                    "original_title": "The Crying of Lot 49",
                                    "title": "The Crying of Lot 49",
                                    "original_publication_year": "1966"
                                },
                                {
                                    "book_id": "9570",
                                    "original_title": "Another Roadside Attraction",
                                    "title": "Another Roadside Attraction",
                                    "original_publication_year": "1971"
                                },
                                {
                                    "book_id": "7679",
                                    "original_title": "The Terminal Man",
                                    "title": "The Terminal Man",
                                    "original_publication_year": "1972"
                                },
                                {
                                    "book_id": "4660",
                                    "original_title": "The 158-Pound Marriage",
                                    "title": "The 158-Pound Marriage",
                                    "original_publication_year": "1974"
                                },
                                {
                                    "book_id": "3873",
                                    "original_title": "A History of God: The 4,000-Year Quest of Judaism, Christianity, and Islam",
                                    "title": "A History of God: The 4,000-Year Quest of Judaism, Christianity, and Islam",
                                    "original_publication_year": "1975"
                                },
                                {
                                    "book_id": "112",
                                    "original_title": "Children of Dune",
                                    "title": "Children of Dune (Dune Chronicles #3)",
                                    "original_publication_year": "1976"
                                },
                                {
                                    "book_id": "7672",
                                    "original_title": "Congo",
                                    "title": "Congo",
                                    "original_publication_year": "1980"
                                },
                                {
                                    "book_id": "9598",
                                    "original_title": "Deadeye Dick",
                                    "title": "Deadeye Dick",
                                    "original_publication_year": "1982"
                                },
                                {
                                    "book_id": "6193",
                                    "original_title": "Life & Times of Michael K.",
                                    "title": "Life and Times of Michael K",
                                    "original_publication_year": "1983"
                                },
                                {
                                    "book_id": "117",
                                    "original_title": "Heretics of Dune",
                                    "title": "Heretics of Dune (Dune Chronicles #5)",
                                    "original_publication_year": "1984"
                                },
                                {
                                    "book_id": "432",
                                    "original_title": "City of Glass",
                                    "title": "City of Glass (The New York Trilogy, #1)",
                                    "original_publication_year": "1985"
                                },
                                {
                                    "book_id": "9712",
                                    "original_title": "El amor en los tiempos del cólera",
                                    "title": "Love in the Time of Cholera",
                                    "original_publication_year": "1985"
                                },
                                {
                                    "book_id": "50",
                                    "original_title": "Hatchet",
                                    "title": "Hatchet (Brian's Saga, #1)",
                                    "original_publication_year": "1986"
                                },
                                {
                                    "book_id": "6149",
                                    "original_title": "Beloved",
                                    "title": "Beloved",
                                    "original_publication_year": "1987"
                                },
                                {
                                    "book_id": "365",
                                    "original_title": "Dirk Gently's Holistic Detective Agency",
                                    "title": "Dirk Gently's Holistic Detective Agency (Dirk Gently #1)",
                                    "original_publication_year": "1987"
                                },
                                {
                                    "book_id": "5946",
                                    "original_title": "In the Skin of a Lion",
                                    "title": "In the Skin of a Lion",
                                    "original_publication_year": "1987"
                                },
                                {
                                    "book_id": "4004",
                                    "original_title": "O Diário de um Mago",
                                    "title": "The Pilgrimage",
                                    "original_publication_year": "1987"
                                },
                                {
                                    "book_id": "9912",
                                    "original_title": "The Rules of Attraction",
                                    "title": "The Rules of Attraction",
                                    "original_publication_year": "1987"
                                },
                                {
                                    "book_id": "5187",
                                    "original_title": "The Book of Ruth",
                                    "title": "The Book of Ruth",
                                    "original_publication_year": "1988"
                                },
                                {
                                    "book_id": "4006",
                                    "original_title": "As Valkírias",
                                    "title": "The Valkyries",
                                    "original_publication_year": "1988"
                                },
                                {
                                    "book_id": "98",
                                    "original_title": "What to Expect the First Year",
                                    "title": "What to Expect the First Year (What to Expect)",
                                    "original_publication_year": "1989"
                                },
                                {
                                    "book_id": "9589",
                                    "original_title": "Hocus Pocus",
                                    "title": "Hocus Pocus",
                                    "original_publication_year": "1990"
                                },
                                {
                                    "book_id": "7677",
                                    "original_title": "Jurassic Park",
                                    "title": "Jurassic Park (Jurassic Park, #1)",
                                    "original_publication_year": "1990"
                                },
                                {
                                    "book_id": "29",
                                    "original_title": "The Mother Tongue: English and How It Got That Way",
                                    "title": "The Mother Tongue: English and How It Got That Way",
                                    "original_publication_year": "1990"
                                },
                                {
                                    "book_id": "3378",
                                    "original_title": "Generation X: Tales for an Accelerated Culture",
                                    "title": "Generation X: Tales for an Accelerated Culture",
                                    "original_publication_year": "1991"
                                },
                                {
                                    "book_id": "5181",
                                    "original_title": "Jewel (Oprah's Book Club) ",
                                    "title": "Jewel",
                                    "original_publication_year": "1991"
                                },
                                {
                                    "book_id": "7993",
                                    "original_title": "Mariel of Redwall",
                                    "title": "Mariel of Redwall (Redwall, #4)",
                                    "original_publication_year": "1991"
                                },
                                {
                                    "book_id": "27",
                                    "original_title": "Neither Here Nor There: Travels in Europe",
                                    "title": "Neither Here nor There: Travels in Europe",
                                    "original_publication_year": "1991"
                                },
                                {
                                    "book_id": "5055",
                                    "original_title": "Night over Water",
                                    "title": "Night Over Water",
                                    "original_publication_year": "1991"
                                },
                                {
                                    "book_id": "8648",
                                    "original_title": "Xenocide",
                                    "title": "Xenocide (Ender's Saga, #3)",
                                    "original_publication_year": "1991"
                                },
                                {
                                    "book_id": "5205",
                                    "original_title": "A Map of the World",
                                    "title": "A Map of the World",
                                    "original_publication_year": "1992"
                                },
                                {
                                    "book_id": "456",
                                    "original_title": "Leviathan",
                                    "title": "Leviathan",
                                    "original_publication_year": "1992"
                                },
                                {
                                    "book_id": "6697",
                                    "original_title": "Little Altars Everywhere",
                                    "title": "Little Altars Everywhere",
                                    "original_publication_year": "1992"
                                },
                                {
                                    "book_id": "8492",
                                    "original_title": "Prophet",
                                    "title": "Prophet",
                                    "original_publication_year": "1992"
                                },
                                {
                                    "book_id": "8087",
                                    "original_title": "Deerskin",
                                    "title": "Deerskin",
                                    "original_publication_year": "1993"
                                },
                                {
                                    "book_id": "5359",
                                    "original_title": "The Client",
                                    "title": "The Client",
                                    "original_publication_year": "1993"
                                },
                                {
                                    "book_id": "7073",
                                    "original_title": "A Son of the Circus",
                                    "title": "A Son of the Circus",
                                    "original_publication_year": "1994"
                                },
                                {
                                    "book_id": "4122",
                                    "original_title": "Built to Last: Successful Habits of Visionary Companies",
                                    "title": "Built to Last: Successful Habits of Visionary Companies",
                                    "original_publication_year": "1994"
                                },
                                {
                                    "book_id": "3447",
                                    "original_title": "In the Lake of the Woods",
                                    "title": "In the Lake of the Woods",
                                    "original_publication_year": "1994"
                                },
                                {
                                    "book_id": "7979",
                                    "original_title": "The Bellmaker",
                                    "title": "The Bellmaker (Redwall, #7)",
                                    "original_publication_year": "1994"
                                },
                                {
                                    "book_id": "4806",
                                    "original_title": "Longitude",
                                    "title": "Longitude: The True Story of a Lone Genius Who Solved the Greatest Scientific Problem of His Time",
                                    "original_publication_year": "1995"
                                },
                                {
                                    "book_id": "6159",
                                    "original_title": "Reservation Blues",
                                    "title": "Reservation Blues",
                                    "original_publication_year": "1995"
                                },
                                {
                                    "book_id": "5182",
                                    "original_title": "Songs in Ordinary Time",
                                    "title": "Songs in Ordinary Time",
                                    "original_publication_year": "1995"
                                },
                                {
                                    "book_id": "8650",
                                    "original_title": "The Lost World",
                                    "title": "The Lost World (Jurassic Park, #2)",
                                    "original_publication_year": "1995"
                                },
                                {
                                    "book_id": "9865",
                                    "original_title": "The Moor's Last Sigh",
                                    "title": "The Moor's Last Sigh",
                                    "original_publication_year": "1995"
                                },
                                {
                                    "book_id": "5180",
                                    "original_title": "The Rapture of Canaan",
                                    "title": "The Rapture of Canaan",
                                    "original_publication_year": "1995"
                                },
                                {
                                    "book_id": "6541",
                                    "original_title": "Cause of Death",
                                    "title": "Cause of Death (Kay Scarpetta, #7)",
                                    "original_publication_year": "1996"
                                },
                                {
                                    "book_id": "5068",
                                    "original_title": "Last Orders",
                                    "title": "Last Orders",
                                    "original_publication_year": "1996"
                                },
                                {
                                    "book_id": "9303",
                                    "original_title": "Lucy Sullivan is Getting Married",
                                    "title": "Lucy Sullivan Is Getting Married",
                                    "original_publication_year": "1996"
                                },
                                {
                                    "book_id": "7455",
                                    "original_title": "Sex and the City",
                                    "title": "Sex and the City",
                                    "original_publication_year": "1996"
                                },
                                {
                                    "book_id": "5204",
                                    "original_title": "We Were the Mulvaneys",
                                    "title": "We Were the Mulvaneys",
                                    "original_publication_year": "1996"
                                },
                                {
                                    "book_id": "5159",
                                    "original_title": "Here on Earth ",
                                    "title": "Here on Earth",
                                    "original_publication_year": "1997"
                                },
                                {
                                    "book_id": "9301",
                                    "original_title": "Rachel's Holiday",
                                    "title": "Rachel's Holiday (Walsh Family, #2)",
                                    "original_publication_year": "1997"
                                },
                                {
                                    "book_id": "8089",
                                    "original_title": "Rose Daughter",
                                    "title": "Rose Daughter",
                                    "original_publication_year": "1997"
                                },
                                {
                                    "book_id": "4271",
                                    "original_title": "About a Boy",
                                    "title": "About a Boy",
                                    "original_publication_year": "1998"
                                },
                                {
                                    "book_id": "6862",
                                    "original_title": "Amsterdam",
                                    "title": "Amsterdam",
                                    "original_publication_year": "1998"
                                },
                                {
                                    "book_id": "3384",
                                    "original_title": "Girlfriend in a Coma",
                                    "title": "Girlfriend in a Coma",
                                    "original_publication_year": "1998"
                                },
                                {
                                    "book_id": "9913",
                                    "original_title": "Glamorama",
                                    "title": "Glamorama",
                                    "original_publication_year": "1998"
                                },
                                {
                                    "book_id": "25",
                                    "original_title": "Notes from a Big Country",
                                    "title": "I'm a Stranger Here Myself: Notes on Returning to America after Twenty Years Away",
                                    "original_publication_year": "1998"
                                },
                                {
                                    "book_id": "7999",
                                    "original_title": "Marlfox",
                                    "title": "Marlfox (Redwall, #11)",
                                    "original_publication_year": "1998"
                                },
                                {
                                    "book_id": "1274",
                                    "original_title": "Men Are from Mars, Women Are from Venus Book of Days: 365 Inspirations to Enrich Your Relationships",
                                    "title": "Men Are from Mars, Women Are from Venus",
                                    "original_publication_year": "1998"
                                },
                                {
                                    "book_id": "3478",
                                    "original_title": "Message in a Bottle",
                                    "title": "Message in a Bottle",
                                    "original_publication_year": "1998"
                                },
                                {
                                    "book_id": "7061",
                                    "original_title": "The No. 1 Ladies' Detective Agency ",
                                    "title": "The No. 1 Ladies' Detective Agency  (No. 1 Ladies' Detective Agency, #1)",
                                    "original_publication_year": "1998"
                                },
                                {
                                    "book_id": "5351",
                                    "original_title": "The Street Lawyer",
                                    "title": "The Street Lawyer",
                                    "original_publication_year": "1998"
                                },
                                {
                                    "book_id": "4894",
                                    "original_title": "Who Moved My Cheese?",
                                    "title": "Who Moved My Cheese?",
                                    "original_publication_year": "1998"
                                },
                                {
                                    "book_id": "4984",
                                    "original_title": "Bagombo Snuff Box",
                                    "title": "Bagombo Snuff Box",
                                    "original_publication_year": "1999"
                                },
                                {
                                    "book_id": "2865",
                                    "original_title": "Girl with a Pearl Earring",
                                    "title": "Girl with a Pearl Earring",
                                    "original_publication_year": "1999"
                                },
                                {
                                    "book_id": "9298",
                                    "original_title": "Last Chance Saloon",
                                    "title": "Last Chance Saloon",
                                    "original_publication_year": "1999"
                                },
                                {
                                    "book_id": "9557",
                                    "original_title": "スプートニクの恋人 [Supūtoniku no Koibito]",
                                    "title": "Sputnik Sweetheart",
                                    "original_publication_year": "1999"
                                },
                                {
                                    "book_id": "7987",
                                    "original_title": "The Legend of Luke",
                                    "title": "The Legend of Luke (Redwall, #12)",
                                    "original_publication_year": "1999"
                                },
                                {
                                    "book_id": "7669",
                                    "original_title": "Timeline",
                                    "title": "Timeline",
                                    "original_publication_year": "1999"
                                },
                                {
                                    "book_id": "4953",
                                    "original_title": "A Heartbreaking Work of Staggering Genius",
                                    "title": "A Heartbreaking Work of Staggering Genius",
                                    "original_publication_year": "2000"
                                },
                                {
                                    "book_id": "960",
                                    "original_title": "Angels & Demons ",
                                    "title": "Angels & Demons  (Robert Langdon, #1)",
                                    "original_publication_year": "2000"
                                },
                                {
                                    "book_id": "5052",
                                    "original_title": "Code to Zero",
                                    "title": "Code to Zero",
                                    "original_publication_year": "2000"
                                },
                                {
                                    "book_id": "4325",
                                    "original_title": "Dreamland ",
                                    "title": "Dreamland",
                                    "original_publication_year": "2000"
                                },
                                {
                                    "book_id": "5171",
                                    "original_title": "Drowning Ruth",
                                    "title": "Drowning Ruth",
                                    "original_publication_year": "2000"
                                },
                                {
                                    "book_id": "6613",
                                    "original_title": "Four Blondes",
                                    "title": "Four Blondes",
                                    "original_publication_year": "2000"
                                },
                                {
                                    "book_id": "9534",
                                    "original_title": "Shadow of the Hegemon",
                                    "title": "Shadow of the Hegemon (Ender's Shadow, #2)",
                                    "original_publication_year": "2000"
                                },
                                {
                                    "book_id": "7039",
                                    "original_title": "Tears of the Giraffe",
                                    "title": "Tears of the Giraffe (No. 1 Ladies' Detective Agency, #2)",
                                    "original_publication_year": "2000"
                                },
                                {
                                    "book_id": "5354",
                                    "original_title": "The Brethren",
                                    "title": "The Brethren",
                                    "original_publication_year": "2000"
                                },
                                {
                                    "book_id": "5360",
                                    "original_title": "A Painted House",
                                    "title": "A Painted House",
                                    "original_publication_year": "2001"
                                },
                                {
                                    "book_id": "6867",
                                    "original_title": "Atonement",
                                    "title": "Atonement",
                                    "original_publication_year": "2001"
                                },
                                {
                                    "book_id": "976",
                                    "original_title": "Deception Point",
                                    "title": "Deception Point",
                                    "original_publication_year": "2001"
                                },
                                {
                                    "book_id": "2872",
                                    "original_title": "Falling Angels",
                                    "title": "Falling Angels",
                                    "original_publication_year": "2001"
                                },
                                {
                                    "book_id": "7035",
                                    "original_title": "Morality for Beautiful Girls",
                                    "title": "Morality for Beautiful Girls (No. 1 Ladies' Detective Agency, #3)",
                                    "original_publication_year": "2001"
                                },
                                {
                                    "book_id": "1869",
                                    "original_title": "Nickel and Dimed: On (Not) Getting By in America",
                                    "title": "Nickel and Dimed: On (Not) Getting By in America",
                                    "original_publication_year": "2001"
                                },
                                {
                                    "book_id": "6820",
                                    "original_title": "number9dream",
                                    "title": "number9dream",
                                    "original_publication_year": "2001"
                                },
                                {
                                    "book_id": "1823",
                                    "original_title": "Them: Adventures with Extremists",
                                    "title": "Them: Adventures with Extremists",
                                    "original_publication_year": "2001"
                                },
                                {
                                    "book_id": "3858",
                                    "original_title": "Holy Cow: An Indian Adventure",
                                    "title": "Holy Cow: An Indian Adventure",
                                    "original_publication_year": "2002"
                                },
                                {
                                    "book_id": "3710",
                                    "original_title": "The Autograph Man",
                                    "title": "The Autograph Man",
                                    "original_publication_year": "2002"
                                },
                                {
                                    "book_id": "7510",
                                    "original_title": "The Beach House",
                                    "title": "The Beach House",
                                    "original_publication_year": "2002"
                                },
                                {
                                    "book_id": "9838",
                                    "original_title": "Bokhandleren i Kabul",
                                    "title": "The Bookseller of Kabul",
                                    "original_publication_year": "2002"
                                },
                                {
                                    "book_id": "359",
                                    "original_title": "The Salmon of Doubt: Hitchhiking the Galaxy One Last Time",
                                    "title": "The Salmon of Doubt (Dirk Gently, #3)",
                                    "original_publication_year": "2002"
                                },
                                {
                                    "book_id": "5352",
                                    "original_title": "The Summons",
                                    "title": "The Summons",
                                    "original_publication_year": "2002"
                                },
                                {
                                    "book_id": "5347",
                                    "original_title": "Bleachers",
                                    "title": "Bleachers",
                                    "original_publication_year": "2003"
                                },
                                {
                                    "book_id": "3381",
                                    "original_title": "Hey Nostradamus!",
                                    "title": "Hey Nostradamus!",
                                    "original_publication_year": "2003"
                                },
                                {
                                    "book_id": "4507",
                                    "original_title": "Sickened",
                                    "title": "Sickened: The Memoir of a Munchausen by Proxy Childhood",
                                    "original_publication_year": "2003"
                                },
                                {
                                    "book_id": "4261",
                                    "original_title": "31 Songs",
                                    "title": "Songbook",
                                    "original_publication_year": "2003"
                                },
                                {
                                    "book_id": "5369",
                                    "original_title": "The Amber Room",
                                    "title": "The Amber Room",
                                    "original_publication_year": "2003"
                                },
                                {
                                    "book_id": "1618",
                                    "original_title": "The Curious Incident of the Dog in the Night-Time",
                                    "title": "The Curious Incident of the Dog in the Night-Time",
                                    "original_publication_year": "2003"
                                },
                                {
                                    "book_id": "5356",
                                    "original_title": "The King of Torts",
                                    "title": "The King of Torts",
                                    "original_publication_year": "2003"
                                },
                                {
                                    "book_id": "5454",
                                    "original_title": "The Second Summer of the Sisterhood",
                                    "title": "The Second Summer of the Sisterhood (Sisterhood, #2)",
                                    "original_publication_year": "2003"
                                },
                                {
                                    "book_id": "9569",
                                    "original_title": "Villa Incognito",
                                    "title": "Villa Incognito",
                                    "original_publication_year": "2003"
                                },
                                {
                                    "book_id": "4898",
                                    "original_title": "Blue Ocean Strategy: How to Create Uncontested Market Space and Make Competition Irrelevant",
                                    "title": "Blue Ocean Strategy: How To Create Uncontested Market Space And Make The Competition Irrelevant",
                                    "original_publication_year": "2004"
                                },
                                {
                                    "book_id": "2159",
                                    "original_title": "Confessions of an Economic Hit Man",
                                    "title": "Confessions of an Economic Hit Man",
                                    "original_publication_year": "2004"
                                },
                                {
                                    "book_id": "6462",
                                    "original_title": "His Excellency: George Washington",
                                    "title": "His Excellency: George Washington",
                                    "original_publication_year": "2004"
                                },
                                {
                                    "book_id": "4364",
                                    "original_title": "Maximum City: Bombay Lost and Found",
                                    "title": "Maximum City: Bombay Lost and Found",
                                    "original_publication_year": "2004"
                                },
                                {
                                    "book_id": "760",
                                    "original_title": "Memoria de mis putas tristes",
                                    "title": "Memories of My Melancholy Whores",
                                    "original_publication_year": "2004"
                                },
                                {
                                    "book_id": "9417",
                                    "original_title": "Shopaholic and Sister",
                                    "title": "Shopaholic and Sister (Shopaholic, #4)",
                                    "original_publication_year": "2004"
                                },
                                {
                                    "book_id": "5093",
                                    "original_title": "Song of Susannah",
                                    "title": "Song of Susannah (The Dark Tower, #6)",
                                    "original_publication_year": "2004"
                                },
                                {
                                    "book_id": "5346",
                                    "original_title": "The Last Juror",
                                    "title": "The Last Juror",
                                    "original_publication_year": "2004"
                                },
                                {
                                    "book_id": "3110",
                                    "original_title": "Assassination Vacation",
                                    "title": "Assassination Vacation",
                                    "original_publication_year": "2005"
                                },
                                {
                                    "book_id": "1192",
                                    "original_title": "Everyday Italian: 125 Simple and Delicious Recipes",
                                    "title": "Everyday Italian: 125 Simple and Delicious Recipes",
                                    "original_publication_year": "2005"
                                },
                                {
                                    "book_id": "6614",
                                    "original_title": "Lipstick Jungle",
                                    "title": "Lipstick Jungle",
                                    "original_publication_year": "2005"
                                },
                                {
                                    "book_id": "3972",
                                    "original_title": "Olympos",
                                    "title": "Olympos (Ilium, #2)",
                                    "original_publication_year": "2005"
                                },
                                {
                                    "book_id": "3679",
                                    "original_title": "On Beauty",
                                    "title": "On Beauty",
                                    "original_publication_year": "2005"
                                },
                                {
                                    "book_id": "5015",
                                    "original_title": "Saturday",
                                    "title": "Saturday",
                                    "original_publication_year": "2005"
                                },
                                {
                                    "book_id": "8647",
                                    "original_title": "Shadow of the Giant",
                                    "title": "Shadow of the Giant (Ender's Shadow, #4)",
                                    "original_publication_year": "2005"
                                },
                                {
                                    "book_id": "446",
                                    "original_title": "The Brooklyn Follies",
                                    "title": "The Brooklyn Follies",
                                    "original_publication_year": "2005"
                                },
                                {
                                    "book_id": "900",
                                    "original_title": "The Game",
                                    "title": "The Game: Penetrating the Secret Society of Pickup Artists",
                                    "original_publication_year": "2005"
                                },
                                {
                                    "book_id": "9010",
                                    "original_title": "I Hope They Serve Beer in Hell",
                                    "title": "I Hope They Serve Beer in Hell (Tucker Max, #1)",
                                    "original_publication_year": "2006"
                                },
                                {
                                    "book_id": "6426",
                                    "original_title": "Motor Mouth",
                                    "title": "Motor Mouth (Alex Barnaby #2)",
                                    "original_publication_year": "2006"
                                },
                                {
                                    "book_id": "7661",
                                    "original_title": "Next",
                                    "title": "Next",
                                    "original_publication_year": "2006"
                                },
                                {
                                    "book_id": "3483",
                                    "original_title": "Special Topics in Calamity Physics",
                                    "title": "Special Topics in Calamity Physics",
                                    "original_publication_year": "2006"
                                },
                                {
                                    "book_id": "7081",
                                    "original_title": "The Android's Dream",
                                    "title": "The Android's Dream",
                                    "original_publication_year": "2006"
                                },
                                {
                                    "book_id": "3648",
                                    "original_title": "The Emperor's Children",
                                    "title": "The Emperor's Children",
                                    "original_publication_year": "2006"
                                },
                                {
                                    "book_id": "5453",
                                    "original_title": "Forever in Blue: The Fourth Summer of the Sisterhood",
                                    "title": "Forever in Blue: The Fourth Summer of the Sisterhood (Sisterhood, #4)",
                                    "original_publication_year": "2007"
                                },
                                {
                                    "book_id": "6419",
                                    "original_title": "Plum Lovin'",
                                    "title": "Plum Lovin' (Stephanie Plum, #12.5)",
                                    "original_publication_year": "2007"
                                },
                                {
                                    "book_id": "9420",
                                    "original_title": "Shopaholic and Baby",
                                    "title": "Shopaholic & Baby (Shopaholic, #5)",
                                    "original_publication_year": "2007"
                                },
                                {
                                    "book_id": "1635",
                                    "original_title": "NULL",
                                    "title": "Execution: The Discipline of Getting Things Done",
                                    "original_publication_year": "2009"
                                }
                            ]
                        },
                        "text/html": "<table><tr><th>book_id</th><th>original_title</th><th>title</th><th>original_publication_year</th></tr><tr><td>1371</td><td>Ἰλιάς</td><td>The Iliad</td><td>-750</td></tr><tr><td>1519</td><td>Ὀρέστεια</td><td>The Oresteia  (Ορέστεια, #1-3)</td><td>-458</td></tr><tr><td>7728</td><td>Ἀντιγόνη</td><td>Antigone (The Theban Plays, #3)</td><td>-441</td></tr><tr><td>1554</td><td>Οἰδίπους Τύραννος</td><td>Oedipus Rex  (The Theban Plays, #1)</td><td>-430</td></tr><tr><td>1591</td><td>Λυσιστράτη</td><td>Lysistrata</td><td>-411</td></tr><tr><td>2696</td><td>Tales of Caunterbury</td><td>The Canterbury Tales</td><td>1390</td></tr><tr><td>3836</td><td>Don Quijote de La Mancha</td><td>Don Quixote</td><td>1605</td></tr><tr><td>8852</td><td>The Tragedy of Macbeth</td><td>Macbeth</td><td>1606</td></tr><tr><td>7733</td><td>Gulliver’s Travels</td><td>Gulliver&#39;s Travels</td><td>1726</td></tr><tr><td>6185</td><td>Wuthering Heights</td><td>Wuthering Heights</td><td>1847</td></tr><tr><td>7186</td><td>La Dame aux camélias</td><td>La Dame aux Camélias</td><td>1848</td></tr><tr><td>5344</td><td>Hard Times: For These Times</td><td>Hard Times</td><td>1854</td></tr><tr><td>2175</td><td>Madame Bovary</td><td>Madame Bovary</td><td>1856</td></tr><tr><td>2623</td><td>Great Expectations</td><td>Great Expectations</td><td>1860</td></tr><tr><td>93</td><td>Heidi</td><td>Heidi</td><td>1880</td></tr><tr><td>295</td><td>Treasure Island</td><td>Treasure Island</td><td>1882</td></tr><tr><td>2956</td><td>The Adventures of Huckleberry Finn</td><td>The Adventures of Huckleberry Finn</td><td>1884</td></tr><tr><td>4921</td><td>Three Men in a Boat (To Say Nothing of the Dog)</td><td>Three Men in a Boat (Three Men, #1)</td><td>1889</td></tr><tr><td>2493</td><td>The Time Machine</td><td>The Time Machine</td><td>1895</td></tr><tr><td>8909</td><td>The War of the Worlds</td><td>The War of the Worlds</td><td>1897</td></tr><tr><td>5659</td><td>The Wind in the Willows</td><td>The Wind in the Willows</td><td>1908</td></tr><tr><td>7714</td><td>Pygmalion</td><td>Pygmalion</td><td>1912</td></tr><tr><td>291</td><td>الأجنحة المتكسرة</td><td>The Broken Wings</td><td>1912</td></tr><tr><td>9784</td><td>Women in Love</td><td>Women in Love (Brangwen Family, #2)</td><td>1920</td></tr><tr><td>4708</td><td>The Beautiful and Damned</td><td>The Beautiful and Damned</td><td>1922</td></tr><tr><td>5129</td><td>Brave New World</td><td>Brave New World</td><td>1932</td></tr><tr><td>2978</td><td>Lost Horizon</td><td>Lost Horizon</td><td>1933</td></tr><tr><td>8732</td><td>The Red Pony</td><td>The Red Pony</td><td>1933</td></tr><tr><td>9650</td><td>Burmese Days</td><td>Burmese Days</td><td>1934</td></tr><tr><td>890</td><td>Of Mice and Men </td><td>Of Mice and Men</td><td>1937</td></tr><tr><td>250</td><td>Tropic of Capricorn</td><td>Tropic of Capricorn</td><td>1938</td></tr><tr><td>3690</td><td>The Power and the Glory</td><td>The Power and the Glory</td><td>1940</td></tr><tr><td>7613</td><td>Animal Farm: A Fairy Story</td><td>Animal Farm</td><td>1945</td></tr><tr><td>3692</td><td>The Heart of the Matter</td><td>The Heart of the Matter</td><td>1948</td></tr><tr><td>9597</td><td>Player Piano</td><td>Player Piano</td><td>1952</td></tr><tr><td>4381</td><td>Fahrenheit 451</td><td>Fahrenheit 451</td><td>1953</td></tr><tr><td>8296</td><td>The First Four Years</td><td>The First Four Years  (Little House, #9)</td><td>1953</td></tr><tr><td>3698</td><td>The Quiet American</td><td>The Quiet American</td><td>1955</td></tr><tr><td>662</td><td>Atlas Shrugged</td><td>Atlas Shrugged</td><td>1957</td></tr><tr><td>5481</td><td>Brave New World Revisited </td><td>Brave New World Revisited </td><td>1958</td></tr><tr><td>3759</td><td>Goldfinger</td><td>Goldfinger (James Bond, #7)</td><td>1959</td></tr><tr><td>5849</td><td>A House for Mr. Biswas</td><td>A House for Mr Biswas</td><td>1961</td></tr><tr><td>5113</td><td>Franny and Zooey</td><td>Franny and Zooey</td><td>1961</td></tr><tr><td>6689</td><td>James and the Giant Peach</td><td>James and the Giant Peach</td><td>1961</td></tr><tr><td>665</td><td>The Virtue of Selfishness: A New Concept of Egoism</td><td>The Virtue of Selfishness: A New Concept of Egoism</td><td>1961</td></tr><tr><td>4796</td><td>The Winter of our Discontent</td><td>The Winter of Our Discontent</td><td>1961</td></tr><tr><td>9998</td><td>砂の女 [Suna no onna]</td><td>The Woman in the Dunes</td><td>1962</td></tr><tr><td>6514</td><td>The Bell Jar</td><td>The Bell Jar</td><td>1963</td></tr><tr><td>2794</td><td>The Crying of Lot 49</td><td>The Crying of Lot 49</td><td>1966</td></tr><tr><td>9570</td><td>Another Roadside Attraction</td><td>Another Roadside Attraction</td><td>1971</td></tr><tr><td>7679</td><td>The Terminal Man</td><td>The Terminal Man</td><td>1972</td></tr><tr><td>4660</td><td>The 158-Pound Marriage</td><td>The 158-Pound Marriage</td><td>1974</td></tr><tr><td>3873</td><td>A History of God: The 4,000-Year Quest of Judaism, Christianity, and Islam</td><td>A History of God: The 4,000-Year Quest of Judaism, Christianity, and Islam</td><td>1975</td></tr><tr><td>112</td><td>Children of Dune</td><td>Children of Dune (Dune Chronicles #3)</td><td>1976</td></tr><tr><td>7672</td><td>Congo</td><td>Congo</td><td>1980</td></tr><tr><td>9598</td><td>Deadeye Dick</td><td>Deadeye Dick</td><td>1982</td></tr><tr><td>6193</td><td>Life &amp; Times of Michael K.</td><td>Life and Times of Michael K</td><td>1983</td></tr><tr><td>117</td><td>Heretics of Dune</td><td>Heretics of Dune (Dune Chronicles #5)</td><td>1984</td></tr><tr><td>432</td><td>City of Glass</td><td>City of Glass (The New York Trilogy, #1)</td><td>1985</td></tr><tr><td>9712</td><td>El amor en los tiempos del cólera</td><td>Love in the Time of Cholera</td><td>1985</td></tr><tr><td>50</td><td>Hatchet</td><td>Hatchet (Brian&#39;s Saga, #1)</td><td>1986</td></tr><tr><td>6149</td><td>Beloved</td><td>Beloved</td><td>1987</td></tr><tr><td>365</td><td>Dirk Gently&#39;s Holistic Detective Agency</td><td>Dirk Gently&#39;s Holistic Detective Agency (Dirk Gently #1)</td><td>1987</td></tr><tr><td>5946</td><td>In the Skin of a Lion</td><td>In the Skin of a Lion</td><td>1987</td></tr><tr><td>4004</td><td>O Diário de um Mago</td><td>The Pilgrimage</td><td>1987</td></tr><tr><td>9912</td><td>The Rules of Attraction</td><td>The Rules of Attraction</td><td>1987</td></tr><tr><td>5187</td><td>The Book of Ruth</td><td>The Book of Ruth</td><td>1988</td></tr><tr><td>4006</td><td>As Valkírias</td><td>The Valkyries</td><td>1988</td></tr><tr><td>98</td><td>What to Expect the First Year</td><td>What to Expect the First Year (What to Expect)</td><td>1989</td></tr><tr><td>9589</td><td>Hocus Pocus</td><td>Hocus Pocus</td><td>1990</td></tr><tr><td>7677</td><td>Jurassic Park</td><td>Jurassic Park (Jurassic Park, #1)</td><td>1990</td></tr><tr><td>29</td><td>The Mother Tongue: English and How It Got That Way</td><td>The Mother Tongue: English and How It Got That Way</td><td>1990</td></tr><tr><td>3378</td><td>Generation X: Tales for an Accelerated Culture</td><td>Generation X: Tales for an Accelerated Culture</td><td>1991</td></tr><tr><td>5181</td><td>Jewel (Oprah&#39;s Book Club) </td><td>Jewel</td><td>1991</td></tr><tr><td>7993</td><td>Mariel of Redwall</td><td>Mariel of Redwall (Redwall, #4)</td><td>1991</td></tr><tr><td>27</td><td>Neither Here Nor There: Travels in Europe</td><td>Neither Here nor There: Travels in Europe</td><td>1991</td></tr><tr><td>5055</td><td>Night over Water</td><td>Night Over Water</td><td>1991</td></tr><tr><td>8648</td><td>Xenocide</td><td>Xenocide (Ender&#39;s Saga, #3)</td><td>1991</td></tr><tr><td>5205</td><td>A Map of the World</td><td>A Map of the World</td><td>1992</td></tr><tr><td>456</td><td>Leviathan</td><td>Leviathan</td><td>1992</td></tr><tr><td>6697</td><td>Little Altars Everywhere</td><td>Little Altars Everywhere</td><td>1992</td></tr><tr><td>8492</td><td>Prophet</td><td>Prophet</td><td>1992</td></tr><tr><td>8087</td><td>Deerskin</td><td>Deerskin</td><td>1993</td></tr><tr><td>5359</td><td>The Client</td><td>The Client</td><td>1993</td></tr><tr><td>7073</td><td>A Son of the Circus</td><td>A Son of the Circus</td><td>1994</td></tr><tr><td>4122</td><td>Built to Last: Successful Habits of Visionary Companies</td><td>Built to Last: Successful Habits of Visionary Companies</td><td>1994</td></tr><tr><td>3447</td><td>In the Lake of the Woods</td><td>In the Lake of the Woods</td><td>1994</td></tr><tr><td>7979</td><td>The Bellmaker</td><td>The Bellmaker (Redwall, #7)</td><td>1994</td></tr><tr><td>4806</td><td>Longitude</td><td>Longitude: The True Story of a Lone Genius Who Solved the Greatest Scientific Problem of His Time</td><td>1995</td></tr><tr><td>6159</td><td>Reservation Blues</td><td>Reservation Blues</td><td>1995</td></tr><tr><td>5182</td><td>Songs in Ordinary Time</td><td>Songs in Ordinary Time</td><td>1995</td></tr><tr><td>8650</td><td>The Lost World</td><td>The Lost World (Jurassic Park, #2)</td><td>1995</td></tr><tr><td>9865</td><td>The Moor&#39;s Last Sigh</td><td>The Moor&#39;s Last Sigh</td><td>1995</td></tr><tr><td>5180</td><td>The Rapture of Canaan</td><td>The Rapture of Canaan</td><td>1995</td></tr><tr><td>6541</td><td>Cause of Death</td><td>Cause of Death (Kay Scarpetta, #7)</td><td>1996</td></tr><tr><td>5068</td><td>Last Orders</td><td>Last Orders</td><td>1996</td></tr><tr><td>9303</td><td>Lucy Sullivan is Getting Married</td><td>Lucy Sullivan Is Getting Married</td><td>1996</td></tr><tr><td>7455</td><td>Sex and the City</td><td>Sex and the City</td><td>1996</td></tr><tr><td>5204</td><td>We Were the Mulvaneys</td><td>We Were the Mulvaneys</td><td>1996</td></tr><tr><td>5159</td><td>Here on Earth </td><td>Here on Earth</td><td>1997</td></tr><tr><td>9301</td><td>Rachel&#39;s Holiday</td><td>Rachel&#39;s Holiday (Walsh Family, #2)</td><td>1997</td></tr><tr><td>8089</td><td>Rose Daughter</td><td>Rose Daughter</td><td>1997</td></tr><tr><td>4271</td><td>About a Boy</td><td>About a Boy</td><td>1998</td></tr><tr><td>6862</td><td>Amsterdam</td><td>Amsterdam</td><td>1998</td></tr><tr><td>3384</td><td>Girlfriend in a Coma</td><td>Girlfriend in a Coma</td><td>1998</td></tr><tr><td>9913</td><td>Glamorama</td><td>Glamorama</td><td>1998</td></tr><tr><td>25</td><td>Notes from a Big Country</td><td>I&#39;m a Stranger Here Myself: Notes on Returning to America after Twenty Years Away</td><td>1998</td></tr><tr><td>7999</td><td>Marlfox</td><td>Marlfox (Redwall, #11)</td><td>1998</td></tr><tr><td>1274</td><td>Men Are from Mars, Women Are from Venus Book of Days: 365 Inspirations to Enrich Your Relationships</td><td>Men Are from Mars, Women Are from Venus</td><td>1998</td></tr><tr><td>3478</td><td>Message in a Bottle</td><td>Message in a Bottle</td><td>1998</td></tr><tr><td>7061</td><td>The No. 1 Ladies&#39; Detective Agency </td><td>The No. 1 Ladies&#39; Detective Agency  (No. 1 Ladies&#39; Detective Agency, #1)</td><td>1998</td></tr><tr><td>5351</td><td>The Street Lawyer</td><td>The Street Lawyer</td><td>1998</td></tr><tr><td>4894</td><td>Who Moved My Cheese?</td><td>Who Moved My Cheese?</td><td>1998</td></tr><tr><td>4984</td><td>Bagombo Snuff Box</td><td>Bagombo Snuff Box</td><td>1999</td></tr><tr><td>2865</td><td>Girl with a Pearl Earring</td><td>Girl with a Pearl Earring</td><td>1999</td></tr><tr><td>9298</td><td>Last Chance Saloon</td><td>Last Chance Saloon</td><td>1999</td></tr><tr><td>9557</td><td>スプートニクの恋人 [Supūtoniku no Koibito]</td><td>Sputnik Sweetheart</td><td>1999</td></tr><tr><td>7987</td><td>The Legend of Luke</td><td>The Legend of Luke (Redwall, #12)</td><td>1999</td></tr><tr><td>7669</td><td>Timeline</td><td>Timeline</td><td>1999</td></tr><tr><td>4953</td><td>A Heartbreaking Work of Staggering Genius</td><td>A Heartbreaking Work of Staggering Genius</td><td>2000</td></tr><tr><td>960</td><td>Angels &amp; Demons </td><td>Angels &amp; Demons  (Robert Langdon, #1)</td><td>2000</td></tr><tr><td>5052</td><td>Code to Zero</td><td>Code to Zero</td><td>2000</td></tr><tr><td>4325</td><td>Dreamland </td><td>Dreamland</td><td>2000</td></tr><tr><td>5171</td><td>Drowning Ruth</td><td>Drowning Ruth</td><td>2000</td></tr><tr><td>6613</td><td>Four Blondes</td><td>Four Blondes</td><td>2000</td></tr><tr><td>9534</td><td>Shadow of the Hegemon</td><td>Shadow of the Hegemon (Ender&#39;s Shadow, #2)</td><td>2000</td></tr><tr><td>7039</td><td>Tears of the Giraffe</td><td>Tears of the Giraffe (No. 1 Ladies&#39; Detective Agency, #2)</td><td>2000</td></tr><tr><td>5354</td><td>The Brethren</td><td>The Brethren</td><td>2000</td></tr><tr><td>5360</td><td>A Painted House</td><td>A Painted House</td><td>2001</td></tr><tr><td>6867</td><td>Atonement</td><td>Atonement</td><td>2001</td></tr><tr><td>976</td><td>Deception Point</td><td>Deception Point</td><td>2001</td></tr><tr><td>2872</td><td>Falling Angels</td><td>Falling Angels</td><td>2001</td></tr><tr><td>7035</td><td>Morality for Beautiful Girls</td><td>Morality for Beautiful Girls (No. 1 Ladies&#39; Detective Agency, #3)</td><td>2001</td></tr><tr><td>1869</td><td>Nickel and Dimed: On (Not) Getting By in America</td><td>Nickel and Dimed: On (Not) Getting By in America</td><td>2001</td></tr><tr><td>6820</td><td>number9dream</td><td>number9dream</td><td>2001</td></tr><tr><td>1823</td><td>Them: Adventures with Extremists</td><td>Them: Adventures with Extremists</td><td>2001</td></tr><tr><td>3858</td><td>Holy Cow: An Indian Adventure</td><td>Holy Cow: An Indian Adventure</td><td>2002</td></tr><tr><td>3710</td><td>The Autograph Man</td><td>The Autograph Man</td><td>2002</td></tr><tr><td>7510</td><td>The Beach House</td><td>The Beach House</td><td>2002</td></tr><tr><td>9838</td><td>Bokhandleren i Kabul</td><td>The Bookseller of Kabul</td><td>2002</td></tr><tr><td>359</td><td>The Salmon of Doubt: Hitchhiking the Galaxy One Last Time</td><td>The Salmon of Doubt (Dirk Gently, #3)</td><td>2002</td></tr><tr><td>5352</td><td>The Summons</td><td>The Summons</td><td>2002</td></tr><tr><td>5347</td><td>Bleachers</td><td>Bleachers</td><td>2003</td></tr><tr><td>3381</td><td>Hey Nostradamus!</td><td>Hey Nostradamus!</td><td>2003</td></tr><tr><td>4507</td><td>Sickened</td><td>Sickened: The Memoir of a Munchausen by Proxy Childhood</td><td>2003</td></tr><tr><td>4261</td><td>31 Songs</td><td>Songbook</td><td>2003</td></tr><tr><td>5369</td><td>The Amber Room</td><td>The Amber Room</td><td>2003</td></tr><tr><td>1618</td><td>The Curious Incident of the Dog in the Night-Time</td><td>The Curious Incident of the Dog in the Night-Time</td><td>2003</td></tr><tr><td>5356</td><td>The King of Torts</td><td>The King of Torts</td><td>2003</td></tr><tr><td>5454</td><td>The Second Summer of the Sisterhood</td><td>The Second Summer of the Sisterhood (Sisterhood, #2)</td><td>2003</td></tr><tr><td>9569</td><td>Villa Incognito</td><td>Villa Incognito</td><td>2003</td></tr><tr><td>4898</td><td>Blue Ocean Strategy: How to Create Uncontested Market Space and Make Competition Irrelevant</td><td>Blue Ocean Strategy: How To Create Uncontested Market Space And Make The Competition Irrelevant</td><td>2004</td></tr><tr><td>2159</td><td>Confessions of an Economic Hit Man</td><td>Confessions of an Economic Hit Man</td><td>2004</td></tr><tr><td>6462</td><td>His Excellency: George Washington</td><td>His Excellency: George Washington</td><td>2004</td></tr><tr><td>4364</td><td>Maximum City: Bombay Lost and Found</td><td>Maximum City: Bombay Lost and Found</td><td>2004</td></tr><tr><td>760</td><td>Memoria de mis putas tristes</td><td>Memories of My Melancholy Whores</td><td>2004</td></tr><tr><td>9417</td><td>Shopaholic and Sister</td><td>Shopaholic and Sister (Shopaholic, #4)</td><td>2004</td></tr><tr><td>5093</td><td>Song of Susannah</td><td>Song of Susannah (The Dark Tower, #6)</td><td>2004</td></tr><tr><td>5346</td><td>The Last Juror</td><td>The Last Juror</td><td>2004</td></tr><tr><td>3110</td><td>Assassination Vacation</td><td>Assassination Vacation</td><td>2005</td></tr><tr><td>1192</td><td>Everyday Italian: 125 Simple and Delicious Recipes</td><td>Everyday Italian: 125 Simple and Delicious Recipes</td><td>2005</td></tr><tr><td>6614</td><td>Lipstick Jungle</td><td>Lipstick Jungle</td><td>2005</td></tr><tr><td>3972</td><td>Olympos</td><td>Olympos (Ilium, #2)</td><td>2005</td></tr><tr><td>3679</td><td>On Beauty</td><td>On Beauty</td><td>2005</td></tr><tr><td>5015</td><td>Saturday</td><td>Saturday</td><td>2005</td></tr><tr><td>8647</td><td>Shadow of the Giant</td><td>Shadow of the Giant (Ender&#39;s Shadow, #4)</td><td>2005</td></tr><tr><td>446</td><td>The Brooklyn Follies</td><td>The Brooklyn Follies</td><td>2005</td></tr><tr><td>900</td><td>The Game</td><td>The Game: Penetrating the Secret Society of Pickup Artists</td><td>2005</td></tr><tr><td>9010</td><td>I Hope They Serve Beer in Hell</td><td>I Hope They Serve Beer in Hell (Tucker Max, #1)</td><td>2006</td></tr><tr><td>6426</td><td>Motor Mouth</td><td>Motor Mouth (Alex Barnaby #2)</td><td>2006</td></tr><tr><td>7661</td><td>Next</td><td>Next</td><td>2006</td></tr><tr><td>3483</td><td>Special Topics in Calamity Physics</td><td>Special Topics in Calamity Physics</td><td>2006</td></tr><tr><td>7081</td><td>The Android&#39;s Dream</td><td>The Android&#39;s Dream</td><td>2006</td></tr><tr><td>3648</td><td>The Emperor&#39;s Children</td><td>The Emperor&#39;s Children</td><td>2006</td></tr><tr><td>5453</td><td>Forever in Blue: The Fourth Summer of the Sisterhood</td><td>Forever in Blue: The Fourth Summer of the Sisterhood (Sisterhood, #4)</td><td>2007</td></tr><tr><td>6419</td><td>Plum Lovin&#39;</td><td>Plum Lovin&#39; (Stephanie Plum, #12.5)</td><td>2007</td></tr><tr><td>9420</td><td>Shopaholic and Baby</td><td>Shopaholic &amp; Baby (Shopaholic, #5)</td><td>2007</td></tr><tr><td>1635</td><td>NULL</td><td>Execution: The Discipline of Getting Things Done</td><td>2009</td></tr></table>"
                    },
                    "metadata": {}
                }
            ],
            "execution_count": 16
        }
    ]
}